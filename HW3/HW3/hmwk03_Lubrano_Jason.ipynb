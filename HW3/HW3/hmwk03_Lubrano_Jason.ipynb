{
 "cells": [
  {
   "cell_type": "markdown",
   "metadata": {},
   "source": [
    "### <a/ id='top'></a>\n",
    "# Homework 3: Random Variables, and the Central Limit Theorem\n",
    "***\n",
    "\n",
    "**Name**: \n",
    "\n",
    "***\n",
    "\n",
    "This assignment is due on Canvas by **5 PM on Monday March 18**. Your solutions to theoretical questions should be done in Markdown/MathJax directly below the associated question.  Your solutions to computational questions should include any specified Python code and results as well as written commentary on your conclusions.  Remember that you are encouraged to discuss the problems with your instructors and classmates, but **you must write all code and solutions on your own**. \n",
    "\n",
    "**NOTES**: \n",
    "\n",
    "- Any relevant data sets should be available under the **Data** module on Canvas, as well as in the zipped folder in which you obtained this assignment. \n",
    "- Do **NOT** load or use any Python packages that are not available in Anaconda 3.6. \n",
    "- Because you can technically evaluate notebook cells in a non-linear order, it's a good idea to do Kernel $\\rightarrow$ Restart & Run All as a check before submitting your solutions.  That way if we need to run your code you will know that it will work as expected. \n",
    "- It is **bad form** to make your reader interpret numerical output from your code.  If a question asks you to compute some value from the data you should show your code output **AND** write a summary of the results in Markdown directly below your code. \n",
    "- You **MUST** leave all of your notebook cells **evaluated** so the graders do not need to re-evaluate them. For 100+ students, this extra time adds up, and makes the graders' lives unnecessarily more difficult.\n",
    "- This probably goes without saying, but... For any question that asks you to calculate something, you **must show all work and justify your answers to receive credit**. Sparse or nonexistent work will receive sparse or nonexistent credit. \n",
    "- Submit only this Jupyter notebook to Canvas.  Do not compress it using tar, rar, zip, etc. \n",
    "\n",
    "---\n",
    "**Shortcuts:**  [Problem 1](#p1) | [Problem 2](#p2) | [Problem 3](#p3) | [Problem 4](#p4) \n",
    "\n",
    "---"
   ]
  },
  {
   "cell_type": "code",
   "execution_count": 1,
   "metadata": {
    "scrolled": true
   },
   "outputs": [],
   "source": [
    "import pandas as pd\n",
    "import numpy as np\n",
    "import scipy.stats as stats\n",
    "import math\n",
    "from scipy.special import binom\n",
    "import matplotlib.pylab as plt\n",
    "%matplotlib inline"
   ]
  },
  {
   "cell_type": "code",
   "execution_count": 2,
   "metadata": {},
   "outputs": [],
   "source": [
    "# global color array for good colors on graphs\n",
    "colors=[\n",
    "    'red', # 0\n",
    "    'orange', # 1\n",
    "    'yellow', # 2\n",
    "    'green', # 3\n",
    "    'blue', # 4\n",
    "    'indigo', # 5\n",
    "    'violet', # 6\n",
    "    'black', # 7\n",
    "    'white' # 8\n",
    "]\n",
    "\n",
    "# global e for debugging\n",
    "e_gauss = 2.71828"
   ]
  },
  {
   "cell_type": "markdown",
   "metadata": {},
   "source": [
    "<br>\n",
    "\n",
    "---\n",
    "<a/ id='p1'></a>\n",
    "[Back to top](#top)\n",
    "\n",
    "<img src=\"https://media.daysoftheyear.com/20171223112636/hedgehog-day1.jpg\" style=\"width: 500px;\"/>\n",
    "\n",
    "\n",
    "### [25 points] Problem 1\n",
    "\n",
    "Suppose you are modeling the probability of observing various levels of cuteness in hedgehogs you encounter.  Let $X$ be a random variable representing the observed cuteness, which is *obviously* nonnegative and has units of deci*awws*. You decide to use the following pdf for $X$:\n",
    "\n",
    "$$\n",
    "f(x) = \\begin{cases}\n",
    "         c \\ x \\ e^{\\left(-\\frac{x^2}{4}\\right)} & 0 \\leq x < \\infty \\\\\n",
    "         0                           & \\text{otherwise}\n",
    "       \\end{cases}\n",
    "$$\n",
    "where $c$ is some normalizing constant.\n",
    "\n",
    "**Part A**: Determine the value of $c$ such that $f(x)$ is a valid probability density function. Then, make a plot of the probability density function for hedgehog cuteness, $f(x)$. Be sure to label your axes!"
   ]
  },
  {
   "cell_type": "markdown",
   "metadata": {
    "collapsed": true
   },
   "source": [
    "$$\n",
    "\\begin{align*}\n",
    "1 &= \\int_{x = -\\infty}^{x = \\infty}{f \\left( x \\right) dx} \\\\\n",
    "1 &= \\int_{x = -\\infty}^{x = 0}{f \\left( x \\right) dx} + \\int_{x = 0}^{x = \\infty}{f \\left( x \\right) dx} \\\\\n",
    "1 &= 0 + \\int_{x = 0}^{x = \\infty} {{cxe^{\\left(-\\frac{x^2}{4} \\right)}}dx} \\\\\n",
    "1 &= {-2}ce^{\\left(-\\frac{x^2}{4} \\right)} \\bigg|_{x = 0}^{x = \\infty} \\\\\n",
    "2c &= 1\\\\\n",
    "c &= \\frac{1}{2}\\\\\n",
    "& \\therefore \\\\\n",
    "f(x) &=\n",
    "\\begin{cases}\n",
    "    \\frac{1}{2}xe^{\\left(-\\frac{x^2}{4}\\right)} & 0 \\leq x < \\infty \\\\\n",
    "    0                           & \\text{otherwise}\n",
    "\\end{cases}\n",
    "\\end{align*}\n",
    "$$"
   ]
  },
  {
   "cell_type": "code",
   "execution_count": 3,
   "metadata": {},
   "outputs": [],
   "source": [
    "def pdf_func_a1(x_var):\n",
    "    ans = (1/2)*x_var*e_gauss**(-1*(x_var**2)/4)\n",
    "    return ans\n",
    "\n",
    "def graph_pdf_a1(n_trials):\n",
    "    # trails of cuteness\n",
    "    pdf_trials = np.zeros(n_trials)\n",
    "    # put into array\n",
    "    for x in range(n_trials):\n",
    "        pdf_trials[x] = pdf_func_a1(x)\n",
    "    # graph\n",
    "    fig, ax = plt.subplots(figsize=(12,6))\n",
    "    # plot\n",
    "    ax.plot(\n",
    "        pdf_trials,\n",
    "        color=colors[0],\n",
    "        label=\"Cuteness\"\n",
    "    )\n",
    "    # title\n",
    "    ax.set_title(\n",
    "        \"Cuteness PDF\",\n",
    "        fontsize=20\n",
    "    )\n",
    "    # xlabel\n",
    "    ax.set_xlabel(\n",
    "        \"Cuteness\",\n",
    "        fontsize=16\n",
    "    )\n",
    "    # ylabel\n",
    "    ax.set_ylabel(\n",
    "        \"Probability Density\",\n",
    "        fontsize=16\n",
    "    )\n",
    "    # grid\n",
    "    ax.grid(\n",
    "        True,\n",
    "        alpha=0.25\n",
    "    )\n",
    "    # legend\n",
    "    ax.legend()"
   ]
  },
  {
   "cell_type": "code",
   "execution_count": 4,
   "metadata": {},
   "outputs": [
    {
     "data": {
      "image/png": "[encoded data removed]",
      "text/plain": [
       "<Figure size 864x432 with 1 Axes>"
      ]
     },
     "metadata": {},
     "output_type": "display_data"
    }
   ],
   "source": [
    "n = 100\n",
    "graph_pdf_a1(n)"
   ]
  },
  {
   "cell_type": "markdown",
   "metadata": {},
   "source": [
    "**Part B**: Compute *by hand* the cumulative density (cdf) function $F(x)$ for $X$."
   ]
  },
  {
   "cell_type": "markdown",
   "metadata": {},
   "source": [
    "$$\n",
    "\\begin{align*}\n",
    "F \\left(x \\right) &= \\int_{x = -\\infty}^{x = \\infty}{f \\left( x \\right) dx} \\\\\n",
    "F \\left(x \\right) &= \\int_{x = -\\infty}^{x = 0}{f \\left( x \\right) dx} + \\int_{x = 0}^{x = y}{f \\left( x \\right) dx} \\\\\n",
    "F \\left(x \\right) &= e^0 + \\int_{x = 0}^{x = y} {{\\frac{1}{2}xe^{\\left(-\\frac{x^2}{4} \\right)}}dx} \\\\\n",
    "F \\left(x \\right) &= 1 + \\frac{1}{2}\\times{-2}e^{\\left(-\\frac{y^2}{4} \\right)} \\\\\n",
    "F \\left(x \\right) &= {1 - e^{\\left(-\\frac{y^2}{4} \\right)}} \\\\\n",
    "& \\therefore \\\\\n",
    "F \\left(x \\right) &=\n",
    "\\begin{cases}\n",
    "    {1 - e^{\\left(-\\frac{y^2}{4} \\right)}} & 0 \\leq x < \\infty \\\\\n",
    "    0                           & \\text{otherwise}\n",
    "\\end{cases}\n",
    "\\end{align*}\n",
    "$$"
   ]
  },
  {
   "cell_type": "code",
   "execution_count": 5,
   "metadata": {},
   "outputs": [],
   "source": [
    "def cdf_func_a2(x):\n",
    "    ans = 1 + (-1)*e_gauss**((-1)*(x**2)/4)\n",
    "    return ans\n",
    "\n",
    "def graph_cdf_a2(n_trials):\n",
    "    # trails of cuteness\n",
    "    cdf_trials = np.zeros(n_trials)\n",
    "    # put into array\n",
    "    for x in range(n_trials):\n",
    "        cdf_trials[x] = cdf_func_a2(x)\n",
    "        \n",
    "    # graph\n",
    "    fig, ax = plt.subplots(figsize=(12,6))\n",
    "    ax.plot(\n",
    "        cdf_trials,\n",
    "        color=colors[1],\n",
    "        label=\"Cuteness\"\n",
    "    )\n",
    "    # title\n",
    "    ax.set_title(\n",
    "        \"Cuteness CDF\",\n",
    "        fontsize=20\n",
    "    )\n",
    "    # xlabel\n",
    "    ax.set_xlabel(\n",
    "        \"Cuteness\",\n",
    "        fontsize=16\n",
    "    )\n",
    "    # ylabel\n",
    "    ax.set_ylabel(\n",
    "        \"Cumulative Density\",\n",
    "        fontsize=16\n",
    "    )\n",
    "    # grid\n",
    "    ax.grid(\n",
    "        True,\n",
    "        alpha=0.25\n",
    "    )\n",
    "    # legend\n",
    "    ax.legend()"
   ]
  },
  {
   "cell_type": "code",
   "execution_count": 6,
   "metadata": {},
   "outputs": [
    {
     "data": {
      "image/png": "[encoded data removed]",
      "text/plain": [
       "<Figure size 864x432 with 1 Axes>"
      ]
     },
     "metadata": {},
     "output_type": "display_data"
    }
   ],
   "source": [
    "n = 100\n",
    "\n",
    "graph_cdf_a2(n)"
   ]
  },
  {
   "cell_type": "markdown",
   "metadata": {},
   "source": [
    "**Part C:**  Use the cdf you derived in **Part B** to calculate the median ($\\tilde{x}$) cuteness of all hedgehogs."
   ]
  },
  {
   "cell_type": "markdown",
   "metadata": {},
   "source": [
    "$$\n",
    "\\text{Average cuteness of hedgehogs: }\n",
    "\\begin{align*}\n",
    "E \\left( x \\right) &= \\int_{x = -\\infty}^{x = \\infty}{ x f \\left( x \\right) dx} \\\\\n",
    "E \\left( x \\right) &= \\int_{x = -\\infty}^{x = 0}{x f \\left( x \\right) dx} + \\int_{x = 0}^{x = \\infty}{x f \\left( x \\right) dx} \\\\\n",
    "E \\left( x \\right) &= 0 + \\int_{x = 0}^{x = \\infty} {{\\frac{1}{2}x^{2}e^{\\left(-\\frac{x^2}{4} \\right)}}dx} \\\\\n",
    "E \\left( x \\right) &= 1.7725 \\\\\n",
    "\\end{align*}\n",
    "$$\n",
    "$$\n",
    "\\text{Median cuteness of hedgehogs: }\n",
    "\\begin{align*}\n",
    "\\frac{1}{2} &= \\int_{x = -\\infty}^{x = \\infty}{ f \\left( x \\right) dx} \\\\\n",
    "\\frac{1}{2} &= \\int_{x = -\\infty}^{x = 0}{f \\left( x \\right) dx} + \\int_{x = 0}^{x = \\infty}{f \\left( x \\right) dx} \\\\\n",
    "\\frac{1}{2} &= 0 + \\int_{x = 0}^{x = \\bar{X}} {{\\frac{1}{2}xe^{\\left(-\\frac{x^2}{4} \\right)}}dx} \\\\\n",
    "\\bar{X} &= 2 \\sqrt{\\log \\left( 2 \\right)}\\\\\n",
    "\\bar{X} &= 1.6651\n",
    "\\end{align*}\n",
    "$$"
   ]
  },
  {
   "cell_type": "markdown",
   "metadata": {},
   "source": [
    "**Part D**: It is a well-known fact that any hedgehog whose cuteness exceeds 3 deciawws is **totes adorbz**. Use the cdf you computed in **Part B** to find the probability that any arbitrary hedgehog that you observe is totes adorbz."
   ]
  },
  {
   "cell_type": "markdown",
   "metadata": {},
   "source": [
    "$$\n",
    "\\begin{align*}\n",
    "P \\left( X \\geq 3 \\right) &= 1 - P \\left( X \\leq 3 \\right) = 1 - F \\left( 3 \\right) \\\\\n",
    "F \\left( 3 \\right) &= 1 - e^{\\left(-\\frac{3^2}{4} \\right)} \\\\\n",
    "F \\left( 3 \\right) &= 0.8946\\ldots \\\\\n",
    "P \\left( X \\geq 3 \\right) &= 1 - F \\left( 3 \\right) \\\\\n",
    "P \\left( X \\geq 3 \\right) &= 0.1054\n",
    "\\end{align*}\n",
    "$$"
   ]
  },
  {
   "cell_type": "code",
   "execution_count": 7,
   "metadata": {},
   "outputs": [
    {
     "data": {
      "text/plain": [
       "0.1053993840804035"
      ]
     },
     "execution_count": 7,
     "metadata": {},
     "output_type": "execute_result"
    }
   ],
   "source": [
    "1 - cdf_func_a2(3)"
   ]
  },
  {
   "cell_type": "markdown",
   "metadata": {},
   "source": [
    "**Part E:** You have been painstakingly collecting data on hedgehogs all over town, and the cuteness is damn near overwhelming. Suppose you sample 5 hedgehogs, and the cuteness of any given hedgehog is independent of the cuteness of all other hedgehogs. What is the probability that more than half of them are totes adorbz? Keep at least 5 decimal places in your answer."
   ]
  },
  {
   "cell_type": "code",
   "execution_count": null,
   "metadata": {},
   "outputs": [],
   "source": []
  },
  {
   "cell_type": "markdown",
   "metadata": {
    "collapsed": true
   },
   "source": [
    "<br>\n",
    "\n",
    "---\n",
    "<a/ id='p2'></a>\n",
    "[Back to top](#top)\n",
    "### [25 points] Problem 2 - Monte Carlo Estimation of Definite Integrals\n",
    "\n",
    "One really cool application of random variables is using them to approximate integrals/area under a curve.  This method of approximating integrals is used frequently in computational science to approximate really difficult integrals that we never want to do by hand.  In this exercise you'll figure out how we can do this in practice and test your method on a relatively simple integral. "
   ]
  },
  {
   "cell_type": "markdown",
   "metadata": {
    "collapsed": true
   },
   "source": [
    "**Part A.**  Let $X$ be a random variable representing how delicious a pie you bake is, as measured by the **Deliciousness Index** (DI).  Suppose the probability density function for $X$ is described by the raised cosine probability density function:\n",
    "\n",
    "$$\n",
    "f(x) = \\begin{cases}\n",
    "         \\dfrac{1}{\\pi}\\left(\\cos{(x)} + 1\\right) & 0 \\leq x \\leq \\pi \\\\\n",
    "         0                           & \\text{otherwise}\n",
    "         \\end{cases}\n",
    "$$\n",
    "\n",
    "A Deliciousness Index of $\\pi$ is the most delicious pie you can ever hope to create, and a DI of $0$ is the most disgusting pie you have ever tasted.  \n",
    "\n",
    "Compute **by hand**, the integral of $f(x)$ for $0 \\leq x \\leq \\dfrac{\\pi}{2}$.  Write a sentence or two to interpret your result physically, in the context of this problem set-up."
   ]
  },
  {
   "cell_type": "markdown",
   "metadata": {},
   "source": [
    "#### 2.A.\n",
    "$$\n",
    "\\text{integral of } f \\left( x \\right) \\text{ for } 0 \\leq x \\leq \\dfrac{\\pi}{2}:\n",
    "\\begin{align*}\n",
    "F \\left( x \\right) &= \\int_{x = 0}^{x = \\frac{\\pi}{2}}{f \\left( x \\right) \\, dx} \\\\\n",
    "F \\left( x \\right) &= \\int_{x = 0}^{x = \\frac{\\pi}{2}}{\\frac{1}{\\pi} \\left( \\cos \\left( x \\right) + 1 \\right) \\, dx} \\\\\n",
    "F \\left( x \\right) &= \\frac{1}{\\pi} \\int_{x = 0}^{x = \\frac{\\pi}{2}}{ \\cos \\left( x \\right) + 1 \\, dx} \\\\\n",
    "F \\left( x \\right) &= \\frac{1}{\\pi} \\left[ { \\sin \\left( x \\right) + x } \\right] \\, \\bigg|_{\\, x = 0}^{\\, x = \\frac{\\pi}{2}} \\\\\n",
    "F \\left( x \\right) &= \\frac{1}{\\pi} \\left[ { \\sin \\left( \\frac{\\pi}{2} \\right) + \\frac{\\pi}{2} } - \\left( \\sin \\left( 0 \\right) + 0 \\right) \\right] \\\\\n",
    "F \\left( x \\right) &= \\frac{1}{\\pi} \\left[ 1 + \\frac{\\pi}{2} \\right] \\\\\n",
    "F \\left( x \\right) &= \\left[ \\frac{1}{\\pi} + \\frac{1}{2} \\right] = \\frac{2 + \\pi}{2 \\pi} \\approx 0.81831\\\\\n",
    "\\end{align*}\n",
    "$$\n",
    "\n",
    "The area under the curve from $0$ to $\\frac{\\pi}{2}$ is greater than $\\frac{4}{5}$ even though it is half way between $0$ and $\\pi$. This is interesting because almost every pi will be delicious."
   ]
  },
  {
   "cell_type": "markdown",
   "metadata": {},
   "source": [
    "**Part B.** Suppose we sample a random variable $X$ from $U(0,\\frac{\\pi}{2})$ and another random variable $Y$ from $U(0,1)$ and think of them as $x$- and $y$-coordinates of a point in the box $[0,\\frac{\\pi}{2}] \\times [0,1]$.  If we compute the ratio of points that fall under the curve $f(x)$ to the total points sampled, what does this value estimate? "
   ]
  },
  {
   "cell_type": "markdown",
   "metadata": {},
   "source": [
    "#### 2.B.\n",
    "\n",
    "We know the total area of our box to be $\\dfrac{\\pi}{2}$, so the area from our $f(x)$ has to be from $0 < x < \\dfrac{\\pi}{2}$. This was calculated in part A to be $\\dfrac{2 + \\pi}{2 \\pi}$, which is roughly $\\approx 0.81831$.\n",
    "\n",
    "The ratio of points that fall undre curve $f(x)$ and the box is $\\dfrac{\\pi}{2} - \\dfrac{2 + \\pi}{2 \\pi} \\approx 0.7525$."
   ]
  },
  {
   "cell_type": "markdown",
   "metadata": {},
   "source": [
    "**Part C.** How could we modify the process outlined in **Part B** so that our estimator estimates the value of the desired integral?  If you need inspiration, check out the in-class notebook on Stochastic Simulation (#4), specifically, the exercise where we estimated $\\pi$!"
   ]
  },
  {
   "cell_type": "markdown",
   "metadata": {},
   "source": [
    "#### 2.C.\n",
    "\n",
    "I noticed there was a pattern between having our total area of a box and the curve. For this I used the following conventions. $\\alpha$ and $\\beta$ will be our upper and lower bounds respectively.\n",
    "$$\n",
    "\\begin{align*}\n",
    "\\left< f \\right> &= \\left( \\frac{1}{\\beta - \\alpha} \\right) \\times \\int_{x = \\alpha}^{x = \\beta}{f \\left( x \\right) \\, dx}\\\\\n",
    "\\left< f \\right> \\left( \\beta - \\alpha \\right) &= \\int_{x = \\alpha}^{x = \\beta}{f \\left( x \\right) \\, dx} \\\\\n",
    "\\frac{\\left( \\beta - \\alpha \\right)}{n} \\sum_{i} f\\left( x_i \\right) &\\approx\\int_{x = \\alpha}^{x = \\beta}{f \\left( x \\right) \\, dx} \\\\\n",
    "\\end{align*}\n",
    "$$\n",
    "\n",
    "So we will be getting a close approximation for the variable. "
   ]
  },
  {
   "cell_type": "markdown",
   "metadata": {},
   "source": [
    "**Part D.** Complete the function `integrate` below to compute an approximation to the definition integral $\\int_0^{\\text{ub}} f(x)dx$.  Your function should take as arguments:\n",
    "1. `num_samples` -- the number of points to sample,\n",
    "2. `ub` -- a number between $0$ and $\\pi$ that is the upper bound of the integral, and\n",
    "3. `isPlot` -- a Boolean flag for whether or not to display a plot of the results.\n",
    "\n",
    "Your function should return an approximation of the definite integral by sampling $X$ from $U(0,\\text{ub})$ and $Y$ from $U(0,1)$. For each random draw $(X,Y)$, define the random variable $Z$ that represents whether or not the sampled $Y$ value is less than $f(X)$ for the corresponding $X$ value.\n",
    "\n",
    "Your function should perform three tasks: \n",
    "\n",
    "1. return the estimate of the value of the integral,\n",
    "2. return the sample variance of the random variable $Z$ being simulated, using the np.var function, and\n",
    "3. if `isPlot` is True, plot the curve $f(x)$ as well as the location of the points $(X,Y)$, colored according to whether they fall above or below the curve. "
   ]
  },
  {
   "cell_type": "code",
   "execution_count": 517,
   "metadata": {},
   "outputs": [],
   "source": [
    "# debugging var\n",
    "verbose = False"
   ]
  },
  {
   "cell_type": "code",
   "execution_count": 521,
   "metadata": {},
   "outputs": [],
   "source": [
    "# GIVEN CODE - Do not change the inputs/outputs or your code will fail unit tests and auto-grading!\n",
    "def integrate(num_samples, ub, isPlot):\n",
    "    from scipy import random\n",
    "    colors=['red','orange','yellow','green','blue','indigo','violet']\n",
    "    #-----------------------------------------\n",
    "    # your code goes here!  replace this junk:\n",
    "    estimate = 0\n",
    "    sample_var = 1\n",
    "    #-----------------------------------------\n",
    "\n",
    "    \n",
    "    # check the upperbounds before we do anything\n",
    "    if(ub > np.math.pi):\n",
    "        if(verbose):\n",
    "            print(\"Invalid upperbound.\")\n",
    "        return estimate, sample_var\n",
    "    \n",
    "    #xvals = num_samples\n",
    "    # running total of calculated at point\n",
    "    integral = 0.0\n",
    "    \n",
    "    #going to be the calculated areas\n",
    "    ints=[]\n",
    "    areas=[]\n",
    "    xrands=[]\n",
    "\n",
    "    # calculate the integral\n",
    "    for i in range(num_samples):\n",
    "        xrands.append(random.uniform(0, ub))\n",
    "        integral += func(xrands[i]) # evaluated at point i\n",
    "        #print(integral)\n",
    "        ints.append(integral)\n",
    "    \n",
    "    estimate = (ub/float(num_samples)) * ints[-1]\n",
    "\n",
    "    for i in range(num_samples):\n",
    "        areas.append((ub/float(i+1)) * ints[i])\n",
    "    \n",
    "    #areas.append(answer)\n",
    "        \n",
    "    #print(areas)\n",
    "        \n",
    "    # the last value is the final estimate\n",
    "    # estimate = areas[-1]\n",
    "    \n",
    "    # calculate\n",
    "    \n",
    "    if(verbose):\n",
    "            print(\"Area = {}\".format(areas))\n",
    "            print(\"Area = {}\".format(areas[-1]))\n",
    "            \n",
    "    # getting down to plotting\n",
    "    if(isPlot):\n",
    "        mybins = 1000\n",
    "        plt.hist(\n",
    "            areas,\n",
    "            density=True,\n",
    "            color=colors[1],\n",
    "            edgecolor=colors[-2],\n",
    "            label='Areas',\n",
    "            alpha=0.5,\n",
    "            bins=mybins\n",
    "        )\n",
    "        plt.xlim(\n",
    "            [0.99,1.01] # this will have to get changed with +- std dev\n",
    "        )\n",
    "        plt.xlabel(\n",
    "            \"Areas\",\n",
    "            size=16\n",
    "        )\n",
    "        plt.ylabel(\n",
    "            \"Density\",\n",
    "            size=16\n",
    "        )\n",
    "        plt.title(\n",
    "            \"Area Density\",\n",
    "            size=16\n",
    "        )\n",
    "        plt.legend();\n",
    "    \n",
    "    \n",
    "    return estimate\n",
    "    #return estimate, sample_var"
   ]
  },
  {
   "cell_type": "code",
   "execution_count": 522,
   "metadata": {},
   "outputs": [],
   "source": [
    "# this is our f(x) function\n",
    "def func(x):\n",
    "    ans = (1/(np.math.pi)) * (cosfunc(x) + 1)\n",
    "    return ans\n",
    "\n",
    "def cosfunc(x):\n",
    "    return np.cos(x)"
   ]
  },
  {
   "cell_type": "code",
   "execution_count": 523,
   "metadata": {},
   "outputs": [
    {
     "data": {
      "text/plain": [
       "0.8067087976546734"
      ]
     },
     "execution_count": 523,
     "metadata": {},
     "output_type": "execute_result"
    }
   ],
   "source": [
    "# integrate(1000, np.math.pi, True)`\n",
    "integrate(100, np.math.pi / 2, False)\n",
    "# func(np.math.pi/2)\n",
    "\n",
    "#func(10)"
   ]
  },
  {
   "cell_type": "markdown",
   "metadata": {},
   "source": [
    "**Part E.** Write your own small unit tests!\n",
    "\n",
    "First, what should your `integrate` function output if you plug in `ub=0`? Set that as `int_0_to_0` below.\n",
    "\n",
    "Second, what should your `integrate` function output if you plug in `ub=`$\\pi$? Set that as `int_0_to_pi` below.\n",
    "\n",
    "Then, you can execute the cell below to run two sanity checks. Write out **in math** (like, a definite integral) what each of these two tests is checking and **why** that is a reasonable sanity check.\n",
    "\n",
    "If these two assertions run without fail, then things seem to be working okay. Note that the upper endpoint test is stochastic, so if it fails, try running it a few times. If it fails a lot, then things are probably going wrong."
   ]
  },
  {
   "cell_type": "code",
   "execution_count": 358,
   "metadata": {},
   "outputs": [
    {
     "ename": "IndexError",
     "evalue": "invalid index to scalar variable.",
     "output_type": "error",
     "traceback": [
      "\u001b[1;31m---------------------------------------------------------------------------\u001b[0m",
      "\u001b[1;31mIndexError\u001b[0m                                Traceback (most recent call last)",
      "\u001b[1;32m<ipython-input-358-60a232e2a9aa>\u001b[0m in \u001b[0;36m<module>\u001b[1;34m()\u001b[0m\n\u001b[0;32m      6\u001b[0m \u001b[1;31m# DO NOT EDIT THIS CELL BELOW HERE\u001b[0m\u001b[1;33m\u001b[0m\u001b[1;33m\u001b[0m\u001b[0m\n\u001b[0;32m      7\u001b[0m \u001b[1;31m#---------------------------------------\u001b[0m\u001b[1;33m\u001b[0m\u001b[1;33m\u001b[0m\u001b[0m\n\u001b[1;32m----> 8\u001b[1;33m \u001b[1;32massert\u001b[0m \u001b[0mintegrate\u001b[0m\u001b[1;33m(\u001b[0m\u001b[1;36m1000\u001b[0m\u001b[1;33m,\u001b[0m \u001b[1;36m0\u001b[0m\u001b[1;33m,\u001b[0m \u001b[1;32mFalse\u001b[0m\u001b[1;33m)\u001b[0m\u001b[1;33m[\u001b[0m\u001b[1;36m0\u001b[0m\u001b[1;33m]\u001b[0m\u001b[1;33m==\u001b[0m\u001b[0mint_0_to_0\u001b[0m\u001b[1;33m,\u001b[0m \u001b[1;34m\"Error: lower endpoint test failing\"\u001b[0m\u001b[1;33m\u001b[0m\u001b[0m\n\u001b[0m\u001b[0;32m      9\u001b[0m \u001b[1;32massert\u001b[0m \u001b[0mmath\u001b[0m\u001b[1;33m.\u001b[0m\u001b[0misclose\u001b[0m\u001b[1;33m(\u001b[0m\u001b[0mintegrate\u001b[0m\u001b[1;33m(\u001b[0m\u001b[1;36m10000\u001b[0m\u001b[1;33m,\u001b[0m \u001b[0mnp\u001b[0m\u001b[1;33m.\u001b[0m\u001b[0mpi\u001b[0m\u001b[1;33m,\u001b[0m \u001b[1;32mFalse\u001b[0m\u001b[1;33m)\u001b[0m\u001b[1;33m[\u001b[0m\u001b[1;36m0\u001b[0m\u001b[1;33m]\u001b[0m\u001b[1;33m,\u001b[0m\u001b[0mint_0_to_pi\u001b[0m\u001b[1;33m,\u001b[0m\u001b[0mabs_tol\u001b[0m\u001b[1;33m=\u001b[0m\u001b[1;36m0.03\u001b[0m\u001b[1;33m)\u001b[0m\u001b[1;33m,\u001b[0m \u001b[1;34m\"Error: upper endpoint test failing\"\u001b[0m\u001b[1;33m\u001b[0m\u001b[0m\n",
      "\u001b[1;31mIndexError\u001b[0m: invalid index to scalar variable."
     ]
    }
   ],
   "source": [
    "int_0_to_0  = 0\n",
    "int_0_to_pi = 1\n",
    "\n",
    "\n",
    "#---------------------------------------\n",
    "# DO NOT EDIT THIS CELL BELOW HERE\n",
    "#---------------------------------------\n",
    "assert integrate(1000, 0, False)[0]==int_0_to_0, \"Error: lower endpoint test failing\"\n",
    "assert math.isclose(integrate(10000, np.pi, False)[0],int_0_to_pi,abs_tol=0.03), \"Error: upper endpoint test failing\""
   ]
  },
  {
   "cell_type": "code",
   "execution_count": null,
   "metadata": {},
   "outputs": [],
   "source": []
  },
  {
   "cell_type": "markdown",
   "metadata": {},
   "source": [
    "**Part F.** Run your simulation with `isPlot=True` and `ub=`$\\frac{\\pi}{2}$ for 1,000 samples so we can see your plot. Then, run your simulation (with `isPlot=False`) with at least 10,000 samples and estimate the value of the given integral. Be sure to leave your cells evaluated for the graders! Does your estimate agree with the exact value of the integral you computed in **Part A**? "
   ]
  },
  {
   "cell_type": "code",
   "execution_count": null,
   "metadata": {},
   "outputs": [],
   "source": []
  },
  {
   "cell_type": "markdown",
   "metadata": {
    "collapsed": true
   },
   "source": [
    "<br>\n",
    "\n",
    "---\n",
    "<a/ id='p3'></a>\n",
    "[Back to top](#top)\n",
    "### [25 points] Problem 3 - Mmmm... Donuts...\n",
    "\n",
    "<img src=\"http://astrokentico.s3.amazonaws.com/rojakdaily/media/1nichoras/homer%20simpson%20krispy%20kreme/main.jpg?ext=.jpg\" style=\"width:300px;\"/>\n",
    "\n",
    "You bring many donuts (or _doughnuts_, if you're into that) to work to share with your coworkers at the Boulder Nuclear Power Planet. But due to the high levels of radiation there, they must be inspected for safety. In particular, if the mean level of radiation in a sample from your batch of donuts is above [200 mSv (millisievert)](#rad), then they are deemed unsafe and you must throw the whole batch away.\n",
    "\n",
    "You know that historically donuts at the power plant have, on average, 190 mSv of radiation, with a standard deviation of 40 mSv. To test the donut radiation levels, you take the donut receipt and pick every fifth donut off it, and sample the radiation levels of those donuts. You end up sampling the radiation levels of 36 donuts out of the batch."
   ]
  },
  {
   "cell_type": "markdown",
   "metadata": {},
   "source": [
    "**Part A.** What is the probability that a donut batch is deemed unsafe?  You should at the very least set up and justify your calculation by hand (in Markdown/Mathjax), before executing any calculations in Python."
   ]
  },
  {
   "cell_type": "code",
   "execution_count": null,
   "metadata": {},
   "outputs": [],
   "source": []
  },
  {
   "cell_type": "markdown",
   "metadata": {},
   "source": [
    "**Part B.** You really do not want to throw away donuts that frequently, so you propose to store the donuts in a lead-lined donut box. But lead also is not very good for your health, so you are motivated to use the least amount of lead possible. What is the minimum mean amount of radiation $\\mu$ for our donuts to have such that the probability that we will throw donuts out due to safety concerns is at most 0.01?\n",
    "\n",
    "Calculate this **by hand**, using Python only to perform arithmetic operations and compute critical values of a standard normal random variable."
   ]
  },
  {
   "cell_type": "code",
   "execution_count": null,
   "metadata": {},
   "outputs": [],
   "source": []
  },
  {
   "cell_type": "markdown",
   "metadata": {},
   "source": [
    "**Part C.**  Your supervisor at the plant decides that serving up donuts in a lead-lined box is a bad idea. Fair enough.\n",
    "\n",
    "But she is still imposing the requirement that the probability of a batch of donuts being rejected must be less than 0.01. Suppose the mean and standard deviation are at their original values of $\\mu = 190$ mSv and $\\sigma = 40$ mSv. What is the minimum sample size to satisfy this requirement?\n",
    "\n",
    "Calculate this **by hand**, using Python only to perform arithmetic operations and compute critical values of a standard normal random variable."
   ]
  },
  {
   "cell_type": "code",
   "execution_count": null,
   "metadata": {},
   "outputs": [],
   "source": []
  },
  {
   "cell_type": "markdown",
   "metadata": {
    "collapsed": true
   },
   "source": [
    "**Part D.** Can you think of any potential issues with using a normal distribution to model the radiation content of our donuts?"
   ]
  },
  {
   "cell_type": "code",
   "execution_count": null,
   "metadata": {},
   "outputs": [],
   "source": []
  },
  {
   "cell_type": "markdown",
   "metadata": {},
   "source": [
    "<br>\n",
    "\n",
    "---\n",
    "<a/ id='p4'></a>\n",
    "[Back to top](#top)\n",
    "### [25 points] Problem 4 - Here come the hedgehogs\n",
    "\n",
    "**Part A:** You are conducting a study of the cuteness of hedgehogs, because you want to verify the calculations from Problem 1. You set up a data collection center, and record in your data set the time when each hedgehog arrives at your site. The data are found in `arrivals.csv`.\n",
    "\n",
    "Load these data into a Pandas DataFrame, compute the time span between successive hedgehog arrivals, and plot a density histogram of those inter-hedgehog arrival times.\n",
    "\n",
    "To best capture the majesty of the mighty hedgehog, your histogram boxes should be `sienna` with `khaki` edges. Your histogram should also have 50 bins, because hedgehogs love histograms with 50 bins. Hedgehogs are illiterate, so they don't really care about axis labels, but your instructor does. So, be sure to label your axes too."
   ]
  },
  {
   "cell_type": "code",
   "execution_count": null,
   "metadata": {},
   "outputs": [],
   "source": []
  },
  {
   "cell_type": "markdown",
   "metadata": {},
   "source": [
    "**Part B:** Compute a 99% confidence interval (to 4 decimal places) for the mean of the inter-hedgehog arrival time. If you use any theorem(s) in your calculation, be sure to state what they are and why the theorem(s) can be applied. "
   ]
  },
  {
   "cell_type": "code",
   "execution_count": null,
   "metadata": {},
   "outputs": [],
   "source": []
  },
  {
   "cell_type": "markdown",
   "metadata": {},
   "source": [
    "**Part C:** Speculate: what would happen if you hadn't included all the data in your confidence interval calculation above? Specifically, if you only observed the first 30 of your data points and used those to compute a confidence interval, would it be wider or less wide? Why? You may assume that the number of data points is the *only* thing changing in this hypothetical situation."
   ]
  },
  {
   "cell_type": "code",
   "execution_count": null,
   "metadata": {},
   "outputs": [],
   "source": []
  },
  {
   "cell_type": "markdown",
   "metadata": {},
   "source": [
    "**Part D:** Write a function to confirm what you have written above. For each value of $n$ between $30$ and the total number of data points, compute a 90% CI using the first $n$ inter-arrival times. Plot the CIs (vertical axis) against $n$ (horizontal axis). Plot the means as black X symbols, with vertical \"errorbars\" for the CIs colored `sienna`. See Matplotlib's [errorbar](https://matplotlib.org/api/_as_gen/matplotlib.pyplot.errorbar.html) plot type. Be sure to label your axes!"
   ]
  },
  {
   "cell_type": "code",
   "execution_count": null,
   "metadata": {},
   "outputs": [],
   "source": []
  },
  {
   "cell_type": "markdown",
   "metadata": {},
   "source": [
    "**Part E:** Reflect on how your confidence intervals change as the sample sizes $n$ increase from 30 to about 100. Does this make sense? Write a few sentences to reflect on the behavior that you see in your plot from Part D, and why it does/does not make sense."
   ]
  },
  {
   "cell_type": "code",
   "execution_count": null,
   "metadata": {},
   "outputs": [],
   "source": []
  },
  {
   "cell_type": "markdown",
   "metadata": {
    "collapsed": true
   },
   "source": [
    "<br>\n",
    "\n",
    "---\n",
    "### Notes\n",
    "\n",
    "<a/ id='rad'></a> 200 mSv is somewhere below Chernobyl levels of exposure, but more radiation than you would want with regard to potentially increasing your risk of cancer. It's probably too high, but it is a nice round number! More information [here](https://www.theguardian.com/news/datablog/2011/mar/15/radiation-exposure-levels-guide).\n",
    "\n",
    "[Back to Problem 3](#p3)"
   ]
  },
  {
   "cell_type": "code",
   "execution_count": null,
   "metadata": {},
   "outputs": [],
   "source": []
  }
 ],
 "metadata": {
  "kernelspec": {
   "display_name": "Python 3",
   "language": "python",
   "name": "python3"
  },
  "language_info": {
   "codemirror_mode": {
    "name": "ipython",
    "version": 3
   },
   "file_extension": ".py",
   "mimetype": "text/x-python",
   "name": "python",
   "nbconvert_exporter": "python",
   "pygments_lexer": "ipython3",
   "version": "3.6.5"
  }
 },
 "nbformat": 4,
 "nbformat_minor": 2
}
