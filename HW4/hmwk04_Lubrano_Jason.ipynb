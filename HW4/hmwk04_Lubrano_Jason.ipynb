{
 "cells": [
  {
   "cell_type": "markdown",
   "metadata": {},
   "source": [
    "<a/ id='top'></a>\n",
    "# Homework 4: Confidence intervals, hypothesis testing, and p-values\n",
    "***\n",
    "\n",
    "**Name**: \n",
    "\n",
    "***\n",
    "\n",
    "This assignment is due on Moodle by **5 PM on Friday 5 April**. Your solutions to theoretical questions should be done in Markdown/MathJax directly below the associated question.  Your solutions to computational questions should include any specified Python code and results as well as written commentary on your conclusions.  Remember that you are encouraged to discuss the problems with your instructors and classmates, but **you must write all code and solutions on your own**. \n",
    "\n",
    "**NOTES**: \n",
    "\n",
    "- Any relevant data sets should be available under the **Data** module on Canvas, as well as in the zipped folder in which you obtained this assignment. \n",
    "- Do **NOT** load or use any Python packages that are not available in Anaconda 3.6. \n",
    "- Because you can technically evaluate notebook cells in a non-linear order, it's a good idea to do Kernel $\\rightarrow$ Restart & Run All as a check before submitting your solutions.  That way if we need to run your code you will know that it will work as expected. \n",
    "- It is **bad form** to make your reader interpret numerical output from your code.  If a question asks you to compute some value from the data you should show your code output **AND** write a summary of the results in Markdown directly below your code. \n",
    "- You **MUST** leave all of your notebook cells **evaluated** so the graders do not need to re-evaluate them. For 100+ students, this extra time adds up, and makes the graders' lives unnecessarily more difficult.\n",
    "- This probably goes without saying, but... For any question that asks you to calculate something, you **must show all work and justify your answers to receive credit**. Sparse or nonexistent work will receive sparse or nonexistent credit. \n",
    "- Submit only this Jupyter notebook to Canvas.  Do not compress it using tar, rar, zip, etc. \n",
    "\n",
    "---\n",
    "**Shortcuts:**  [Problem 1](#p1) | [Problem 2](#p2) | [Problem 3](#p3) | [Problem 4](#p4) | [Problem 5](#p5)  \n",
    "\n",
    "---"
   ]
  },
  {
   "cell_type": "code",
   "execution_count": 33,
   "metadata": {
    "scrolled": true
   },
   "outputs": [],
   "source": [
    "import numpy as np\n",
    "import math\n",
    "import scipy.stats as stats\n",
    "import matplotlib.pyplot as plt\n",
    "import pandas as pd\n",
    "%matplotlib inline"
   ]
  },
  {
   "cell_type": "markdown",
   "metadata": {},
   "source": [
    "<br>\n",
    "\n",
    "---\n",
    "<a/ id='p1'></a>\n",
    "[Back to top](#top)\n",
    "### [20 points] Problem 1 - Exploring Confidence Intervals \n",
    "\n",
    "The [Gumbel](https://en.wikipedia.org/wiki/Gumbel_distribution) distribution is one of several distributions frequently used to model environmental extremes (for example, extreme temperatures and sea levels).  It is also fairly asymmetric, and thus interesting for investigating confidence intervals.  It is implemented in scipy.stats as [gumbel_r](https://docs.scipy.org/doc/scipy/reference/generated/scipy.stats.gumbel_r.html), where the appendix \"\\_r\" denotes the right-skewed version of the Gumbel distribution (as opposed to the left-skewed)."
   ]
  },
  {
   "cell_type": "markdown",
   "metadata": {},
   "source": [
    "**Part A**: Complete the following code cell to plot a histogram of 100 realizations from the Gumbel distribution with parameters $\\mu=8$ (location) and $\\beta=2$ (scale).  Be sure to leave this cell executed before turning in your assignment! Make your histogram faces coral with gray edges."
   ]
  },
  {
   "cell_type": "code",
   "execution_count": 34,
   "metadata": {},
   "outputs": [],
   "source": [
    "colors1a = ['coral', 'gray']\n",
    "def plot_gumble(mu=8, beta=2, n_sample=100):\n",
    "    # code for x\n",
    "    x = stats.gumbel_r.rvs(\n",
    "        loc=mu,\n",
    "        scale=beta,\n",
    "        size=n_sample\n",
    "    )\n",
    "    # fig,ax\n",
    "    fig, ax = plt.subplots(\n",
    "        nrows=1,\n",
    "        ncols=1,\n",
    "        figsize=(16,9)\n",
    "    )\n",
    "    # plot the histogram\n",
    "    pd.Series(x).hist(\n",
    "        ax=ax, \n",
    "        color=colors1a[0], \n",
    "        edgecolor=colors1a[1], \n",
    "        bins=20, \n",
    "        density=True,\n",
    "        label='Density'\n",
    "    )\n",
    "    ax.set_axisbelow(\n",
    "        True\n",
    "    )\n",
    "    ax.set_xlabel(\n",
    "        \"Gumbel\",\n",
    "        fontsize=16\n",
    "    )\n",
    "    ax.set_ylabel(\n",
    "        \"Density\",\n",
    "        fontsize=16\n",
    "    )\n",
    "    ax.set_title(\n",
    "        r\"Gumbel($\\beta=${}, $\\mu=${})\".format(beta, mu),\n",
    "        fontsize=20\n",
    "    )\n",
    "    ax.legend()\n",
    "    print(np.mean(x))"
   ]
  },
  {
   "cell_type": "code",
   "execution_count": 35,
   "metadata": {},
   "outputs": [
    {
     "name": "stdout",
     "output_type": "stream",
     "text": [
      "9.221933963900275\n"
     ]
    },
    {
     "data": {
      "image/png": "[encoded data removed]",
      "text/plain": [
       "<Figure size 1152x648 with 1 Axes>"
      ]
     },
     "metadata": {},
     "output_type": "display_data"
    }
   ],
   "source": [
    "mu = 8\n",
    "beta = 2\n",
    "n_sample = 100\n",
    "plot_gumble(mu, beta, n_sample)"
   ]
  },
  {
   "cell_type": "markdown",
   "metadata": {},
   "source": [
    "**Part B:** Look up the analytical mean and variance of the Gumbel distribution with parameters $\\mu=8$ and $\\beta=2$ and calculate them here by hand.  Note that the Euler–Mascheroni constant can be accessed via `np.euler_gamma`. Note that the version of the Gumbel we are using is *right-skewed*, and is the version used to model maximal extreme events.\n",
    "\n",
    "Use the empirical mean from your sample in **Part A**, and the true variance of the Gumbel distribution to compute by hand a 95% confidence interval for the mean."
   ]
  },
  {
   "cell_type": "markdown",
   "metadata": {},
   "source": [
    "####  1.B.\n",
    "$$\n",
    "\\text{Mean: }\n",
    "\\begin{align*}\n",
    "\\mu\n",
    "    &= \\alpha + \\gamma \\beta\n",
    "    = 8 + \\gamma 2\n",
    "    = 9.1544\n",
    "\\end{align*}\n",
    "$$\n",
    "$$\n",
    "\\text{Variance: }\n",
    "\\begin{align*}\n",
    "\\sigma^{2}\n",
    "    &= \\frac{1}{6} \\pi^{2} \\beta^{2}\n",
    "    = \\frac{1}{6} \\pi^{2} 2^{2}\n",
    "    = \\frac{2}{3} \\pi^{2}\n",
    "    = 6.5797\n",
    "\\end{align*}\n",
    "$$"
   ]
  },
  {
   "cell_type": "code",
   "execution_count": 36,
   "metadata": {},
   "outputs": [],
   "source": [
    "verbose = True\n",
    "def mean_gumble(mu=8, beta=2, n_sample=100):\n",
    "    # code for x\n",
    "    x = stats.gumbel_r.rvs(\n",
    "        loc=mu,\n",
    "        scale=beta,\n",
    "        size=n_sample\n",
    "    )\n",
    "    \n",
    "    # get the constant\n",
    "    g = np.euler_gamma\n",
    "    if(verbose):\n",
    "        print(\"euler_gamma: {}\".format(g))\n",
    "    \n",
    "    # calculate the mean\n",
    "    mean = mu + (g * beta)\n",
    "    if(verbose):\n",
    "        print(\"mean: {}\".format(mean))\n",
    "        \n",
    "    # calculate variance\n",
    "    var = (1/6)*(math.pi**2)*(beta**2)\n",
    "    if(verbose):\n",
    "        print(\"var: {}\".format(var))\n",
    "        \n",
    "    return g, mean, var   "
   ]
  },
  {
   "cell_type": "code",
   "execution_count": 37,
   "metadata": {
    "scrolled": true
   },
   "outputs": [
    {
     "name": "stdout",
     "output_type": "stream",
     "text": [
      "euler_gamma: 0.5772156649015329\n",
      "mean: 9.154431329803066\n",
      "var: 6.579736267392905\n"
     ]
    },
    {
     "data": {
      "text/plain": [
       "(0.5772156649015329, 9.154431329803066, 6.579736267392905)"
      ]
     },
     "execution_count": 37,
     "metadata": {},
     "output_type": "execute_result"
    }
   ],
   "source": [
    "mean_gumble()"
   ]
  },
  {
   "cell_type": "markdown",
   "metadata": {},
   "source": [
    "Now that we have our values, we can compute the $95\\%$ confidence interval. We want to find our $\\alpha$ value. To do this we use the formula $1 - {CI} = 0.05$, or $5\\%$. Since we are on both ends of the distribution, we divide $5\\%$ by $2$ to give us $2.5\\%$.\n",
    "\n",
    "$$\n",
    "\\text{CI} = \\bar{X} \\pm z_{\\left(0.025\\right)} \\times \\sqrt{\\frac{\\sigma^{2}}{n}}\n",
    "$$"
   ]
  },
  {
   "cell_type": "code",
   "execution_count": 38,
   "metadata": {},
   "outputs": [
    {
     "data": {
      "text/plain": [
       "1.959963984540054"
      ]
     },
     "execution_count": 38,
     "metadata": {},
     "output_type": "execute_result"
    }
   ],
   "source": [
    "stats.norm.ppf(1-0.025)"
   ]
  },
  {
   "cell_type": "markdown",
   "metadata": {},
   "source": [
    "Solving the equation above where:\n",
    "$$\n",
    "n = 100 \\\\\n",
    "z_{\\left(0.025\\right)} = 1.96\\\\\n",
    "\\bar{X} = 9.1544\\\\\n",
    "\\sigma^{2} = 6.5797\n",
    "$$\n",
    "Gives us:\n",
    "$$\n",
    "\\text{CI} =\n",
    "    \\left[\n",
    "        \\bar{X} - z_{\\left(0.025\\right)} \\times \\sqrt{\\frac{\\sigma^{2}}{n}} , \n",
    "        \\bar{X} + z_{\\left(0.025\\right)} \\times \\sqrt{\\frac{\\sigma^{2}}{n}}\n",
    "    \\right]\n",
    "    \\\\\n",
    "\\text{CI} =\n",
    "    \\left[\n",
    "        9.1544 - 1.96 \\times \\sqrt{\\frac{6.5797}{100}} ,\n",
    "        9.1544 + 1.96 \\times \\sqrt{\\frac{6.5797}{100}}\n",
    "    \\right]\\\\\n",
    "\\text{CI} =\n",
    "    \\left[\n",
    "        8.7477,\n",
    "        9.7532\n",
    "    \\right]\n",
    "$$"
   ]
  },
  {
   "cell_type": "code",
   "execution_count": 39,
   "metadata": {},
   "outputs": [],
   "source": [
    "def confIntv():\n",
    "    g, mean, var = mean_gumble()\n",
    "    mean = 9.250495117501464 # emperical mean from part A\n",
    "    zalpha = stats.norm.ppf(1-0.025)\n",
    "    n=100\n",
    "    CIlower = mean - zalpha * (var/n)**(1/2)\n",
    "    if(verbose):\n",
    "        print(\"CIlower: {}\".format(CIlower))\n",
    "    CIupper = mean + zalpha * (var/n)**(1/2)\n",
    "    if(verbose):\n",
    "        print(\"CIupper: {}\".format(CIupper))\n",
    "    \n",
    "    return CIlower, CIupper"
   ]
  },
  {
   "cell_type": "code",
   "execution_count": 40,
   "metadata": {},
   "outputs": [
    {
     "name": "stdout",
     "output_type": "stream",
     "text": [
      "euler_gamma: 0.5772156649015329\n",
      "mean: 9.154431329803066\n",
      "var: 6.579736267392905\n",
      "CIlower: 8.74774482240242\n",
      "CIupper: 9.753245412600506\n"
     ]
    },
    {
     "data": {
      "text/plain": [
       "(8.74774482240242, 9.753245412600506)"
      ]
     },
     "execution_count": 40,
     "metadata": {},
     "output_type": "execute_result"
    }
   ],
   "source": [
    "confIntv()"
   ]
  },
  {
   "cell_type": "markdown",
   "metadata": {},
   "source": [
    "**Part C:  A theoretical interlude.** When Amy, the famous hedgehog data scientist, ran her solution code for **Part B**, she obtained a 95% confidence interval of $[8.81, 9.82]$ for the mean of the $Gum(\\mu=8, \\beta=2)$ distribution. For each of the following, explain why or why not the situation described is correct, given the technical definition of a 95% confidence interval we went over in class.\n",
    "\n",
    "**(i)** If you had no other evidence regarding true mean of the $Gum(\\mu=8, \\beta=2)$ distribution, you could say there is a 95% chance that its true mean falls between 8.81 and 9.82.\n",
    "\n",
    "**(ii)** If a class of 100 students all construct 95% confidence intervals for the mean of the $Gum(\\mu=8, \\beta=2)$ distribution, then we expect about 95 of their CIs to contain the true mean, and about 5 of them to miss the true mean.\n",
    "\n",
    "**(iii)** If we sample 100 random variables from the $Gum(\\mu=8, \\beta=2)$ distribution, then roughly 95% of them will be between 8.81 and 9.82."
   ]
  },
  {
   "cell_type": "code",
   "execution_count": null,
   "metadata": {},
   "outputs": [],
   "source": []
  },
  {
   "cell_type": "markdown",
   "metadata": {},
   "source": [
    "**Part D:** In this part you'll write a function to investigate the _coverage properties_ of a confidence interval for the mean of the Gumbel distribution. Complete the following function to randomly sample $m=500$ sample means with sample size $n=100$ for the Gumbel distribution with parameters $\\mu=8$ and $\\beta=2$.  For each random sample, compute the 66% confidence interval for the mean. Note that you actually know the variance for the true population distribution, $\\sigma^2$ from Part B.  Your function should do two things: \n",
    "\n",
    "1. Report the proportion of confidence intervals that successfully cover the true mean of the distribution \n",
    "2. Make a plot of 50 randomly selected confidence intervals. Overlay the intervals on the line $y=\\textrm{True mean}$ (from **Part B**). Color confidence intervals steelblue if they cover the true mean, and coral if they don't.  \n",
    "\n",
    "Be sure to leave this cell executed before turning in your assignment!"
   ]
  },
  {
   "cell_type": "code",
   "execution_count": 41,
   "metadata": {},
   "outputs": [],
   "source": [
    "# GIVEN CODE:\n",
    "\n",
    "def confidence_intervals(m=500, n=100):\n",
    "    mu = 8\n",
    "    beta = 2\n",
    "    \n",
    "    # Your code goes here!\n",
    "    # various variables\n",
    "    gamma = np.euler_gamma # gamma value\n",
    "    conf = 0.66 # 66 percent\n",
    "    num_rnd_CIs = 50\n",
    "    \n",
    "    if(verbose):\n",
    "        print(\"gamma: {}\".format(gamma))\n",
    "    \n",
    "    # calc truuuuu mean\n",
    "    mean = calc_true_mean(mu, beta)\n",
    "    if(verbose):\n",
    "        print(\"mean: {}\".format(mean))\n",
    "    \n",
    "    # calc var\n",
    "    var = calc_var(beta)\n",
    "    if(verbose):\n",
    "        print(\"variance: {}\".format(var))\n",
    "    \n",
    "    # calc std dev\n",
    "    std_dev = calc_std_dev(beta, n)\n",
    "    if(verbose):\n",
    "        print(\"std dev {}\".format(std_dev))    \n",
    "    \n",
    "    # calc z crit\n",
    "    z_crit = calc_z_crit(conf)\n",
    "    if(verbose):\n",
    "        print(\"z crit: {}\".format(z_crit))\n",
    "    \n",
    "    CI_arr = np.zeros((m, 2))\n",
    "    \"\"\"\n",
    "    Lets never print this until we fill it up\n",
    "    if(verbose):\n",
    "        print(\"CI_arr: {}\".format(CI_arr))\n",
    "    \"\"\"\n",
    "    # ihatethisosmuchwhywhywhy\n",
    "    CI_arr, cntr = calc_CIs(m, n, mu, beta, z_crit, std_dev, CI_arr, mean)\n",
    "    if(verbose):\n",
    "        print(\"CI_arr (only 5 elements): {}\".format(CI_arr[:5]))\n",
    "        print(\"Cntr: {}\".format(cntr))\n",
    "    \n",
    "    print(\"Propro of CI: {}\".format(cntr/m)) # 0.666 how lovely, exactly how i feel right now\n",
    "    \n",
    "    \n",
    "    # plot function\n",
    "    plot_CI_vals(m, num_rnd_CIs, CI_arr, mean)"
   ]
  },
  {
   "cell_type": "code",
   "execution_count": 42,
   "metadata": {},
   "outputs": [],
   "source": [
    "# helper funcs\n",
    "\n",
    "# calculate the true mean\n",
    "def calc_true_mean(mu, beta):\n",
    "    mean = mu + beta*np.euler_gamma\n",
    "    return mean\n",
    "\n",
    "# calculate the variance\n",
    "def calc_var(beta):\n",
    "    var = ((np.pi*beta)**2)/6\n",
    "    return var\n",
    "\n",
    "# calculate the standard deviation    \n",
    "def calc_std_dev(beta, n):\n",
    "    var = calc_var(beta)\n",
    "    std_dev = (var/n)**(1/2)\n",
    "    return std_dev\n",
    "\n",
    "# calculate the z critical value\n",
    "def calc_z_crit(conf):\n",
    "    z_crit = stats.norm.ppf(1-(1-conf)/2)\n",
    "    return z_crit\n",
    "\n",
    "# note: this got way out of hand\n",
    "# calculate the CIs\n",
    "def calc_CIs(m, n, mu, beta, z_crit, std_dev, CI_arr, mean):\n",
    "    cntr = 0 # counter\n",
    "    # iterate through the samples\n",
    "    for s in range(m):\n",
    "        x = stats.gumbel_r.rvs(loc=mu, scale=beta, size=n)\n",
    "        x_bar = np.mean(x) # calculates our mean of the sample\n",
    "        CIlower = x_bar - z_crit * std_dev # lower CI\n",
    "        CIupper = x_bar + z_crit * std_dev # upper CI\n",
    "        CI_arr[s, 0] = CIlower\n",
    "        CI_arr[s, 1] = CIupper\n",
    "        # is the mean within the upper bound\n",
    "        if(mean <= CIupper):\n",
    "            # is the mean within the lowr bound\n",
    "            if(mean >= CIlower):\n",
    "                # add 1 to the counter\n",
    "                cntr = cntr + 1\n",
    "    return CI_arr, cntr\n",
    "\n",
    "# plot the CI values\n",
    "def plot_CI_vals(m, num_rnd_CIs, CI_arr, mean):\n",
    "    fig,ax=plt.subplots(\n",
    "        nrows=1,\n",
    "        ncols=1,\n",
    "        figsize=(16,9)\n",
    "    )\n",
    "    for d,row in enumerate(np.random.choice(range(m), size=num_rnd_CIs, replace=False)):\n",
    "        CIlower, CIupper = CI_arr[row,:] # goes through each row making the lower and upper CI val\n",
    "        mycolor=colors1d[1] # by default, set it to coral\n",
    "        # when they pass the bounds, color gets changed to steel blue\n",
    "        if(mean <= CIupper):\n",
    "            if(mean >= CIlower):\n",
    "                mycolor=colors1d[0]\n",
    "        plt.plot(\n",
    "            [d+1, d+1],\n",
    "            [CIupper, CIlower],\n",
    "            color=mycolor\n",
    "        )\n",
    "    plt.plot(\n",
    "        [0, num_rnd_CIs+1],\n",
    "        [mean, mean],\n",
    "        color=colors1d[2],\n",
    "        ls='--'\n",
    "    )\n",
    "    ax.grid(\n",
    "        alpha=0.25\n",
    "    )\n",
    "    ax.set_axisbelow(\n",
    "        True\n",
    "    )\n",
    "    ax.set_xlabel(\n",
    "        \"Distribution of Confidence Intervals\",\n",
    "        fontsize=16\n",
    "    )\n",
    "    ax.set_ylabel(\n",
    "        \"Confidence Intervals\",\n",
    "        fontsize=16\n",
    "    )\n",
    "    ax.set_title(\n",
    "        \"Did the Confidence Interval Cover the Mean?\",\n",
    "        fontsize=20\n",
    "    )"
   ]
  },
  {
   "cell_type": "code",
   "execution_count": 43,
   "metadata": {},
   "outputs": [
    {
     "name": "stdout",
     "output_type": "stream",
     "text": [
      "gamma: 0.5772156649015329\n",
      "mean: 9.154431329803066\n",
      "variance: 6.579736267392906\n",
      "std dev 0.2565099660323728\n",
      "z crit: 0.9541652531461948\n",
      "CI_arr (only 5 elements): [[8.64796899 9.13747478]\n",
      " [9.0824561  9.5719619 ]\n",
      " [8.43186128 8.92136707]\n",
      " [9.00587158 9.49537737]\n",
      " [9.00315434 9.49266014]]\n",
      "Cntr: 332\n",
      "Propro of CI: 0.664\n"
     ]
    },
    {
     "data": {
      "image/png": "[encoded data removed]",
      "text/plain": [
       "<Figure size 1152x648 with 1 Axes>"
      ]
     },
     "metadata": {},
     "output_type": "display_data"
    }
   ],
   "source": [
    "verbose=True\n",
    "colors1d=['steelblue', 'coral', 'orange']\n",
    "# steelblue for when they cover the mean\n",
    "# coral for when they dont\n",
    "confidence_intervals()"
   ]
  },
  {
   "cell_type": "markdown",
   "metadata": {},
   "source": [
    "**Part E:** Does the proportion of confidence intervals that cover the true mean of the distribution agree with the theory described in class?  Justify your conclusion. "
   ]
  },
  {
   "cell_type": "markdown",
   "metadata": {},
   "source": [
    "It does. There are $17$ orange bars out of the $50$ total bars."
   ]
  },
  {
   "cell_type": "markdown",
   "metadata": {},
   "source": [
    "---\n",
    "\n",
    "<a id='p2'></a>\n",
    "[Back to top](#top)\n",
    "\n",
    "### [20 points] Problem 2 - Taco Town!!\n",
    "\n",
    "You're an intern in the office of the City of Boulder's official Food Rater, and in order to support her in her extremely important job, you have to determine whether Taco Bell or Del Taco has the empirically better tacos. \n",
    "\n",
    "\"Don't worry,\" you tell your boss. \"I'll have you know I graduated top of my class from CU Boulder, and I've been involved in numerous data science operations on difficult data sets - many of which are hedgehog-related - and I have over 300 confirmed confidence intervals. I am trained in Numpy and Pandas and I'm the top data scientist in the entire campus.\"\n",
    "\n",
    "\"Weird flex but OK,\" your boss responds, and gives you the data. The data set consists of 100 diners who ate both Taco Bell and Del Taco, and rated their meal enjoyment at each. As is often the case with fast food taco establishments, each diner ate alone and each meal was followed by about 3 weeks of intense therapy, so the diners and meals may all be considered to be independent of one another. The meal enjoyment ratings are in units of *mehs*, where lower values denote more disgust and a worse meal, and higher values are better."
   ]
  },
  {
   "cell_type": "markdown",
   "metadata": {},
   "source": [
    "**Part A:** Import the data set `taco_time.csv` as a Pandas DataFrame.\n",
    "\n",
    "Then, plot a density histogram of the data. Include both Taco Bell and Del Taco on the same set of axes. Be sure to label your axes, and make the histogram faces slightly transparent and include a legend, so we can tell the two data sets apart. Use colors for each restaurant that are representative of that restaurant's logo or branding.\n",
    "\n",
    "Finally, formulate a hypothesis about which restaurant has the higher mean meal enjoyment."
   ]
  },
  {
   "cell_type": "code",
   "execution_count": 44,
   "metadata": {},
   "outputs": [],
   "source": [
    "verbose = False\n",
    "\n",
    "colors_DT=['red', 'green', 'orange']\n",
    "colors_TB=['navy', 'pink', 'gold']\n",
    "\n",
    "taco_file_path = 'taco_time.csv'\n",
    "tacoDF = pd.read_csv(taco_file_path)\n",
    "\n",
    "del_taco = tacoDF['Del Taco']\n",
    "if(verbose): print(\"del taco = {}\".format(del_taco.head()))\n",
    "\n",
    "taco_bell = tacoDF['Taco Bell']\n",
    "if(verbose): print(\"taco bell = {}\".format(taco_bell.head()))"
   ]
  },
  {
   "cell_type": "code",
   "execution_count": 45,
   "metadata": {},
   "outputs": [],
   "source": [
    "def graph_tacos():\n",
    "    taco_bell.sort_values()\n",
    "    del_taco.sort_values()\n",
    "    # fig,ax\n",
    "    fig, ax = plt.subplots(\n",
    "        nrows=1,\n",
    "        ncols=1,\n",
    "        figsize=(16,9)\n",
    "    )\n",
    "    pd.Series(del_taco).hist(\n",
    "        ax=ax, \n",
    "        color=colors_DT[0], \n",
    "        edgecolor=colors_DT[1], \n",
    "        bins=20, \n",
    "        density=True,\n",
    "        alpha=0.5,\n",
    "        label='Del Taco'\n",
    "    )\n",
    "    pd.Series(taco_bell).hist(\n",
    "        ax=ax, \n",
    "        color=colors_TB[0], \n",
    "        edgecolor=colors_TB[1], \n",
    "        bins=20, \n",
    "        density=True,\n",
    "        alpha=0.5,\n",
    "        label='Taco Bell'\n",
    "    )\n",
    "    ax.grid(\n",
    "        alpha=0.25,\n",
    "        color=colors_TB[2]\n",
    "    )\n",
    "    ax.set_axisbelow(\n",
    "        True\n",
    "    )\n",
    "    ax.set_xlabel(\n",
    "        \"Rating of Taco Bell vs Del Taco (mehs)\",\n",
    "        fontsize=16,\n",
    "        color=colors_DT[2]\n",
    "    )\n",
    "    ax.set_ylabel(\n",
    "        \"Density\",\n",
    "        fontsize=16,\n",
    "        color=colors_DT[2]\n",
    "    )\n",
    "    ax.set_title(\n",
    "        \"Density of the Rating of Taco Bell vs Del Taco (mehs)\",\n",
    "        fontsize=20,\n",
    "        color=colors_DT[2]\n",
    "    )\n",
    "    ax.legend()"
   ]
  },
  {
   "cell_type": "code",
   "execution_count": 46,
   "metadata": {},
   "outputs": [
    {
     "data": {
      "image/png": "[encoded data removed]",
      "text/plain": [
       "<Figure size 1152x648 with 1 Axes>"
      ]
     },
     "metadata": {},
     "output_type": "display_data"
    }
   ],
   "source": [
    "graph_tacos()"
   ]
  },
  {
   "cell_type": "markdown",
   "metadata": {},
   "source": [
    "### 2.A Words)\n",
    "I would say based on the graph that taco bell has more enjoyment than del taco. It seems to be skewed more to the left a bit more whereas del taco seems to be mostly below zero. Both restaurants, however, seem very MEH. Taco Bell seems slightly better meh."
   ]
  },
  {
   "cell_type": "markdown",
   "metadata": {},
   "source": [
    "**Part B:** Compute a 95% confidence interval for the mean enjoyment of Taco Bell meals, and a separate 95% confidence interval for the mean enjoyment of Del Taco meals. You can use Python as a calculator, but the set-up and groundwork for your computation should be in Markdown/MathJax.\n",
    "\n",
    "Based on those confidence intervals, can we conclude that the means are different at the 95% level of confidence?"
   ]
  },
  {
   "cell_type": "markdown",
   "metadata": {},
   "source": [
    "### 2.B Solution)\n",
    "\n",
    "Forumla for a confidence interval:\n",
    "$$\n",
    "CI = \\bar{X} \\pm Z_{\\frac{\\alpha}{2}} * \\frac{\\sigma}{\\sqrt{n}}\n",
    "$$\n",
    "Since we are computing a $95\\%$ confidence interval, $\\alpha = 0.05$.\n",
    "I made some functions below (that I will use for the confidence interval python calculation)."
   ]
  },
  {
   "cell_type": "code",
   "execution_count": 47,
   "metadata": {},
   "outputs": [
    {
     "ename": "NameError",
     "evalue": "name 'tacobell_CI' is not defined",
     "output_type": "error",
     "traceback": [
      "\u001b[1;31m---------------------------------------------------------------------------\u001b[0m",
      "\u001b[1;31mNameError\u001b[0m                                 Traceback (most recent call last)",
      "\u001b[1;32m<ipython-input-47-842f2cc8917a>\u001b[0m in \u001b[0;36m<module>\u001b[1;34m()\u001b[0m\n\u001b[0;32m      4\u001b[0m \u001b[1;33m\u001b[0m\u001b[0m\n\u001b[0;32m      5\u001b[0m \u001b[0mverbose\u001b[0m\u001b[1;33m=\u001b[0m\u001b[1;32mTrue\u001b[0m\u001b[1;33m\u001b[0m\u001b[0m\n\u001b[1;32m----> 6\u001b[1;33m \u001b[0mget_all_values\u001b[0m\u001b[1;33m(\u001b[0m\u001b[1;33m)\u001b[0m\u001b[1;33m\u001b[0m\u001b[0m\n\u001b[0m",
      "\u001b[1;32m<ipython-input-47-842f2cc8917a>\u001b[0m in \u001b[0;36mget_all_values\u001b[1;34m()\u001b[0m\n\u001b[0;32m      1\u001b[0m \u001b[1;32mdef\u001b[0m \u001b[0mget_all_values\u001b[0m\u001b[1;33m(\u001b[0m\u001b[1;33m)\u001b[0m\u001b[1;33m:\u001b[0m\u001b[1;33m\u001b[0m\u001b[0m\n\u001b[1;32m----> 2\u001b[1;33m     \u001b[0mtacobell_CI\u001b[0m\u001b[1;33m(\u001b[0m\u001b[1;33m)\u001b[0m\u001b[1;33m\u001b[0m\u001b[0m\n\u001b[0m\u001b[0;32m      3\u001b[0m     \u001b[0mdeltaco_CI\u001b[0m\u001b[1;33m(\u001b[0m\u001b[1;33m)\u001b[0m\u001b[1;33m\u001b[0m\u001b[0m\n\u001b[0;32m      4\u001b[0m \u001b[1;33m\u001b[0m\u001b[0m\n\u001b[0;32m      5\u001b[0m \u001b[0mverbose\u001b[0m\u001b[1;33m=\u001b[0m\u001b[1;32mTrue\u001b[0m\u001b[1;33m\u001b[0m\u001b[0m\n",
      "\u001b[1;31mNameError\u001b[0m: name 'tacobell_CI' is not defined"
     ]
    }
   ],
   "source": [
    "def get_all_values():\n",
    "    tacobell_CI()\n",
    "    deltaco_CI()\n",
    "\n",
    "verbose=True\n",
    "get_all_values()"
   ]
  },
  {
   "cell_type": "markdown",
   "metadata": {},
   "source": [
    "Continuing on to our formula, For $\\mu$ of Taco Bell:\n",
    "$$\n",
    "\\begin{align*}\n",
    "CI\n",
    "    &= \\bar{X}_{tacobell} \\pm Z_{\\frac{\\alpha}{2}} * \\frac{\\sigma_{tacobell}}{\\sqrt{n_{tacobell}}}\\\\\n",
    "    &= {-0.11369} \\pm 1.96 * \\frac{1.8825}{\\sqrt{100}} \\\\\n",
    "    &= \\left[ {-0.4827}, {0.2553} \\right]\n",
    "\\end{align*}\n",
    "$$\n",
    "\n",
    "For $\\mu$ of Del Taco:\n",
    "$$\n",
    "\\begin{align*}\n",
    "CI\n",
    "    &= \\bar{X}_{deltaco} \\pm Z_{\\frac{\\alpha}{2}} * \\frac{\\sigma_{deltaco}}{\\sqrt{n_{deltaco}}}\\\\\n",
    "    &= {-0.8343} \\pm 1.96 * \\frac{1.9097}{\\sqrt{100}} \\\\\n",
    "    &= \\left[ {-1.2086}, {0.4601} \\right]\n",
    "\\end{align*}\n",
    "$$\n",
    "\n",
    "Therefore, since the confidence intervals fall within each other, we can not say with a $95\\%$ level of confidence that the means are different."
   ]
  },
  {
   "cell_type": "code",
   "execution_count": 48,
   "metadata": {},
   "outputs": [],
   "source": [
    "# confidence interval for taco bell\n",
    "def tacobell_CI():\n",
    "    tacobell_xbar = get_tacobell_mean()\n",
    "    tacobell_stddev = get_tacobell_stddev()\n",
    "    tacobell_n = get_tacobell_ct()\n",
    "    z_crit = get_zcrit1()\n",
    "    CIlower = tacobell_xbar - z_crit * tacobell_stddev/(tacobell_n )**(1/2)\n",
    "    if(verbose):\n",
    "        print(\"Tacobell Lower CI: {}\".format(CIlower))\n",
    "    CIupper = tacobell_xbar + z_crit * tacobell_stddev/(tacobell_n )**(1/2)\n",
    "    if(verbose):\n",
    "        print(\"Tacobell Upper CI: {}\".format(CIupper))    \n",
    "    return CIlower, CIupper\n",
    "\n",
    "# confidence interval for del taco\n",
    "def deltaco_CI():\n",
    "    deltaco_xbar = get_deltaco_mean()\n",
    "    deltaco_stddev = get_deltaco_stddev()\n",
    "    deltaco_n = get_deltaco_ct()\n",
    "    z_crit = get_zcrit1()\n",
    "    CIlower = deltaco_xbar - z_crit * deltaco_stddev/(deltaco_n)**(1/2)\n",
    "    if(verbose):\n",
    "        print(\"Del Taco Lower CI: {}\".format(CIlower))\n",
    "    CIupper = deltaco_xbar + z_crit * deltaco_stddev/(deltaco_n)**(1/2)\n",
    "    if(verbose):\n",
    "        print(\"Del Taco Upper CI: {}\".format(CIupper))\n",
    "    return CIlower, CIupper"
   ]
  },
  {
   "cell_type": "code",
   "execution_count": 49,
   "metadata": {},
   "outputs": [],
   "source": [
    "# taco bell mean\n",
    "def get_tacobell_mean():\n",
    "    tacobell_mean = taco_bell.mean()\n",
    "    if(verbose):\n",
    "        print(\"Taco Bell mean: {}\".format(tacobell_mean))\n",
    "    return tacobell_mean\n",
    "\n",
    "# tacobell std dev\n",
    "def get_tacobell_stddev():\n",
    "    tacobell_stddev = (taco_bell.var(ddof=1))**(1/2)\n",
    "    if(verbose):\n",
    "        print(\"Taco Bell Std Dev: {}\".format(tacobell_stddev))\n",
    "    return tacobell_stddev\n",
    "\n",
    "# taco bell sample size\n",
    "def get_tacobell_ct():\n",
    "    tacobell_n = taco_bell.count()\n",
    "    if(verbose):\n",
    "        print(\"Taco Bell Sample Size: {}\".format(tacobell_n))\n",
    "    return tacobell_n\n",
    "\n",
    "# del taco mean\n",
    "def get_deltaco_mean():\n",
    "    deltaco_mean = del_taco.mean()\n",
    "    if(verbose):\n",
    "        print(\"Del Taco mean: {}\".format(deltaco_mean))\n",
    "    return deltaco_mean\n",
    "\n",
    "# del taco std dev\n",
    "def get_deltaco_stddev():\n",
    "    deltaco_stddev = (del_taco.var(ddof=1))**(1/2)\n",
    "    if(verbose):\n",
    "        print(\"Del Taco Std Dev: {}\".format(deltaco_stddev))\n",
    "    return deltaco_stddev\n",
    "\n",
    "# del taco sample size\n",
    "def get_deltaco_ct():\n",
    "    deltaco_n = del_taco.count()\n",
    "    if(verbose):\n",
    "        print(\"Del Taco Sample Size: {}\".format(deltaco_n))\n",
    "    return deltaco_n\n",
    "\n",
    "\n",
    "def get_zcrit1():\n",
    "    z_crit = stats.norm.ppf(1-(1-0.95)/2)\n",
    "    if(verbose):\n",
    "        print(\"Z Crit: {}\".format(z_crit))\n",
    "    return z_crit"
   ]
  },
  {
   "cell_type": "markdown",
   "metadata": {},
   "source": [
    "**Part C:** Compute a 95% confidence interval for the difference between the mean enjoyment of Taco Bell and Del Taco food. "
   ]
  },
  {
   "cell_type": "markdown",
   "metadata": {},
   "source": [
    "The formula will be similar to the one above but slightly different.\n",
    "\n",
    "$$\n",
    "\\begin{align*}\n",
    "CI\n",
    "    &= \\bar{X}_{tacobell} - \\bar{X}_{deltaco} \\pm Z_{\\frac{\\alpha}{2}} \\times \\left( \\frac{\\sigma_{tacobell}}{\\sqrt{n_{tacobell}}} + \\frac{\\sigma_{deltaco}}{\\sqrt{n_{deltaco}}} \\right) \\\\\n",
    "    &= {-0.11369} - {-0.8343} \\pm 1.96 * \\frac{1.8825}{\\sqrt{100}} + \\frac{1.9097}{\\sqrt{100}} \\\\\n",
    "    &= \\left[ {-0.0226}, {1.4639} \\right]\n",
    "\\end{align*}\n",
    "$$\n"
   ]
  },
  {
   "cell_type": "code",
   "execution_count": 50,
   "metadata": {},
   "outputs": [],
   "source": [
    "# final calculation\n",
    "def del_taco_bell_CI():\n",
    "    tacobell_xbar = get_tacobell_mean()\n",
    "    tacobell_stddev = get_tacobell_stddev()\n",
    "    tacobell_n = get_tacobell_ct()\n",
    "    deltaco_xbar = get_deltaco_mean()\n",
    "    deltaco_stddev = get_deltaco_stddev()\n",
    "    deltaco_n = get_deltaco_ct()\n",
    "    z_crit = get_zcrit1()\n",
    "    CIlower = (tacobell_xbar - deltaco_xbar) - z_crit * ((tacobell_stddev/(tacobell_n )**(1/2)) + (deltaco_stddev/(deltaco_n )**(1/2)))\n",
    "    if(verbose):\n",
    "        print(\"Del Taco Bell Lower CI: {}\".format(CIlower))\n",
    "    CIupper = (tacobell_xbar - deltaco_xbar) + z_crit * ((tacobell_stddev/(tacobell_n )**(1/2)) + (deltaco_stddev/(deltaco_n )**(1/2)))\n",
    "    if(verbose):\n",
    "        print(\"Del Taco Bell Upper CI: {}\".format(CIupper))    \n",
    "    return CIlower, CIupper"
   ]
  },
  {
   "cell_type": "code",
   "execution_count": 51,
   "metadata": {},
   "outputs": [
    {
     "data": {
      "text/plain": [
       "(-0.022592749882435204, 1.4639034868970482)"
      ]
     },
     "execution_count": 51,
     "metadata": {},
     "output_type": "execute_result"
    }
   ],
   "source": [
    "verbose=False\n",
    "del_taco_bell_CI()"
   ]
  },
  {
   "cell_type": "markdown",
   "metadata": {},
   "source": [
    "**Part D:** Comment on how the results from this two-sample confidence interval compare to the results from the separate one-sample confidence intervals. In 1-2 sentences, discuss how these results confirm, disprove, or otherwise relate to your hypothesis from Part A."
   ]
  },
  {
   "cell_type": "markdown",
   "metadata": {},
   "source": [
    "$$\n",
    "\\begin{align*}\n",
    "\\text{Taco Bell CI: } &= \\left[ {-0.4827}, {0.2553} \\right]\\\\\n",
    "\\text{Del Taco CI: } &= \\left[ {-1.2086}, {0.4601} \\right]\\\\\n",
    "\\text{Difference: } &= \\left[ {-0.0226}, {1.4639} \\right]\\\\\n",
    "\\end{align*}\n",
    "$$\n",
    "\n",
    "The mean of Del Taco is lower than that of Taco Bell, however with a $95\\%$ confidence interval, the results disprove my original hypothesis of Taco Bell being better than Del Taco. It seems that the confidence interval of Del Taco is actually (slightly) higher than that of Taco Bell's. So I can reject the null hypothesis that Taco Bell is better than Del Taco."
   ]
  },
  {
   "cell_type": "markdown",
   "metadata": {},
   "source": [
    "---\n",
    "[Back to top](#top)\n",
    "<a id='p3'></a>\n",
    "\n",
    "### [20 points] Problem 3 - Evaluating Vehicle Performance \n",
    "\n",
    "A [1983 study](http://citeseerx.ist.psu.edu/viewdoc/download?doi=10.1.1.34.6358&rep=rep1&type=pdf) evaluated the gas mileage of a variety of cars manufactured between 1970 and 1983. The study also compiled other interesting attributes for each vehicle, but we will focus on the number of cylinders in the engine for this problem. More information on the data is available [here](https://archive.ics.uci.edu/ml/machine-learning-databases/auto-mpg/). Gas mileage is measured in miles-per-gallon, or mpg.\n",
    "\n",
    "**Part A:** Read the data set and store as a Pandas DataFrame. You will need figure out what additional arguments to `pd.read_csv()` must be provided in order to read the data set properly, based on what represents a separation between two columns of data.\n",
    "\n",
    "Then, be sure to give all of the columns informative names, if they do not already have some.\n",
    "\n",
    "Finally, use `drop_na()` to drop any rows with missing values. Missing values are reported with a \"?\"."
   ]
  },
  {
   "cell_type": "code",
   "execution_count": 52,
   "metadata": {},
   "outputs": [
    {
     "data": {
      "text/html": [
       "<div>\n",
       "<style scoped>\n",
       "    .dataframe tbody tr th:only-of-type {\n",
       "        vertical-align: middle;\n",
       "    }\n",
       "\n",
       "    .dataframe tbody tr th {\n",
       "        vertical-align: top;\n",
       "    }\n",
       "\n",
       "    .dataframe thead th {\n",
       "        text-align: right;\n",
       "    }\n",
       "</style>\n",
       "<table border=\"1\" class=\"dataframe\">\n",
       "  <thead>\n",
       "    <tr style=\"text-align: right;\">\n",
       "      <th></th>\n",
       "      <th>mpg</th>\n",
       "      <th>cyls</th>\n",
       "      <th>displ</th>\n",
       "      <th>hp</th>\n",
       "      <th>wt</th>\n",
       "      <th>accel</th>\n",
       "      <th>my</th>\n",
       "      <th>orig</th>\n",
       "      <th>carname</th>\n",
       "    </tr>\n",
       "  </thead>\n",
       "  <tbody>\n",
       "    <tr>\n",
       "      <th>0</th>\n",
       "      <td>18.0</td>\n",
       "      <td>8</td>\n",
       "      <td>307.0</td>\n",
       "      <td>130.0</td>\n",
       "      <td>3504.0</td>\n",
       "      <td>12.0</td>\n",
       "      <td>70</td>\n",
       "      <td>1</td>\n",
       "      <td>chevrolet chevelle malibu</td>\n",
       "    </tr>\n",
       "    <tr>\n",
       "      <th>1</th>\n",
       "      <td>15.0</td>\n",
       "      <td>8</td>\n",
       "      <td>350.0</td>\n",
       "      <td>165.0</td>\n",
       "      <td>3693.0</td>\n",
       "      <td>11.5</td>\n",
       "      <td>70</td>\n",
       "      <td>1</td>\n",
       "      <td>buick skylark 320</td>\n",
       "    </tr>\n",
       "    <tr>\n",
       "      <th>2</th>\n",
       "      <td>18.0</td>\n",
       "      <td>8</td>\n",
       "      <td>318.0</td>\n",
       "      <td>150.0</td>\n",
       "      <td>3436.0</td>\n",
       "      <td>11.0</td>\n",
       "      <td>70</td>\n",
       "      <td>1</td>\n",
       "      <td>plymouth satellite</td>\n",
       "    </tr>\n",
       "    <tr>\n",
       "      <th>3</th>\n",
       "      <td>16.0</td>\n",
       "      <td>8</td>\n",
       "      <td>304.0</td>\n",
       "      <td>150.0</td>\n",
       "      <td>3433.0</td>\n",
       "      <td>12.0</td>\n",
       "      <td>70</td>\n",
       "      <td>1</td>\n",
       "      <td>amc rebel sst</td>\n",
       "    </tr>\n",
       "    <tr>\n",
       "      <th>4</th>\n",
       "      <td>17.0</td>\n",
       "      <td>8</td>\n",
       "      <td>302.0</td>\n",
       "      <td>140.0</td>\n",
       "      <td>3449.0</td>\n",
       "      <td>10.5</td>\n",
       "      <td>70</td>\n",
       "      <td>1</td>\n",
       "      <td>ford torino</td>\n",
       "    </tr>\n",
       "  </tbody>\n",
       "</table>\n",
       "</div>"
      ],
      "text/plain": [
       "    mpg  cyls  displ     hp      wt  accel  my  orig  \\\n",
       "0  18.0     8  307.0  130.0  3504.0   12.0  70     1   \n",
       "1  15.0     8  350.0  165.0  3693.0   11.5  70     1   \n",
       "2  18.0     8  318.0  150.0  3436.0   11.0  70     1   \n",
       "3  16.0     8  304.0  150.0  3433.0   12.0  70     1   \n",
       "4  17.0     8  302.0  140.0  3449.0   10.5  70     1   \n",
       "\n",
       "                     carname  \n",
       "0  chevrolet chevelle malibu  \n",
       "1          buick skylark 320  \n",
       "2         plymouth satellite  \n",
       "3              amc rebel sst  \n",
       "4                ford torino  "
      ]
     },
     "execution_count": 52,
     "metadata": {},
     "output_type": "execute_result"
    }
   ],
   "source": [
    "dfMPG = pd.read_csv(\n",
    "    'auto-mpg.data',\n",
    "    header=None, # we dont want to use a header\n",
    "    sep='\\s+'\n",
    ") # TODO - need extra arguments to read correctly\n",
    "\n",
    "# More processing code should go here!\n",
    "\n",
    "#dfMPG.head()\n",
    "\n",
    "dfMPG.columns=[\n",
    "    \"mpg\", # miles per gallon\n",
    "    \"cyls\", # cyls\n",
    "    \"displ\", # displacement\n",
    "    \"hp\", # horsepower\n",
    "    \"wt\", # weight\n",
    "    \"accel\", # acceleration\n",
    "    \"my\", # model year\n",
    "    \"orig\", # origin\n",
    "    \"carname\"\n",
    "]\n",
    "\n",
    "#dfMPG.head()\n",
    "\n",
    "dfMPG = dfMPG.replace({\"?\":np.nan}) # replace the ? with nan\n",
    "\n",
    "#dfMPG.head()\n",
    "\n",
    "dfMPG.dropna() # drop the ones with nan\n",
    "\n",
    "dfMPG.head()"
   ]
  },
  {
   "cell_type": "markdown",
   "metadata": {},
   "source": [
    "**Part B**: Assuming the data in this sample are representative of cars from the 1970-1983 time period, find a 90% confidence interval for the mean gas mileage (mpg) of all vehicles from this period. Can we conclude that the mean gas mileage is higher than 20 mpg? Be sure to show all calculations in Python. "
   ]
  },
  {
   "cell_type": "markdown",
   "metadata": {},
   "source": [
    "Will format code similar as above problem."
   ]
  },
  {
   "cell_type": "code",
   "execution_count": 53,
   "metadata": {},
   "outputs": [],
   "source": [
    "def calc_mpg_CI():\n",
    "    mpg_mean = get_mpg_mean()\n",
    "    mpg_stddev = get_mpg_stddev()\n",
    "    mpg_ct = get_mpg_ct()\n",
    "    zcrit = get_zcrit2()\n",
    "    CIlower = mpg_mean - zcrit * (mpg_stddev / (mpg_ct)**(1/2))\n",
    "    if(verbose):\n",
    "        print(\"mpg lower CI: {}\".format(CIlower))\n",
    "    CIupper = mpg_mean + zcrit * (mpg_stddev / (mpg_ct)**(1/2))\n",
    "    if(verbose):\n",
    "        print(\"mpg upper CI: {}\".format(CIupper))\n",
    "    return CIlower, CIupper"
   ]
  },
  {
   "cell_type": "code",
   "execution_count": 54,
   "metadata": {},
   "outputs": [],
   "source": [
    "def get_mpg_mean():\n",
    "    mpg_mean = dfMPG[\"mpg\"].mean()\n",
    "    if(verbose):\n",
    "        print(\"mpg mean: {}\".format(mpg_mean))\n",
    "    return mpg_mean\n",
    "\n",
    "def get_mpg_stddev():\n",
    "    mpg_stddev = dfMPG[\"mpg\"].std(ddof=1)\n",
    "    if(verbose):\n",
    "        print(\"mpg std dev: {}\".format(mpg_stddev))\n",
    "    return mpg_stddev\n",
    "\n",
    "def get_mpg_ct():\n",
    "    mpg_ct = len(dfMPG)\n",
    "    if(verbose):\n",
    "        print(\"mpg ct: {}\".format(mpg_ct))\n",
    "    return mpg_ct\n",
    "\n",
    "def get_zcrit2():\n",
    "    zcrit = stats.norm.ppf(1-(1 - 0.90)/2)\n",
    "    if(verbose):\n",
    "        print(\"z crit: {}\".format(zcrit))\n",
    "    return zcrit"
   ]
  },
  {
   "cell_type": "code",
   "execution_count": 55,
   "metadata": {},
   "outputs": [
    {
     "name": "stdout",
     "output_type": "stream",
     "text": [
      "mpg mean: 23.514572864321615\n",
      "mpg std dev: 7.815984312565782\n",
      "mpg ct: 398\n",
      "z crit: 1.6448536269514722\n",
      "mpg lower CI: 22.87015228677714\n",
      "mpg upper CI: 24.158993441866087\n"
     ]
    },
    {
     "data": {
      "text/plain": [
       "(22.87015228677714, 24.158993441866087)"
      ]
     },
     "execution_count": 55,
     "metadata": {},
     "output_type": "execute_result"
    }
   ],
   "source": [
    "verbose=True\n",
    "calc_mpg_CI()"
   ]
  },
  {
   "cell_type": "markdown",
   "metadata": {},
   "source": [
    "### 3.B Confidence)\n",
    "The confidence interval for the MPG:\n",
    "$$\n",
    "\\left[ 22.870, 24.159 \\right]\n",
    "$$\n",
    "\n",
    "Therefore, we can say with a $90\\%$ level of confidence that the gas milage is greater than $20$ mpg. This confirms our null hypothesis that $\\text{mpg} >= 20$"
   ]
  },
  {
   "cell_type": "markdown",
   "metadata": {},
   "source": [
    "**Part C**: You are considering buying a new car, but since [gas prices have recently increased dramatically](https://www.energy.gov/eere/vehicles/fact-915-march-7-2016-average-historical-annual-gasoline-pump-price-1929-2015), you are concerned about getting good fuel economy.\n",
    "\n",
    "Using an appropriate *hypothesis test*, can you conclude at the $\\alpha=0.01$ significance level that the mean gas mileage for vehicles with 4 or 6 cylinder engines is more than 10 mpg better than the mean gas mileage for vehicles with 8 cylinder engines? You may consider two populations here: those vehicles with 4 or 6 cylinders, and those vehicles with 8 cylinders in their engines. Be sure to clearly describe your hypotheses and methodology, and show all relevant computations in Python. "
   ]
  },
  {
   "cell_type": "markdown",
   "metadata": {},
   "source": [
    "### 3.C Math)\n",
    "\n",
    "Establishing some variables first:\n",
    "\n",
    "$$\n",
    "\\begin{align*}\n",
    "\\mu_{4/6 \\text{cyls}} &: \\text{true mean for engines with 4 or 6 cylinders}\\\\\n",
    "\\bar{X}_{4/6 \\text{cyls}} &: \\text{Sample mean for the 4 or 6 cylinder engines}\\\\\n",
    "{s}_{4/6 \\text{cyls}} &: \\text{std dev for the 4 or 6 cylinder engines}\\\\\n",
    "{n}_{4/6 \\text{cyls}} &: \\text{number of 4 or 6 cylinder engines}\\\\\n",
    "\\mu_{8 \\text{cyls}} &: \\text{true mean for engines with 8 cylinders}\\\\\n",
    "\\bar{X}_{8 \\text{cyls}} &: \\text{Sample mean for the 8 cylinder engines}\\\\\n",
    "{s}_{8 \\text{cyls}} &: \\text{std dev for the 8 cylinder engines}\\\\\n",
    "{n}_{8 \\text{cyls}} &: \\text{number of 8 cylinder engines}\\\\\n",
    "\\end{align*}\n",
    "$$\n",
    "\n",
    "The variables look hideous. Anyways lets put them into a formula.\n",
    "\n",
    "$$\n",
    "\\begin{align*}\n",
    "Z\n",
    "    &= \\frac{\\bar{X}_{4/6 \\text{cyls}} - \\bar{X}_{8 \\text{cyls}} - 10}{\\sqrt{\\frac{{{s}_{4/6 \\text{cyls}}}^{2}}{{n}_{4/6 \\text{cyls}}}} + \\sqrt{\\frac{{{s}_{8 \\text{cyls}}}^{2}}{{n}_{8 \\text{cyls}}}}}\n",
    "    = 2.3263\n",
    "\\end{align*}\n",
    "$$\n",
    "\n",
    "The formula looks even more hideous. If there was a way to make them look neater I would appricate the tip."
   ]
  },
  {
   "cell_type": "code",
   "execution_count": 56,
   "metadata": {},
   "outputs": [],
   "source": [
    "def calc_648_CI():\n",
    "    mean4or6 = get_4or6_mean()\n",
    "    var4or6 = get_4or6_var()\n",
    "    ct4or6 = get_4or6_count()\n",
    "    mean8 = get_8_mean()\n",
    "    var8 = get_8_var()\n",
    "    ct8 = get_8_count()\n",
    "    \n",
    "    alpha=0.01\n",
    "    zcrit = get_zcrit3(alpha)\n",
    "    mpg10=10\n",
    "    \n",
    "    testst = (mean4or6-mean8-mpg10)/((var4or6/ct4or6 + var8/ct8)**(1/2))\n",
    "    if(verbose):\n",
    "        print(\"Test Statistic, Z: {}\".format(testst))\n",
    "    \n",
    "    # running the p-test\n",
    "    pval = 1 - stats.norm.cdf(testst)\n",
    "    if(verbose):\n",
    "        print(\"p-value: {}\".format(pval))\n",
    "        \n",
    "    if(pval < alpha):\n",
    "        print(\"We reject the null hypothesis: p value {} is less than alpha {}\".format(pval, alpha))\n",
    "    else:\n",
    "        print(\"We accept the null hypothesis: p value {} is greater than alpha {}\".format(pval, alpha))\n",
    "        \n",
    "    if(zcrit < testst):\n",
    "        print(\"We reject the null hypothesis: Z Critical {} is less than Test Statistic {}\".format(zcrit, testst))\n",
    "    else:\n",
    "        print(\"We accept the null hypothesis: Z Critical {} is greater than Test Statistic {}\".format(zcrit, testst))"
   ]
  },
  {
   "cell_type": "code",
   "execution_count": 57,
   "metadata": {},
   "outputs": [],
   "source": [
    "# 4 or 6 cyls mean\n",
    "def get_4or6_mean():\n",
    "    mean = dfMPG.loc[\n",
    "        (dfMPG.cyls == 4) | (dfMPG.cyls == 6), \n",
    "        \"mpg\"\n",
    "    ].mean()\n",
    "    if(verbose):\n",
    "        print(\"4 or 6 mean: {}\".format(mean))\n",
    "    return mean\n",
    "\n",
    "# 4 or 6 cyls var\n",
    "def get_4or6_var():\n",
    "    var = dfMPG.loc[(dfMPG.cyls == 4) | (dfMPG.cyls == 6), \"mpg\"].var()\n",
    "    if(verbose):\n",
    "        print(\"4 or 6 var: {}\".format(var))\n",
    "    return var\n",
    "\n",
    "# 4 or 6 cyls count\n",
    "def get_4or6_count():\n",
    "    sampnum = np.sum(dfMPG.cyls == 4) + np.sum(dfMPG.cyls == 6)\n",
    "    if(verbose):\n",
    "        print(\"4 or 6 samp num: {}\".format(sampnum))\n",
    "    return sampnum    \n",
    "\n",
    "# 8 cyls mean\n",
    "def get_8_mean():\n",
    "    mean_8 = dfMPG.loc[(dfMPG.cyls == 8), \"mpg\"].mean()\n",
    "    if(verbose):\n",
    "        print(\"mean_8: {}\".format(mean_8))\n",
    "    return mean_8\n",
    "\n",
    "# 4 or 6 cyls var\n",
    "def get_8_var():\n",
    "    var = dfMPG.loc[(dfMPG.cyls == 8), \"mpg\"].var()\n",
    "    if(verbose):\n",
    "        print(\"8 var: {}\".format(var))\n",
    "    return var\n",
    "\n",
    "# 4 or 6 cyls count\n",
    "def get_8_count():\n",
    "    sampnum = np.sum(dfMPG.cyls == 8)\n",
    "    if(verbose):\n",
    "        print(\"8 samp num: {}\".format(sampnum))\n",
    "    return sampnum\n",
    "\n",
    "# z crit\n",
    "def get_zcrit3(alpha):\n",
    "    zcrit = stats.norm.ppf(1 - alpha)\n",
    "    if(verbose):\n",
    "        print(\"zcrit: {}\".format(zcrit))\n",
    "    return zcrit"
   ]
  },
  {
   "cell_type": "code",
   "execution_count": 58,
   "metadata": {},
   "outputs": [
    {
     "name": "stdout",
     "output_type": "stream",
     "text": [
      "4 or 6 mean: 26.57395833333333\n",
      "4 or 6 var: 45.18973758710803\n",
      "4 or 6 samp num: 288\n",
      "mean_8: 14.963106796116508\n",
      "8 var: 8.044507900247483\n",
      "8 samp num: 103\n",
      "zcrit: 2.3263478740408408\n",
      "Test Statistic, Z: 3.3228564373203993\n",
      "p-value: 0.00044550378776453403\n",
      "We reject the null hypothesis: p value 0.00044550378776453403 is less than alpha 0.01\n",
      "We reject the null hypothesis: Z Critical 2.3263478740408408 is less than Test Statistic 3.3228564373203993\n"
     ]
    }
   ],
   "source": [
    "calc_648_CI()"
   ]
  },
  {
   "cell_type": "markdown",
   "metadata": {},
   "source": [
    "---\n",
    "[Back to top](#top)\n",
    "<a id='p4'></a>\n",
    "\n",
    "### [20 points] Problem 4 - Grab bag!\n",
    "\n"
   ]
  },
  {
   "cell_type": "markdown",
   "metadata": {},
   "source": [
    "<img src=\"http://blog.localditch.com/wp-content/uploads/2011/01/sonic4.jpg\" style=\"width: 400px;\"/>\n",
    "\n",
    "**Part A**: You work for an engineering firm that has been hired to construct a corkscrew-shaped looped path for hedgehogs to run on and collect gold rings. Thousands of hedgehogs will run along this path each day, so structural failure means injury or death for many wonderful little creatures. \n",
    "\n",
    "You are in charge of quality control for the average strength of carbon fiber that will be used to construct the corkscrew path. Thinking back fondly to your days in CSCI 3022, you set up a hypothesis test in which your alternative hypothesis is that the strength of the carbon fiber is below tolerance, and therefore unsafe. What is the null hypothesis? Would you rather have a low Type I error rate or a low Type II error rate? Explain."
   ]
  },
  {
   "cell_type": "markdown",
   "metadata": {},
   "source": [
    "### 4.A Things)\n",
    "\n",
    "The null hypothesis is when the strength of the carbon fiber is above the tolerance rating.\n",
    "\n",
    "- Type I error (false positive): The carbon fiber is not safe enough but it is accepted - hedgehogs die.\n",
    "- Type II error (false negative): The carbon fiber is safe but it is rejected - no hedgehogs die.\n",
    "\n",
    "I would rather get a Type II error so no hedgehogs die."
   ]
  },
  {
   "cell_type": "markdown",
   "metadata": {},
   "source": [
    "**Part B**: Amy, the famous hedgehog data scientist, is working for the same engineering firm as you. She is a legend around the office! Word around the water cooler is that out of all of the 95% confidence intervals that Amy has constructed, 931 of them have turned out to actually capture the true population mean. Since Amy is a data science wizard and you can be sure she is constructing her confidence intervals correctly and collecting and using her data honestly, about how many 95% confidence intervals would you expect her to have constructed total? Explain your reasoning fully with words as well as some math."
   ]
  },
  {
   "cell_type": "markdown",
   "metadata": {},
   "source": [
    "### 4.B Totals)\n",
    "Since Amy has hit $931$ true population means with a $95\\%$ confidence interval, this is representative of $95\\%$ of the total test she has conducted.\n",
    "$$\n",
    "\\text{total}= \\frac{931}{0.95} = 980\n",
    "$$"
   ]
  },
  {
   "cell_type": "code",
   "execution_count": 330,
   "metadata": {},
   "outputs": [
    {
     "data": {
      "text/plain": [
       "980.0"
      ]
     },
     "execution_count": 330,
     "metadata": {},
     "output_type": "execute_result"
    }
   ],
   "source": [
    "# QUICK MATHS\n",
    "931/0.95"
   ]
  },
  {
   "cell_type": "markdown",
   "metadata": {},
   "source": [
    "**Part C**: As part of an outreach program, you and Amy are visiting a local elementary school to talk to the students about data science. What a riot! One of the more astute students asks you a question: \"In general, which is wider: a 95% confidence interval or a 99% confidence interval?\"\n",
    "\n",
    "How would you explain this to these young students, who are not fluent in any kind of science? (So, for example, spouting off theory and words like \"mean\" and \"z critical value\" probably won't mean anything to them.)"
   ]
  },
  {
   "cell_type": "markdown",
   "metadata": {},
   "source": [
    "### 4.C for Chocolate)\n",
    "\n",
    "\"\n",
    "Alright kids listen up.\n",
    "Suppose I emptied this party bag of $1000$ pieces of Hershey's fun-sized chocolates on this table (note: i would be prepared and bring a huge bag of chocolate to demonstrate this as I am saying it for dramatic effect).\n",
    "Some of these chocolates are dark chocolates, some have almonds, some are regular milk, and so forth.\n",
    "How do we know what the bag has most of?\n",
    "How do we know what the bag has least of?\n",
    "We can count them all up, but who has time for that?\n",
    "We can take handfulls of the chocolates and this is called a sample.\n",
    "If I were to take a handfull of a chocolates on the table, how much of my favorite (dark chocolate) would I get?\n",
    "If a student with a smaller hand were to do it, how much would they get?\n",
    "If we used a shovel, how much would we get?\n",
    "\n",
    "Lets lay out some obvious observations:\n",
    "1. I can get zero of my favorite (unlikely)\n",
    "2. I can get all of my favorite (unlikely).\n",
    "3. We do not know how much more or less the milk chocolate or almond make up the bag (they can be more or less).\n",
    "\n",
    "I grab a handful from the pile and I get $5$ dark chocolates.\n",
    "\n",
    "We can come to the conclusion:\n",
    "- I am $95\\%$ confident that I will get $4$ or $4$ dark chocolates.\n",
    "- I am $99\\%$ confident that I will get $3$ or $6$ dark chocolates.\n",
    "\n",
    "Having a higher confidence interval will yeild a wider range of outcomes of your favorite chocolate.\n",
    "\""
   ]
  },
  {
   "cell_type": "markdown",
   "metadata": {},
   "source": [
    "**Part D:** You observe a sample of 73 pygmy hedgehogs and find that 49 of them are fantastic pets. Then, you observe a sample of 58 long-eared hedgehogs and find that 51 of them are fantastic pets.\n",
    "\n",
    "Is there statistical evidence at the 0.05 significance level that the true proportion of long-eared hedgehogs that make fantastic pets is 10% higher than the true proportion of pygmy hedgehogs that make fantastic pets? Perform a test that computes and properly interprets a p-value."
   ]
  },
  {
   "cell_type": "code",
   "execution_count": 404,
   "metadata": {},
   "outputs": [
    {
     "data": {
      "text/plain": [
       "0.6712328767123288"
      ]
     },
     "execution_count": 404,
     "metadata": {},
     "output_type": "execute_result"
    }
   ],
   "source": [
    "49/73"
   ]
  },
  {
   "cell_type": "code",
   "execution_count": 405,
   "metadata": {},
   "outputs": [
    {
     "data": {
      "text/plain": [
       "0.8793103448275862"
      ]
     },
     "execution_count": 405,
     "metadata": {},
     "output_type": "execute_result"
    }
   ],
   "source": [
    "51/58"
   ]
  },
  {
   "cell_type": "markdown",
   "metadata": {},
   "source": [
    "haha yes."
   ]
  },
  {
   "cell_type": "markdown",
   "metadata": {},
   "source": [
    "**Part E**: Let $X$ be a normally-distributed random variable representing the difficulty of a homework problem in CSCI 3022. You draw from it more times than you care to count during the Spring 2019 semester and get the following values, stored in the numpy array **toughness**, below. Compute a 90% confidence interval for the _standard deviation_ in problem toughness."
   ]
  },
  {
   "cell_type": "code",
   "execution_count": 59,
   "metadata": {},
   "outputs": [],
   "source": [
    "toughness = np.array([7.7778,6.9459,5.8248,9.1111,6.0180,5.0898,7.0380,8.9273,2.9614,5.8387,6.0231])"
   ]
  },
  {
   "cell_type": "code",
   "execution_count": 408,
   "metadata": {},
   "outputs": [],
   "source": [
    "# formula for ch^2 distribution:  X^2 = (n-1)s^2 / sigma^2\n",
    "# X^2_{1-a/2} <= (n-1)s^2 / sigma^2 <= X^2_{a/2}\n",
    "# << (n-1)s^2 / X^2_{1-a/2} <= sigma^2 <= (n-1)s^2 / X^2_{a/2} >>\n",
    "# [(n-1)s^2 / X^2_{1-a/2}, (n-1)s^2 / X^2_{a/2}]\n",
    "\n",
    "def calc_tough_CI():\n",
    "    ci=0.90\n",
    "    a=1-ci\n",
    "    al= a/2\n",
    "    ar=1-al\n",
    "    # ar, al\n",
    "    tough_stddev = get_tough_stddev() # s\n",
    "    tough_var = get_tough_var() # s^2\n",
    "    tough_ct = get_tough_ct() # n value\n",
    "    \n",
    "    Xl=get_chi_stat(al, tough_ct)\n",
    "    Xr=get_chi_stat(ar, tough_ct)\n",
    "    \n",
    "    CIlower = compute_intvl(tough_ct, tough_var, Xr)\n",
    "    CIlower = (CIlower)**(1/2)\n",
    "    CIupper = compute_intvl(tough_ct, tough_var, Xl)\n",
    "    CIupper = CIupper**(1/2)\n",
    "    \n",
    "    if(verbose):\n",
    "        print(\"{:0.04f} <= {:0.04f} <= {:0.04f}\".format(CIlower, tough_stddev, CIupper))\n",
    "    \n",
    "    return CIlower, CIupper\n",
    "\n",
    "\n",
    "def compute_intvl(n, s2, chi):\n",
    "    intvl = ((n-1) * s2)/chi\n",
    "    return intvl\n",
    "\n",
    "def get_tough_mean():\n",
    "    tough_mean = toughness.mean()\n",
    "    if(verbose):\n",
    "        print(\"tough mean: {}\".format(tough_mean))\n",
    "    return tough_mean\n",
    "\n",
    "def get_tough_var():\n",
    "    tough_stddev = toughness.var(ddof=1)\n",
    "    if(verbose):\n",
    "        print(\"tough var: {}\".format(tough_stddev))\n",
    "    return tough_stddev\n",
    "\n",
    "def get_tough_stddev():\n",
    "    tough_stddev = toughness.std(ddof=1)\n",
    "    if(verbose):\n",
    "        print(\"tough std dev: {}\".format(tough_stddev))\n",
    "    return tough_stddev\n",
    "\n",
    "def get_tough_ct():\n",
    "    tough_ct = len(toughness)\n",
    "    if(verbose):\n",
    "        print(\"tough ct: {}\".format(tough_ct))\n",
    "    return tough_ct\n",
    "\n",
    "def get_chi_stat(a, ct):\n",
    "    Xstat = stats.chi2.ppf(q=a, df=ct-1)\n",
    "    if(verbose):\n",
    "        print(\"X stat: {}\".format(Xstat))\n",
    "    return Xstat"
   ]
  },
  {
   "cell_type": "code",
   "execution_count": 409,
   "metadata": {},
   "outputs": [
    {
     "name": "stdout",
     "output_type": "stream",
     "text": [
      "tough std dev: 1.7519621119294686\n",
      "tough var: 3.069371241636364\n",
      "tough ct: 11\n",
      "X stat: 3.940299136119061\n",
      "X stat: 18.307038053275146\n",
      "1.2948 <= 1.7520 <= 2.7910\n"
     ]
    },
    {
     "data": {
      "text/plain": [
       "(1.294838689983604, 2.7910017777609895)"
      ]
     },
     "execution_count": 409,
     "metadata": {},
     "output_type": "execute_result"
    }
   ],
   "source": [
    "verbose=True\n",
    "calc_tough_CI()"
   ]
  },
  {
   "cell_type": "markdown",
   "metadata": {},
   "source": [
    "---\n",
    "\n",
    "<a id='p5'></a>\n",
    "[Back to top](#top)\n",
    "\n",
    "### [20 points] Problem 5 - Lies, damned lies, and statistics\n",
    "\n",
    "![frazz](http://3.bp.blogspot.com/-SbQUWRfHFXk/VdN8YWAy0WI/AAAAAAAAJLw/Ij5E0CbYk6g/s1600/lies3.gif)\n",
    "\n",
    "Legend of your Data Science prowess has spread o'er the land. You have been contacted by a shadowy organization to assess whether there is statistical evidence for sea-level rise in the area of Key West, Florida. You obtain from the University of Hawaii Sea Level Center's [gigantic repository of sea-level data](https://uhslc.soest.hawaii.edu/data/?rq) the daily mean sea levels file included in the zip folder for this assignment. The columns are, in order, the year, month, day-of-month and measured sea level (in millimeters)."
   ]
  },
  {
   "cell_type": "markdown",
   "metadata": {},
   "source": [
    "**Part A:** Load the data `sealevel_keywest.csv` into a Pandas DataFrame. Rename the columns as something meaningful in the context of this problem. Print to the screen the first 7 rows from your updated DataFrame."
   ]
  },
  {
   "cell_type": "code",
   "execution_count": 97,
   "metadata": {},
   "outputs": [
    {
     "data": {
      "text/html": [
       "<div>\n",
       "<style scoped>\n",
       "    .dataframe tbody tr th:only-of-type {\n",
       "        vertical-align: middle;\n",
       "    }\n",
       "\n",
       "    .dataframe tbody tr th {\n",
       "        vertical-align: top;\n",
       "    }\n",
       "\n",
       "    .dataframe thead th {\n",
       "        text-align: right;\n",
       "    }\n",
       "</style>\n",
       "<table border=\"1\" class=\"dataframe\">\n",
       "  <thead>\n",
       "    <tr style=\"text-align: right;\">\n",
       "      <th></th>\n",
       "      <th>year</th>\n",
       "      <th>month</th>\n",
       "      <th>day</th>\n",
       "      <th>sea level (mm)</th>\n",
       "    </tr>\n",
       "  </thead>\n",
       "  <tbody>\n",
       "    <tr>\n",
       "      <th>0</th>\n",
       "      <td>1913</td>\n",
       "      <td>1</td>\n",
       "      <td>20</td>\n",
       "      <td>1453</td>\n",
       "    </tr>\n",
       "    <tr>\n",
       "      <th>1</th>\n",
       "      <td>1913</td>\n",
       "      <td>1</td>\n",
       "      <td>21</td>\n",
       "      <td>1439</td>\n",
       "    </tr>\n",
       "    <tr>\n",
       "      <th>2</th>\n",
       "      <td>1913</td>\n",
       "      <td>1</td>\n",
       "      <td>22</td>\n",
       "      <td>1444</td>\n",
       "    </tr>\n",
       "    <tr>\n",
       "      <th>3</th>\n",
       "      <td>1913</td>\n",
       "      <td>1</td>\n",
       "      <td>23</td>\n",
       "      <td>1489</td>\n",
       "    </tr>\n",
       "    <tr>\n",
       "      <th>4</th>\n",
       "      <td>1913</td>\n",
       "      <td>1</td>\n",
       "      <td>24</td>\n",
       "      <td>1474</td>\n",
       "    </tr>\n",
       "    <tr>\n",
       "      <th>5</th>\n",
       "      <td>1913</td>\n",
       "      <td>1</td>\n",
       "      <td>25</td>\n",
       "      <td>1442</td>\n",
       "    </tr>\n",
       "    <tr>\n",
       "      <th>6</th>\n",
       "      <td>1913</td>\n",
       "      <td>1</td>\n",
       "      <td>26</td>\n",
       "      <td>1467</td>\n",
       "    </tr>\n",
       "  </tbody>\n",
       "</table>\n",
       "</div>"
      ],
      "text/plain": [
       "   year  month  day  sea level (mm)\n",
       "0  1913      1   20            1453\n",
       "1  1913      1   21            1439\n",
       "2  1913      1   22            1444\n",
       "3  1913      1   23            1489\n",
       "4  1913      1   24            1474\n",
       "5  1913      1   25            1442\n",
       "6  1913      1   26            1467"
      ]
     },
     "execution_count": 97,
     "metadata": {},
     "output_type": "execute_result"
    }
   ],
   "source": [
    "from cycler import cycler\n",
    "\n",
    "dfSK = pd.read_csv(\n",
    "    'sealevel_keywest.csv',\n",
    "    header=None\n",
    ")\n",
    "\n",
    "dfSK.columns=[\n",
    "    \"year\", # year\n",
    "    \"month\", # month\n",
    "    \"day\", # day of month\n",
    "    \"sea level (mm)\", # measured sea level in mm\n",
    "]\n",
    "\n",
    "dfSK.loc[:6]"
   ]
  },
  {
   "cell_type": "code",
   "execution_count": 160,
   "metadata": {},
   "outputs": [],
   "source": [
    "colors5=[\n",
    "    'coral',\n",
    "    'seagreen',\n",
    "    'turquoise',\n",
    "    'aqua'\n",
    "]"
   ]
  },
  {
   "cell_type": "markdown",
   "metadata": {},
   "source": [
    "**Part B:**  Plot the raw time series of sea levels. Be sure to label your axes, including units. For the $x$-axis, place the $x$ tick marks on January 2 of each year that is divisible by 10 (i.e., 1920, 1930, ...), and label with that year. You may need to do additional processing in order to grab these indices. "
   ]
  },
  {
   "cell_type": "code",
   "execution_count": 161,
   "metadata": {},
   "outputs": [],
   "source": [
    "def graph_sealevels():\n",
    "    xmarks = dfSK.index[(dfSK[\"year\"]%10==0) & (dfSK[\"month\"]==1) & (dfSK[\"day\"]==2)]\n",
    "    \n",
    "    fig, ax = plt.subplots(\n",
    "        figsize=(16,9)\n",
    "    )\n",
    "    \n",
    "    ax.set_xticks(xmarks)\n",
    "    \n",
    "    ax.set_xticklabels(\n",
    "        dfSK.loc[xmarks, \"year\"]\n",
    "    )\n",
    "    \n",
    "    dfSK[\"sea level (mm)\"].plot(\n",
    "        linestyle=\"solid\",\n",
    "        linewidth=0.5,\n",
    "        color=colors5[0]\n",
    "    )\n",
    "    \n",
    "    ax.set_ylabel(\n",
    "        \"Measured Sea Level (mm)\",\n",
    "        fontsize=16\n",
    "    )\n",
    "    \n",
    "    ax.set_xlabel(\n",
    "        \"Year\",\n",
    "        fontsize=16\n",
    "    )\n",
    "    \n",
    "    ax.set_title(\n",
    "        \"Sea Level Over Time\",\n",
    "        fontsize=20\n",
    "    )"
   ]
  },
  {
   "cell_type": "code",
   "execution_count": 162,
   "metadata": {},
   "outputs": [
    {
     "data": {
      "image/png": "[encoded data removed]",
      "text/plain": [
       "<Figure size 1152x648 with 1 Axes>"
      ]
     },
     "metadata": {},
     "output_type": "display_data"
    }
   ],
   "source": [
    "graph_sealevels()"
   ]
  },
  {
   "cell_type": "markdown",
   "metadata": {},
   "source": [
    "**Part C:** Your time series plot from Part B should look pretty funky. Namely, there are a bunch of spikes in it! What do you think these spikes represent?\n",
    "\n",
    "Now, clean your data set by doing the following:\n",
    "* Remove any data points associated with these spikes. You may need to look back to some of the earlier in-class notebooks and Pandas tutorials for how to drop data points from a Pandas DataFrame. \n",
    "* Include only the data point from the second day of each month.\n",
    "* Convert the sea-level data from millimeters to feet.\n",
    "\n",
    "Then, make a similar plot to Part B, but of your cleaned data set. Be sure to label axes (including units) and only label January 2 of each year that is divisible by 10."
   ]
  },
  {
   "cell_type": "code",
   "execution_count": 194,
   "metadata": {},
   "outputs": [],
   "source": [
    "def graph_clean_sealevels():\n",
    "    \n",
    "    dfNewSK = get_clean_dfSK() # function that returned the clean data\n",
    "    \n",
    "    # TODO: Include stars from second day of each month\n",
    "    xmarks = dfNewSK.index[\n",
    "        (dfNewSK[\"year\"]%10==0) & (dfNewSK[\"month\"]==1) & (dfNewSK[\"day\"]==2) # year/10, january, 2\n",
    "    ]\n",
    "    \n",
    "    fig, ax = plt.subplots(\n",
    "        figsize=(16,9)\n",
    "    )\n",
    "    \n",
    "    dfNewSK[\"sea level (ft)\"].plot(\n",
    "        linestyle='solid',\n",
    "        #linewidth=2,\n",
    "        color=colors5[1]\n",
    "    )\n",
    "    \n",
    "    ax.set_xticks(xmarks)\n",
    "    \n",
    "    ax.set_xticklabels(\n",
    "        dfNewSK.loc[xmarks, \"year\"]\n",
    "    )\n",
    "    \n",
    "    ax.set_ylabel(\n",
    "        \"Measured Sea Level (ft)\",\n",
    "        fontsize=16\n",
    "    )\n",
    "    \n",
    "    ax.set_xlabel(\n",
    "        \"Year\",\n",
    "        fontsize=16\n",
    "    )\n",
    "    \n",
    "    ax.set_title(\n",
    "        \"Sea Level Over Time\",\n",
    "        fontsize=20\n",
    "    )\n",
    "    \n",
    "    plt.show()\n",
    "    "
   ]
  },
  {
   "cell_type": "code",
   "execution_count": 195,
   "metadata": {},
   "outputs": [],
   "source": [
    "# need to make a function that returns the clean data for next step\n",
    "\n",
    "def get_clean_dfSK():\n",
    "    # copy to new so its easier to work with\n",
    "    dfNewSK = dfSK.copy()\n",
    "    \n",
    "    # TODO: Convert mm to Feet\n",
    "    dfNewSK[\"sea level (mm)\"] = dfNewSK[\"sea level (mm)\"] * 0.00328084 # convert it to feet\n",
    "    dfNewSK.columns=[\n",
    "        \"year\", # year\n",
    "        \"month\", # month\n",
    "        \"day\", # day of month\n",
    "        \"sea level (ft)\", # measured sea level in ft\n",
    "    ]\n",
    "    \n",
    "    # TODO: Remove data points associated with spikes\n",
    "    # identify what we want to remove\n",
    "    dfNewSK_remove = dfNewSK.loc[\n",
    "        dfNewSK[\"sea level (ft)\"] < -20,\n",
    "        \"sea level (ft)\"\n",
    "    ].median()\n",
    "    # replace with nan\n",
    "    dfNewSK.loc[\n",
    "        dfNewSK[\"sea level (ft)\"]==dfNewSK_remove, # if it is eq to our remove value\n",
    "        \"sea level (ft)\"\n",
    "    ] = np.nan\n",
    "    # get rid of all nan values\n",
    "    dfNewSK.dropna(\n",
    "        subset=[\"sea level (ft)\"],\n",
    "        inplace=True\n",
    "    )\n",
    "    \n",
    "    # TODO: only get the second day of each month\n",
    "    day2 = dfNewSK.index[dfNewSK['day']==2] # second days\n",
    "    dfNewSK = dfNewSK.loc[day2, :] # only keep the second days\n",
    "    \n",
    "    return dfNewSK"
   ]
  },
  {
   "cell_type": "code",
   "execution_count": 196,
   "metadata": {},
   "outputs": [
    {
     "data": {
      "image/png": "[encoded data removed]",
      "text/plain": [
       "<Figure size 1152x648 with 1 Axes>"
      ]
     },
     "metadata": {},
     "output_type": "display_data"
    }
   ],
   "source": [
    "\"\"\"\n",
    "dfTest = get_clean_dfSK() # new df to test\n",
    "dfTest.head() # do we get what we want???\n",
    "\"\"\"\n",
    "graph_clean_sealevels()"
   ]
  },
  {
   "cell_type": "markdown",
   "metadata": {},
   "source": [
    "**Part D:** Your mysterious employer owns a lot of beachfront property in Key West and does not want to see people shy away from buying real estate and spending time near the sea. So, they really want to convince others to that the mean sea level in Key West in not increasing. Toward this end, your employer wants to find a decade of data (11 years, including both end points) that has a mean sea level which is not statistically significantly different from the mean sea level in the decade 2000-2010 (including data from both 2000 and 2010). Your employer wants you to use the 99% confidence/1% significance level because it sounds catchy in a press release, and wants the *earliest* decade possible.\n",
    "\n",
    "Use your cleaned monthly data set from Part C to find the earliest decade for which you cannot conclude the mean sea level at Key West was statistically significantly different from the mean sea level in the 2000-2010 decade. You may want to write a helper function to compute the confidence intervals/perform the hypothesis test for you, because there are a LOT of possible 11-year periods to try.\n",
    "\n",
    "You may use either hypothesis tests or confidence intervals, but clearly state which method you will use, your results and show all work that leads to your conclusion. "
   ]
  },
  {
   "cell_type": "code",
   "execution_count": 326,
   "metadata": {},
   "outputs": [],
   "source": [
    "def difference_in_sea_levels():\n",
    "    # confusion?? 2010 - 2000 = 10 year so why does it say a lot of 11 yeear periods to try????????\n",
    "    decade=10\n",
    "    a = 0.99\n",
    "    \n",
    "    # looking at the data, it seems that it starts in 1913. I figured it best to start at next full decade\n",
    "    decade1_start = 1920 # next starting decade\n",
    "    decade1_end = decade1_start + decade\n",
    "    \n",
    "    # modern times\n",
    "    decade2_start=2000\n",
    "    decade2_end=decade2_start + decade\n",
    "    \n",
    "    # getting crazy and trying all of the decades now\n",
    "    decades = [1920, 1930, 1940, 1950, 1960, 1970, 1980, 1990, 2000, 2010]\n",
    "    \n",
    "    for t in range(len(decades) - 1):\n",
    "        D_start = decades[t]\n",
    "        D_end = decades[t+1]\n",
    "        D_CIlower, D_CIupper = calc_sl_CI(D_start, D_end, a)\n",
    "        print(\"{}-{} CI: [{:0.04f}, {:0.04f}]\".format(D_start, D_end, D_CIlower, D_CIupper))\n",
    "    \n",
    "    \n",
    "    D1_CIlower, D1_CIupper = calc_sl_CI(decade1_start, decade1_end, a)\n",
    "    D2_CIlower, D2_CIupper = calc_sl_CI(decade2_start, decade2_end, a)\n",
    "    \n",
    "    print(\"What the question actually asked for...\")\n",
    "    # upset that I just NOW learned i can have the decimals go to a spot ...\n",
    "    print(\"1920-1930 CI: [{:0.04f}, {:0.04f}]\".format(D1_CIlower, D1_CIupper))\n",
    "    print(\"2000-2010 CI: [{:0.04f}, {:0.04f}]\".format(D2_CIlower, D2_CIupper))\n",
    "    \n",
    "    return (D1_CIlower, D1_CIupper) , (D2_CIlower, D2_CIupper)"
   ]
  },
  {
   "cell_type": "code",
   "execution_count": 327,
   "metadata": {},
   "outputs": [],
   "source": [
    "def calc_sl_CI(dstart, dend, a):\n",
    "    sl_mean, sl_stddev, sl_ct = new_df_5D(dstart, dend)\n",
    "    zcrit = get_zcrit5(a)\n",
    "    \n",
    "    CIlower = sl_mean - zcrit * (sl_stddev / (sl_ct)**(1/2))\n",
    "    if(verbose):\n",
    "        print(\"sl lower CI: {}\".format(CIlower))\n",
    "    CIupper = sl_mean + zcrit * (sl_stddev / (sl_ct)**(1/2))\n",
    "    if(verbose):\n",
    "        print(\"sl upper CI: {}\".format(CIupper))\n",
    "    return CIlower, CIupper"
   ]
  },
  {
   "cell_type": "code",
   "execution_count": 328,
   "metadata": {},
   "outputs": [],
   "source": [
    "def new_df_5D(dstart, dend):\n",
    "    dfSK_D = get_clean_dfSK()\n",
    "    dfSK_D = dfSK_D.loc[\n",
    "        (dfSK_D['year'] >= dstart) & (dfSK_D['year'] <= dend), \"sea level (ft)\"\n",
    "    ]\n",
    "    \n",
    "    # get_sl_mean()\n",
    "    sl_mean = dfSK_D.mean()\n",
    "    if(verbose):\n",
    "        print(\"sea level (ft) mean: {}\".format(sl_mean))\n",
    "        \n",
    "    # def get_sl_stddev()\n",
    "    sl_stddev = dfSK_D.std(ddof=1)\n",
    "    if(verbose):\n",
    "        print(\"sea level (ft) std dev: {}\".format(sl_stddev))\n",
    "        \n",
    "    # def get_sl_ct():\n",
    "    sl_ct = len(dfSK_D)\n",
    "    if(verbose):\n",
    "        print(\"sl ct: {}\".format(sl_ct))\n",
    "        \n",
    "    return sl_mean, sl_stddev, sl_ct\n",
    "\n",
    "def get_zcrit5(a):\n",
    "    alpha=1-a\n",
    "    zcrit = stats.norm.ppf(1-(alpha)/2)\n",
    "    if(verbose):\n",
    "        print(\"z crit: {}\".format(zcrit))\n",
    "    return zcrit"
   ]
  },
  {
   "cell_type": "code",
   "execution_count": 329,
   "metadata": {},
   "outputs": [
    {
     "name": "stdout",
     "output_type": "stream",
     "text": [
      "1920-1930 CI: [4.8138, 4.9329]\n",
      "1930-1940 CI: [4.9611, 5.1046]\n",
      "1940-1950 CI: [5.0908, 5.2483]\n",
      "1950-1960 CI: [5.1185, 5.2548]\n",
      "1960-1970 CI: [5.1331, 5.2627]\n",
      "1970-1980 CI: [5.2523, 5.3901]\n",
      "1980-1990 CI: [5.3073, 5.4433]\n",
      "1990-2000 CI: [5.4356, 5.5758]\n",
      "2000-2010 CI: [5.4600, 5.6170]\n",
      "What the question actually asked for...\n",
      "1920-1930 CI: [4.8138, 4.9329]\n",
      "2000-2010 CI: [5.4600, 5.6170]\n"
     ]
    },
    {
     "data": {
      "text/plain": [
       "((4.813817046429425, 4.9328823899064504),\n",
       " (5.459979599726026, 5.617000957793353))"
      ]
     },
     "execution_count": 329,
     "metadata": {},
     "output_type": "execute_result"
    }
   ],
   "source": [
    "verbose=False\n",
    "# t1, t1m, t1s, t1c = new_df_5D(1920, 1930)\n",
    "# t1.head()\n",
    "difference_in_sea_levels()"
   ]
  },
  {
   "cell_type": "markdown",
   "metadata": {},
   "source": [
    "### 5.D Final words)\n",
    "We can say with a $99\\%$ confidence level that the water level has risen from the roaring twenties to modern day times. And that we can REJECT the null hypothesis that the water levels have not been increasing.\n"
   ]
  }
 ],
 "metadata": {
  "kernelspec": {
   "display_name": "Python 3",
   "language": "python",
   "name": "python3"
  },
  "language_info": {
   "codemirror_mode": {
    "name": "ipython",
    "version": 3
   },
   "file_extension": ".py",
   "mimetype": "text/x-python",
   "name": "python",
   "nbconvert_exporter": "python",
   "pygments_lexer": "ipython3",
   "version": "3.6.5"
  }
 },
 "nbformat": 4,
 "nbformat_minor": 2
}
