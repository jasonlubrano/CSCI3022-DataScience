{
 "cells": [
  {
   "cell_type": "markdown",
   "metadata": {},
   "source": [
    "# Notebook 8: More Discrete Random Variables and More Distributions \n",
    "***\n",
    "\n",
    "In this notebook we'll get some more practice identifying and working with the Binomial, Negative Binomial, Geometric, and Poisson distributions. \n",
    "\n",
    "We'll need Numpy and Matplotlib for this notebook, so let's load them.  We'll also probably need SciPy's binom function for computing binomial coefficients as well as Python's factorial function.  "
   ]
  },
  {
   "cell_type": "code",
   "execution_count": 12,
   "metadata": {},
   "outputs": [],
   "source": [
    "import numpy as np \n",
    "import matplotlib.pylab as plt \n",
    "from scipy.special import binom\n",
    "from math import factorial \n",
    "from math import e \n",
    "%matplotlib inline"
   ]
  },
  {
   "cell_type": "markdown",
   "metadata": {},
   "source": [
    "First, lets remember what our discrete distributuins *mean*.\n",
    "\n",
    "Which of these distrubutions deals with Bernoulli trials? Bernoulli trials - success/failure, outcomes are independent\n",
    "\n",
    "1. Binomial - number of success in n independent experiments\n",
    "\n",
    "2. Negative binomial - number of successes untila specified number of successes\n",
    "\n",
    "3. Geometric - number of bernoulli trials until a success\n",
    "\n",
    "4. Poisson - the probability of distibution given number of events in a fixed interval\""
   ]
  },
  {
   "cell_type": "markdown",
   "metadata": {},
   "source": [
    "If:\n",
    "1. Binomial - number of success in n independent experiments:\n",
    "$$\n",
    "x \\text{~} \\text{Bin} \\left( n, p \\right) \\\\\n",
    "n: \\text{ number of trials} \\\\\n",
    "p: \\text{ probability of success} \\\\\n",
    "P \\left( x = k \\right) = {n \\choose k} p^k \\left( 1 - p \\right)^{n-k}\\\\\n",
    "{n \\choose k} = \\frac{n!}{k! \\left( n - k\\right)}!\\\\\n",
    "$$\n",
    "\n",
    "2. Negative binomial - number of successes until a set number of failures / successes\n",
    "$$\n",
    "x \\text{~} \\text{NB}(k, p) \\\\\n",
    "n: \\text{ number of successes} \\\\\n",
    "p: \\text{ probability} \\\\\n",
    "P \\left( x = n \\right) = {n-1 \\choose k-1} p^k \\left( 1 - p \\right)^{n-k}\\\\\n",
    "$$\n",
    "\n",
    "3. Geometric - number of bernoulli trials until a success\n",
    "$$\n",
    "x \\text{~} \\text{GEO} \\left( k, p \\right) \\\\\n",
    "P \\left(x = k \\right) = \\left(1 - p \\right)^{k-1}p\\\\\n",
    "$$\n",
    "\n",
    "4. Poisson - the probability of distibution given number of events in a fixed interval\"\n",
    "$$\n",
    "x \\text{~} \\left( \\lambda \\right)\\\\\n",
    "\\lambda: text{ rate of events}\\\\\n",
    "P \\left( k_{\\text{events in interval}} \\right) = e^{{-\\lambda}} \\frac{\\lambda^{k}}{k!}\n",
    "$$"
   ]
  },
  {
   "cell_type": "markdown",
   "metadata": {},
   "source": [
    "## Exercise 1 - Defective Hard Drives \n",
    "*** \n",
    "\n",
    "A factory manufactures sold state hard drives for Seagate Technology.  Approximately $4\\%$ of hard drives that come off of a particular assembly line are defective. For each of the scenarios below: \n",
    "\n",
    "1. Define an appropriate random variable and distribution for the experiment. \n",
    "2. State the values that the random variable can take on. \n",
    "3. Find the probability that the random variable takes on the value $X = 3$. \n",
    "4. State any assumptions that you need to make \n",
    "\n",
    "**Part A**: Out of 20 drives, $k$ of them are defective. "
   ]
  },
  {
   "cell_type": "code",
   "execution_count": 33,
   "metadata": {},
   "outputs": [],
   "source": [
    "#1. Binomial\n",
    "#2. Values that r.v. can take on: 0, 1, 2... 20\n",
    "#3. n = 20, p = 4%, k= how many defective? 3 nbased on question\n",
    "#4. the probability is the same throughout all the drives"
   ]
  },
  {
   "cell_type": "code",
   "execution_count": 34,
   "metadata": {},
   "outputs": [
    {
     "data": {
      "text/plain": [
       "0.036449853488319195"
      ]
     },
     "execution_count": 34,
     "metadata": {},
     "output_type": "execute_result"
    }
   ],
   "source": [
    "# x ~ bin(n, p)\n",
    "n1a = 20\n",
    "p1a = 0.04\n",
    "k1a = 3\n",
    "\n",
    "(factorial(n1a)/(factorial(k1a) * factorial(n1a - k1a))) * (p1a ** k1a) * (1 - p1a)**(n1a - k1a)"
   ]
  },
  {
   "cell_type": "markdown",
   "metadata": {},
   "source": [
    "**Part B**: The number of defective drives made that day, where the rate of defective parts per day is 10. "
   ]
  },
  {
   "cell_type": "code",
   "execution_count": 4,
   "metadata": {},
   "outputs": [],
   "source": [
    "#1. Poisson: we have a rate of how much defective parts per day\n",
    "#2. Values RV can take on: 0, 1, 2, 3, ... all the drives made in that day (could be infinity)\n",
    "#3. P(x = 3); lambda = 10, k=3\n",
    "#4. rate is constant throughout the day\n",
    "    # each drive's probability of being defective is the same as the other drives"
   ]
  },
  {
   "cell_type": "code",
   "execution_count": 32,
   "metadata": {},
   "outputs": [
    {
     "data": {
      "text/plain": [
       "0.007566654960414146"
      ]
     },
     "execution_count": 32,
     "metadata": {},
     "output_type": "execute_result"
    }
   ],
   "source": [
    "# P(3) poisson\n",
    "l1b = 10\n",
    "k1b = 3\n",
    "(e ** (-l1b)) * (l1b**k1b)/(factorial(k1b))"
   ]
  },
  {
   "cell_type": "markdown",
   "metadata": {},
   "source": [
    "**Part C**: While we observe the assembly line, the first defective drive observed is the $k$th drive observed overall."
   ]
  },
  {
   "cell_type": "code",
   "execution_count": null,
   "metadata": {
    "collapsed": true
   },
   "outputs": [],
   "source": [
    "#1. Geometric - going until a failed drive is found\n",
    "#2. Values: 0, 1, 2 ... all drives made in the day could be the kth drive observed thats defective\n",
    "#3. P(x = 3)\n",
    "#4."
   ]
  },
  {
   "cell_type": "markdown",
   "metadata": {},
   "source": [
    "**Part D**: While we observe the assembly line, the third defective drive observed is the $k$th drive observed overall."
   ]
  },
  {
   "cell_type": "code",
   "execution_count": null,
   "metadata": {
    "collapsed": true
   },
   "outputs": [],
   "source": []
  },
  {
   "cell_type": "markdown",
   "metadata": {},
   "source": [
    "### Exercise 2 - Winning Concert Tickets \n",
    "*** \n",
    "\n",
    "You and a friend want to go to a concert, but unfortunately only one ticket is still available. The man who sells the tickets decides to toss a coin until heads appears. In each toss heads appears with probability $p$, where $0 < p < 1$, independent of each of the previous tosses. If the number of tosses needed is odd, your friend is allowed to buy the ticket; otherwise you can buy it. Would you agree to this arrangement?\n",
    "\n",
    "**Part A**: What discrete distribution would be useful in solving this problem? "
   ]
  },
  {
   "cell_type": "code",
   "execution_count": 14,
   "metadata": {},
   "outputs": [],
   "source": [
    "# Geometric distribution"
   ]
  },
  {
   "cell_type": "markdown",
   "metadata": {},
   "source": [
    "**Part B**: In a minute we'll compute the approximate probability that you win the concert tickets, but before doing so, can you solve this problem by intuition (and a small amount of math)? "
   ]
  },
  {
   "cell_type": "code",
   "execution_count": null,
   "metadata": {
    "collapsed": true
   },
   "outputs": [],
   "source": [
    "#pf1 = p probs friend gets the ticket 1st toss\n",
    "#pm1 = (1 - p) p probs we get it on the second 1st toss"
   ]
  },
  {
   "cell_type": "markdown",
   "metadata": {},
   "source": [
    "**Part C**: Write a Python function that takes in the probability of heads on the coin and returns the probability mass function of the random variable described above.  You can safely assume that nobody wants to stick around for more than 100 coin flips, so only consider up to and including the 100th coin flip.  So, the output of this function should be an array or list of length 100."
   ]
  },
  {
   "cell_type": "code",
   "execution_count": 37,
   "metadata": {},
   "outputs": [],
   "source": [
    "def pmf_geo(p):\n",
    "    \n",
    "    pmf = [((1-p) ** (k - 1)) * p for k in range(1, 101)]\n",
    "    \n",
    "    return pmf "
   ]
  },
  {
   "cell_type": "markdown",
   "metadata": {},
   "source": [
    "**Part D**: Use the function you wrote in **Part C** to estimate the probabilities that your friend or you win the ticket for different values of the bias of the coin.  Use $p = 0.25$, $~p = 0.5$, and $p = 0.75$. "
   ]
  },
  {
   "cell_type": "code",
   "execution_count": 38,
   "metadata": {},
   "outputs": [
    {
     "data": {
      "text/plain": [
       "[0.5,\n",
       " 0.25,\n",
       " 0.125,\n",
       " 0.0625,\n",
       " 0.03125,\n",
       " 0.015625,\n",
       " 0.0078125,\n",
       " 0.00390625,\n",
       " 0.001953125,\n",
       " 0.0009765625,\n",
       " 0.00048828125,\n",
       " 0.000244140625,\n",
       " 0.0001220703125,\n",
       " 6.103515625e-05,\n",
       " 3.0517578125e-05,\n",
       " 1.52587890625e-05,\n",
       " 7.62939453125e-06,\n",
       " 3.814697265625e-06,\n",
       " 1.9073486328125e-06,\n",
       " 9.5367431640625e-07,\n",
       " 4.76837158203125e-07,\n",
       " 2.384185791015625e-07,\n",
       " 1.1920928955078125e-07,\n",
       " 5.960464477539063e-08,\n",
       " 2.9802322387695312e-08,\n",
       " 1.4901161193847656e-08,\n",
       " 7.450580596923828e-09,\n",
       " 3.725290298461914e-09,\n",
       " 1.862645149230957e-09,\n",
       " 9.313225746154785e-10,\n",
       " 4.656612873077393e-10,\n",
       " 2.3283064365386963e-10,\n",
       " 1.1641532182693481e-10,\n",
       " 5.820766091346741e-11,\n",
       " 2.9103830456733704e-11,\n",
       " 1.4551915228366852e-11,\n",
       " 7.275957614183426e-12,\n",
       " 3.637978807091713e-12,\n",
       " 1.8189894035458565e-12,\n",
       " 9.094947017729282e-13,\n",
       " 4.547473508864641e-13,\n",
       " 2.2737367544323206e-13,\n",
       " 1.1368683772161603e-13,\n",
       " 5.684341886080802e-14,\n",
       " 2.842170943040401e-14,\n",
       " 1.4210854715202004e-14,\n",
       " 7.105427357601002e-15,\n",
       " 3.552713678800501e-15,\n",
       " 1.7763568394002505e-15,\n",
       " 8.881784197001252e-16,\n",
       " 4.440892098500626e-16,\n",
       " 2.220446049250313e-16,\n",
       " 1.1102230246251565e-16,\n",
       " 5.551115123125783e-17,\n",
       " 2.7755575615628914e-17,\n",
       " 1.3877787807814457e-17,\n",
       " 6.938893903907228e-18,\n",
       " 3.469446951953614e-18,\n",
       " 1.734723475976807e-18,\n",
       " 8.673617379884035e-19,\n",
       " 4.336808689942018e-19,\n",
       " 2.168404344971009e-19,\n",
       " 1.0842021724855044e-19,\n",
       " 5.421010862427522e-20,\n",
       " 2.710505431213761e-20,\n",
       " 1.3552527156068805e-20,\n",
       " 6.776263578034403e-21,\n",
       " 3.3881317890172014e-21,\n",
       " 1.6940658945086007e-21,\n",
       " 8.470329472543003e-22,\n",
       " 4.235164736271502e-22,\n",
       " 2.117582368135751e-22,\n",
       " 1.0587911840678754e-22,\n",
       " 5.293955920339377e-23,\n",
       " 2.6469779601696886e-23,\n",
       " 1.3234889800848443e-23,\n",
       " 6.617444900424222e-24,\n",
       " 3.308722450212111e-24,\n",
       " 1.6543612251060553e-24,\n",
       " 8.271806125530277e-25,\n",
       " 4.1359030627651384e-25,\n",
       " 2.0679515313825692e-25,\n",
       " 1.0339757656912846e-25,\n",
       " 5.169878828456423e-26,\n",
       " 2.5849394142282115e-26,\n",
       " 1.2924697071141057e-26,\n",
       " 6.462348535570529e-27,\n",
       " 3.2311742677852644e-27,\n",
       " 1.6155871338926322e-27,\n",
       " 8.077935669463161e-28,\n",
       " 4.0389678347315804e-28,\n",
       " 2.0194839173657902e-28,\n",
       " 1.0097419586828951e-28,\n",
       " 5.048709793414476e-29,\n",
       " 2.524354896707238e-29,\n",
       " 1.262177448353619e-29,\n",
       " 6.310887241768095e-30,\n",
       " 3.1554436208840472e-30,\n",
       " 1.5777218104420236e-30,\n",
       " 7.888609052210118e-31]"
      ]
     },
     "execution_count": 38,
     "metadata": {},
     "output_type": "execute_result"
    }
   ],
   "source": [
    "pmf_geo(0.5)"
   ]
  },
  {
   "cell_type": "markdown",
   "metadata": {},
   "source": [
    "### Exercise 3 - Implementing and Sampling the Geometric Distribution \n",
    "***\n",
    "\n",
    "**Part A**: Write a function flips_until_heads that simulates the coin slipping scenario in **Exercise 2**. Your function should take as its sole argument the probability $p$ of flipping Heads for the coin and return the number of flips observed when you find your first Heads.  "
   ]
  },
  {
   "cell_type": "code",
   "execution_count": null,
   "metadata": {
    "collapsed": true
   },
   "outputs": [],
   "source": [
    "coin = np.array([\"H\", \"T\"])\n",
    "\n",
    "def flips_until_heads(p):\n",
    "\n",
    "    # your code goes here!\n",
    "    \n",
    "    return counter"
   ]
  },
  {
   "cell_type": "markdown",
   "metadata": {},
   "source": [
    "**Part B**: Now, run many trials of the experiment and count how many trials result in each value of the random variable.  Make a _density_ histogram of the results, using $p=0.25$. "
   ]
  },
  {
   "cell_type": "code",
   "execution_count": null,
   "metadata": {},
   "outputs": [],
   "source": []
  },
  {
   "cell_type": "markdown",
   "metadata": {},
   "source": [
    "**Part C**: Use the function you wrote in **Exercise 2** to make a bar plot of the probability mass function of $X$.  Does it look like the density histogram from **Part B**?  If not, run your simulation in **Part B** for more trials.  Does the situation improve?  Again, use $p=0.25$ in your codes."
   ]
  },
  {
   "cell_type": "code",
   "execution_count": null,
   "metadata": {
    "collapsed": true
   },
   "outputs": [],
   "source": []
  },
  {
   "cell_type": "markdown",
   "metadata": {},
   "source": [
    "### Exercise 4 - Predicting Space Shuttle Disasters \n",
    "***\n",
    "\n",
    "The space shuttle _Challenger_ disaster occurred in January 1986 when one of six O-rings failed and caused the main fuel tank to explode.  The failure of the O-ring was likely due to the low temperature at the time of the launch.  Further analysis shows that the probability of an O-ring failure as a function of temperature is given by \n",
    "\n",
    "$$\n",
    "p(T) = \\frac{e^{a+bT}}{1 + e^{a+bT}}\n",
    "$$\n",
    "\n",
    "where $a = 5.085$ and $b = -0.1156$, and $T$ is the temperature (in degrees Fahrenheit) at the time of the launch of the shuttle. At the time of the _Challenger_ launch the temperature was $T=31$, corresponding to a probability of O-ring failure of $p(31) = 0.8178$. \n",
    "\n",
    "**Part A**: Let $X$ be the number of failing O-rings at launch temperature $31^{\\circ} F$.  Assume that the failure of each of the six O-rings is independent. What type of probability distribution does $X$ have, and what are the values of its parameters? "
   ]
  },
  {
   "cell_type": "code",
   "execution_count": null,
   "metadata": {
    "collapsed": true
   },
   "outputs": [],
   "source": []
  },
  {
   "cell_type": "markdown",
   "metadata": {},
   "source": [
    "**Part B**: Calculate (by hand) the probability $P(X \\geq 1)$ that at least one O-ring fails."
   ]
  },
  {
   "cell_type": "code",
   "execution_count": null,
   "metadata": {
    "collapsed": true
   },
   "outputs": [],
   "source": []
  },
  {
   "cell_type": "markdown",
   "metadata": {},
   "source": [
    "**Part C**:  Let us assume that all space shuttles will be launched at $81^{\\circ}F$.  With this temperature, the probability of an O-ring failure is equal to $p(81) = 0.0137$. \n",
    "\n",
    "What is the probability that during 23 launches no O-ring will fail, but that at least one O-ring will fail during the 24th launch of the space shuttle? "
   ]
  },
  {
   "cell_type": "code",
   "execution_count": null,
   "metadata": {
    "collapsed": true
   },
   "outputs": [],
   "source": []
  },
  {
   "cell_type": "markdown",
   "metadata": {},
   "source": [
    "**Part D**: What is the probability that no O-ring fails during 24 launches? "
   ]
  },
  {
   "cell_type": "code",
   "execution_count": null,
   "metadata": {
    "collapsed": true
   },
   "outputs": [],
   "source": []
  }
 ],
 "metadata": {
  "kernelspec": {
   "display_name": "Python 3",
   "language": "python",
   "name": "python3"
  },
  "language_info": {
   "codemirror_mode": {
    "name": "ipython",
    "version": 3
   },
   "file_extension": ".py",
   "mimetype": "text/x-python",
   "name": "python",
   "nbconvert_exporter": "python",
   "pygments_lexer": "ipython3",
   "version": "3.7.1"
  }
 },
 "nbformat": 4,
 "nbformat_minor": 2
}
