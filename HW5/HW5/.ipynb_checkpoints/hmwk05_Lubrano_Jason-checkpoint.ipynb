{
 "cells": [
  {
   "cell_type": "markdown",
   "metadata": {},
   "source": [
    "<a id='top'></a>\n",
    "\n",
    "# Homework 5: Bootstrap, Hypothesis Testing and Regression\n",
    "***\n",
    "\n",
    "**Name**: \n",
    "\n",
    "***\n",
    "\n",
    "This assignment is due on Moodle by **5 PM on Friday April 19**. Your solutions to theoretical questions should be done in Markdown/MathJax directly below the associated question.  Your solutions to computational questions should include any specified Python code and results as well as written commentary on your conclusions.  Remember that you are encouraged to discuss the problems with your instructors and classmates, but **you must write all code and solutions on your own**. \n",
    "\n",
    "**NOTES**: \n",
    "\n",
    "- Any relevant data sets should be available under the **Data** module on Canvas, as well as in the zipped folder in which you obtained this assignment. \n",
    "- Do **NOT** load or use any Python packages that are not available in Anaconda 3.6. \n",
    "- Because you can technically evaluate notebook cells in a non-linear order, it's a good idea to do Kernel $\\rightarrow$ Restart & Run All as a check before submitting your solutions.  That way if we need to run your code you will know that it will work as expected. \n",
    "- It is **bad form** to make your reader interpret numerical output from your code.  If a question asks you to compute some value from the data you should show your code output **AND** write a summary of the results in Markdown directly below your code. \n",
    "- You **MUST** leave all of your notebook cells **evaluated** so the graders do not need to re-evaluate them. For 100+ students, this extra time adds up, and makes the graders' lives unnecessarily more difficult.\n",
    "- This probably goes without saying, but... For any question that asks you to calculate something, you **must show all work and justify your answers to receive credit**. Sparse or nonexistent work will receive sparse or nonexistent credit. \n",
    "- Submit only this Jupyter notebook to Canvas.  Do not compress it using tar, rar, zip, etc. \n",
    "\n",
    "---\n",
    "**Shortcuts:**  [Problem 1](#p1) | [Problem 2](#p2) | [Problem 3](#p3) | [Problem 4](#p4) \n",
    "\n",
    "---"
   ]
  },
  {
   "cell_type": "code",
   "execution_count": 1,
   "metadata": {
    "scrolled": true
   },
   "outputs": [],
   "source": [
    "import numpy as np\n",
    "import matplotlib.pyplot as plt\n",
    "import pandas as pd\n",
    "from scipy import stats \n",
    "%matplotlib inline"
   ]
  },
  {
   "cell_type": "markdown",
   "metadata": {},
   "source": [
    "<br>\n",
    "\n",
    "---\n",
    "[Back to top](#top)\n",
    "<a id='p1'></a>\n",
    "\n",
    "### [15 points] Problem 1 - Hypothesis Testing Whether your Co-worker is a Doofus \n",
    "\n",
    "You are working as a Data Scientist for an internet-based hedgehog deliver company. Your co-worker, Daley Jennanigans, is a lovable scamp! Unfortunately, Daley also makes a lot of mistakes throughout the day as the two of you team up to tackle some inference work regarding your company's hedgehog-loving customers. In each case, clearly explain why Daley's hypothesis testing setup or conclusion is incorrect."
   ]
  },
  {
   "cell_type": "markdown",
   "metadata": {},
   "source": [
    "**Part A**: Daley has some data on the characteristics of customers that visited the company's website over the previous month.  He wants to perform an analysis on the proportion of last month's website visitors that bought a hedgehog. Let $X$ be the random variable describing the number of website visitors who bought a hedgehog in the previous month, and suppose that the population proportion of visitors who bought a hedgehog is $p$. Daley is interested to see if the data suggests that more than 20% of website visitors actually buy a hedgehog.  He decides to perform the test with a null hypothesis of $H_0: \\hat{p} = 0.20$. "
   ]
  },
  {
   "cell_type": "markdown",
   "metadata": {},
   "source": [
    "#### 1.A.\n",
    "\n",
    "The null hypothesis should make a statement about a parameter, in our case it is the population proportion. The null hypothesis should always be the control or status quo as well, indicating that there is no change. The null hypothesis should instead be $H_{0} : p = 0.20$, or that the amount of visitors who bought a hedgehog is $20\\%$. The alternative hypothesis would be what Daley is testing, or researching. $H_{a} : p > 0.20$."
   ]
  },
  {
   "cell_type": "markdown",
   "metadata": {},
   "source": [
    "**Part B**: Daley decides instead to do his hypothesis test with a null hypothesis of $H_0: p < 0.20$.  "
   ]
  },
  {
   "cell_type": "markdown",
   "metadata": {},
   "source": [
    "#### 1.B.\n",
    "The null hypothesis should say that there is no change in the amount of people visiting the website. This null hypothesis says that Daley is testing whether 20% (or a greater value) of website visitors bought a hedgehog, but it is also giving the implication that the norm is less |than $20$ percent of visitors that bought a hedgehog."
   ]
  },
  {
   "cell_type": "markdown",
   "metadata": {},
   "source": [
    "**Part C**: Now Daley is finally on track with reasonable hypotheses of $H_0: p = 0.20$ and $H_1: p > 0.20$. Daley computes for the sample proportion a normalized test-statistic of $z = 2.4$ and states that since $z = 2.4 > 0.01$ there is insufficient statistical evidence at the $\\alpha = 0.01$ significance level to conclude that the proportion of customers who buy a hedgehog is greater than 20%."
   ]
  },
  {
   "cell_type": "markdown",
   "metadata": {},
   "source": [
    "#### 1.C.\n",
    "This would not work either. Daley starts off by comparing his Z-test statistic to the normal distribution, but he is implying that $0.01$ on the normal distribution is the same as $\\alpha = 0.01$ and this is not the case. $Z_{\\alpha} \\ne \\alpha$."
   ]
  },
  {
   "cell_type": "code",
   "execution_count": 2,
   "metadata": {},
   "outputs": [
    {
     "name": "stdout",
     "output_type": "stream",
     "text": [
      "ppf = 2.3263478740408408\n"
     ]
    }
   ],
   "source": [
    "z_alpha = 0.01\n",
    "print('ppf = {}'.format(stats.norm.ppf(1 - z_alpha)))"
   ]
  },
  {
   "cell_type": "markdown",
   "metadata": {},
   "source": [
    "**Part D**: Daley is again conducting the hypothesis test of $H_0: p = 0.20$ and $H_1: p > 0.20$, and found the test-statistic $z=2.4$. Daley computes his p-value as:\n",
    "$$\\text{p-value} = \\texttt{stats.norm.cdf(2.4)} = 0.9918$$\n",
    "\n",
    "Since his p-value (0.9918) is greater than the significance level (0.01), Daley again claims that there is insufficient evidence at the 1% significance level to conclude that the proportion of customers who buy a hedgehog is greater than 20%."
   ]
  },
  {
   "cell_type": "markdown",
   "metadata": {},
   "source": [
    "#### 1.D\n",
    "Daley is wrong again. His misunderstanding comes from thinking that he should use $0.9918$ as a value to compare to $0.01$ When running the software, he is calculating the total probability up to $2.4$ when in fact he should be doing the $0.01$ compared to $1-0.9918$. In other words, Daley's null hypothesis would be the same, however his alternative hypothesis is saying $H_a: p < 0.20$. Furthermore, suppose we plotted on a normal distribution, the 'colored in' part would be everything left of that p-value instead of everything that is to the right of it (what we are actually researching!). The values to the right tail give evidence against the null hypothesis.\n",
    "$$\\text{p-value} = \\texttt{1 - stats.norm.cdf(2.4)} = 0.008198$$"
   ]
  },
  {
   "cell_type": "code",
   "execution_count": 3,
   "metadata": {},
   "outputs": [
    {
     "name": "stdout",
     "output_type": "stream",
     "text": [
      "p-value > : 0.16064754883695664\n",
      "p-value < : 0.8393524511630434\n"
     ]
    }
   ],
   "source": [
    "z_test=0.9918\n",
    "print('p-value > : {}'.format(1 - stats.norm.cdf(z_test))) # prob greater than p-val\n",
    "print('p-value < : {}'.format(stats.norm.cdf(z_test))) # prob less than p-val"
   ]
  },
  {
   "cell_type": "markdown",
   "metadata": {},
   "source": [
    "**Part E**: Daley is again conducting the hypothesis test of $H_0: p = 0.20$ and $H_1: p > 0.20$. Suppose he computes a p-value of $0.03$, and then concludes that there is only a 3% probability that the null hypothesis is true. "
   ]
  },
  {
   "cell_type": "markdown",
   "metadata": {},
   "source": [
    "#### 1.E.\n",
    "This is wrong because p-value is the measure of strength of the evidence against the null hypothesis that is provided by the sample data. The p-value is the probability of getting the observed value of the test statsistic, or a value with even greater evidence against $H_0$ if the null hypothesis is true. So the p-value is a probability and it is calculated on the null hypothesis is true."
   ]
  },
  {
   "cell_type": "markdown",
   "metadata": {},
   "source": [
    "<br>\n",
    "\n",
    "---\n",
    "[Back to top](#top)\n",
    "<a id='p2'></a>\n",
    "\n",
    "### [25 points] Problem 2 - Naps vs Coffee for Memory? \n",
    "\n",
    "It is estimated that [about 75% of adults](https://www.ncbi.nlm.nih.gov/pmc/articles/PMC4997286/) in the United States drink coffee. Often, coffee is used to replace the need for sleep. It works alright, or so we think. Let's find out, in this exciting homework problem!\n",
    "\n",
    "[One recent study](https://www.sciencedirect.com/science/article/pii/S1388245703002554) investigated the effects of drinking coffee, taking a nap, and having a [\"coffee-nap\"](https://lifehacker.com/naps-vs-coffee-which-is-better-when-youre-exhausted-1730643671) - the practice of drinking some coffee *and then* having a short nap. The study broke participants up into three groups of 10 participants each, where the groups would have a nap, or have a coffee, or have a coffee-nap, then perform a task where their reaction time was measured. In previous experiments the mean reaction time measurement was found to be approximately normally distributed. The mean reaction times (milliseconds, ms) and standard deviations for the three groups of participants are given in the table below.\n",
    "\n",
    "$$\n",
    "\\begin{array}{c|c|c|c}\n",
    "\\textrm{Group} & \\textrm{Sample Size} & \\textrm{Mean (ms)} & \\textrm{Standard Deviation} \\\\\n",
    "\\hline \n",
    "\\textrm{Coffee+Nap} & 10 & 451.3 & 31.9 \\\\ \n",
    "\\textrm{Coffee} & 10 & 494.2 & 39.6 \\\\ \n",
    "\\textrm{Nap} & 10 & 492.8 & 45.2 \\\\ \n",
    "\\end{array}\n",
    "$$\n",
    "\n",
    "**Part A**: Compute a 95% t-confidence interval for the mean reaction time measurement for participants in each of these three groups. (You should find three separate confidence intervals.) Set up your calculations by hand, and report the results in Markdown/MathJax. Of course, you can and should use Python as a calculator.\n",
    "\n",
    "1. Can you make any conclusions regarding whether coffee, naps or both (coffee-naps) are better for faster reaction times?\n",
    "2. Why did we use a t-distribution?"
   ]
  },
  {
   "cell_type": "markdown",
   "metadata": {},
   "source": [
    "#### 2|.A.\n",
    "Wow, thats actually a lot less adults than I thought. I would have guessed around the $90\\%$ of american adults drink coffee. Anyways$\\ldots$\n",
    "\n",
    "To find the value for the statistic, I used a python function from the library.\n",
    "\n",
    "$$\n",
    "\\texttt{stats.t.ppf(1 - (1-0.95)/2, df=9)} = 2.262\n",
    "$$\n",
    "\n",
    "This value is important because it is the absolute value of the range of the scores. In other words, our math formula looks like this:\n",
    "\n",
    "$$\n",
    "{-2.262} \\lt t \\lt 2.262 \\\\\n",
    "{-2.262} \\lt \\frac{\\bar{X} - \\mu}{\\frac{s}{\\sqrt{n}}} \\lt 2.262 \\\\\n",
    "$$\n",
    "\n",
    "Now we have to plug in our values, do some math, and calculate these things.\n",
    "\n",
    "Coffee + Nap:\n",
    "$$\n",
    "{-2.262} \\lt \\frac{451.3 - \\mu}{\\frac{31.9}{\\sqrt{10}}} \\lt 2.262 \\\\\n",
    "{-2.262} \\left( \\frac{31.9}{\\sqrt{10}} \\right) + 451.3 \\lt \\mu \\lt {2.262} \\left( \\frac{31.9}{\\sqrt{10}} \\right) + 451.3 \\\\\n",
    "428.4801 \\lt \\mu \\lt 474.1199\n",
    "$$\n",
    "\n",
    "Coffee:\n",
    "$$\n",
    "{-2.262} \\lt \\frac{494.2 - \\mu}{\\frac{39.6}{\\sqrt{10}}} \\lt 2.262 \\\\\n",
    "{-2.262} \\left( \\frac{39.6}{\\sqrt{10}} \\right) + 494.2 \\lt \\mu \\lt {2.262} \\left( \\frac{39.6}{\\sqrt{10}} \\right) + 494.2 \\\\\n",
    "465.8719 \\lt \\mu \\lt 522.5281\n",
    "$$\n",
    "\n",
    "Nap:\n",
    "$$\n",
    "{-2.262} \\lt \\frac{492.8 - \\mu}{\\frac{45.2}{\\sqrt{10}}} \\lt 2.262 \\\\\n",
    "{-2.262} \\left( \\frac{45.2}{\\sqrt{10}} \\right) + 492.8 \\lt \\mu \\lt {2.262} \\left( \\frac{45.2}{\\sqrt{10}} \\right) + 492.8 \\\\\n",
    "460.4659 \\lt \\mu \\lt 525.1341\n",
    "$$\n",
    "\n",
    "#### Other Words:\n",
    "1. Conclusions: It seems that drinking coffee and taking a nap have a much improved reaction times. However, there doesnt seem to be much difference between taking a coffee or drinking a nap.\n",
    "\n",
    "2. The reason we use the t-distribution is because we have the estimated standard deviation of the sampling distribution of the sample mean. The test statistic does NOT have the standard normal distribution. It has a t-distribution with $n-1$ degrees of freedom."
   ]
  },
  {
   "cell_type": "code",
   "execution_count": 4,
   "metadata": {},
   "outputs": [
    {
     "data": {
      "text/plain": [
       "2.2621571627409915"
      ]
     },
     "execution_count": 4,
     "metadata": {},
     "output_type": "execute_result"
    }
   ],
   "source": [
    "stats.t.ppf(1 - (1-0.95)/2, df=9)"
   ]
  },
  {
   "cell_type": "code",
   "execution_count": 5,
   "metadata": {},
   "outputs": [
    {
     "name": "stdout",
     "output_type": "stream",
     "text": [
      "Coffee + Nap: (428.48011470011295, 474.1198852998871)\n",
      "Coffee: (465.8718665242781, 522.5281334757218)\n",
      "Nap: (460.46586785094377, 525.1341321490563)\n"
     ]
    }
   ],
   "source": [
    "def get_mci():\n",
    "    n = 10\n",
    "    m1 = 451.3; s1 = 31.9 # coffee + nap\n",
    "    m2 = 494.2; s2 = 39.6 # coffee\n",
    "    m3 = 492.8; s3 = 45.2 # nap\n",
    "    print('Coffee + Nap: {}'.format(mean_confidence_interval(n, m1, s1)))\n",
    "    print('Coffee: {}'.format(mean_confidence_interval(n, m2, s2)))\n",
    "    print('Nap: {}'.format(mean_confidence_interval(n, m3, s3)))\n",
    "    \n",
    "def mean_confidence_interval(n, m, s, conf=0.95):\n",
    "    return stats.t.interval(\n",
    "        alpha=conf, # confidence interval\n",
    "        df=n-1, # degrees of freedom, n-1\n",
    "        loc=m, # mean\n",
    "        scale= (s/(n**(1/2))) # std err\n",
    "    )\n",
    "\n",
    "get_mci()"
   ]
  },
  {
   "cell_type": "markdown",
   "metadata": {},
   "source": [
    "**Part B**: Use a **rejection region hypothesis test** to determine if there sufficient evidence, at the $\\alpha = 0.05$ significance level, to conclude that taking a nap promotes faster reaction time than drinking coffee.  Be sure to clearly explain the test that you're doing and state all hypotheses. Do all computations in Python, and report results.\n",
    "\n",
    "**Note** that the number of degrees of freedom for a two-sample t-test is $df_1 + df_2 = (n_1-1) + (n_2-1) = n_1 + n_2 - 2$ \n",
    "(where $n_1$ and $n_2$ are the number of data points from each of the two samples). All other mechanics are the same as the two-sample z-tests we know and love."
   ]
  },
  {
   "cell_type": "markdown",
   "metadata": {},
   "source": [
    "#### 2.B.\n",
    "Suppose $H_{0}$ is our null hypothesis that says that taking a nap yeilds the same reaction time as drinking coffee, and $H+{a}$ is our alternative hypothesis that claims taking a nap promotes faster reaction times than drinking coffee. In mathematical terms:\n",
    "\n",
    "$$\n",
    "H_{0}: \\mu_{n} = \\mu_{c}\\\\\n",
    "H_{a}: \\mu_{n} < \\mu_{c}\\\\\n",
    "$$\n",
    "\n",
    "To test this, we use:\n",
    "\n",
    "$$\n",
    "T = \\frac{\\bar{X_n} - \\bar{X_c}}{\\sqrt{\\frac{S_n^2}{n_n} + \\frac{S_c^2}{n_c}}}\n",
    "$$\n",
    "\n",
    "Math calculated below. Based on the data, you cannot conclude with a $0.05$ significance level that taking a nap yeilds better results than drinking coffee."
   ]
  },
  {
   "cell_type": "code",
   "execution_count": 56,
   "metadata": {},
   "outputs": [
    {
     "name": "stdout",
     "output_type": "stream",
     "text": [
      "tval: -0.074\n",
      "pval: 0.471\n",
      "talp: -1.734\n",
      "Accept Null Hypothesis\n"
     ]
    }
   ],
   "source": [
    "# normally i dont do math like this but its late and im too tired to make it look nice\n",
    "def twosampttest():\n",
    "    a=0.05\n",
    "    xd=492.8-494.2\n",
    "    s1=(45.2**2)/10\n",
    "    s2=(39.6**2)/10\n",
    "    sd= (s1+s2)**(1/2)\n",
    "    tval = xd / sd\n",
    "    print('tval: {:0.3f}'.format(tval))\n",
    "    \n",
    "    talp=stats.t.ppf(\n",
    "        q=a,\n",
    "        df=18\n",
    "    )\n",
    "    \n",
    "    pval = stats.t.cdf(tval, 18)\n",
    "    print('pval: {:0.3f}'.format(pval))    \n",
    "    print('talp: {:0.3f}'.format(talp))\n",
    "    # found a neat way to write single line if elses\n",
    "    print(\"Reject Null Hypothesis\") if(tval < talp) else print(\"Accept Null Hypothesis\")\n",
    "\n",
    "twosampttest()"
   ]
  },
  {
   "cell_type": "markdown",
   "metadata": {},
   "source": [
    "EXPLINATIONS:\n",
    "* Since our T-test statistic is not less than our t-alpha value, we can not reject the null hypothesis with 95% confidence. Therefore, we can not conlcude that either taking a nap or drinking coffee will improve reaction times."
   ]
  },
  {
   "cell_type": "markdown",
   "metadata": {},
   "source": [
    "**Part C**: Perform an appropriate hypothesis test (you may use either p-values or rejection region) to determine if there is sufficient evidence, at the $\\alpha = 0.05$ significance level, to conclude that taking a coffee-nap promotes faster reaction time than only drinking coffee, or only having a nap. So, there should be two separate hypothesis tests, but they are seeking to show similar results (one for coffee-nap versus coffee-only, and one for coffee-nap versus nap-only). Be sure to clearly explain the test that you're doing and state all hypotheses. Do all computations in Python, and report results."
   ]
  },
  {
   "cell_type": "markdown",
   "metadata": {
    "collapsed": true
   },
   "source": [
    "#### 2.C.\n",
    "\n",
    "First Test:\n",
    "Suppose $H_{0}$ is our null hypothesis that says that taking a coffee-nap yeilds the same reaction time as drinking coffee, and $H+{a}$ is our alternative hypothesis that claims taking a coffee-nap promotes faster reaction times than drinking coffee. In mathematical terms:\n",
    "\n",
    "$$\n",
    "H_{0}: \\mu_{cn} = \\mu_{c} \\\\\n",
    "H_{a}: \\mu_{cn} < \\mu_{c} \\\\\n",
    "$$\n",
    "\n",
    "Second Test:\n",
    "Suppose $H_{0}$ is our null hypothesis that says that taking a coffee-nap yeilds the same reaction time as taking a nap, and $H+{a}$ is our alternative hypothesis that claims taking a coffee-nap promotes faster reaction times than taking a nap. In mathematical terms:\n",
    "\n",
    "$$\n",
    "H_{0}: \\mu_{cn} = \\mu_{n} \\\\\n",
    "H_{a}: \\mu_{cn} < \\mu_{n} \\\\\n",
    "$$\n",
    "\n",
    "\n",
    "Math calculated below. In both cases, you can reject the null hypothesis. Taking a coffee-nap does yeild better results."
   ]
  },
  {
   "cell_type": "code",
   "execution_count": 59,
   "metadata": {},
   "outputs": [],
   "source": [
    "def coffnap_coff():\n",
    "    print(\"Coffee-Nap vs. Coffee: \")\n",
    "    \n",
    "    # alpha val\n",
    "    a=0.05\n",
    "    \n",
    "    # find  tval\n",
    "    xd=451.3-494.2\n",
    "    s1=31.9**2/10\n",
    "    s2=39.6**2/10\n",
    "    sd= (s1+s2)**(1/2)\n",
    "    tval = xd / sd\n",
    "    print('tval: {:0.3f}'.format(tval))\n",
    "    \n",
    "    ## find t alpha\n",
    "    talp=stats.t.ppf(\n",
    "        q=a,\n",
    "        df=18\n",
    "    )\n",
    "    print('talp: {:0.3f}'.format(talp))\n",
    "    \n",
    "    ## find t pval\n",
    "    pval = stats.t.cdf(\n",
    "        x=tval,\n",
    "        df=18\n",
    "    )\n",
    "    print('pval: {:0.3f}'.format(pval))\n",
    "    \n",
    "    # found a neat way to write single line if elses\n",
    "    print(\"Reject Null Hypothesis\") if(talp < pval) else print(\"Accept Null Hypothesis\")"
   ]
  },
  {
   "cell_type": "code",
   "execution_count": 63,
   "metadata": {},
   "outputs": [],
   "source": [
    "def coffnap_nap():\n",
    "    print(\"Coffee-Nap vs. Nap: \")\n",
    "    \n",
    "    # alpha val\n",
    "    a=0.05\n",
    "    \n",
    "    # find  tval\n",
    "    xd=451.3-492.8\n",
    "    s1=31.9**2/10\n",
    "    s2=45.2**2/10\n",
    "    sd= (s1+s2)**(1/2)\n",
    "    tval = xd / sd\n",
    "    print('tval: {:0.3f}'.format(tval))\n",
    "    \n",
    "    ## Find t alpha\n",
    "    talp=stats.t.ppf(\n",
    "        q=a,\n",
    "        df=18\n",
    "    )\n",
    "    print('talp: {:0.3f}'.format(talp))\n",
    "    \n",
    "    ## find t pval\n",
    "    pval = stats.t.cdf(\n",
    "        x=tval,\n",
    "        df=18\n",
    "    )\n",
    "    print('pval: {:0.3f}'.format(pval))\n",
    "    \n",
    "    \n",
    "    # found a neat way to write single line if elses\n",
    "    print(\"Reject Null Hypothesis\") if(talp < pval) else print(\"Accept Null Hypothesis\")"
   ]
  },
  {
   "cell_type": "code",
   "execution_count": 64,
   "metadata": {},
   "outputs": [
    {
     "name": "stdout",
     "output_type": "stream",
     "text": [
      "Coffee-Nap vs. Coffee: \n",
      "tval: -2.668\n",
      "talp: -1.734\n",
      "pval: 0.008\n",
      "Reject Null Hypothesis\n",
      "Coffee-Nap vs. Nap: \n",
      "tval: -2.372\n",
      "talp: -1.734\n",
      "pval: 0.015\n",
      "Reject Null Hypothesis\n"
     ]
    }
   ],
   "source": [
    "coffnap_coff()\n",
    "coffnap_nap()"
   ]
  },
  {
   "cell_type": "markdown",
   "metadata": {},
   "source": [
    "EXPLINATIONS:\n",
    "* In both cases, wefound that taking a coffee-nap is will improve reaction times more than just drinking coffee or taking a nap.\n",
    "\n",
    "1. Coffee-Nap vs Coffee:\n",
    "    * Since the T-alpha value is less than the p-value, we can reject the null hypothesis that taking a coffee-nap is the same as drinking coffee with 95% confidence.\n",
    "    * -1.734 < 0.008 -> REJECT NULL HYPOTHESIS\n",
    "2. Coffee-Nap vs Nap:\n",
    "    * Since the T-alpha value is less than the p-value, we can reject the null hypothesis that taking a coffee-nap is the same as taking a nap with 95% confidence.\n",
    "    * -1.734 < 0.015 -> REJECT NULL HYPOTHESIS"
   ]
  },
  {
   "cell_type": "markdown",
   "metadata": {},
   "source": [
    "**Part D:** Is there sufficient evidence at the 95% confidence (5% significance) level to support claim that the reaction time after a coffee-nap is at least 20 ms faster than the reaction time after a coffee only? Fully justify your answer and show all work demonstrating this conclusion using a **p-value hypothesis test**. "
   ]
  },
  {
   "cell_type": "code",
   "execution_count": null,
   "metadata": {},
   "outputs": [],
   "source": []
  },
  {
   "cell_type": "markdown",
   "metadata": {},
   "source": [
    "**Part E**: Compute a 95% confidence interval for the standard deviation of reaction time for coffee-nap takers. Do all computations in Python, and report the results."
   ]
  },
  {
   "cell_type": "markdown",
   "metadata": {
    "collapsed": true
   },
   "source": [
    "#### 2.E.\n",
    "\n",
    "Chi squared formula:\n",
    "$$\n",
    "P\\left(\\frac{\\left(n-1\\right)s^{2}}{\\chi^2_{\\frac{\\alpha}{2}}} \\le \\sigma^{2} \\le \\frac{\\left(n-1\\right)s^{2}}{\\chi^2_{1-\\frac{\\alpha}{2}}} \\right) = 1 - \\alpha \\\\\n",
    "\\left(\\frac{\\left(n-1\\right)s^{2}}{\\chi^2_{\\frac{\\alpha}{2}}} , \\frac{\\left(n-1\\right)s^{2}}{\\chi^2_{1-\\frac{\\alpha}{2}}} \\right)\n",
    "$$"
   ]
  },
  {
   "cell_type": "code",
   "execution_count": 8,
   "metadata": {},
   "outputs": [
    {
     "name": "stdout",
     "output_type": "stream",
     "text": [
      "chi val = 2.7003894999803584\n"
     ]
    }
   ],
   "source": [
    "def stdintvl():\n",
    "    alpha=0.05/2 # half cus split\n",
    "    n=10\n",
    "    s=31.9**2\n",
    "    chival = stats.chi2.ppf(0.025, 9)\n",
    "    print('chi val = {}'.format(chival))\n",
    "stdintvl()"
   ]
  },
  {
   "cell_type": "markdown",
   "metadata": {},
   "source": [
    "<br>\n",
    "\n",
    "---\n",
    "[Back to top](#top)\n",
    "<a id='p3'></a>\n",
    "\n",
    "### [40 points] Problem 3 - Simple Linear Regression for Science!\n",
    "\n",
    "From [Google Trends](https://trends.google.com/trends/?geo=US) data, it appears that interest in \"science\" in the United States has been waning since about 2004. Interest is measured relative to the maximum rate of Google searches for that term over the time period (so the maximum is 100). \n",
    "\n",
    "**Part A:** Load up the data in `science_interest.csv` into a Pandas DataFrame. Create two new columns:\n",
    "* `year` should be the year associated with that data point, and\n",
    "* `month` should be the month (1-12) associated with that data point.\n",
    "\n",
    "Then, make a **scatter plot** (using `pyplot.scatter`) of all of the data points, showing how interest in \"science\" has evolved over time. Label only the data point associated with January of each even year, and label with the year (and of course be sure to label your axes)."
   ]
  },
  {
   "cell_type": "code",
   "execution_count": 121,
   "metadata": {},
   "outputs": [],
   "source": [
    "science_interest_path = 'science_interest.csv'\n",
    "\n",
    "dfSI = pd.read_csv(\n",
    "        science_interest_path,\n",
    "        header=None,\n",
    "        skiprows=3,\n",
    "        names=['Date', 'interest']\n",
    "    )\n",
    "\n",
    "dfSI.head()\n",
    "\n",
    "colors3=['orange', 'purple','gold']"
   ]
  },
  {
   "cell_type": "code",
   "execution_count": 170,
   "metadata": {},
   "outputs": [],
   "source": [
    "def get_clean_dfSI():\n",
    "    # copyover df to new one\n",
    "    dfSI1 = dfSI.copy()\n",
    "\n",
    "    # dropping null value columns to avoid errors \n",
    "    dfSI1.dropna(inplace = True)\n",
    "\n",
    "    # new data frame with split value columns \n",
    "    new = dfSI1[\"Date\"].str.split(\n",
    "        \"-\",\n",
    "        n=1,\n",
    "        expand=True\n",
    "    )\n",
    "\n",
    "    # making seperate first year column from new data frame \n",
    "    dfSI1['year']= new[0]\n",
    "\n",
    "    # making seperate month num column from new data frame \n",
    "    dfSI1['month']= new[1]\n",
    "    \n",
    "    # make the new columns numerics\n",
    "    dfSI1['month']=pd.to_numeric(dfSI1['month'])\n",
    "    dfSI1['year']=pd.to_numeric(dfSI1['year'])\n",
    "    dfSI1['interest']=pd.to_numeric(dfSI1['interest'])\n",
    "    \n",
    "    dfSI1.to_csv(r'science_interest_CLEAN.csv')\n",
    "    \n",
    "    return dfSI1"
   ]
  },
  {
   "cell_type": "code",
   "execution_count": 291,
   "metadata": {},
   "outputs": [],
   "source": [
    "def graph2A():\n",
    "    # copy over clean df to new one\n",
    "    dfSI1 = get_clean_dfSI()\n",
    "\n",
    "    indxlbl = dfSI1.index[((dfSI1['month']==1) & (dfSI1['year']%2==0))]\n",
    "\n",
    "    fig, ax = plt.subplots(\n",
    "        nrows=1,\n",
    "        ncols=1,\n",
    "        figsize=(16,9)\n",
    "    )\n",
    "\n",
    "    plt.scatter(\n",
    "        range(len(dfSI1['Date'])),\n",
    "        dfSI1['interest'],\n",
    "        color=colors3[2],\n",
    "        edgecolors=colors3[0],\n",
    "        alpha=0.75,\n",
    "        label='Interest Point'\n",
    "    )\n",
    "\n",
    "    ax.set_xlabel(\n",
    "        \"Time per Month\",\n",
    "        fontsize=16,\n",
    "        color=colors3[1]\n",
    "    )\n",
    "    \n",
    "    ax.set_xticks(indxlbl)\n",
    "    \n",
    "    ax.set_xticklabels(\n",
    "        dfSI1.loc[indxlbl, 'year']\n",
    "    )\n",
    "\n",
    "    ax.set_ylabel(\n",
    "        \"Interest in Science\",\n",
    "        fontsize=16,\n",
    "        color=colors3[1]\n",
    "    )\n",
    "\n",
    "    ax.set_title(\n",
    "        \"Scatter Plot of the Interest in Science Over Time per Month\",\n",
    "        fontsize=24,\n",
    "        color=colors3[1]\n",
    "    )\n",
    "    \n",
    "    ax.grid(\n",
    "        alpha=0.1,\n",
    "        color=colors3[1]\n",
    "    )\n",
    "    \n",
    "    ax.set_axisbelow(\n",
    "        True\n",
    "    )\n",
    "\n",
    "    plt.legend()\n",
    "\n",
    "    plt.show()"
   ]
  },
  {
   "cell_type": "code",
   "execution_count": 292,
   "metadata": {},
   "outputs": [
    {
     "data": {
      "image/png": "[encoded data removed]",
      "text/plain": [
       "<Figure size 1152x648 with 1 Axes>"
      ]
     },
     "metadata": {
      "needs_background": "light"
     },
     "output_type": "display_data"
    }
   ],
   "source": [
    "graph2A()"
   ]
  },
  {
   "cell_type": "markdown",
   "metadata": {},
   "source": [
    "**Part B:** These data (and the sea-level data from Homework 4) are a **time series**, where the independent variable is *time* and the dependent quantity is interest in science. One of the central assumptions of linear regression is that the data are observations generated by some process, independently of one another. With time series data, we need to be careful because there could be some other process affecting the output data. In particular, **annual cycles** are patterns that reoccur each year and are frequently present in time series data. For example, seasonal patterns of weather are annual cycles.\n",
    "\n",
    "To see what kind of effect time has, make a **line plot** (using `pyplot.plot`) of the interest in science, as a function of time. Again, include all of the data points and, for the x-axis, label only the tick marks associated with January of even years, and be sure to label your axes."
   ]
  },
  {
   "cell_type": "code",
   "execution_count": 286,
   "metadata": {},
   "outputs": [],
   "source": [
    "def graph2B():\n",
    "    # copy over clean df to new one\n",
    "    dfSI1 = get_clean_dfSI()\n",
    "\n",
    "    indxlbl = dfSI1.index[((dfSI1['month']==1) & (dfSI1['year']%2==0))]\n",
    "\n",
    "    fig, ax = plt.subplots(\n",
    "        nrows=1,\n",
    "        ncols=1,\n",
    "        figsize=(16,9)\n",
    "    )\n",
    "    \n",
    "    plt.plot(\n",
    "        range(len(dfSI1['Date'])),\n",
    "        dfSI['interest'],\n",
    "        color=colors3[2],\n",
    "        label='Interest',\n",
    "        alpha=0.75,\n",
    "        lw=3\n",
    "    )\n",
    "\n",
    "    ax.set_xlabel(\n",
    "        \"Year\",\n",
    "        fontsize=16,\n",
    "        color=colors3[1]\n",
    "    )\n",
    "    \n",
    "    ax.set_xticks(indxlbl)\n",
    "    \n",
    "    ax.set_xticklabels(dfSI1.loc[indxlbl, 'year'])\n",
    "\n",
    "    ax.set_ylabel(\n",
    "        \"Interest in Science\",\n",
    "        fontsize=16,\n",
    "        color=colors3[1]\n",
    "    )\n",
    "\n",
    "    ax.set_title(\n",
    "        \"Line Plot of the Interest in Science over Time\",\n",
    "        fontsize=24,\n",
    "        color=colors3[1]\n",
    "    )\n",
    "    \n",
    "    ax.grid(\n",
    "        alpha=0.1,\n",
    "        color=colors3[1]\n",
    "    )\n",
    "    \n",
    "    ax.set_axisbelow(\n",
    "        True\n",
    "    )\n",
    "\n",
    "    plt.legend()\n",
    "    plt.show()"
   ]
  },
  {
   "cell_type": "code",
   "execution_count": 287,
   "metadata": {},
   "outputs": [
    {
     "data": {
      "image/png": "[encoded data removed]",
      "text/plain": [
       "<Figure size 1152x648 with 1 Axes>"
      ]
     },
     "metadata": {
      "needs_background": "light"
     },
     "output_type": "display_data"
    }
   ],
   "source": [
    "graph2B()"
   ]
  },
  {
   "cell_type": "markdown",
   "metadata": {},
   "source": [
    "**Part C:** Does your plot from Part B suggest that there is some annual cycle to the interest in science? During which months is interest in science highest? What about lowest? Justify your answers using your plot, **and** by computing the mean interest in science for each month. So, compute 12 values and report them in a table. Do **not** just spit out a horizontal list of 12 numbers. That would be yucky to try to read, and we're scientists, dammit.\n",
    "\n",
    "What do you think accounts for the drop(s) in interest in science during those month(s)? Recall that these data are from the United States."
   ]
  },
  {
   "cell_type": "markdown",
   "metadata": {},
   "source": [
    "#### 3.C.\n",
    "(math calculations below)\n",
    "\n",
    "* It seems as though interest in science peaks in January and is fairly popular in September.\n",
    "* The lowest interest in science is in July.\n",
    "\n",
    "Maybe since students are out of school in July they are less inclined to learn science.\n",
    "\n",
    "In September and January students are just coming off a break. They are excited to go back to school. They are learning consistently about various fields of the sciences. Learning and doing experiments must pique the interest of students. During the Summer months, students are out of class. They aren't in class everyday learning about the universe."
   ]
  },
  {
   "cell_type": "code",
   "execution_count": 253,
   "metadata": {},
   "outputs": [],
   "source": [
    "def C3func():\n",
    "    # copy over clean df to new one\n",
    "    dfSI1 = get_clean_dfSI()\n",
    "    \n",
    "    dfSI1.drop(\n",
    "        columns=['Date'],\n",
    "        inplace=True\n",
    "    )\n",
    "    \n",
    "    dfSI1.drop(\n",
    "        columns=['year'],\n",
    "        inplace=True\n",
    "    )\n",
    "    \n",
    "    dfSI1=dfSI1.groupby('month').mean()\n",
    "    \n",
    "    dfSI1.to_csv(r'C3func.csv')\n",
    "    \n",
    "    sidf = 'C3func.csv'\n",
    "\n",
    "    dfSI1 = pd.read_csv(\n",
    "        sidf,\n",
    "        header=None,\n",
    "        skiprows=1,\n",
    "        names=['month', 'interest']\n",
    "    )\n",
    "    \n",
    "    \n",
    "    return(dfSI1)"
   ]
  },
  {
   "cell_type": "code",
   "execution_count": 254,
   "metadata": {},
   "outputs": [
    {
     "data": {
      "text/html": [
       "<div>\n",
       "<style scoped>\n",
       "    .dataframe tbody tr th:only-of-type {\n",
       "        vertical-align: middle;\n",
       "    }\n",
       "\n",
       "    .dataframe tbody tr th {\n",
       "        vertical-align: top;\n",
       "    }\n",
       "\n",
       "    .dataframe thead th {\n",
       "        text-align: right;\n",
       "    }\n",
       "</style>\n",
       "<table border=\"1\" class=\"dataframe\">\n",
       "  <thead>\n",
       "    <tr style=\"text-align: right;\">\n",
       "      <th></th>\n",
       "      <th>month</th>\n",
       "      <th>interest</th>\n",
       "    </tr>\n",
       "  </thead>\n",
       "  <tbody>\n",
       "    <tr>\n",
       "      <th>0</th>\n",
       "      <td>1</td>\n",
       "      <td>60.937500</td>\n",
       "    </tr>\n",
       "    <tr>\n",
       "      <th>1</th>\n",
       "      <td>2</td>\n",
       "      <td>58.562500</td>\n",
       "    </tr>\n",
       "    <tr>\n",
       "      <th>2</th>\n",
       "      <td>3</td>\n",
       "      <td>55.812500</td>\n",
       "    </tr>\n",
       "    <tr>\n",
       "      <th>3</th>\n",
       "      <td>4</td>\n",
       "      <td>55.133333</td>\n",
       "    </tr>\n",
       "    <tr>\n",
       "      <th>4</th>\n",
       "      <td>5</td>\n",
       "      <td>49.733333</td>\n",
       "    </tr>\n",
       "    <tr>\n",
       "      <th>5</th>\n",
       "      <td>6</td>\n",
       "      <td>39.533333</td>\n",
       "    </tr>\n",
       "    <tr>\n",
       "      <th>6</th>\n",
       "      <td>7</td>\n",
       "      <td>36.200000</td>\n",
       "    </tr>\n",
       "    <tr>\n",
       "      <th>7</th>\n",
       "      <td>8</td>\n",
       "      <td>45.466667</td>\n",
       "    </tr>\n",
       "    <tr>\n",
       "      <th>8</th>\n",
       "      <td>9</td>\n",
       "      <td>59.133333</td>\n",
       "    </tr>\n",
       "    <tr>\n",
       "      <th>9</th>\n",
       "      <td>10</td>\n",
       "      <td>56.533333</td>\n",
       "    </tr>\n",
       "    <tr>\n",
       "      <th>10</th>\n",
       "      <td>11</td>\n",
       "      <td>54.000000</td>\n",
       "    </tr>\n",
       "    <tr>\n",
       "      <th>11</th>\n",
       "      <td>12</td>\n",
       "      <td>46.933333</td>\n",
       "    </tr>\n",
       "  </tbody>\n",
       "</table>\n",
       "</div>"
      ],
      "text/plain": [
       "    month   interest\n",
       "0       1  60.937500\n",
       "1       2  58.562500\n",
       "2       3  55.812500\n",
       "3       4  55.133333\n",
       "4       5  49.733333\n",
       "5       6  39.533333\n",
       "6       7  36.200000\n",
       "7       8  45.466667\n",
       "8       9  59.133333\n",
       "9      10  56.533333\n",
       "10     11  54.000000\n",
       "11     12  46.933333"
      ]
     },
     "execution_count": 254,
     "metadata": {},
     "output_type": "execute_result"
    }
   ],
   "source": [
    "C3func()"
   ]
  },
  {
   "cell_type": "markdown",
   "metadata": {},
   "source": [
    "**Part D:** (Spoiler alert!) Since there seems to be an annual cycle, one of the fundamental assumptions of our simple linear regression model is not satisfied. Namely, it is not the case that the model-data residuals, $\\epsilon_i$, are independent of one another.\n",
    "\n",
    "So, we need to process our data a bit further before fitting a regression model. One way to address this is to take the mean of all the data each year and use for analysis the time series of annual mean interest in science. Create a new Pandas DataFrame that consists only of two columns:\n",
    "* `year`, and\n",
    "* `interest`, the mean interest in science from the twelve months in that year."
   ]
  },
  {
   "cell_type": "code",
   "execution_count": 255,
   "metadata": {},
   "outputs": [],
   "source": [
    "def D3func():\n",
    "    # copy over clean df to new one\n",
    "    dfSI1 = get_clean_dfSI()\n",
    "    \n",
    "    dfSI1.drop(\n",
    "        columns=['Date'],\n",
    "        inplace=True\n",
    "    )\n",
    "    \n",
    "    dfSI1.drop(\n",
    "        columns=['month'],\n",
    "        inplace=True\n",
    "    )\n",
    "    \n",
    "    dfSI1=dfSI1.groupby('year').mean()\n",
    "    \n",
    "    dfSI1.to_csv(r'D3func.csv')\n",
    "    \n",
    "    sidf = 'D3func.csv'\n",
    "\n",
    "    dfSI1 = pd.read_csv(\n",
    "        sidf,\n",
    "        header=None,\n",
    "        skiprows=1,\n",
    "        names=['year', 'interest']\n",
    "    )\n",
    "    \n",
    "    return(dfSI1)"
   ]
  },
  {
   "cell_type": "code",
   "execution_count": 256,
   "metadata": {},
   "outputs": [
    {
     "data": {
      "text/html": [
       "<div>\n",
       "<style scoped>\n",
       "    .dataframe tbody tr th:only-of-type {\n",
       "        vertical-align: middle;\n",
       "    }\n",
       "\n",
       "    .dataframe tbody tr th {\n",
       "        vertical-align: top;\n",
       "    }\n",
       "\n",
       "    .dataframe thead th {\n",
       "        text-align: right;\n",
       "    }\n",
       "</style>\n",
       "<table border=\"1\" class=\"dataframe\">\n",
       "  <thead>\n",
       "    <tr style=\"text-align: right;\">\n",
       "      <th></th>\n",
       "      <th>year</th>\n",
       "      <th>interest</th>\n",
       "    </tr>\n",
       "  </thead>\n",
       "  <tbody>\n",
       "    <tr>\n",
       "      <th>0</th>\n",
       "      <td>2004</td>\n",
       "      <td>77.333333</td>\n",
       "    </tr>\n",
       "    <tr>\n",
       "      <th>1</th>\n",
       "      <td>2005</td>\n",
       "      <td>70.250000</td>\n",
       "    </tr>\n",
       "    <tr>\n",
       "      <th>2</th>\n",
       "      <td>2006</td>\n",
       "      <td>63.416667</td>\n",
       "    </tr>\n",
       "    <tr>\n",
       "      <th>3</th>\n",
       "      <td>2007</td>\n",
       "      <td>58.750000</td>\n",
       "    </tr>\n",
       "    <tr>\n",
       "      <th>4</th>\n",
       "      <td>2008</td>\n",
       "      <td>54.166667</td>\n",
       "    </tr>\n",
       "    <tr>\n",
       "      <th>5</th>\n",
       "      <td>2009</td>\n",
       "      <td>52.166667</td>\n",
       "    </tr>\n",
       "    <tr>\n",
       "      <th>6</th>\n",
       "      <td>2010</td>\n",
       "      <td>47.333333</td>\n",
       "    </tr>\n",
       "    <tr>\n",
       "      <th>7</th>\n",
       "      <td>2011</td>\n",
       "      <td>47.333333</td>\n",
       "    </tr>\n",
       "    <tr>\n",
       "      <th>8</th>\n",
       "      <td>2012</td>\n",
       "      <td>44.666667</td>\n",
       "    </tr>\n",
       "    <tr>\n",
       "      <th>9</th>\n",
       "      <td>2013</td>\n",
       "      <td>44.250000</td>\n",
       "    </tr>\n",
       "    <tr>\n",
       "      <th>10</th>\n",
       "      <td>2014</td>\n",
       "      <td>45.583333</td>\n",
       "    </tr>\n",
       "    <tr>\n",
       "      <th>11</th>\n",
       "      <td>2015</td>\n",
       "      <td>45.750000</td>\n",
       "    </tr>\n",
       "    <tr>\n",
       "      <th>12</th>\n",
       "      <td>2016</td>\n",
       "      <td>42.000000</td>\n",
       "    </tr>\n",
       "    <tr>\n",
       "      <th>13</th>\n",
       "      <td>2017</td>\n",
       "      <td>43.166667</td>\n",
       "    </tr>\n",
       "    <tr>\n",
       "      <th>14</th>\n",
       "      <td>2018</td>\n",
       "      <td>40.083333</td>\n",
       "    </tr>\n",
       "    <tr>\n",
       "      <th>15</th>\n",
       "      <td>2019</td>\n",
       "      <td>43.333333</td>\n",
       "    </tr>\n",
       "  </tbody>\n",
       "</table>\n",
       "</div>"
      ],
      "text/plain": [
       "    year   interest\n",
       "0   2004  77.333333\n",
       "1   2005  70.250000\n",
       "2   2006  63.416667\n",
       "3   2007  58.750000\n",
       "4   2008  54.166667\n",
       "5   2009  52.166667\n",
       "6   2010  47.333333\n",
       "7   2011  47.333333\n",
       "8   2012  44.666667\n",
       "9   2013  44.250000\n",
       "10  2014  45.583333\n",
       "11  2015  45.750000\n",
       "12  2016  42.000000\n",
       "13  2017  43.166667\n",
       "14  2018  40.083333\n",
       "15  2019  43.333333"
      ]
     },
     "execution_count": 256,
     "metadata": {},
     "output_type": "execute_result"
    }
   ],
   "source": [
    "D3func()"
   ]
  },
  {
   "cell_type": "markdown",
   "metadata": {},
   "source": [
    "**Part E:** Perform a simple linear regression with `year` as the feature and `interest` as the response (mean annual interest in science).  Report the estimated regression model in the form $Y = \\alpha + \\beta x$. Do all computations in Python. \n",
    "\n",
    "Then make a scatter plot of the mean annual interest in science as a function of year, and overlay the estimated regression line. Label your axes and provide a legend."
   ]
  },
  {
   "cell_type": "code",
   "execution_count": 316,
   "metadata": {},
   "outputs": [],
   "source": [
    "def graph_3E():\n",
    "    # copy over clean df to new one\n",
    "    dfSI1 = D3func()\n",
    "    \n",
    "    fig, ax = plt.subplots(\n",
    "        nrows=1,\n",
    "        ncols=1,\n",
    "        figsize=(16,9)\n",
    "    )\n",
    "\n",
    "    plt.scatter(\n",
    "        dfSI1['year'],\n",
    "        dfSI1['interest'],\n",
    "        color=colors3[2],\n",
    "        edgecolors=colors3[0],\n",
    "        s=100,\n",
    "        alpha=0.75,\n",
    "        label='Interest Point'\n",
    "    )\n",
    "    \n",
    "    # Linear Regress\n",
    "    bhat, ahat, rval, pval, stderr = stats.linregress(dfSI1['year'], dfSI1['interest'])\n",
    "    \n",
    "    print(\"bhat: {}\".format(bhat))\n",
    "    print(\"ahat: {}\".format(ahat))\n",
    "    print(\"rval: {}\".format(rval))\n",
    "    print(\"pval: {}\".format(pval))    \n",
    "    print(\"stderr: {}\".format(stderr))\n",
    "    \n",
    "    ax.plot(\n",
    "        dfSI1['year'],\n",
    "        ahat+bhat*dfSI1['year'],\n",
    "        color=colors3[1],\n",
    "        lw=3,\n",
    "        label='Linregress',\n",
    "        ls='-'\n",
    "    )\n",
    "    \n",
    "    ax.set_xlabel(\n",
    "        \"Year\",\n",
    "        fontsize=16,\n",
    "        color=colors3[1]\n",
    "    )\n",
    "        \n",
    "    ax.set_ylabel(\n",
    "        \"Interest in Science\",\n",
    "        fontsize=16,\n",
    "        color=colors3[1]\n",
    "    )\n",
    "\n",
    "    ax.set_title(\n",
    "        \"Scatter Plot of the Interest in Science Per Year\",\n",
    "        fontsize=24,\n",
    "        color=colors3[1]\n",
    "    )\n",
    "    \n",
    "    ax.grid(\n",
    "        alpha=0.1,\n",
    "        color=colors3[1]\n",
    "    )\n",
    "    \n",
    "    ax.set_axisbelow(\n",
    "        True\n",
    "    )\n",
    "\n",
    "    plt.legend()\n",
    "    plt.show()"
   ]
  },
  {
   "cell_type": "code",
   "execution_count": 317,
   "metadata": {},
   "outputs": [
    {
     "name": "stdout",
     "output_type": "stream",
     "text": [
      "bhat: -2.0285539215686272\n",
      "ahat: 4131.6601715686265\n",
      "rval: -0.8869231508734774\n",
      "pval: 4.677658267995901e-06\n",
      "stderr: 0.2823582638934282\n"
     ]
    },
    {
     "data": {
      "image/png": "[encoded data removed]",
      "text/plain": [
       "<Figure size 1152x648 with 1 Axes>"
      ]
     },
     "metadata": {
      "needs_background": "light"
     },
     "output_type": "display_data"
    }
   ],
   "source": [
    "graph_3E()"
   ]
  },
  {
   "cell_type": "markdown",
   "metadata": {},
   "source": [
    "**Part F**: Give a physical interpretation of the coefficient $\\hat{\\beta}$, estimated from your model. Include addressing whether the relationship between time and interest in science is positive or negative. Fully justify your responses."
   ]
  },
  {
   "cell_type": "markdown",
   "metadata": {
    "collapsed": true
   },
   "source": [
    "#### 3.F.\n",
    "My calculated $\\hat{\\beta}$ value is -2.029. $\\hat{\\beta}$ is the relationship of time and the interest in science. Since the gradient of the fitted regession line in the graph is negative, the relationship between time and science is negative."
   ]
  },
  {
   "cell_type": "markdown",
   "metadata": {},
   "source": [
    "**Part G**: What interest in science does your simple linear regression model predict in the year 2030? What about in 2050? What are potential drawbacks to this model for interest in science?"
   ]
  },
  {
   "cell_type": "markdown",
   "metadata": {
    "collapsed": true
   },
   "source": [
    "#### 3.G.\n",
    "\n",
    "For the year 2030 the interest in science would be $13.696$, and for othe year 2050 the interest is ${-26.875}$. Of course, interest in science will never be negative. This is a drawback to assuming predictions."
   ]
  },
  {
   "cell_type": "code",
   "execution_count": 322,
   "metadata": {},
   "outputs": [
    {
     "name": "stdout",
     "output_type": "stream",
     "text": [
      "2030 Interest: 13.696\n",
      "2050 Interest: -26.875\n"
     ]
    }
   ],
   "source": [
    "bhat=-2.0285539215686272\n",
    "ahat=4131.6601715686265\n",
    "y1 = ahat + bhat*2030\n",
    "print(\"2030 Interest: {:0.03f}\".format(y1))\n",
    "y2 = ahat + bhat*2050\n",
    "print(\"2050 Interest: {:0.03f}\".format(y2))"
   ]
  },
  {
   "cell_type": "markdown",
   "metadata": {},
   "source": [
    "**Part H:** Compute a 66% confidence interval for the slope parameter, $\\beta$, ***by hand***. This means performing all calculations yourself in Python, as opposed to calling a simple Python function that gives you the result. Why is this a confidence interval for $\\beta$ and not for $\\hat{\\beta}$?"
   ]
  },
  {
   "cell_type": "code",
   "execution_count": 449,
   "metadata": {},
   "outputs": [],
   "source": [
    "def H3Conf():\n",
    "    # confidence\n",
    "    conf=0.66\n",
    "    print('conf: {:0.03f}'.format(conf)) if (verbose) else None\n",
    "    \n",
    "    # alpha\n",
    "    alpha=1-conf\n",
    "    print('alpha: {:0.03f}'.format(alpha)) if (verbose) else None\n",
    "    \n",
    "    # get the new data frame\n",
    "    dfSI1 = D3func()\n",
    "    \n",
    "    # Linear Regress\n",
    "    bhat, ahat, rval, pval, stderr = stats.linregress(dfSI1['year'], dfSI1['interest'])\n",
    "    if(verbose):\n",
    "        print(\"bhat: {:0.03f}\".format(bhat))\n",
    "        print(\"ahat: {:0.03f}\".format(ahat))\n",
    "        print(\"rval: {:0.03f}\".format(rval))\n",
    "        print(\"pval: {:0.03f}\".format(pval))    \n",
    "        print(\"stderr: {:0.03f}\".format(stderr))\n",
    "        \n",
    "    x=dfSI1['year']\n",
    "    xmean=x.mean()\n",
    "    y=dfSI1['interest']\n",
    "    ymean=y.mean()\n",
    "    \n",
    "    # calculate ybar\n",
    "    ybar=ahat+bhat*x\n",
    "    \n",
    "    ns=len(ybar)\n",
    "    print('ns: {:0.03f}'.format(ns)) if (verbose) else None\n",
    "    \n",
    "    tcrit = stats.t.ppf(1-alpha/2, df= (ns-2))\n",
    "    print('tcrit: {:0.03f}'.format(tcrit)) if (verbose) else None\n",
    "    \n",
    "    SSE=np.sum((y-ybar)**2)\n",
    "    print('SSE: {:0.03f}'.format(SSE)) if (verbose) else None\n",
    "    SSX=np.sum((x-xmean)**2)\n",
    "    print('SSX: {:0.03f}'.format(SSX)) if (verbose) else None\n",
    "    \n",
    "    sigmahat=(SSE/(len(ybar)-2))**(1/2)\n",
    "    \n",
    "    leftCI = bhat-tcrit * sigmahat/(SSX**(1/2))\n",
    "    rightCI = bhat+tcrit * sigmahat/(SSX**(1/2))\n",
    "    if(verbose):\n",
    "        print(\"leftCI: {:0.03f}\".format(leftCI))\n",
    "        print(\"rightCI: {:0.03f}\".format(rightCI))\n",
    "    return leftCI, rightCI"
   ]
  },
  {
   "cell_type": "code",
   "execution_count": 450,
   "metadata": {},
   "outputs": [
    {
     "name": "stdout",
     "output_type": "stream",
     "text": [
      "conf: 0.660\n",
      "alpha: 0.340\n",
      "bhat: -2.029\n",
      "ahat: 4131.660\n",
      "rval: -0.887\n",
      "pval: 0.000\n",
      "stderr: 0.282\n",
      "ns: 16.000\n",
      "tcrit: 0.988\n",
      "SSE: 379.497\n",
      "SSX: 340.000\n",
      "leftCI: -2.307\n",
      "rightCI: -1.750\n"
     ]
    },
    {
     "data": {
      "text/plain": [
       "(-2.3074770282745694, -1.7496308148626851)"
      ]
     },
     "execution_count": 450,
     "metadata": {},
     "output_type": "execute_result"
    }
   ],
   "source": [
    "verbose=True\n",
    "H3Conf()"
   ]
  },
  {
   "cell_type": "markdown",
   "metadata": {
    "collapsed": true
   },
   "source": [
    "**Part I:** What proportion of the variation in mean annual interest in science is explained by your linear regression model?"
   ]
  },
  {
   "cell_type": "code",
   "execution_count": 445,
   "metadata": {},
   "outputs": [],
   "source": [
    "def I3R2():\n",
    "    # confidence\n",
    "    conf=0.66\n",
    "    print('conf: {:0.03f}'.format(conf)) if (verbose) else None\n",
    "    \n",
    "    # alpha\n",
    "    alpha=1-conf\n",
    "    print('alpha: {:0.03f}'.format(alpha)) if (verbose) else None\n",
    "    \n",
    "    # get the new data frame\n",
    "    dfSI1 = D3func()\n",
    "    \n",
    "    # Linear Regress\n",
    "    bhat, ahat, rval, pval, stderr = stats.linregress(dfSI1['year'], dfSI1['interest'])\n",
    "    if(verbose):\n",
    "        print(\"bhat: {:0.03f}\".format(bhat))\n",
    "        print(\"ahat: {:0.03f}\".format(ahat))\n",
    "        print(\"rval: {:0.03f}\".format(rval))\n",
    "        print(\"pval: {:0.03f}\".format(pval))    \n",
    "        print(\"stderr: {:0.03f}\".format(stderr))\n",
    "        \n",
    "    x=dfSI1['year']\n",
    "    xmean=x.mean()\n",
    "    y=dfSI1['interest']\n",
    "    ymean=y.mean()\n",
    "    \n",
    "    # calculate ybar\n",
    "    ybar=ahat+bhat*x\n",
    "    \n",
    "    ns=len(ybar)\n",
    "    print('ns: {:0.03f}'.format(ns)) if (verbose) else None\n",
    "    \n",
    "    tcrit = stats.t.ppf(1-alpha/2, df= (ns-2))\n",
    "    print('tcrit: {:0.03f}'.format(tcrit)) if (verbose) else None\n",
    "    \n",
    "    SSE=np.sum((y-ybar)**2)\n",
    "    print('SSE: {:0.03f}'.format(SSE)) if (verbose) else None\n",
    "    SSX=np.sum((x-xmean)**2)\n",
    "    print('SSX: {:0.03f}'.format(SSX)) if (verbose) else None\n",
    "    SST=np.sum((y-ymean)**2)\n",
    "    print('SST: {:0.03f}'.format(SST)) if (verbose) else None\n",
    "    \n",
    "    R2=1-(SSE/SST)\n",
    "    print('R2: {:0.03f}'.format(R2)) if (verbose) else None\n",
    "    \n",
    "    return R2"
   ]
  },
  {
   "cell_type": "code",
   "execution_count": 446,
   "metadata": {},
   "outputs": [
    {
     "name": "stdout",
     "output_type": "stream",
     "text": [
      "conf: 0.660\n",
      "alpha: 0.340\n",
      "bhat: -2.029\n",
      "ahat: 4131.660\n",
      "rval: -0.887\n",
      "pval: 0.000\n",
      "stderr: 0.282\n",
      "ns: 16.000\n",
      "tcrit: 0.988\n",
      "SSE: 379.497\n",
      "SSX: 340.000\n",
      "SST: 1778.607\n",
      "R2: 0.787\n"
     ]
    },
    {
     "data": {
      "text/plain": [
       "0.7866326755553352"
      ]
     },
     "execution_count": 446,
     "metadata": {},
     "output_type": "execute_result"
    }
   ],
   "source": [
    "I3R2()"
   ]
  },
  {
   "cell_type": "markdown",
   "metadata": {},
   "source": [
    "**Part J:** Make a scatter plot of the residuals from this simple linear regression model, relative to the annual mean interest data (and be sure to label your axes). Make a conjecture about what kind of additional feature, also based on `year`, should be added to improve the fit of the model. Note that this new model with have your new feature _and_ `year`, making it a _multiple linear regression_ model."
   ]
  },
  {
   "cell_type": "code",
   "execution_count": 530,
   "metadata": {},
   "outputs": [],
   "source": [
    "def graph_3J():\n",
    "    # copy over clean df to new one\n",
    "    dfSI1 = D3func()\n",
    "    \n",
    "    # get the x and y values from the df\n",
    "    x=dfSI1['year']\n",
    "    y=dfSI1['interest']\n",
    "    \n",
    "    # get the regression value\n",
    "    R2=I3R2()\n",
    "    \n",
    "    # Linear Regress\n",
    "    bhat, ahat, rval, pval, stderr = stats.linregress(x, y)\n",
    "    \n",
    "    # calculate ybar\n",
    "    yhat=ahat+bhat*x\n",
    "    \n",
    "    # calculate res\n",
    "    res=y-yhat\n",
    "    \n",
    "    # plots\n",
    "    fig, ax = plt.subplots(\n",
    "        nrows=1,\n",
    "        ncols=1,\n",
    "        figsize=(16,9)\n",
    "    )\n",
    "    \n",
    "    # do the first scatter plot of the res\n",
    "    plt.scatter(\n",
    "        x,\n",
    "        res,\n",
    "        color=colors3[2],\n",
    "        edgecolors=colors3[0],\n",
    "        s=100,\n",
    "        alpha=0.75,\n",
    "        label='Interest Point'\n",
    "    )\n",
    "    \n",
    "    ax.set_xlabel(\n",
    "        \"Year\",\n",
    "        fontsize=16,\n",
    "        color=colors3[1]\n",
    "    )\n",
    "        \n",
    "    ax.set_ylabel(\n",
    "        \"Residual Interest of Science\",\n",
    "        fontsize=16,\n",
    "        color=colors3[1]\n",
    "    )\n",
    "\n",
    "    ax.set_title(\n",
    "        \"Scatter Plot of Residual Interest of Science Per Year\",\n",
    "        fontsize=24,\n",
    "        color=colors3[1]\n",
    "    )\n",
    "    \n",
    "    ax.grid(\n",
    "        alpha=0.1,\n",
    "        color=colors3[1]\n",
    "    )\n",
    "    \n",
    "    ax.set_axisbelow(\n",
    "        True\n",
    "    )\n",
    "    \n",
    "    plt.legend()\n",
    "    plt.show()"
   ]
  },
  {
   "cell_type": "code",
   "execution_count": 531,
   "metadata": {},
   "outputs": [
    {
     "data": {
      "image/png": "[encoded data removed]",
      "text/plain": [
       "<Figure size 1152x648 with 1 Axes>"
      ]
     },
     "metadata": {
      "needs_background": "light"
     },
     "output_type": "display_data"
    }
   ],
   "source": [
    "verbose = False\n",
    "graph_3J()"
   ]
  },
  {
   "cell_type": "markdown",
   "metadata": {},
   "source": [
    "#### 5.J.\n",
    "This looks like a quadratic function. A formula that can explain this is:\n",
    "$$\n",
    "\\text{residual interest} = \\text{year}^2\n",
    "$$"
   ]
  },
  {
   "cell_type": "markdown",
   "metadata": {},
   "source": [
    "<br>\n",
    "\n",
    "---\n",
    "[Back to top](#top)\n",
    "<a id='p4'></a>\n",
    "\n",
    "### [20 points] Problem 4 - Choose-Your-Own Simple Linear Regression Adventure\n",
    "\n",
    "The interest in science data from the previous problem was from [Google Trends](https://trends.google.com/trends/?geo=US). From that main page, you can enter a particular search term and view the interest in that term over time. By default, the data displayed will be weekly data for the past year. You can ask for different time periods or regions as well (my link above defaults to the United States).\n",
    "\n",
    "**Part A:** Download data from Google Trends for a search term, region and time period of your choice. (Alternatively, you can also use data from whatever source you would like, as long as it is a time series.) Then:\n",
    "* clearly state what your search term, region and time period are (or fully describe your other data set),\n",
    "* load your data as a Pandas DataFrame, and\n",
    "* make a plot of the data over the entire time frame. Be sure to label your axes clearly.\n",
    "\n",
    "**NOTE:** be sure to **leave your plot cell executed** because you are not asked to host the data or provide the data set with the homework submission. If your plot is not readily visible when we open your notebook for grading, then you can earn a maximum of 10 points for this problem. "
   ]
  },
  {
   "cell_type": "markdown",
   "metadata": {
    "collapsed": true
   },
   "source": [
    "### KUNG FU CINEMA IN THE US\n",
    "\n",
    "* Search Term: Kung Fu Movies\n",
    "\n",
    "* Time: Jan 1, 2004 - Present\n",
    "\n",
    "How is the Kung Fu Cinema changing overtime in the US? Unfortunately, I wont be able to fully study the science because the golden age of Kung Fu films in the US was in the $60$s-$70$s. As a huge kung fu movie fan, this would be very interesting."
   ]
  },
  {
   "cell_type": "code",
   "execution_count": 582,
   "metadata": {},
   "outputs": [],
   "source": [
    "# file\n",
    "kung_fu_path = 'kungfucinema.csv'\n",
    "\n",
    "# put in data frame\n",
    "dfKF = pd.read_csv(\n",
    "        kung_fu_path,\n",
    "        header=None,\n",
    "        skiprows=3,\n",
    "        names=['Date', 'interest']\n",
    "    )\n",
    "\n",
    "# theme colors\n",
    "colors4=['orange','red','gold']"
   ]
  },
  {
   "cell_type": "code",
   "execution_count": 583,
   "metadata": {},
   "outputs": [],
   "source": [
    "def get_clean_dfKF():\n",
    "    # copyover df to new one\n",
    "    dfKF1 = dfKF.copy()\n",
    "\n",
    "    # dropping null value columns to avoid errors \n",
    "    dfKF1.dropna(inplace = True)\n",
    "\n",
    "    # new data frame with split value columns \n",
    "    new = dfKF1[\"Date\"].str.split(\n",
    "        \"-\",\n",
    "        n=1,\n",
    "        expand=True\n",
    "    )\n",
    "\n",
    "    # making seperate first year column from new data frame \n",
    "    dfKF1['year']= new[0]\n",
    "\n",
    "    # making seperate month num column from new data frame \n",
    "    dfKF1['month']= new[1]\n",
    "    \n",
    "    # make the new columns numerics\n",
    "    dfKF1['month']=pd.to_numeric(dfKF1['month'])\n",
    "    dfKF1['year']=pd.to_numeric(dfKF1['year'])\n",
    "    dfKF1['interest']=pd.to_numeric(dfKF1['interest'])\n",
    "    \n",
    "    # write it to the clean dataframe for reference\n",
    "    dfKF1.to_csv('kungfucinema_CLEAN.csv')\n",
    "    \n",
    "    return dfKF1"
   ]
  },
  {
   "cell_type": "code",
   "execution_count": 584,
   "metadata": {},
   "outputs": [
    {
     "data": {
      "text/html": [
       "<div>\n",
       "<style scoped>\n",
       "    .dataframe tbody tr th:only-of-type {\n",
       "        vertical-align: middle;\n",
       "    }\n",
       "\n",
       "    .dataframe tbody tr th {\n",
       "        vertical-align: top;\n",
       "    }\n",
       "\n",
       "    .dataframe thead th {\n",
       "        text-align: right;\n",
       "    }\n",
       "</style>\n",
       "<table border=\"1\" class=\"dataframe\">\n",
       "  <thead>\n",
       "    <tr style=\"text-align: right;\">\n",
       "      <th></th>\n",
       "      <th>Date</th>\n",
       "      <th>interest</th>\n",
       "      <th>year</th>\n",
       "      <th>month</th>\n",
       "    </tr>\n",
       "  </thead>\n",
       "  <tbody>\n",
       "    <tr>\n",
       "      <th>0</th>\n",
       "      <td>2004-01</td>\n",
       "      <td>19</td>\n",
       "      <td>2004</td>\n",
       "      <td>1</td>\n",
       "    </tr>\n",
       "    <tr>\n",
       "      <th>1</th>\n",
       "      <td>2004-02</td>\n",
       "      <td>12</td>\n",
       "      <td>2004</td>\n",
       "      <td>2</td>\n",
       "    </tr>\n",
       "    <tr>\n",
       "      <th>2</th>\n",
       "      <td>2004-03</td>\n",
       "      <td>14</td>\n",
       "      <td>2004</td>\n",
       "      <td>3</td>\n",
       "    </tr>\n",
       "    <tr>\n",
       "      <th>3</th>\n",
       "      <td>2004-04</td>\n",
       "      <td>22</td>\n",
       "      <td>2004</td>\n",
       "      <td>4</td>\n",
       "    </tr>\n",
       "    <tr>\n",
       "      <th>4</th>\n",
       "      <td>2004-05</td>\n",
       "      <td>24</td>\n",
       "      <td>2004</td>\n",
       "      <td>5</td>\n",
       "    </tr>\n",
       "  </tbody>\n",
       "</table>\n",
       "</div>"
      ],
      "text/plain": [
       "      Date  interest  year  month\n",
       "0  2004-01        19  2004      1\n",
       "1  2004-02        12  2004      2\n",
       "2  2004-03        14  2004      3\n",
       "3  2004-04        22  2004      4\n",
       "4  2004-05        24  2004      5"
      ]
     },
     "execution_count": 584,
     "metadata": {},
     "output_type": "execute_result"
    }
   ],
   "source": [
    "get_clean_dfKF().head()"
   ]
  },
  {
   "cell_type": "code",
   "execution_count": 587,
   "metadata": {},
   "outputs": [],
   "source": [
    "def graph4A_scatter():\n",
    "    # copy over clean df to new one\n",
    "    dfKF1 = get_clean_dfKF()\n",
    "    \n",
    "    # get the index labels\n",
    "    indxlbl = dfKF1.index[((dfKF1['month']==1) & (dfKF1['year']%2==0))]\n",
    "\n",
    "    # plot\n",
    "    fig, ax = plt.subplots(\n",
    "        nrows=1,\n",
    "        ncols=1,\n",
    "        figsize=(16,9)\n",
    "    )\n",
    "    \n",
    "    # scatter plot of the values\n",
    "    plt.scatter(\n",
    "        range(len(dfKF1['Date'])),\n",
    "        dfKF1['interest'],\n",
    "        color=colors4[2],\n",
    "        edgecolors=colors4[0],\n",
    "        alpha=0.75,\n",
    "        label='Interest Point'\n",
    "    )\n",
    "    \n",
    "    # x label\n",
    "    ax.set_xlabel(\n",
    "        \"Time per Month\",\n",
    "        fontsize=16,\n",
    "        color=colors4[1]\n",
    "    )\n",
    "    \n",
    "    # make the xtick the label\n",
    "    ax.set_xticks(indxlbl)\n",
    "    ax.set_xticklabels(\n",
    "        dfKF1.loc[indxlbl, 'year']\n",
    "    )\n",
    "    \n",
    "    # y label\n",
    "    ax.set_ylabel(\n",
    "        \"Interest in Kung Fu Movies\",\n",
    "        fontsize=16,\n",
    "        color=colors4[1]\n",
    "    )\n",
    "    \n",
    "    # title\n",
    "    ax.set_title(\n",
    "        \"Scatter Plot of the Interest in Kung Fu Movies Over Time per Month\",\n",
    "        fontsize=24,\n",
    "        color=colors4[1]\n",
    "    )\n",
    "    \n",
    "    # make the grid\n",
    "    ax.grid(\n",
    "        alpha=0.1,\n",
    "        color=colors4[1]\n",
    "    )\n",
    "    \n",
    "    # tony always has this\n",
    "    ax.set_axisbelow(\n",
    "        True\n",
    "    )\n",
    "\n",
    "    plt.legend()\n",
    "\n",
    "    plt.show()"
   ]
  },
  {
   "cell_type": "code",
   "execution_count": 588,
   "metadata": {
    "scrolled": false
   },
   "outputs": [
    {
     "data": {
      "image/png": "[encoded data removed]",
      "text/plain": [
       "<Figure size 1152x648 with 1 Axes>"
      ]
     },
     "metadata": {
      "needs_background": "light"
     },
     "output_type": "display_data"
    }
   ],
   "source": [
    "graph4A_scatter()"
   ]
  },
  {
   "cell_type": "code",
   "execution_count": 591,
   "metadata": {},
   "outputs": [],
   "source": [
    "def graph4A_line():\n",
    "    # copy over clean df to new one\n",
    "    dfKF1 = get_clean_dfKF()\n",
    "\n",
    "    indxlbl = dfKF1.index[((dfKF1['month']==1) & (dfKF1['year']%2==0))]\n",
    "\n",
    "    fig, ax = plt.subplots(\n",
    "        nrows=1,\n",
    "        ncols=1,\n",
    "        figsize=(16,9)\n",
    "    )\n",
    "    \n",
    "    plt.plot(\n",
    "        range(len(dfKF1['Date'])),\n",
    "        dfKF['interest'],\n",
    "        color=colors4[2],\n",
    "        label='Interest',\n",
    "        alpha=0.75,\n",
    "        lw=3\n",
    "    )\n",
    "\n",
    "    ax.set_xlabel(\n",
    "        \"Year\",\n",
    "        fontsize=16,\n",
    "        color=colors4[1]\n",
    "    )\n",
    "    \n",
    "    ax.set_xticks(indxlbl)\n",
    "    \n",
    "    ax.set_xticklabels(dfKF1.loc[indxlbl, 'year'])\n",
    "\n",
    "    ax.set_ylabel(\n",
    "        \"Interest in Kung Fu Movies\",\n",
    "        fontsize=16,\n",
    "        color=colors4[1]\n",
    "    )\n",
    "\n",
    "    ax.set_title(\n",
    "        \"Scatter Plot of the Interest in Kung Fu Movies Over Time\",\n",
    "        fontsize=24,\n",
    "        color=colors4[1]\n",
    "    )\n",
    "    \n",
    "    ax.grid(\n",
    "        alpha=0.1,\n",
    "        color=colors4[1]\n",
    "    )\n",
    "    \n",
    "    ax.set_axisbelow(\n",
    "        True\n",
    "    )\n",
    "\n",
    "    plt.legend()\n",
    "    plt.show()"
   ]
  },
  {
   "cell_type": "code",
   "execution_count": 592,
   "metadata": {
    "scrolled": false
   },
   "outputs": [
    {
     "data": {
      "image/png": "[encoded data removed]",
      "text/plain": [
       "<Figure size 1152x648 with 1 Axes>"
      ]
     },
     "metadata": {
      "needs_background": "light"
     },
     "output_type": "display_data"
    }
   ],
   "source": [
    "graph4A_line()"
   ]
  },
  {
   "cell_type": "markdown",
   "metadata": {},
   "source": [
    "**Part B:** Based on your figure from Part A, formulate a hypothesis regarding whether or not a statistically significant linear trend exists. Clearly state your null and alternative hypotheses, and the level of significance you will use for this hypothesis test. If you have reason to believe some kind of a trend that is *not linear* exists, say so."
   ]
  },
  {
   "cell_type": "markdown",
   "metadata": {
    "collapsed": true
   },
   "source": [
    "#### 4.B.\n",
    "The only trend that I would think exists is whenever a popular movie comes out a lot of people search. For example, in June 2008 the point was extremely high. The hit film Kung Fu Panda came out that month. With this I can formulate my hypothesis. Based on this, I will propose that the level of interest in Kung Fu Movies since 2004 has increased.\n",
    "\n",
    "* Null Hypothesis, $H_0$: There exists no change in Kung Fu Movie interest from 2004 to 2019. The interest is equal to 20.\n",
    "* Alterrnative Hypothesis, $H_a$: There did exist a change in Kung Fu Movie Interest from 2004 to 2019. We will say for the better. That the interest is greater than 17. \n",
    "\n",
    "$$\n",
    "H_0: \\mu = 17\\\\\n",
    "H_a: \\mu > 17\\\\\n",
    "$$"
   ]
  },
  {
   "cell_type": "code",
   "execution_count": 605,
   "metadata": {},
   "outputs": [],
   "source": [
    "def B4func():\n",
    "    # copy over clean df to new one\n",
    "    dfKF1 = get_clean_dfKF()\n",
    "    \n",
    "    dfKF1.drop(\n",
    "        columns=['Date'],\n",
    "        inplace=True\n",
    "    )\n",
    "    \n",
    "    dfKF1.drop(\n",
    "        columns=['month'],\n",
    "        inplace=True\n",
    "    )\n",
    "    \n",
    "    dfKF1=dfKF1.groupby('year').mean()\n",
    "    \n",
    "    dfKF1.to_csv(r'A4func.csv')\n",
    "    \n",
    "    kfdf = 'A4func.csv'\n",
    "\n",
    "    dfKF1 = pd.read_csv(\n",
    "        kfdf,\n",
    "        header=None,\n",
    "        skiprows=1,\n",
    "        names=['year', 'interest']\n",
    "    )\n",
    "    \n",
    "    return(dfKF1)"
   ]
  },
  {
   "cell_type": "code",
   "execution_count": 628,
   "metadata": {},
   "outputs": [
    {
     "data": {
      "text/html": [
       "<div>\n",
       "<style scoped>\n",
       "    .dataframe tbody tr th:only-of-type {\n",
       "        vertical-align: middle;\n",
       "    }\n",
       "\n",
       "    .dataframe tbody tr th {\n",
       "        vertical-align: top;\n",
       "    }\n",
       "\n",
       "    .dataframe thead th {\n",
       "        text-align: right;\n",
       "    }\n",
       "</style>\n",
       "<table border=\"1\" class=\"dataframe\">\n",
       "  <thead>\n",
       "    <tr style=\"text-align: right;\">\n",
       "      <th></th>\n",
       "      <th>year</th>\n",
       "      <th>interest</th>\n",
       "    </tr>\n",
       "  </thead>\n",
       "  <tbody>\n",
       "    <tr>\n",
       "      <th>0</th>\n",
       "      <td>2004</td>\n",
       "      <td>17.000000</td>\n",
       "    </tr>\n",
       "    <tr>\n",
       "      <th>1</th>\n",
       "      <td>2005</td>\n",
       "      <td>20.000000</td>\n",
       "    </tr>\n",
       "    <tr>\n",
       "      <th>2</th>\n",
       "      <td>2006</td>\n",
       "      <td>11.083333</td>\n",
       "    </tr>\n",
       "    <tr>\n",
       "      <th>3</th>\n",
       "      <td>2007</td>\n",
       "      <td>12.666667</td>\n",
       "    </tr>\n",
       "    <tr>\n",
       "      <th>4</th>\n",
       "      <td>2008</td>\n",
       "      <td>30.333333</td>\n",
       "    </tr>\n",
       "  </tbody>\n",
       "</table>\n",
       "</div>"
      ],
      "text/plain": [
       "   year   interest\n",
       "0  2004  17.000000\n",
       "1  2005  20.000000\n",
       "2  2006  11.083333\n",
       "3  2007  12.666667\n",
       "4  2008  30.333333"
      ]
     },
     "execution_count": 628,
     "metadata": {},
     "output_type": "execute_result"
    }
   ],
   "source": [
    "B4func().head()"
   ]
  },
  {
   "cell_type": "code",
   "execution_count": 606,
   "metadata": {},
   "outputs": [],
   "source": [
    "def graph4B_scatter_regress():\n",
    "    # copy over clean df to new one\n",
    "    dfKF1 = ABfunc()\n",
    "    \n",
    "    fig, ax = plt.subplots(\n",
    "        nrows=1,\n",
    "        ncols=1,\n",
    "        figsize=(16,9)\n",
    "    )\n",
    "\n",
    "    plt.scatter(\n",
    "        dfKF1['year'],\n",
    "        dfKF1['interest'],\n",
    "        color=colors4[2],\n",
    "        edgecolors=colors4[0],\n",
    "        s=100,\n",
    "        alpha=0.75,\n",
    "        label='Interest Point'\n",
    "    )\n",
    "    \n",
    "    # Linear Regress\n",
    "    bhat, ahat, rval, pval, stderr = stats.linregress(dfKF1['year'], dfKF1['interest'])\n",
    "    \n",
    "    print(\"bhat: {}\".format(bhat))\n",
    "    print(\"ahat: {}\".format(ahat))\n",
    "    print(\"rval: {}\".format(rval))\n",
    "    print(\"pval: {}\".format(pval))    \n",
    "    print(\"stderr: {}\".format(stderr))\n",
    "    \n",
    "    ax.plot(\n",
    "        dfKF1['year'],\n",
    "        ahat+bhat*dfKF1['year'],\n",
    "        color=colors4[1],\n",
    "        lw=3,\n",
    "        label='Linregress',\n",
    "        ls='-'\n",
    "    )\n",
    "    \n",
    "    ax.set_xlabel(\n",
    "        \"Year\",\n",
    "        fontsize=16,\n",
    "        color=colors4[1]\n",
    "    )\n",
    "        \n",
    "    ax.set_ylabel(\n",
    "        \"Interest in Kung Fu Movies\",\n",
    "        fontsize=16,\n",
    "        color=colors4[1]\n",
    "    )\n",
    "\n",
    "    ax.set_title(\n",
    "        \"Scatter Plot of the Interest in Kung Fu Movies Per Year\",\n",
    "        fontsize=24,\n",
    "        color=colors4[1]\n",
    "    )\n",
    "    \n",
    "    ax.grid(\n",
    "        alpha=0.1,\n",
    "        color=colors4[1]\n",
    "    )\n",
    "    \n",
    "    ax.set_axisbelow(\n",
    "        True\n",
    "    )\n",
    "\n",
    "    plt.legend()\n",
    "    plt.show()"
   ]
  },
  {
   "cell_type": "code",
   "execution_count": 607,
   "metadata": {},
   "outputs": [
    {
     "name": "stdout",
     "output_type": "stream",
     "text": [
      "bhat: 0.2606617647058824\n",
      "ahat: -501.2534313725492\n",
      "rval: 0.15885590636276956\n",
      "pval: 0.5567798286449523\n",
      "stderr: 0.4329720537619642\n"
     ]
    },
    {
     "data": {
      "image/png": "[encoded data removed]",
      "text/plain": [
       "<Figure size 1152x648 with 1 Axes>"
      ]
     },
     "metadata": {
      "needs_background": "light"
     },
     "output_type": "display_data"
    }
   ],
   "source": [
    "graph4A_scatter_regress()"
   ]
  },
  {
   "cell_type": "markdown",
   "metadata": {},
   "source": [
    "**Part C:** Perform any processing that you need to do in order to satisfy the assumptions of the simple linear regression model. If you do not do any processing, then explain why you believe your data set already satisfies these assumptions (and clearly state the assumptions)."
   ]
  },
  {
   "cell_type": "code",
   "execution_count": 608,
   "metadata": {},
   "outputs": [],
   "source": [
    "def C4R2():\n",
    "    # confidence\n",
    "    conf=0.66\n",
    "    print('conf: {:0.03f}'.format(conf)) if (verbose) else None\n",
    "    \n",
    "    # alpha\n",
    "    alpha=1-conf\n",
    "    print('alpha: {:0.03f}'.format(alpha)) if (verbose) else None\n",
    "    \n",
    "    # get the new data frame\n",
    "    dfKF1 = B4func()\n",
    "    \n",
    "    # Linear Regress\n",
    "    bhat, ahat, rval, pval, stderr = stats.linregress(dfKF1['year'], dfKF1['interest'])\n",
    "    if(verbose):\n",
    "        print(\"bhat: {:0.03f}\".format(bhat))\n",
    "        print(\"ahat: {:0.03f}\".format(ahat))\n",
    "        print(\"rval: {:0.03f}\".format(rval))\n",
    "        print(\"pval: {:0.03f}\".format(pval))    \n",
    "        print(\"stderr: {:0.03f}\".format(stderr))\n",
    "        \n",
    "    x=dfKF1['year']\n",
    "    xmean=x.mean()\n",
    "    y=dfKF1['interest']\n",
    "    ymean=y.mean()\n",
    "    \n",
    "    # calculate ybar\n",
    "    ybar=ahat+bhat*x\n",
    "    \n",
    "    ns=len(ybar)\n",
    "    print('ns: {:0.03f}'.format(ns)) if (verbose) else None\n",
    "    \n",
    "    tcrit = stats.t.ppf(1-alpha/2, df= (ns-2))\n",
    "    print('tcrit: {:0.03f}'.format(tcrit)) if (verbose) else None\n",
    "    \n",
    "    SSE=np.sum((y-ybar)**2)\n",
    "    print('SSE: {:0.03f}'.format(SSE)) if (verbose) else None\n",
    "    SSX=np.sum((x-xmean)**2)\n",
    "    print('SSX: {:0.03f}'.format(SSX)) if (verbose) else None\n",
    "    SST=np.sum((y-ymean)**2)\n",
    "    print('SST: {:0.03f}'.format(SST)) if (verbose) else None\n",
    "    \n",
    "    R2=1-(SSE/SST)\n",
    "    print('R2: {:0.03f}'.format(R2)) if (verbose) else None\n",
    "    \n",
    "    return R2"
   ]
  },
  {
   "cell_type": "code",
   "execution_count": 611,
   "metadata": {},
   "outputs": [],
   "source": [
    "def graph4C_Res():\n",
    "    # copy over clean df to new one\n",
    "    dfKF1 = B4func()\n",
    "    \n",
    "    # get the x and y values from the df\n",
    "    x=dfKF1['year']\n",
    "    y=dfKF1['interest']\n",
    "    \n",
    "    # get the regression value\n",
    "    R2=C4R2()\n",
    "    \n",
    "    # Linear Regress\n",
    "    bhat, ahat, rval, pval, stderr = stats.linregress(x, y)\n",
    "    \n",
    "    # calculate ybar\n",
    "    yhat=ahat+bhat*x\n",
    "    \n",
    "    # calculate res\n",
    "    res=y-yhat\n",
    "    \n",
    "    # plots\n",
    "    fig, ax = plt.subplots(\n",
    "        nrows=1,\n",
    "        ncols=1,\n",
    "        figsize=(16,9)\n",
    "    )\n",
    "    \n",
    "    # do the first scatter plot of the res\n",
    "    plt.scatter(\n",
    "        x,\n",
    "        res,\n",
    "        color=colors4[2],\n",
    "        edgecolors=colors4[0],\n",
    "        s=100,\n",
    "        alpha=0.75,\n",
    "        label='Interest Point'\n",
    "    )\n",
    "    \n",
    "    ax.set_xlabel(\n",
    "        \"Year\",\n",
    "        fontsize=16,\n",
    "        color=colors4[1]\n",
    "    )\n",
    "        \n",
    "    ax.set_ylabel(\n",
    "        \"Residual Interest of Kung Fu Movies\",\n",
    "        fontsize=16,\n",
    "        color=colors4[1]\n",
    "    )\n",
    "\n",
    "    ax.set_title(\n",
    "        \"Scatter Plot of Residual Interest of Kung Fu Movies Per Year\",\n",
    "        fontsize=24,\n",
    "        color=colors4[1]\n",
    "    )\n",
    "    \n",
    "    ax.grid(\n",
    "        alpha=0.1,\n",
    "        color=colors4[1]\n",
    "    )\n",
    "    \n",
    "    ax.set_axisbelow(\n",
    "        True\n",
    "    )\n",
    "    \n",
    "    plt.legend()\n",
    "    plt.show()"
   ]
  },
  {
   "cell_type": "code",
   "execution_count": 612,
   "metadata": {},
   "outputs": [
    {
     "data": {
      "image/png": "[encoded data removed]",
      "text/plain": [
       "<Figure size 1152x648 with 1 Axes>"
      ]
     },
     "metadata": {
      "needs_background": "light"
     },
     "output_type": "display_data"
    }
   ],
   "source": [
    "graph4C_Res()"
   ]
  },
  {
   "cell_type": "markdown",
   "metadata": {},
   "source": [
    "**Part D:** Compute **by hand** the p-value associated with the hypothesis test from Part B. Clearly state your conclusion. You may use `scipy.stats.linregress` to check your answer, and you may use Python as a calculator (and to get critical values, for example), but you need to show all your work by hand."
   ]
  },
  {
   "cell_type": "markdown",
   "metadata": {},
   "source": [
    "#### 4.D.\n",
    "Doing a p-value test\n",
    "\n",
    "* Null Hypothesis, $H_0$: There exists no change in Kung Fu Movie interest from 2004 to 2019. The interest is equal to 20.\n",
    "* Alterrnative Hypothesis, $H_a$: There did exist a change in Kung Fu Movie Interest from 2004 to 2019. We will say for the better. That the interest is greater than 17. \n",
    "\n",
    "$$\n",
    "H_0: \\mu = 17\\\\\n",
    "H_a: \\mu \\gt 17\\\\\n",
    "$$\n",
    "\n",
    "Let:\n",
    "* $\\alpha = 0.05$\n",
    "* $n = 16$\n",
    "* $\\bar{x} = 23.068$\n",
    "* $\\sigma = 7.812$\n",
    "\n",
    "What we want to find:\n",
    "* $p \\left( \\bar{x} \\ge 23.068 \\mid H_0 \\text{ true} \\right)$\n",
    "\n",
    "If:\n",
    "* $p \\lt \\alpha \\rightarrow \\text{Reject the null hypothesis}$\n",
    "* $p \\gt \\alpha \\rightarrow \\text{Do not reject the null hypothesis}$\n",
    "\n",
    "$$\n",
    "T = \\frac{\\bar{x} - \\mu}{\\frac{\\sigma}{\\sqrt{n}}}\\\\\n",
    "T = \\frac{23.068 - 17}{\\frac{7.812}{\\sqrt{16}}}\\\\\n",
    "T = 3.420378904249872\n",
    "$$"
   ]
  },
  {
   "cell_type": "code",
   "execution_count": 676,
   "metadata": {},
   "outputs": [],
   "source": [
    "def calc4D():\n",
    "    a=0.05\n",
    "    \n",
    "    # calculate the tvalue\n",
    "    tval=(23.68-17)/(7.812/(16)**(1/2))\n",
    "    print('tval: {:0.3f}'.format(tval))\n",
    "    \n",
    "    # Find the talpha value\n",
    "    talp=stats.t.ppf(\n",
    "        q=a,\n",
    "        df=16\n",
    "    )\n",
    "    \n",
    "    # find the p value\n",
    "    pval = stats.t.cdf(\n",
    "        tval,\n",
    "        16\n",
    "    )\n",
    "    \n",
    "    print('pval: {:0.3f}'.format(pval))\n",
    "    print('talp: {:0.3f}'.format(talp))\n",
    "    print(\"Do Not Reject Null Hypothesis\") if(pval > talp) else print(\"Reject Null Hypothesis\") "
   ]
  },
  {
   "cell_type": "code",
   "execution_count": 677,
   "metadata": {},
   "outputs": [
    {
     "name": "stdout",
     "output_type": "stream",
     "text": [
      "tval: 3.420\n",
      "pval: 0.998\n",
      "talp: -1.746\n",
      "Do Not Reject Null Hypothesis\n"
     ]
    }
   ],
   "source": [
    "calc4D()"
   ]
  },
  {
   "cell_type": "code",
   "execution_count": 653,
   "metadata": {},
   "outputs": [],
   "source": [
    "def func4D():\n",
    "    # copy over clean df to new one\n",
    "    dfKF1 = B4func()\n",
    "    \n",
    "    # get the x and y values from the df\n",
    "    x=dfKF1['year']\n",
    "    y=dfKF1['interest']\n",
    "    \n",
    "    # get the mean interest\n",
    "    ymean=y.mean()\n",
    "    print('ymean: {:0.03f}'.format(ymean)) if (verbose) else None\n",
    "    \n",
    "    # length of y\n",
    "    ns=len(y)\n",
    "    print('n samples: {:0.03f}'.format(ns)) if (verbose) else None\n",
    "    \n",
    "    # standard deviation\n",
    "    sigma=y.std()\n",
    "    print('sigma: {:0.03f}'.format(sigma)) if (verbose) else None\n",
    "    \n",
    "    # Linear Regress vals\n",
    "    bhat, ahat, rval, pval, stderr = stats.linregress(x, y)\n",
    "    if(verbose):\n",
    "        print(\"bhat: {:0.03f}\".format(bhat))\n",
    "        print(\"ahat: {:0.03f}\".format(ahat))\n",
    "        print(\"rval: {:0.03f}\".format(rval))\n",
    "        print(\"pval: {:0.03f}\".format(pval))\n",
    "        print(\"stderr: {:0.03f}\".format(stderr))"
   ]
  },
  {
   "cell_type": "code",
   "execution_count": 648,
   "metadata": {},
   "outputs": [
    {
     "name": "stdout",
     "output_type": "stream",
     "text": [
      "ymean: 23.068\n",
      "n samples: 16.000\n",
      "sigma: 7.812\n",
      "bhat: 0.261\n",
      "ahat: -501.253\n",
      "rval: 0.159\n",
      "pval: 0.557\n",
      "stderr: 0.433\n"
     ]
    }
   ],
   "source": [
    "verbose=True\n",
    "func4D()"
   ]
  },
  {
   "cell_type": "markdown",
   "metadata": {},
   "source": [
    "So we can say with 95% confidence that there has not been an increase in kung fu movie interest in the since 2004."
   ]
  },
  {
   "cell_type": "code",
   "execution_count": null,
   "metadata": {},
   "outputs": [],
   "source": []
  }
 ],
 "metadata": {
  "kernelspec": {
   "display_name": "Python 3",
   "language": "python",
   "name": "python3"
  },
  "language_info": {
   "codemirror_mode": {
    "name": "ipython",
    "version": 3
   },
   "file_extension": ".py",
   "mimetype": "text/x-python",
   "name": "python",
   "nbconvert_exporter": "python",
   "pygments_lexer": "ipython3",
   "version": "3.7.1"
  }
 },
 "nbformat": 4,
 "nbformat_minor": 2
}
