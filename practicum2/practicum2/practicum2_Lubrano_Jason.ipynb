{
 "cells": [
  {
   "cell_type": "markdown",
   "metadata": {},
   "source": [
    "<a id='top'></a>\n",
    "\n",
    "# CSCI 3022: Intro to Data Science - Spring 2019 Practicum 2\n",
    "***\n",
    "\n",
    "This practicum is due on Canvas by **11:59 PM on Friday May 3**. Your solutions to theoretical questions should be done in Markdown/MathJax directly below the associated question.  Your solutions to computational questions should include any specified Python code and results as well as written commentary on your conclusions.  \n",
    "\n",
    "**Here are the rules:** \n",
    "\n",
    "1. All work, code and analysis, must be your own. \n",
    "1. You may use your course notes, posted lecture slides, textbooks, in-class notebooks, and homework solutions as resources.  You may also search online for answers to general knowledge questions like the form of a probability distribution function or how to perform a particular operation in Python/Pandas. \n",
    "1. This is meant to be like a coding portion of your midterm exam. So, the instructional team will be much less helpful than we typically are with homework. For example, we will not check answers, help debug your code, and so on.\n",
    "1. If something is left open-ended, it is because we want to see how you approach the kinds of problems you will encounter in the wild, where it will not always be clear what sort of tests/methods should be applied. Feel free to ask clarifying questions though.\n",
    "2. You may **NOT** post to message boards or other online resources asking for help.\n",
    "3. You may **NOT** copy-paste solutions *from anywhere*.\n",
    "4. You may **NOT** collaborate with classmates or anyone else.\n",
    "5. In short, **your work must be your own**. It really is that simple.\n",
    "\n",
    "Violation of the above rules will result in an immediate academic sanction (*at the very least*, you will receive a 0 on this practicum or an F in the course, depending on severity), and a trip to the Honor Code Council.\n",
    "\n",
    "**By submitting this assignment, you agree to abide by the rules given above.**\n",
    "\n",
    "***\n",
    "\n",
    "**Name**:  \n",
    "\n",
    "***\n",
    "\n",
    "\n",
    "**NOTES**: \n",
    "\n",
    "- You may not use late days on the practicums nor can you drop your practicum grades. \n",
    "- If you have a question for us, post it as a **PRIVATE** message on Piazza.  If we decide that the question is appropriate for the entire class, then we will add it to a Practicum clarifications thread. \n",
    "- Do **NOT** load or use any Python packages that are not available in Anaconda 3.6. \n",
    "- Some problems with code may be autograded.  If we provide a function API **do not** change it.  If we do not provide a function API then you're free to structure your code however you like. \n",
    "- Submit only this Jupyter notebook to Canvas.  Do not compress it using tar, rar, zip, etc. \n",
    "- This should go without saying, but... For any question that asks you to calculate something, you **must show all work to receive credit**. Sparse or nonexistent work will receive sparse or nonexistent credit.\n",
    "\n",
    "---\n",
    "**Shortcuts:**  [Problem 1](#p1) | [Problem 2](#p2) | [Bottom](#bot)\n",
    "\n",
    "---"
   ]
  },
  {
   "cell_type": "code",
   "execution_count": 1,
   "metadata": {},
   "outputs": [],
   "source": [
    "# import whatever packages you think you will need here!\n",
    "\n",
    "import numpy as np \n",
    "from scipy import stats\n",
    "import statsmodels.api as sm \n",
    "import pandas as pd\n",
    "import matplotlib.pylab as plt \n",
    "%matplotlib inline"
   ]
  },
  {
   "cell_type": "markdown",
   "metadata": {},
   "source": [
    "<br>\n",
    "\n",
    "---\n",
    "<a id='p1'></a>\n",
    "[Back to top](#top)\n",
    "\n",
    "### [30 points] Problem 1:  What's the best Oreo flavor?\n",
    "\n",
    "> <img src=\"https://media2.s-nbcnews.com/j/newscms/2015_52/1351976/151223-watermelon-oreos-flickr-yh-1234p_a4c4ba1016261e5d799a789666948a6e.fit-760w.jpg\" style=\"width: 400px;\"/>\n",
    "**Figure 1.** Watermelon Oreos. These are undeniably the absolute _worst_ Oreo flavor, but not a part of our data set. If they were, the problem would be too easy.\n",
    "\n",
    "You're skipping down the road one day, singing a merry tune without a care in the world. Every so often you hop and click your heels together. After one such hop, though, you stumble and nearly trip. Under your feet is a fun data set!\n",
    "\n",
    "In particular, this rascally data set includes ratings from 5 different individuals for 12 different types of Oreo cookie. Because some of the raters are allergic to disgusting flavors of Oreo, not every taster tasted every type of cookie. More information about the data set can be found [here](https://www.kaggle.com/rtatman/oreo-flavors-tastetest-ratings).\n",
    "\n",
    "As you examine the data, a booming voice from the sky instructs you to analyze the data to answer two key questions:\n",
    "1. is there some difference in mean rating given to different flavors of Oreo? and\n",
    "2. which flavor (out of those in the data set) is the best?\n",
    "\n",
    "**Part A:** Load the data set as a Pandas DataFrame. Then, process it as you see fit. For the analysis, you might create a new DataFrame, or other kinds of Python objects to use the data. Do what feels right, and include an **explanation** in Markdown of how you are processing the data. You **may not** alter the original data file."
   ]
  },
  {
   "cell_type": "markdown",
   "metadata": {},
   "source": [
    "#### 1.A."
   ]
  },
  {
   "cell_type": "code",
   "execution_count": 12,
   "metadata": {},
   "outputs": [],
   "source": [
    "# first off, watermelon oreos are the best flavor no matter what the statistics say\n",
    "dfOREO = pd.read_csv(\"oreo_rankings.csv\")\n",
    "\n",
    "# get some purty colors\n",
    "oreoColors = [\n",
    "    'coral', # 0\n",
    "    'gold', # 1\n",
    "    'forestgreen', # 2 \n",
    "    'steelblue', # 3\n",
    "    'orchid', # 4\n",
    "    'black', # 5\n",
    "    'crimson' # 6\n",
    "]\n"
   ]
  },
  {
   "cell_type": "code",
   "execution_count": 15,
   "metadata": {},
   "outputs": [
    {
     "data": {
      "text/html": [
       "<div>\n",
       "<style scoped>\n",
       "    .dataframe tbody tr th:only-of-type {\n",
       "        vertical-align: middle;\n",
       "    }\n",
       "\n",
       "    .dataframe tbody tr th {\n",
       "        vertical-align: top;\n",
       "    }\n",
       "\n",
       "    .dataframe thead th {\n",
       "        text-align: right;\n",
       "    }\n",
       "</style>\n",
       "<table border=\"1\" class=\"dataframe\">\n",
       "  <thead>\n",
       "    <tr style=\"text-align: right;\">\n",
       "      <th></th>\n",
       "      <th>oreo_flavor</th>\n",
       "      <th>rater_n</th>\n",
       "      <th>rater_c</th>\n",
       "      <th>rater_r</th>\n",
       "      <th>rater_k</th>\n",
       "      <th>rater_a</th>\n",
       "      <th>average_across_raters</th>\n",
       "      <th>notes_and_discussion</th>\n",
       "    </tr>\n",
       "  </thead>\n",
       "  <tbody>\n",
       "    <tr>\n",
       "      <th>3</th>\n",
       "      <td>chocolate</td>\n",
       "      <td>3.5</td>\n",
       "      <td>3.0</td>\n",
       "      <td>3.5</td>\n",
       "      <td>3.0</td>\n",
       "      <td>4.00</td>\n",
       "      <td>3.40</td>\n",
       "      <td>weak chocolate flavor, tasted like an American...</td>\n",
       "    </tr>\n",
       "    <tr>\n",
       "      <th>4</th>\n",
       "      <td>birthday cake</td>\n",
       "      <td>2.5</td>\n",
       "      <td>5.0</td>\n",
       "      <td>2.5</td>\n",
       "      <td>4.0</td>\n",
       "      <td>3.00</td>\n",
       "      <td>3.40</td>\n",
       "      <td>didn't taste like birthday cake, most like rea...</td>\n",
       "    </tr>\n",
       "    <tr>\n",
       "      <th>5</th>\n",
       "      <td>double stuf</td>\n",
       "      <td>3.5</td>\n",
       "      <td>4.0</td>\n",
       "      <td>3.0</td>\n",
       "      <td>3.0</td>\n",
       "      <td>3.50</td>\n",
       "      <td>3.40</td>\n",
       "      <td>default Oreos</td>\n",
       "    </tr>\n",
       "    <tr>\n",
       "      <th>6</th>\n",
       "      <td>red velvet</td>\n",
       "      <td>4.0</td>\n",
       "      <td>3.0</td>\n",
       "      <td>4.5</td>\n",
       "      <td>4.0</td>\n",
       "      <td>2.50</td>\n",
       "      <td>3.60</td>\n",
       "      <td>realistic red velvet taste with cream cheese f...</td>\n",
       "    </tr>\n",
       "    <tr>\n",
       "      <th>7</th>\n",
       "      <td>Dunkin' Donuts Mocha</td>\n",
       "      <td>2.5</td>\n",
       "      <td>1.0</td>\n",
       "      <td>5.0</td>\n",
       "      <td>5.0</td>\n",
       "      <td>5.00</td>\n",
       "      <td>3.70</td>\n",
       "      <td>tasted like coffee, specifically Dunkin' coffee</td>\n",
       "    </tr>\n",
       "    <tr>\n",
       "      <th>9</th>\n",
       "      <td>thins, coconut</td>\n",
       "      <td>3.5</td>\n",
       "      <td>4.5</td>\n",
       "      <td>3.0</td>\n",
       "      <td>4.5</td>\n",
       "      <td>4.50</td>\n",
       "      <td>4.00</td>\n",
       "      <td>very light coconut flavor, more like a coconut...</td>\n",
       "    </tr>\n",
       "    <tr>\n",
       "      <th>10</th>\n",
       "      <td>mint</td>\n",
       "      <td>3.5</td>\n",
       "      <td>4.0</td>\n",
       "      <td>4.5</td>\n",
       "      <td>4.0</td>\n",
       "      <td>4.25</td>\n",
       "      <td>4.05</td>\n",
       "      <td>strong mint flavor, creme alone was toothpasty</td>\n",
       "    </tr>\n",
       "  </tbody>\n",
       "</table>\n",
       "</div>"
      ],
      "text/plain": [
       "             oreo_flavor  rater_n  rater_c  rater_r  rater_k  rater_a  \\\n",
       "3              chocolate      3.5      3.0      3.5      3.0     4.00   \n",
       "4          birthday cake      2.5      5.0      2.5      4.0     3.00   \n",
       "5            double stuf      3.5      4.0      3.0      3.0     3.50   \n",
       "6             red velvet      4.0      3.0      4.5      4.0     2.50   \n",
       "7   Dunkin' Donuts Mocha      2.5      1.0      5.0      5.0     5.00   \n",
       "9         thins, coconut      3.5      4.5      3.0      4.5     4.50   \n",
       "10                  mint      3.5      4.0      4.5      4.0     4.25   \n",
       "\n",
       "    average_across_raters                               notes_and_discussion  \n",
       "3                    3.40  weak chocolate flavor, tasted like an American...  \n",
       "4                    3.40  didn't taste like birthday cake, most like rea...  \n",
       "5                    3.40                                      default Oreos  \n",
       "6                    3.60  realistic red velvet taste with cream cheese f...  \n",
       "7                    3.70    tasted like coffee, specifically Dunkin' coffee  \n",
       "9                    4.00  very light coconut flavor, more like a coconut...  \n",
       "10                   4.05     strong mint flavor, creme alone was toothpasty  "
      ]
     },
     "execution_count": 15,
     "metadata": {},
     "output_type": "execute_result"
    }
   ],
   "source": [
    "# make numbers in df floats\n",
    "dfOREO[\"rater_n\"] = pd.to_numeric(dfOREO[\"rater_n\"], errors='coerce')\n",
    "dfOREO[\"rater_c\"] = pd.to_numeric(dfOREO[\"rater_c\"], errors='coerce')\n",
    "dfOREO[\"rater_r\"] = pd.to_numeric(dfOREO[\"rater_r\"], errors='coerce')\n",
    "dfOREO[\"rater_k\"] = pd.to_numeric(dfOREO[\"rater_k\"], errors='coerce')\n",
    "dfOREO[\"rater_a\"] = pd.to_numeric(dfOREO[\"rater_a\"], errors='coerce')\n",
    "dfOREO[\"average_across_raters\"] = pd.to_numeric(dfOREO[\"average_across_raters\"], errors='coerce')\n",
    "\n",
    "# copy over to new one that isnt being messed with\n",
    "dfOREO0 = dfOREO.copy()\n",
    "\n",
    "# get rid of rows where at least one element is missing\n",
    "dfOREO0.dropna(inplace=True)\n",
    "\n",
    "# Extract the response and a single feature \n",
    "fl = dfOREO0[\"oreo_flavor\"]\n",
    "rn = dfOREO0[\"rater_n\"]\n",
    "rc = dfOREO0[\"rater_c\"]\n",
    "rr = dfOREO0[\"rater_r\"]\n",
    "rk = dfOREO0[\"rater_k\"]\n",
    "ra = dfOREO0[\"rater_a\"]\n",
    "av = dfOREO0[\"average_across_raters\"]\n",
    "\n",
    "# Into Array\n",
    "arrOreo = [\n",
    "    rn,\n",
    "    rc,\n",
    "    rr,\n",
    "    rk,\n",
    "    ra\n",
    "]\n",
    "\n",
    "# dfOREO FULL ORIGINAL DF\n",
    "dfOREO0"
   ]
  },
  {
   "cell_type": "code",
   "execution_count": 31,
   "metadata": {},
   "outputs": [
    {
     "data": {
      "image/png": "[encoded data removed]",
      "text/plain": [
       "<Figure size 1152x648 with 1 Axes>"
      ]
     },
     "metadata": {
      "needs_background": "light"
     },
     "output_type": "display_data"
    }
   ],
   "source": [
    "# Make Scatterplot\n",
    "\n",
    "# Start with some graphs.. maybe one is glaringly better than the other\n",
    "\n",
    "fig, ax = plt.subplots(\n",
    "    nrows=1,\n",
    "    ncols=1,\n",
    "    figsize=(16,9)\n",
    ")\n",
    "\n",
    "# rn\n",
    "ax.scatter(\n",
    "    fl,\n",
    "    rn,\n",
    "    color=oreoColors[0],\n",
    "    edgecolor=oreoColors[5],\n",
    "    s=100,\n",
    "    alpha=0.5\n",
    ")\n",
    "\n",
    "# rc\n",
    "ax.scatter(\n",
    "    fl,\n",
    "    rc,\n",
    "    color=oreoColors[1],\n",
    "    edgecolor=oreoColors[5],\n",
    "    s=100,\n",
    "    alpha=0.5\n",
    ")\n",
    "\n",
    "# rr\n",
    "ax.scatter(\n",
    "    fl,\n",
    "    rr,\n",
    "    color=oreoColors[2],\n",
    "    edgecolor=oreoColors[5],\n",
    "    s=100,\n",
    "    alpha=0.5\n",
    ")\n",
    "\n",
    "# rk\n",
    "ax.scatter(\n",
    "    fl,\n",
    "    rk,\n",
    "    color=oreoColors[3],\n",
    "    edgecolor=oreoColors[5],\n",
    "    s=100,\n",
    "    alpha=0.5\n",
    ")\n",
    "\n",
    "# rk\n",
    "ax.scatter(\n",
    "    fl,\n",
    "    ra,\n",
    "    color=oreoColors[4],\n",
    "    edgecolor=oreoColors[5],\n",
    "    s=100,\n",
    "    alpha=0.5\n",
    ")\n",
    "\n",
    "plt.plot(\n",
    "    dfOREO0[\"oreo_flavor\"],\n",
    "    dfOREO0[\"average_across_raters\"],\n",
    "    color=oreoColors[6],\n",
    "    lw=3\n",
    ")\n",
    "    \n",
    "ax.set_xlabel(\n",
    "    \"Oreo Flavor\",\n",
    "    fontsize=16,\n",
    "    color=oreoColors[6]\n",
    ")\n",
    "\n",
    "ax.set_xticklabels(\n",
    "    fl,\n",
    "    rotation=45\n",
    ")\n",
    "\n",
    "ax.set_ylabel(\n",
    "    \"Rating\",\n",
    "    fontsize=16,\n",
    "    color=oreoColors[6]\n",
    ")\n",
    "\n",
    "ax.set_title(\n",
    "    \"Scatter Plot of Oreo Flavor Rankings Based on Rater\",\n",
    "    fontsize=24,\n",
    "    color=oreoColors[6],\n",
    ")\n",
    "\n",
    "ax.grid(\n",
    "    alpha=0.1,\n",
    "    color=oreoColors[5]\n",
    ")\n",
    "\n",
    "ax.set_axisbelow(\n",
    "    True\n",
    ")\n",
    "\n",
    "plt.legend()\n",
    "\n",
    "plt.show()"
   ]
  },
  {
   "cell_type": "code",
   "execution_count": 28,
   "metadata": {
    "scrolled": false
   },
   "outputs": [
    {
     "data": {
      "image/png": "[encoded data removed]",
      "text/plain": [
       "<Figure size 1152x648 with 1 Axes>"
      ]
     },
     "metadata": {
      "needs_background": "light"
     },
     "output_type": "display_data"
    }
   ],
   "source": [
    "# Make Scatterplot\n",
    "\n",
    "# Start with some graphs.. maybe one is glaringly better than the other\n",
    "\n",
    "fig, ax = plt.subplots(\n",
    "    nrows=1,\n",
    "    ncols=1,\n",
    "    figsize=(16,9)\n",
    ")\n",
    "\n",
    "# rn\n",
    "ax.scatter(\n",
    "    dfOREO[\"oreo_flavor\"],\n",
    "    dfOREO[\"rater_n\"],\n",
    "    color=oreoColors[0],\n",
    "    edgecolor=oreoColors[5],\n",
    "    s=100,\n",
    "    alpha=0.5\n",
    ")\n",
    "\n",
    "# rc\n",
    "ax.scatter(\n",
    "    dfOREO[\"oreo_flavor\"],\n",
    "    dfOREO[\"rater_c\"],\n",
    "    color=oreoColors[1],\n",
    "    edgecolor=oreoColors[5],\n",
    "    s=100,\n",
    "    alpha=0.5\n",
    ")\n",
    "\n",
    "# rr\n",
    "ax.scatter(\n",
    "    dfOREO[\"oreo_flavor\"],\n",
    "    dfOREO[\"rater_r\"],\n",
    "    color=oreoColors[2],\n",
    "    edgecolor=oreoColors[5],\n",
    "    s=100,\n",
    "    alpha=0.5\n",
    ")\n",
    "\n",
    "# rk\n",
    "ax.scatter(\n",
    "    dfOREO[\"oreo_flavor\"],\n",
    "    dfOREO[\"rater_k\"],\n",
    "    color=oreoColors[3],\n",
    "    edgecolor=oreoColors[5],\n",
    "    s=100,\n",
    "    alpha=0.5\n",
    ")\n",
    "\n",
    "# rk\n",
    "ax.scatter(\n",
    "    dfOREO[\"oreo_flavor\"],\n",
    "    dfOREO[\"rater_a\"],\n",
    "    color=oreoColors[4],\n",
    "    edgecolor=oreoColors[5],\n",
    "    s=100,\n",
    "    alpha=0.5\n",
    ")\n",
    "\n",
    "plt.plot(\n",
    "    dfOREO[\"oreo_flavor\"],\n",
    "    dfOREO[\"average_across_raters\"],\n",
    "    color=oreoColors[6],\n",
    "    lw=3\n",
    ")\n",
    "    \n",
    "ax.set_xlabel(\n",
    "    \"Oreo Flavor\",\n",
    "    fontsize=16,\n",
    "    color=oreoColors[6]\n",
    ")\n",
    "\n",
    "ax.set_xticklabels(\n",
    "    dfOREO[\"oreo_flavor\"],\n",
    "    rotation=45\n",
    ")\n",
    "\n",
    "ax.set_ylabel(\n",
    "    \"Rating\",\n",
    "    fontsize=16,\n",
    "    color=oreoColors[6]\n",
    ")\n",
    "\n",
    "ax.set_title(\n",
    "    \"Scatter Plot of Oreo Flavor Rankings Based on Rater\",\n",
    "    fontsize=24,\n",
    "    color=oreoColors[6],\n",
    ")\n",
    "\n",
    "ax.grid(\n",
    "    alpha=0.1,\n",
    "    color=oreoColors[5]\n",
    ")\n",
    "\n",
    "ax.set_axisbelow(\n",
    "    True\n",
    ")\n",
    "\n",
    "plt.legend()\n",
    "\n",
    "plt.show()"
   ]
  },
  {
   "cell_type": "markdown",
   "metadata": {},
   "source": [
    "There doesn't seem to be much correlation in the data.\n",
    "The data seems very scattered.\n",
    "There are a few instances where we see patterns.\n",
    "Some flavors such as mint and cinnamon bun seem to have consistently high scores while others such as pb&j, and mega stuff seem to have low to average ratings."
   ]
  },
  {
   "cell_type": "markdown",
   "metadata": {},
   "source": [
    "**Part B:** In the remainder of this problem, you will perform some hypothesis tests to examine whether these data suggest there are significant differences in the mean ratings of the different Oreo flavors. Pick a level of significance for these experiments, and explain how you decided to use that significance level. \"Because we used it a lot in class\" is ***not*** a good reason."
   ]
  },
  {
   "cell_type": "markdown",
   "metadata": {},
   "source": [
    "#### 1.B.\n",
    "\n",
    "We can use the value $\\alpha = 0.05$. This gives us a $95\\%$ confidence level that there is a significant difference in the ratings of Oreos. There are two types of errors:\n",
    "* Type I error: Determining there is a difference in oreos when there isnt\n",
    "* Type II error: Saying there isnt a difference in Oreos when there is\n",
    "\n",
    "Since the alpha level is the probability of making a Type I error, and we do not want to make an error, we should make this area as small as possible but still in the realm of making sense.\n",
    "Suppose we set the alpha level to $0.10$.\n",
    "There exist a large chance that we may incorrectly reject the null hypothesis by saying there exist a difference in oreo flavors when in reality there there does not exist any difference.\n",
    "An alpha level of $0.01$ would make the area super small.\n",
    "Invariably to a large alpha value, the smaller the alpha level, the smaller the area where you would reject the null hypothesis. Saying we reject that there is no difference in Oreo flavors.\n",
    "With a tiny area, there exist a larger chance that we will not reject the null hypothesis when we should."
   ]
  },
  {
   "cell_type": "markdown",
   "metadata": {},
   "source": [
    "**Part C:** Perform an **Analysis of Variance hypothesis test** in order to determine if there is evidence that there is _some_ difference among the mean ratings given to these 12 Oreo flavors. Clearly state your null and alternative hypothesis, and use the significance level identified in **Part B**. You must show **all** calculations **by hand** (and may of course use Python as a calculator, and to compute values from a distribution using the appropriate percent-point-function (ppf) or cumulative distribution function (cdf)).\n",
    "\n",
    "In addition to showing the code for your calculations, make comments **in Markdown** explaining what you are doing."
   ]
  },
  {
   "cell_type": "markdown",
   "metadata": {
    "collapsed": true
   },
   "source": [
    "#### 1.C.\n",
    "To start off, I read several documentation on ANOVA and how other software calculates NaN values. Matlab, for example, drops the groups where NaN exists. So I will create a new data frame that calculates the new ANOVA avalues based on any rater that has rated ALL the flavors of Oreo."
   ]
  },
  {
   "cell_type": "code",
   "execution_count": 97,
   "metadata": {},
   "outputs": [
    {
     "data": {
      "text/html": [
       "<div>\n",
       "<style scoped>\n",
       "    .dataframe tbody tr th:only-of-type {\n",
       "        vertical-align: middle;\n",
       "    }\n",
       "\n",
       "    .dataframe tbody tr th {\n",
       "        vertical-align: top;\n",
       "    }\n",
       "\n",
       "    .dataframe thead th {\n",
       "        text-align: right;\n",
       "    }\n",
       "</style>\n",
       "<table border=\"1\" class=\"dataframe\">\n",
       "  <thead>\n",
       "    <tr style=\"text-align: right;\">\n",
       "      <th>oreo_flavor</th>\n",
       "      <th>pb&amp;j</th>\n",
       "      <th>mega stuf</th>\n",
       "      <th>lemon</th>\n",
       "      <th>chocolate</th>\n",
       "      <th>birthday cake</th>\n",
       "      <th>double stuf</th>\n",
       "      <th>red velvet</th>\n",
       "      <th>Dunkin' Donuts Mocha</th>\n",
       "      <th>mini</th>\n",
       "      <th>thins, coconut</th>\n",
       "      <th>mint</th>\n",
       "      <th>cinnamon bun</th>\n",
       "    </tr>\n",
       "  </thead>\n",
       "  <tbody>\n",
       "    <tr>\n",
       "      <th>rater_c</th>\n",
       "      <td>4</td>\n",
       "      <td>3</td>\n",
       "      <td>3.5</td>\n",
       "      <td>3</td>\n",
       "      <td>5</td>\n",
       "      <td>4</td>\n",
       "      <td>3</td>\n",
       "      <td>1</td>\n",
       "      <td>4</td>\n",
       "      <td>4.5</td>\n",
       "      <td>4</td>\n",
       "      <td>4.5</td>\n",
       "    </tr>\n",
       "    <tr>\n",
       "      <th>rater_r</th>\n",
       "      <td>2</td>\n",
       "      <td>4</td>\n",
       "      <td>1.5</td>\n",
       "      <td>3.5</td>\n",
       "      <td>2.5</td>\n",
       "      <td>3</td>\n",
       "      <td>4.5</td>\n",
       "      <td>5</td>\n",
       "      <td>4</td>\n",
       "      <td>3</td>\n",
       "      <td>4.5</td>\n",
       "      <td>4.5</td>\n",
       "    </tr>\n",
       "  </tbody>\n",
       "</table>\n",
       "</div>"
      ],
      "text/plain": [
       "oreo_flavor pb&j mega stuf lemon chocolate birthday cake double stuf  \\\n",
       "rater_c        4         3   3.5         3             5           4   \n",
       "rater_r        2         4   1.5       3.5           2.5           3   \n",
       "\n",
       "oreo_flavor red velvet Dunkin' Donuts Mocha mini thins, coconut mint  \\\n",
       "rater_c              3                    1    4            4.5    4   \n",
       "rater_r            4.5                    5    4              3  4.5   \n",
       "\n",
       "oreo_flavor cinnamon bun  \n",
       "rater_c              4.5  \n",
       "rater_r              4.5  "
      ]
     },
     "execution_count": 97,
     "metadata": {},
     "output_type": "execute_result"
    }
   ],
   "source": [
    "# copy over to new DF\n",
    "dfOREOt = dfOREO.copy()\n",
    "\n",
    "# drop irrelevant data\n",
    "dfOREOt.drop(\n",
    "    columns=['notes_and_discussion', 'average_across_raters'],\n",
    "    inplace=True\n",
    ")\n",
    "\n",
    "# drop nans\n",
    "dfOREOt.dropna(\n",
    "    axis=1,\n",
    "    inplace=True\n",
    ")\n",
    "\n",
    "# transpose df\n",
    "dfOREOt=dfOREOt.transpose()\n",
    "\n",
    "#grab the first row for the header\n",
    "new_header = dfOREOt.iloc[0]\n",
    "\n",
    "#take the data less the header row\n",
    "dfOREOt = dfOREOt[1:]\n",
    "\n",
    "#set the header row as the df header\n",
    "dfOREOt.columns = new_header\n",
    "\n",
    "dfOREOt"
   ]
  },
  {
   "cell_type": "markdown",
   "metadata": {},
   "source": [
    "Based on this data, we need to figure out if there enough evidence to suggest that there is a difference in oreo flavors.\n",
    "I will state the null hypothesis as saying that there is no difference in oreo flavors a nd the alternate hypothesis as saying that there is a difference in flavors.\n",
    "$$\n",
    "H_{0}: \\mu_{\\text{pb&j}} = \\mu_{\\text{mega stuf}} = \\ldots = \\mu_{\\text{cinnamon bun}} \\\\\n",
    "H_{1}: \\mu_{\\text{pb&j}} \\neq \\mu_{\\text{mega stuf}} \\neq \\ldots \\neq \\mu_{\\text{cinnamon bun}} \\\\\n",
    "$$"
   ]
  },
  {
   "cell_type": "code",
   "execution_count": 63,
   "metadata": {},
   "outputs": [],
   "source": [
    "# get the number of values\n",
    "N = len(dfOREOt.values.flatten())\n",
    "\n",
    "# Get total number of groups\n",
    "I = len(dfOREOt.columns)"
   ]
  },
  {
   "cell_type": "markdown",
   "metadata": {},
   "source": [
    "**Part D:** Perform a **t hypothesis test** to determine if there is evidence supporting the claim that cinnamon bun Oreos have a higher mean rating than PB&J Oreos. Use the significance level you identified in **Part B**. Clearly state your null and alternative hypotheses, your conclusions, and show all work. Again, you may not use any canned t-test function."
   ]
  },
  {
   "cell_type": "markdown",
   "metadata": {},
   "source": [
    "**Part E:** Do your results from Parts C and D agree with one another? If they agree, explain how they are in agreement in _words_. If they do not agree, explain why you think they do not agree.\n",
    "\n",
    "_Hint: if they do not agree, consider carefully what assumptions we make in ANOVA and the t-test._"
   ]
  },
  {
   "cell_type": "code",
   "execution_count": null,
   "metadata": {
    "collapsed": true
   },
   "outputs": [],
   "source": []
  },
  {
   "cell_type": "markdown",
   "metadata": {},
   "source": [
    "<br>\n",
    "\n",
    "---\n",
    "<a id='p2'></a>\n",
    "[Back to top](#top)\n",
    "\n",
    "### [30 points] Problem 2: Multiple Linear Regression to Explain House Hauntings\n",
    "\n",
    "<img src=\"https://s-media-cache-ak0.pinimg.com/originals/09/72/01/09720128cff5de4d4af038cd3fcf7f69.jpg\" style=\"width: 300px;\"/>\n",
    "\n",
    "In an effort to control the skyrocketing prices of real estate in the Colorado Front Range, Governor Polis implemented a cutting edge new intervention. This new program oversaw the introduction of ghosts back into their natural ecosystem, after the ghost population seriously dwindled in recent decades due to overhaunting. However, an unfortunate miscalculation has led to haunted houses becoming a very serious problem in Colorado. Modern problems require modern solutions, so Governor Polis has hired you and the famous hedgehog data scientist/part-time ghostbuster Amy to determine what features of a house may be used to best predict a `haunted` score, related to the probability that a house with the given features is haunted (higher $\\leftrightarrow$ more likely to be haunted).\n",
    "\n",
    "You decide to use multiple linear regression to understand and predict what factors lead to increased haunted house hazard. You collected a data set from Haunted Zillow, the lesser-known database of haunted house prices and attributes. The data cover a variety of potential features, and you'll find this data in the file `houses.csv`. \n",
    "\n",
    "**Response**: \n",
    "\n",
    "- $\\texttt{haunted}$: a haunting score, related to the probability that a house with the given features is haunted (higher $\\leftrightarrow$ more likely to be haunted)\n",
    "\n",
    "**Features**: \n",
    "\n",
    "- $\\texttt{age}$: age of the house, in years\n",
    "- $\\texttt{area}$: square footage of interior of house\n",
    "- $\\texttt{bathrooms}$: number of bathrooms\n",
    "- $\\texttt{distance metro}$: distance to the nearest major metropolitan area (in miles)\n",
    "- $\\texttt{distance cemetery}$: distance to the nearest cemetery (in miles)\n",
    "- $\\texttt{cats}$: the number of cats within a one-block radius of the house\n",
    "- $\\texttt{howls}$: the number of wolf howls heard on an average night in the house's neighborhood\n",
    "- $\\texttt{clouds}$: what percentage of the sky was covered by clouds (fraction, 0-1)\n",
    "- $\\texttt{precipitation}$: amount of precipitation in the past 72 hours (inches)\n",
    "- $\\texttt{misery index}$: an economic indicator for how miserable the average United States citizen is, based on the unemployment rate and the inflation rate. More [here](https://www.stuffyoushouldknow.com/podcasts/whats-the-misery-index.htm) and [here](https://en.wikipedia.org/wiki/Misery_index_(economics)). Higher values correspond to more miserable citizens.\n",
    "- $\\texttt{ice cream sold}$: the number of units of ice cream sold at the farmer's market the week the house was most recently sold"
   ]
  },
  {
   "cell_type": "markdown",
   "metadata": {},
   "source": [
    "**Part A**: Read the data from `houses.csv` into a Pandas DataFrame.  Note that since we will be doing a multiple linear regression we will need all of the features, so you should drop any row in the DataFrame that is missing data. "
   ]
  },
  {
   "cell_type": "code",
   "execution_count": null,
   "metadata": {},
   "outputs": [],
   "source": []
  },
  {
   "cell_type": "markdown",
   "metadata": {},
   "source": [
    "**Part B**: Perform the appropriate statistical test at the $\\alpha = 0.01$ significance level to determine if _at least one_ of the features is related to the the response $y$.  Clearly describe your methodology and show all computations in Python. "
   ]
  },
  {
   "cell_type": "code",
   "execution_count": null,
   "metadata": {
    "collapsed": true
   },
   "outputs": [],
   "source": []
  },
  {
   "cell_type": "markdown",
   "metadata": {},
   "source": [
    "**Part C**: Write a function `forward_select(df, resp_str, maxk)` that takes in the DataFrame, the name of the column corresponding to the response, and the maximum number of desired features, and returns a list of feature names corresponding to the `maxk` most important features via forward selection.  At each stage in forward selection you should add the feature whose inclusion in the model would result in the lowest sum of squared errors $(SSE)$. Use your function to determine the best $k=5$ features to include in the model. Clearly indicate which feature was added in each stage. \n",
    "\n",
    "**Note**: The point of this exercise is to see if you can implement **foward_select** yourself.  You may of course use canned routines like statmodels OLS, but you may not call any Python method that explicitly performs forward selection."
   ]
  },
  {
   "cell_type": "code",
   "execution_count": null,
   "metadata": {
    "collapsed": true
   },
   "outputs": [],
   "source": []
  },
  {
   "cell_type": "markdown",
   "metadata": {},
   "source": [
    "**Part D**: Write down the multiple linear regression model, including estimated parameters, obtained by your forward selection process. "
   ]
  },
  {
   "cell_type": "code",
   "execution_count": null,
   "metadata": {
    "collapsed": true
   },
   "outputs": [],
   "source": []
  },
  {
   "cell_type": "markdown",
   "metadata": {},
   "source": [
    "**Part E**: Perform the appropriate statistical test at the $\\alpha = 0.05$ significance level to determine whether there is a statistically significant difference between the full model with all features and the reduced model obtained by forward selection in **Part D**. "
   ]
  },
  {
   "cell_type": "code",
   "execution_count": null,
   "metadata": {
    "collapsed": true
   },
   "outputs": [],
   "source": []
  },
  {
   "cell_type": "markdown",
   "metadata": {},
   "source": [
    "**Part F**: Based on your conclusions in **Part E**, use the _better_ of the two models to predict the sharknado hazard when the following features are observed: \n",
    "\n",
    "- $\\texttt{age}$: 100 years\n",
    "- $\\texttt{area}$: 2200 square feet\n",
    "- $\\texttt{bathrooms}$: 3 bathrooms\n",
    "- $\\texttt{distance metro}$: 25 miles\n",
    "- $\\texttt{distance cemetery}$: 10 miles\n",
    "- $\\texttt{cats}$: 4 cats\n",
    "- $\\texttt{howls}$: 5 wolf howls/night\n",
    "- $\\texttt{clouds}$: 0.65 cloud cover\n",
    "- $\\texttt{precipitation}$: 0 inches\n",
    "- $\\texttt{misery index}$: 10\n",
    "- $\\texttt{ice cream sold}$: 125"
   ]
  },
  {
   "cell_type": "code",
   "execution_count": null,
   "metadata": {
    "collapsed": true
   },
   "outputs": [],
   "source": []
  },
  {
   "cell_type": "markdown",
   "metadata": {},
   "source": [
    "**Part G:** Governor Polis dabbles a bit in the art of data science, as well as the science of data art. He tells you that the response (`haunted` score) that you and Amy predicted is actually the natural logarithm of the _odds_ that a house with the given features is haunted, where if $p$ is the probability that a house is haunted, then the odds are given by $$\\text{odds} = \\dfrac{p}{1-p}$$\n",
    "\n",
    "What transformation must you make in order to turn your multiple regression model into a logistic regression model, to classify a house a haunted or not? Perform this simple transformation, then use a decision threshold of 0.5 to classify the house from **Part F** as haunted or not haunted. No new models should be fit here; use the same model that you used in Part F."
   ]
  },
  {
   "cell_type": "code",
   "execution_count": null,
   "metadata": {
    "collapsed": true
   },
   "outputs": [],
   "source": []
  },
  {
   "cell_type": "markdown",
   "metadata": {},
   "source": [
    "<br>\n",
    "\n",
    "---\n",
    "[Back to top](#top)\n",
    "<a id='bot'></a>"
   ]
  }
 ],
 "metadata": {
  "kernelspec": {
   "display_name": "Python 3",
   "language": "python",
   "name": "python3"
  },
  "language_info": {
   "codemirror_mode": {
    "name": "ipython",
    "version": 3
   },
   "file_extension": ".py",
   "mimetype": "text/x-python",
   "name": "python",
   "nbconvert_exporter": "python",
   "pygments_lexer": "ipython3",
   "version": "3.7.1"
  }
 },
 "nbformat": 4,
 "nbformat_minor": 2
}
