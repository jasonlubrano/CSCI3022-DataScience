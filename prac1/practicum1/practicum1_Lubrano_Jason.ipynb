{
 "cells": [
  {
   "cell_type": "markdown",
   "metadata": {},
   "source": [
    "<a id='top'></a>\n",
    "\n",
    "# CSCI 3022: Intro to Data Science - Spring 2019 Practicum 1\n",
    "***\n",
    "\n",
    "This practicum is due on Canvas by **11:59 PM on Monday March 4**. Your solutions to theoretical questions should be done in Markdown/MathJax directly below the associated question.  Your solutions to computational questions should include any specified Python code and results as well as written commentary on your conclusions.  \n",
    "\n",
    "**Here are the rules:** \n",
    "\n",
    "1. All work, code and analysis, must be your own. \n",
    "1. You may use your course notes, posted lecture slides, textbooks, in-class notebooks, and homework solutions as resources.  You may also search online for answers to general knowledge questions like the form of a probability distribution function or how to perform a particular operation in Python/Pandas. \n",
    "1. This is meant to be like a coding portion of your midterm exam. So, the instructional team will be much less helpful than we typically are with homework. For example, we will not check answers, help debug your code, and so on.\n",
    "1. If something is left open-ended, it is because we want to see how you approach the kinds of problems you will encounter in the wild, where it will not always be clear what sort of tests/methods should be applied. Feel free to ask clarifying questions though.\n",
    "2. You may **NOT** post to message boards or other online resources asking for help.\n",
    "3. You may **NOT** copy-paste solutions *from anywhere*.\n",
    "4. You may **NOT** collaborate with classmates or anyone else.\n",
    "5. In short, **your work must be your own**. It really is that simple.\n",
    "\n",
    "Violation of the above rules will result in an immediate academic sanction (*at the very least*, you will receive a 0 on this practicum or an F in the course, depending on severity), and a trip to the Honor Code Council.\n",
    "\n",
    "**By submitting this assignment, you agree to abide by the rules given above.**\n",
    "\n",
    "***\n",
    "\n",
    "**Name**: Jason Lubrano\n",
    "\n",
    "***\n",
    "\n",
    "\n",
    "**NOTES**: \n",
    "\n",
    "- You may not use late days on the practicums nor can you drop your practicum grades. \n",
    "- If you have a question for us, post it as a **PRIVATE** message on Piazza.  If we decide that the question is appropriate for the entire class, then we will add it to a Practicum clarifications thread. \n",
    "- Do **NOT** load or use any Python packages that are not available in Anaconda 3.6. \n",
    "- Some problems with code may be autograded.  If we provide a function API **do not** change it.  If we do not provide a function API then you're free to structure your code however you like. \n",
    "- Submit only this Jupyter notebook to Canvas.  Do not compress it using tar, rar, zip, etc. \n",
    "- This should go without saying, but... For any question that asks you to calculate something, you **must show all work to receive credit**. Sparse or nonexistent work will receive sparse or nonexistent credit.\n",
    "\n",
    "---\n",
    "**Shortcuts:**  [Problem 1](#p1) | [Problem 2](#p2) | [Bottom](#bot)\n",
    "\n",
    "---"
   ]
  },
  {
   "cell_type": "code",
   "execution_count": 1,
   "metadata": {},
   "outputs": [],
   "source": [
    "from scipy import stats\n",
    "import numpy as np \n",
    "import pandas as pd\n",
    "import matplotlib.pyplot as plt\n",
    "%matplotlib inline"
   ]
  },
  {
   "cell_type": "markdown",
   "metadata": {},
   "source": [
    "<br>\n",
    "\n",
    "---\n",
    "[Back to top](#top)\n",
    "<a id='p1'></a>\n",
    "\n",
    "### [30 points] Problem 1: The Game of Strife"
   ]
  },
  {
   "cell_type": "markdown",
   "metadata": {},
   "source": [
    "Below, and at the [link here](http://www.cs.colorado.edu/~tonyewong/home/resources/game_of_strife.png), you will find the board for the ***Game of Strife***, a simplified and slightly more depressing version of the [Game of Life](https://en.wikipedia.org/wiki/The_Game_of_Life). Here are some rules:\n",
    "\n",
    "- Players begin at START and may choose to begin the game by either going to college (moving to the right from START) or starting a career (moving downward from START). Players then move along the game board in order of increasing tile number. \n",
    "    - If a player begins by going to college, then they start the game with -\\$20,000. That is indeed negative money, to account for student loan debt.\n",
    "    - If a player begins by starting a career, then they start the game with \\$5,000.\n",
    "\n",
    "<p> </p>\n",
    "\n",
    "- At the beginning of a player's turn, they roll a fair 6-sided die, the outcome of which determines how many tiles they move forward.\n",
    "\n",
    "<p> </p>\n",
    "\n",
    "- When a player reaches a red square (tiles 9, 17 or 30), they must stop at that square for the rest of their turn, even if they would not have landed on the red square.\n",
    "    - When a player stops on the CAREER tile after college (square 9), they are randomly assigned a career and salary from the possibilities: \\$50,000, \\$70,000, \\$90,000, \\$110,000, or \\$130,000 (all with equal probability). The player's actual career is irrelevant to the game, but please make something up so you are emotionally invested in the game.\n",
    "    - If a player starts a career at the beginning of the game, they are assigned a salary randomly from possibilities \\$40,000, \\$50,000, \\$60,000, \\$70,000, or \\$80,000.\n",
    "    - When a player stops on the HOUSE tile, they put a down payment on a house. This down payment is drawn randomly from the set \\$25,000, \\$40,000, \\$55,000 or \\$70,000.\n",
    "    - When a player stops on the RETIRE tile, the player collects a pension equal to half their salary and then the game ends immediately.\n",
    "\n",
    "<p> </p>\n",
    "\n",
    "- When a player lands on or passes a PAYDAY square, they earn money equal to their salary.\n",
    "\n",
    "<p> </p>\n",
    "\n",
    "- When a player lands on a STRIFE square (1, 4, 7, 13, 18, 23 or 29 if they go to college, or 2, 7, 13, 18, 23 or 29 if they start a career immediately at the beginning of the game), they draw a STRIFE card. The STRIFE cards have the player earn \\$5,000 or \\$10,000, or lose \\$1,000, \\$2,000 or \\$5,000.\n",
    "\n",
    "<p> </p>\n",
    "\n",
    "- Players can have negative money, which corresponds to being in debt.\n"
   ]
  },
  {
   "cell_type": "markdown",
   "metadata": {},
   "source": [
    "<img src=\"http://www.cs.colorado.edu/~tonyewong/home/resources/game_of_strife.png\" style=\"width: 700px;\"/>"
   ]
  },
  {
   "cell_type": "markdown",
   "metadata": {},
   "source": [
    "**Part A:** Write code to simulate an entire game of the Game of Strife (with only one player). You may **not** have two separate routines for simulating the game, or a turn, depending on whether a player goes to college or starts a career at the beginning; both possibilities should be accounted for within your one set of codes.\n",
    "\n",
    "Then run two ensembles of at least 10,000 games, one where the player starts by going to college, the other where the player starts a career immediately. Plot density histograms of the players' ending distributions of money on the same set of axes. Be sure to label your axes, include a legend and make your histogram box faces slightly transparent, so both sets of data are visible."
   ]
  },
  {
   "cell_type": "markdown",
   "metadata": {},
   "source": [
    "### 1. A. Code)"
   ]
  },
  {
   "cell_type": "code",
   "execution_count": 20,
   "metadata": {},
   "outputs": [],
   "source": [
    "strife_die = {\n",
    "    'sides': np.array([1, 2, 3, 4, 5, 6]),\n",
    "    'probs': np.array([1/6, 1/6, 1/6, 1/6, 1/6, 1/6])\n",
    "}"
   ]
  },
  {
   "cell_type": "code",
   "execution_count": 21,
   "metadata": {},
   "outputs": [
    {
     "name": "stdout",
     "output_type": "stream",
     "text": [
      "college_best 610000.0\n",
      "college_worst 100000.0\n",
      "career_best 400000.0\n",
      "career_worst 85000.0\n"
     ]
    }
   ],
   "source": [
    "# college best\n",
    "start = -20000\n",
    "strife = 7 * 10000\n",
    "payday = 130000 * 4\n",
    "house = -25000\n",
    "retire = 130000/2\n",
    "\n",
    "college_best = start + strife + payday + house + retire\n",
    "print(\"college_best\", college_best)\n",
    "\n",
    "# college worst\n",
    "start = -20000\n",
    "strife = 7 * -5000\n",
    "payday = 50000 * 4\n",
    "house = -70000\n",
    "retire = 50000/2\n",
    "\n",
    "college_worst = start + strife + payday + house + retire\n",
    "print(\"college_worst\", college_worst)\n",
    "\n",
    "# career best\n",
    "start = 5000\n",
    "strife = 6 * 10000\n",
    "payday = 80000 * 4\n",
    "house = -25000\n",
    "retire = 80000/2\n",
    "\n",
    "career_best = start + strife + payday + house + retire\n",
    "print(\"career_best\", career_best)\n",
    "\n",
    "# career worst\n",
    "start = 5000\n",
    "strife = 6 * -5000\n",
    "payday = 40000 * 4\n",
    "house = -70000\n",
    "retire = 40000/2\n",
    "\n",
    "career_worst = start + strife + payday + house + retire\n",
    "print(\"career_worst\", career_worst)"
   ]
  },
  {
   "cell_type": "code",
   "execution_count": 32,
   "metadata": {},
   "outputs": [],
   "source": [
    "def strife_turn(state0, cash, player_salary, college=0):\n",
    "    #debugging\n",
    "    verbose = False\n",
    "    if(college):\n",
    "        if(player_salary >= 540000):\n",
    "            verbose = True\n",
    "    else:\n",
    "        if(player_salary >= 420000):\n",
    "            verbose = True\n",
    "    \n",
    "    # college events\n",
    "    college_strife = [1, 4, 7, 13, 18, 23, 29]\n",
    "    college_payday = [10, 16, 22, 27]\n",
    "    college_salary = [50000, 70000, 90000, 110000, 130000]\n",
    "    \n",
    "    # career events\n",
    "    career_strife = [2, 7, 13, 18, 23, 29]\n",
    "    career_payday = [4, 10, 16, 22, 27]\n",
    "    career_salary = [40000, 50000, 60000, 70000, 80000]\n",
    "    \n",
    "    #gameplay events\n",
    "    strife_draw = [5000, 10000, -1000, -2000, -5000]\n",
    "    event_college_career = 9\n",
    "    event_house = 17\n",
    "    \n",
    "    house_payment = [-25000, -40000, -55000, -70000]\n",
    "    event_retire = 30\n",
    "    retirement_pension = 0 # set it at the end of the game\n",
    "    \n",
    "    roll = np.random.choice(strife_die['sides'], p = strife_die['probs'])\n",
    "    \n",
    "    if(verbose):\n",
    "        print(\"you are seeing this because the game is behaving unexpectedly\")\n",
    "    \n",
    "    # does the player go to college\n",
    "    # turns out this isnt simmed and should be hardcodeed\n",
    "    if(state0 == 0):\n",
    "        # if college is 1, then player went to college\n",
    "        if(college):\n",
    "            if(verbose):\n",
    "                print(\"player went to college\")\n",
    "            cash = -20000\n",
    "        else:\n",
    "            if(verbose):\n",
    "                print(\"player went to workforce\")\n",
    "            cash = 5000\n",
    "            player_salary = np.random.choice(career_salary)\n",
    "\n",
    "    #state 1 is the new move, state 0 is the starting spot\n",
    "    state1 = state0 + roll\n",
    "    \n",
    "    #set the players career\n",
    "    if(college):\n",
    "        if((state0 < event_college_career) and (state1 >= event_college_career)):\n",
    "            if(verbose):\n",
    "                print(\"player pick salary\")\n",
    "            player_salary = np.random.choice(college_salary)\n",
    "            \n",
    "    # buying a house and retiring are universal moves\n",
    "    if((state0 < event_house) and (state1 >= event_house)):\n",
    "        if(verbose):\n",
    "            print(\"player buy house\")\n",
    "        cash = cash + np.random.choice(house_payment)\n",
    "        \n",
    "    # check for strife\n",
    "    if(college):\n",
    "        if(state1 in college_strife):\n",
    "            cash = cash + np.random.choice(strife_draw)\n",
    "            if(verbose):\n",
    "                print(\"player pick strife card\")\n",
    "    else:\n",
    "        if(state1 in career_strife):\n",
    "            cash = cash + np.random.choice(strife_draw)\n",
    "            if(verbose):\n",
    "                print(\"player pick strife card\")\n",
    "            \n",
    "    # check for payday\n",
    "    if(college):\n",
    "        for d in range(len(college_payday)):\n",
    "            if (state0 < college_payday[d]) and (state1 >= college_payday[d]):\n",
    "                cash = cash + player_salary\n",
    "                if(verbose):\n",
    "                    print(\"payday\")\n",
    "    else:\n",
    "        for d in range(len(career_payday)):\n",
    "            if (state0 < career_payday[d]) and (state1 >= career_payday[d]):\n",
    "                cash = cash + player_salary\n",
    "                if(verbose):\n",
    "                    print(\"payday\")\n",
    "    \n",
    "    if((state0 < event_retire) and (state1 >= event_retire)):\n",
    "        retirement_pension = player_salary/2\n",
    "        cash = cash + retirement_pension\n",
    "        if(verbose):\n",
    "            print(\"game over player retired\")\n",
    "\n",
    "    # going to return the state and the cash, which will then be called again, similar to the miniopoly problem\n",
    "    return state1, cash, player_salary, college"
   ]
  },
  {
   "cell_type": "code",
   "execution_count": 33,
   "metadata": {},
   "outputs": [],
   "source": [
    "def sim_strife(player_college):\n",
    "    player_start = 0\n",
    "    player_cash = 0\n",
    "    player_salary = 0\n",
    "    move_cntr = 0\n",
    "    verbose = False\n",
    "    \n",
    "    game_finished = False\n",
    "    \n",
    "    while(not game_finished):\n",
    "        #print(move_cntr, player_start, player_cash, player_salary, player_college)\n",
    "        move_cntr += 1\n",
    "        if(player_start > 30):\n",
    "            game_finished = True\n",
    "            return player_cash\n",
    "        else:\n",
    "            player_start, player_cash, player_salary, player_college = strife_turn(player_start, player_cash, player_salary, player_college)    \n",
    "    return player_cash"
   ]
  },
  {
   "cell_type": "code",
   "execution_count": 34,
   "metadata": {},
   "outputs": [
    {
     "name": "stdout",
     "output_type": "stream",
     "text": [
      "Career Max and Min: 445000 139000\n",
      "College Max and Min: 575000 119000\n"
     ]
    }
   ],
   "source": [
    "def strife_sim_games(n_games):\n",
    "    cash_college = np.zeros(n_games)\n",
    "    cash_career = np.zeros(n_games)\n",
    "    \n",
    "    for game in range(n_games):\n",
    "        cash_career[game] = sim_strife(0)\n",
    "        cash_college[game] = sim_strife(1)\n",
    "    \n",
    "    cash_career.sort()\n",
    "    cash_college.sort()\n",
    "    \n",
    "    cash_career_min = int(cash_career[0])\n",
    "    cash_career_max = int(cash_career[-1])\n",
    "    cash_college_min = int(cash_college[0])\n",
    "    cash_college_max = int(cash_college[-1])\n",
    "    \n",
    "    print(\"Career Max and Min:\", cash_career_max, cash_career_min)\n",
    "    print(\"College Max and Min:\", cash_college_max, cash_college_min)\n",
    "\n",
    "strife_sim_games(10000)"
   ]
  },
  {
   "cell_type": "code",
   "execution_count": 35,
   "metadata": {},
   "outputs": [],
   "source": [
    "def graph_strife(n_games):\n",
    "    cash_college = np.zeros(n_games)\n",
    "    cash_career = np.zeros(n_games)\n",
    "    \n",
    "    for game in range(n_games):\n",
    "        cash_career[game] = sim_strife(0)\n",
    "        cash_college[game] = sim_strife(1)\n",
    "    \n",
    "    cash_career.sort()\n",
    "    cash_college.sort()\n",
    "    \n",
    "    #print(cash_college)\n",
    "    #print(cash_career)\n",
    "    \n",
    "    cash_career_min = int(cash_career[0])\n",
    "    cash_career_max = int(cash_career[-1])\n",
    "    cash_college_min = int(cash_college[0])\n",
    "    cash_college_max = int(cash_college[-1])\n",
    "    \n",
    "    binwidth = 10000\n",
    "    \n",
    "    colors = [\"seagreen\", \"coral\", \"midnightblue\", \"red\", \"white\", \"black\"]\n",
    "    \n",
    "    fig, ax = plt.subplots(figsize=(12,6))\n",
    "\n",
    "    ax.hist(cash_career, density=True, color=colors[0], edgecolor=colors[4], bins=range(cash_career_min, cash_career_max+binwidth, binwidth), label=\"Career Path\", alpha=0.75)\n",
    "    ax.hist(cash_college, density=True, color=colors[1], edgecolor=colors[4], bins=range(cash_college_min, cash_college_max+binwidth, binwidth), label=\"College Path\", alpha=0.75)\n",
    "    \n",
    "    ax.set_title(\"Prob Density of Final Player Cash in Strife\", color=colors[2], fontsize=20)\n",
    "    ax.set_xlabel(\"Final Player Cash\", fontsize=16, color=colors[3])\n",
    "    ax.set_ylabel(\"Probability Density\", fontsize=16, color=colors[3])\n",
    "    ax.grid(True, alpha=0.25)\n",
    "    ax.legend()"
   ]
  },
  {
   "cell_type": "code",
   "execution_count": 36,
   "metadata": {},
   "outputs": [
    {
     "data": {
      "image/png": "[encoded data removed]",
      "text/plain": [
       "<Figure size 864x432 with 1 Axes>"
      ]
     },
     "metadata": {},
     "output_type": "display_data"
    }
   ],
   "source": [
    "n_games = 10000\n",
    "graph_strife(n_games)"
   ]
  },
  {
   "cell_type": "markdown",
   "metadata": {},
   "source": [
    "**Part B:** Use concepts from class to describe the two distributions of player cash at retirement, depending on whether or not they went to college or immediately started a career. How are the two distributions similar? How do they differ? Address characteristics like skew, modality, central tendency and spread. How could the rules of the Game of Strife account for these differences?"
   ]
  },
  {
   "cell_type": "markdown",
   "metadata": {},
   "source": [
    "### 1. B. Explain)\n",
    "\n",
    "#### College Game\n",
    "It seems as though the distribution of wealth for college players is muiltinodal. This is an interesting case because when I ran a simulation for other sets and values for a college salary, the distribution was nodal over the number of salaries. In other words, a scenerio with three different salaries gave a graph with three different nodes, and so forth was the case for every other play. Furthermore, the distributions all seemed to be centered around those probabilities. There wasn't a single case where one player with a lower salary was able to reach the next financial nodal bracket. It seems the spread for the players that went to college were able to have good and bad games for their salary, however they would be stuck in a single case bracket.\n",
    "\n",
    "#### Career Game\n",
    "The career game is the most interesting case. There doesn't seem to be a nodal dendency similar to the college games - not one that is noticable at least. I attribute this to the differences in salaries for career players being to close. As opposed to the 20 thousand salary difference between a college player, there is only a 10 thousand difference between career salaries. When I tried this with less number of values, there seemed to exist the exact same pattern - an almost \"flat\" top of career games with the bump in the middle. Furthermore, similarly to the career games, it seems a players success is all based on their salary and they are stuck in a range of which game they can have.\n",
    "\n",
    "Over all, it seems obvious that the outcome of the games were based on the salaries of the players. The interesting fact, however, is that a 50000 college salaried player can not end up in the outcome bounds of a salary that is greater and so forth. The outcomes are very strict and determine the outcomes.\n",
    "\n",
    "Testing the code I made bounds of the best possible and worst possible outcome that can happen for the games eg. the worst would be having the lowest salary, buying the most expensive house, and then hitting every strife card that would cause one to pay the most amount of money. The best game would exist of having the highest salary, buying the cheapest house, and hitting every strife card that gave the biggest bonus. I did this for the college and career path respectively. I did this as a sanity check. Interestingly, there did not seem to be the case where a player will have the worst or best possible game for their career path - and out of all the outcomes there existed the final salary that was inbetween the calculations."
   ]
  },
  {
   "cell_type": "markdown",
   "metadata": {},
   "source": [
    "**Part C:**  Use your results from Part A to estimate the probability that a person would retire with at least \\$300,000, if they went to college."
   ]
  },
  {
   "cell_type": "markdown",
   "metadata": {},
   "source": [
    "### 1. C. Explain)\n",
    "\n",
    "Over the nodes for career, there seemed to be 3/5 of the players that ended up in the range where they would end up with 300,000 or more. This is due to the fact that there existed 5 nodes, and the valley between the nodes is almost exactly on the 300,000 mark.\n",
    "\n",
    "Below I coded it as well, to show that around 3/5 of players will end up in this category."
   ]
  },
  {
   "cell_type": "markdown",
   "metadata": {},
   "source": [
    "### 1. C. Code)"
   ]
  },
  {
   "cell_type": "code",
   "execution_count": 45,
   "metadata": {},
   "outputs": [
    {
     "name": "stdout",
     "output_type": "stream",
     "text": [
      "College Max and Min: 573000 119000\n",
      "Career Max and Min: 450000 138000\n",
      "Odds college player >= 300000: 0.59\n",
      "Odds career player >= 300000: 0.4598\n"
     ]
    }
   ],
   "source": [
    "def strife_sim_college_games(n_games):\n",
    "    cash_college = np.zeros(n_games)\n",
    "    col_over_cntr = 0\n",
    "    \n",
    "    cash_career = np.zeros(n_games)\n",
    "    car_over_cntr = 0\n",
    "    \n",
    "    for game in range(n_games):\n",
    "        cash_college[game] = sim_strife(1)\n",
    "        if(cash_college[game] >= 300000):\n",
    "            col_over_cntr = col_over_cntr + 1\n",
    "            \n",
    "    for game in range(n_games):\n",
    "        cash_career[game] = sim_strife(0)\n",
    "        if(cash_career[game] >= 300000):\n",
    "            car_over_cntr = car_over_cntr + 1\n",
    "        \n",
    "    # sanity check sort\n",
    "    cash_career.sort()\n",
    "    cash_college.sort()\n",
    "    \n",
    "    # sanity check find min and max of both paths\n",
    "    cash_career_min = int(cash_career[0])\n",
    "    cash_career_max = int(cash_career[-1])\n",
    "    cash_college_min = int(cash_college[0])\n",
    "    cash_college_max = int(cash_college[-1])\n",
    "    \n",
    "    print(\"College Max and Min:\", cash_college_max, cash_college_min)\n",
    "    print(\"Career Max and Min:\", cash_career_max, cash_career_min)\n",
    "    \n",
    "    col_over_prob = col_over_cntr/n_games\n",
    "    car_over_prob = car_over_cntr/n_games\n",
    "    \n",
    "    print(\"Odds college player >= 300000:\", col_over_prob)\n",
    "    print(\"Odds career player >= 300000:\", car_over_prob)\n",
    "\n",
    "strife_sim_college_games(10000)"
   ]
  },
  {
   "cell_type": "markdown",
   "metadata": {},
   "source": [
    "**Part D:** The United States [Bureau of Labor Statistics](https://www.bls.gov/news.release/hsgec.nr0.htm) has found that approximately 66.7% of students go to college. Suppose players of the Game of Strife choose to go to college at the beginning of the game with this probability of $P(\\text{college}) = 0.667$.\n",
    "\n",
    "Use your two ensembles of games from Part A to estimate the probability that an individual, whose college education status is unknown, will retire in the Game of Strife with at least \\$300,000. State any relevant probability laws, theorems or rules that you use, and show all calculations."
   ]
  },
  {
   "cell_type": "markdown",
   "metadata": {},
   "source": [
    "### 1. D. Explain)\n",
    "\n",
    "I will use the law of total probability for this answer. After, I will code a simulation to prove the outcome. Hopefully this works.\n",
    "\n",
    "$$\n",
    "\\begin{align*}\n",
    "P \\left( O \\right) &= ? & P \\left( C_{l} \\right) &= 0.667 & P \\left( C_{r} \\right) &= 0.333 \\\\\n",
    "P \\left( O \\mid C_{l} \\right) &= 0.59 & P \\left( O \\mid C_{r} \\right) &= 0.4598 \\\\\n",
    "\\end{align*}\n",
    "$$\n",
    "$$\n",
    "\\begin{align*}\n",
    "P \\left( O \\right)\n",
    "    &= P \\left( C_{l} \\right) \\times P \\left( O \\mid C_{l} \\right) +  P \\left( C_{r} \\right) \\times  P \\left( O \\mid C_{r} \\right) \\\\\n",
    "    &= 0.667 \\times 0.59 + 0.333 \\times 0.4598 \\\\\n",
    "    &= 0.5466\n",
    "\\end{align*}\n",
    "$$\n",
    "\n",
    "The odds a player gets over $300000$ in a game is $0.5466$ (rounded to four decimal places)."
   ]
  },
  {
   "cell_type": "markdown",
   "metadata": {},
   "source": [
    "### 1. D Code)"
   ]
  },
  {
   "cell_type": "code",
   "execution_count": 47,
   "metadata": {},
   "outputs": [],
   "source": [
    "strife_path = {\n",
    "    'choice': np.array([0, 1]),\n",
    "    'probs': np.array([0.333, 0.667])\n",
    "}"
   ]
  },
  {
   "cell_type": "code",
   "execution_count": 48,
   "metadata": {},
   "outputs": [
    {
     "name": "stdout",
     "output_type": "stream",
     "text": [
      "Game Max and Min: 565000 565000\n",
      "Over 300000 counter: 5614\n",
      "Probs over 300000: 0.5614\n"
     ]
    }
   ],
   "source": [
    "def strife_sim_biased_games(n_games):\n",
    "    # put the right amount of players going to college vs those in career\n",
    "    over_cntr = 0\n",
    "    cash_final = np.zeros(n_games)\n",
    "    \n",
    "    # career games over 300000\n",
    "    for game in range(n_games):\n",
    "        path = np.random.choice(strife_path['choice'], p = strife_path['probs'])\n",
    "        cash_final[game] = sim_strife(path)\n",
    "        if(cash_final[game] >= 300000):\n",
    "            over_cntr = over_cntr + 1\n",
    "    \n",
    "    # sanity check sort\n",
    "    cash_final.sort()\n",
    "    \n",
    "    # sanity check find min and max of both paths\n",
    "    cash_min = int(cash_final[0])\n",
    "    cash_max = int(cash_final[-1])\n",
    "        \n",
    "    # odd calculation\n",
    "    over_prob = over_cntr/n_games\n",
    "    \n",
    "    # print max and min and return the games\n",
    "    print(\"Game Max and Min:\", cash_max, cash_max)\n",
    "    print(\"Over 300000 counter:\", over_cntr)\n",
    "    print(\"Probs over 300000:\", over_prob)\n",
    "\n",
    "strife_sim_biased_games(10000)"
   ]
  },
  {
   "cell_type": "markdown",
   "metadata": {},
   "source": [
    "**Part E:** Let's see how important the Strife tiles are in affecting a player's final money. What is the probability that a player ends the game with at least \\$300,000 in cash if they landed on at least one Strife square? You may want to modify your previous codes to run additional simulations for this part. Use the same method as Part D to address the proportion of players who begin by going to college versus starting a career."
   ]
  },
  {
   "cell_type": "code",
   "execution_count": 70,
   "metadata": {},
   "outputs": [],
   "source": [
    "def sim_strife_land(player_college):\n",
    "    career_strife = [2, 7, 13, 18, 23, 29]\n",
    "    college_strife = [1, 4, 7, 13, 18, 23, 29]\n",
    "    player_start = 0\n",
    "    player_cash = 0\n",
    "    player_salary = 0\n",
    "    move_cntr = 0\n",
    "    verbose = False\n",
    "    strife_cntr = 0\n",
    "    strife_land = False\n",
    "    \n",
    "    game_finished = False\n",
    "    if(player_college):\n",
    "        while(not game_finished):\n",
    "            #print(move_cntr, player_start, player_cash, player_salary, player_college)\n",
    "            if(not strife_land and player_start in college_strife):\n",
    "                strife_cntr = strife_cntr + 1\n",
    "                strife_land = True\n",
    "            move_cntr += 1\n",
    "            if(player_start > 30):\n",
    "                game_finished = True\n",
    "                return player_cash, strife_cntr\n",
    "            else:\n",
    "                player_start, player_cash, player_salary, player_college = strife_turn(player_start, player_cash, player_salary, player_college)\n",
    "    else:\n",
    "        while(not game_finished):\n",
    "            #print(move_cntr, player_start, player_cash, player_salary, player_college)\n",
    "            move_cntr += 1\n",
    "            if(not strife_land and player_start in career_strife):\n",
    "                strife_cntr = strife_cntr + 1\n",
    "                strife_land = True\n",
    "            if(player_start > 30):\n",
    "                game_finished = True\n",
    "                return player_cash, strife_cntr\n",
    "            else:\n",
    "                player_start, player_cash, player_salary, player_college = strife_turn(player_start, player_cash, player_salary, player_college)    \n",
    "    # if the strife_cntr is zero, then we dont add anything to the master counter\n",
    "    # if the player hits strife then we add that 1 to the thing\n",
    "    # reason being we only care if they hit it once, nnot how many btimes they hit it\n",
    "    return player_cash, strife_cntr"
   ]
  },
  {
   "cell_type": "code",
   "execution_count": 78,
   "metadata": {},
   "outputs": [
    {
     "name": "stdout",
     "output_type": "stream",
     "text": [
      "Game Max and Min: 568000 568000\n",
      "Over 300000 counter: 5510\n",
      "Probs over 300000: 0.551\n",
      "Games hit strife: 8464.0\n",
      "Probs landed strife: 0.8464\n",
      "Probs land strife given finished over 300000: 0.650992438563327\n",
      "Probs over 300000 given landed strife: 0.4237911550666271\n"
     ]
    }
   ],
   "source": [
    "def strife_sim_biased_landed_games(n_games):\n",
    "    # put the right amount of players going to college vs those in career\n",
    "    over_cntr = 0\n",
    "    cash_final = np.zeros(n_games)\n",
    "    strife_hits = 0\n",
    "    # going to just sum the arrary at the end\n",
    "    strife_land = np.zeros(n_games)\n",
    "    \n",
    "    # career games over 300000\n",
    "    for game in range(n_games):\n",
    "        path = np.random.choice(strife_path['choice'], p = strife_path['probs'])\n",
    "        cash_final[game], strife_land[game] = sim_strife_land(path)\n",
    "        if(cash_final[game] >= 300000):\n",
    "            over_cntr = over_cntr + 1\n",
    "    \n",
    "    # find total hits\n",
    "    strife_hits = np.sum(strife_land)\n",
    "    \n",
    "    # sanity check sort\n",
    "    cash_final.sort()\n",
    "    \n",
    "    # sanity check find min and max of both paths\n",
    "    cash_min = int(cash_final[0])\n",
    "    cash_max = int(cash_final[-1])\n",
    "        \n",
    "    # odd calculation\n",
    "    over_prob = over_cntr/n_games\n",
    "    strife_prob = strife_hits/n_games\n",
    "    strife_over_probs = over_cntr/strife_hits\n",
    "    # use bayes theorem\n",
    "    # P(O | S) = P(S | O) * P(O)/ P(S)\n",
    "    over_strife_probs = (strife_over_probs * over_prob) / strife_prob\n",
    "    \n",
    "    # print max and min and return the games\n",
    "    print(\"Game Max and Min:\", cash_max, cash_max)\n",
    "    print(\"Over 300000 counter:\", over_cntr)\n",
    "    print(\"Probs over 300000:\", over_prob)\n",
    "    print(\"Games hit strife:\", strife_hits)\n",
    "    print(\"Probs landed strife:\", strife_prob)\n",
    "    print(\"Probs land strife given finished over 300000:\", strife_over_probs)\n",
    "    # Finally get to what the question is asking for:\n",
    "    print(\"Probs over 300000 given landed strife:\", over_strife_probs)\n",
    "\n",
    "strife_sim_biased_landed_games(10000)"
   ]
  },
  {
   "cell_type": "markdown",
   "metadata": {},
   "source": [
    "<br>\n",
    "\n",
    "---\n",
    "[Back to top](#top)\n",
    "<a id='p2'></a>\n",
    "\n",
    "### [30 points] Problem 2: Sonic or Tails?"
   ]
  },
  {
   "cell_type": "markdown",
   "metadata": {},
   "source": [
    "<img src=\"http://www.cs.colorado.edu/~tonyewong/home/resources/hedgehog_coin.jpg\" style=\"width: 500px;\"/>"
   ]
  },
  {
   "cell_type": "markdown",
   "metadata": {},
   "source": [
    "In the file `flipadelphia.csv` you will find the results of an experiment that was conducted by Amy, the famous hedgehog data scientist, as she was flipping a coin one sunny day in a meadow. This is no ordinary coin, however: this coin has on one side Sonic, and on the other side Tails! The two sides of this coin are above, and at [this link](http://www.cs.colorado.edu/~tonyewong/home/resources/hedgehog_coin.jpg).\n",
    "\n",
    "In Amy's experiment she repeatedly flipped the coin until it came up Sonic. After each trial, she recorded her observed value for $X=$ the number of flips required to see the first Sonic. The results are stored in `flipadelphia.csv`.\n",
    "\n",
    "Amy has a lot of coins for performing cool data science experiments, and these coins have different biases (not all unique). Amy is a forgetful hedgehog, so she isn't sure which coin she was flipping. Her coins have biases of $p_S=.2, .3, .4, .5, .6, .7$ and $.8$, where $p_S$ is the probability of any given flip coming up Sonic."
   ]
  },
  {
   "cell_type": "markdown",
   "metadata": {},
   "source": [
    "**Part A:** Read in the data set and make a frequency histogram of the data. Be sure to label your axes appropriately, and center your bins above the integer numbers of flips (0, 1, 2, etc...). What is the name of the distribution for the random variable that Amy observed and recorded in her data table?"
   ]
  },
  {
   "cell_type": "code",
   "execution_count": 11,
   "metadata": {},
   "outputs": [],
   "source": [
    "def flip_grapher():\n",
    "    # read in the csv\n",
    "    fdF = pd.read_csv(\n",
    "        'flipadelphia.csv', #file\n",
    "        usecols=[0], # only use the first column\n",
    "        names=['Frequency of Flips To See First Sonic'], # set the name\n",
    "        header=None # we dont want to use a header\n",
    "    )\n",
    "    \n",
    "    # Initialize figure \n",
    "    fig, ax = plt.subplots(figsize=(12,6))\n",
    "    \n",
    "    my_bins = [0.5, 1.5, 2.5, 3.5, 4.5, 5.5]\n",
    "    \n",
    "    # Plot histogram with custom colors\n",
    "    colors=['skyblue', 'black']\n",
    "    fdF.hist(\n",
    "        column='Frequency of Flips To See First Sonic',\n",
    "        ax=ax,\n",
    "        bins=my_bins,\n",
    "        facecolor=colors[0],\n",
    "        edgecolor=colors[1],\n",
    "    )\n",
    "    \n",
    "    # Add a title\n",
    "    ax.set_title('Frequency of Flips To See First Sonic', fontsize=20)\n",
    "\n",
    "    # Add axis labels \n",
    "    ax.set_xlabel(\"Number of Flips\", fontsize=16)\n",
    "    ax.set_ylabel(\"Frequency\", fontsize=16)\n",
    "    ax.grid(alpha=0.25)\n",
    "    ax.set_axisbelow(True)\n"
   ]
  },
  {
   "cell_type": "code",
   "execution_count": 12,
   "metadata": {},
   "outputs": [
    {
     "data": {
      "image/png": "[encoded data removed]",
      "text/plain": [
       "<Figure size 864x432 with 1 Axes>"
      ]
     },
     "metadata": {
      "needs_background": "light"
     },
     "output_type": "display_data"
    }
   ],
   "source": [
    "flip_grapher()"
   ]
  },
  {
   "cell_type": "markdown",
   "metadata": {},
   "source": [
    "### Part A)\n",
    "Since Amy is working toward the first successful Sonic flip, she would be using **geometric distribution**."
   ]
  },
  {
   "cell_type": "markdown",
   "metadata": {},
   "source": [
    "**Part B:** Use the distribution that you identified in Part A to determine $P(X=n \\mid p_S=0.5)$, the probability that Amy would observe the first Sonic flip on the $n$-th flip, assuming that the coin is fair ($p_S=0.5$), for each of the $n$ from her 10 trials in her data set. Then, combine these to find the overall *likelihood* that she would observe her entire data set, assuming that the coin was fair. That is, estimate $P(\\text{data} \\mid p_S=0.5)$. Be sure to note any assumptions you make about how the outcome of one trial relates to the outcomes of the others.\n",
    "\n",
    "If it helps to have some mathematical notation, consider that Amy's data set consists of the results of all 10 of her trials: $$\\text{data} = (X_1 = n_1) \\cap (X_2 = n_2) \\cap \\ldots (X_{10} = n_{10})$$"
   ]
  },
  {
   "cell_type": "markdown",
   "metadata": {},
   "source": [
    "### Part B Code)"
   ]
  },
  {
   "cell_type": "code",
   "execution_count": 40,
   "metadata": {},
   "outputs": [],
   "source": [
    "def Geo_Dist_Flips(k, p):\n",
    "    #calculate the geometric\n",
    "    # P(X = k) = (1 - p)^k * p\n",
    "    prob_k = ((1 - p)**(k-1)) * (p)\n",
    "    return prob_k"
   ]
  },
  {
   "cell_type": "code",
   "execution_count": 41,
   "metadata": {},
   "outputs": [],
   "source": [
    "#Geo_Dist_Flips(1, 0.5)"
   ]
  },
  {
   "cell_type": "code",
   "execution_count": 42,
   "metadata": {},
   "outputs": [],
   "source": [
    "def flips_func(coin_bias, flips):\n",
    "    # store geometric values in an array\n",
    "    probs = np.zeros(flips)\n",
    "    probs_sum = np.zeros(flips)\n",
    "    for n in range(flips):\n",
    "        f = n+1\n",
    "        probs[n]=Geo_Dist_Flips(f, coin_bias)\n",
    "        probs_sum[n] = np.sum(probs)\n",
    "    return probs, probs_sum"
   ]
  },
  {
   "cell_type": "code",
   "execution_count": 44,
   "metadata": {},
   "outputs": [
    {
     "name": "stdout",
     "output_type": "stream",
     "text": [
      "[0.5        0.25       0.125      0.0625     0.03125    0.015625\n",
      " 0.0078125  0.00390625 0.00195312 0.00097656]\n",
      "[0.5        0.75       0.875      0.9375     0.96875    0.984375\n",
      " 0.9921875  0.99609375 0.99804688 0.99902344]\n"
     ]
    }
   ],
   "source": [
    "coin_prob = 0.5\n",
    "n_flips = 10\n",
    "flip_arr, flip_running_sum = flips_func(coin_prob, n_flips)\n",
    "print(flip_arr)\n",
    "print(flip_running_sum)"
   ]
  },
  {
   "cell_type": "markdown",
   "metadata": {},
   "source": [
    "### Part B Explain)\n",
    "Since each coin flip is discrete $n$ trials, and we want to see the probability of getting Sonic on the $n^{th}$ flip, we use the **geometric distribution**. \n",
    "\n",
    "Under the assumption Amy has a fair coin, we are sure that each flip is independent of each other. The first flip does not affect the second in any way. The same logic is true for biased coins. Furthermore, as each flip happens, the probability of getting Sonic or Tails reamins. The reason the probability decreases for Sonic in the probability array: $[0.5, 0.25, 0.125, 0.0625, 0.03125, 0.015625, 0.0078125, 0.00390625, 0.00195312, 0.00097656]$  is because the probability of the event of getting the first Sonic, although still $0.5$ with each flip, would have happened in the sooner flip set. In other words, the probability of getting Sonic in the $10^{th}$ flip is extremely low because it is more than likely that the event would have happened sooner.\n",
    "\n",
    "\n",
    "The realationship between the first and second flips are as follows:\n",
    "$$\n",
    "\\begin{align*}\n",
    "\\text{First law of Independence} \\\\\n",
    "P \\left( f_2 \\mid f_1 \\right) &= P \\left( f_1 \\right) \\\\\n",
    "P \\left( f_2 \\mid f_1 \\right) &= \\frac{1}{2} \\\\\n",
    "\\text{Second law of Independence} \\\\\n",
    "P \\left( f_1 \\mid f_2 \\right) &= P \\left( f_2 \\right) \\\\\n",
    "P \\left( f_1 \\mid f_2 \\right) &= \\frac{1}{2} \\\\\n",
    "\\text{Third law of Independence} \\\\\n",
    "P \\left( f_1 \\cap f_2 \\right) &= P \\left( f_1 \\right) \\times P \\left( f_2 \\right) \\\\\n",
    "P \\left( f_1 \\cap f_2 \\right) &= \\frac{1}{2} \\times \\frac{1}{2} = \\frac{1}{4} \\\\\n",
    "\\end{align*}\n",
    "$$\n",
    "\n",
    "More specificly, the third law. We follow the third law all the way to the end of the number of flips.\n",
    "$$\n",
    "\\begin{align*}\n",
    "P \\left( f_1 \\cap f_2 \\right) &= P \\left( f_1 \\right) \\times P \\left( f_2 \\right) = 0.25 \\\\\n",
    "P \\left( f_1 \\cap f_2 \\cap f_3 \\right) &= P \\left( f_1 \\right) \\times P \\left( f_2 \\right) \\times P \\left( f_3 \\right) = 0.125 \\\\\n",
    "P \\left( f_1 \\cap f_2 \\cap f_3 \\cap \\ldots \\cap f_{10} \\right) &= P \\left( f_1 \\right) \\times P \\left( f_2 \\right) \\times P \\left( f_3 \\right) \\times \\ldots \\times P \\left( f_{10} \\right) = 0.00097656\\\\\n",
    "\\end{align*}\n",
    "$$\n",
    "\n",
    "However, the outcome of the flips depends on the coin she has. Since there are biased coins, the ratio between Sonic and Tails differs with each coin.\n",
    "\n",
    "$$\n",
    "P \\left( X=n \\mid p=0.5 \\right) = \\frac{P \\left( p=0.5 \\mid X=n \\right) P \\left( X=n \\right)}{P \\left( p=0.5 \\right)}\\\\\n",
    "\\text{note: I make the assumption that regardless of which coin is picked, the outcomes of the discrete flips are independent}\\\\\n",
    "P \\left( X=n \\mid p=0.5 \\right) = \\frac{P \\left( p=0.5 \\right) P \\left( X=n \\right)}{P \\left( p=0.5 \\right)}\\\\\n",
    "P \\left( X=n \\mid p=0.5 \\right) = \\frac{P \\left( \\frac{1}{7} \\right) P \\left( X=n \\right)}{P \\left( \\frac{1}{7} \\right)}\\\\\n",
    "P \\left( X=n \\mid p=0.5 \\right) = P \\left( X=n \\right)\\\\\n",
    "P \\left( X=n \\right) = P \\left( X=n \\right)\n",
    "$$\n",
    "\n",
    "This solidifies the belief that each flip is independent, yet dependent on the coin picked."
   ]
  },
  {
   "cell_type": "markdown",
   "metadata": {},
   "source": [
    "**Part C:** Suppose before we observed Amy's data set, we believe that each of the seven possible coin biases occur with equal probability, $P(p_S)$. This is called the _prior distribution_ for the coin bias, $p_S$, because we have not yet taken into account Amy's data set.\n",
    "* Now, estimate the probability of each possible bias, given the data: $P(p_S \\mid \\text{data})$.  This is called the _posterior distribution_ for the coin bias, because it is our assessment of the coin's bias _after_ we have accounted for Amy's data.\n",
    "* Make a line plot of the bias along x-axis versus the posterior probability of that bias along the y-axis, and be sure to label your axes. \n",
    "* Comment on your plot. What appears to be the most probable value for the bias, $p_S$? This is called the _maximum a posteriori_ estimate, because it maximizes the posterior distribution and sounds very, *very* fancy."
   ]
  },
  {
   "cell_type": "code",
   "execution_count": 502,
   "metadata": {},
   "outputs": [],
   "source": [
    "def all_coin_flips(nflips):\n",
    "    sonic_bias = [0.2, 0.3, 0.4, 0.5, 0.6, 0.7, 0.8]\n",
    "    s02 = []\n",
    "    s03 = []\n",
    "    s04 = []\n",
    "    s05 = []\n",
    "    s06 = []\n",
    "    s07 = []\n",
    "    s08 = []\n",
    "    \n",
    "    # sim for flips\n",
    "    s02 = flips_func(sonic_bias[0], nflips)\n",
    "    s03 = flips_func(sonic_bias[1], nflips)\n",
    "    s04 = flips_func(sonic_bias[2], nflips)\n",
    "    s05 = flips_func(sonic_bias[3], nflips)\n",
    "    s06 = flips_func(sonic_bias[4], nflips)\n",
    "    s07 = flips_func(sonic_bias[5], nflips)\n",
    "    s08 = flips_func(sonic_bias[6], nflips)\n",
    "    \n",
    "    # colors for the graph\n",
    "    colors = [\n",
    "        'red',\n",
    "        'orange', \n",
    "        'yellow', \n",
    "        'green', \n",
    "        'blue',\n",
    "        'indigo',\n",
    "        'violet'\n",
    "    ]\n",
    "    lw = 0.75\n",
    "    \n",
    "    # initalize the plot\n",
    "    fig, ax = plt.subplots(figsize=(12,6))\n",
    "    \n",
    "    # plot the different ones\n",
    "    ax.plot(s02, color=colors[0], label='Ps = 0.2', linewidth=lw)\n",
    "    ax.plot(s03, color=colors[1], label='Ps = 0.3', linewidth=lw)\n",
    "    ax.plot(s04, color=colors[2], label='Ps = 0.4', linewidth=lw)\n",
    "    ax.plot(s05, color=colors[3], label='Ps = 0.5', linewidth=lw)\n",
    "    ax.plot(s06, color=colors[4], label='Ps = 0.6', linewidth=lw)\n",
    "    ax.plot(s07, color=colors[5], label='Ps = 0.7', linewidth=lw)\n",
    "    ax.plot(s08, color=colors[6], label='Ps = 0.8', linewidth=lw)\n",
    "    \n",
    "    # set titles, legends, etc\n",
    "    ax.set_title(\"Posterior Distribution, Event Sonic, All Coins\", fontsize=20)\n",
    "    ax.set_xlabel(\"Number of Flips\", fontsize=16)\n",
    "    ax.set_ylabel(\"Posterior Probability\", fontsize=16)\n",
    "    ax.legend()\n",
    "    ax.grid(alpha=0.25)\n",
    "    ax.set_axisbelow(True)\n",
    "    #print(sonic_bias)"
   ]
  },
  {
   "cell_type": "code",
   "execution_count": 503,
   "metadata": {},
   "outputs": [
    {
     "data": {
      "image/png": "[encoded data removed]",
      "text/plain": [
       "<Figure size 864x432 with 1 Axes>"
      ]
     },
     "metadata": {
      "needs_background": "light"
     },
     "output_type": "display_data"
    }
   ],
   "source": [
    "flip10 = 11\n",
    "all_coin_flips(flip10)"
   ]
  },
  {
   "cell_type": "markdown",
   "metadata": {},
   "source": [
    "### Part C)\n",
    "I would say that the maximum a posteriori would be the perfectly even coin. This is because on average, it gives you the same number of Sonics as it does Tails."
   ]
  },
  {
   "cell_type": "markdown",
   "metadata": {},
   "source": [
    "**Part D:** Now suppose the prior probability distribution of the coins is not uniform. Namely, suppose these probabilities follow a ***triangular distribution***, centered at $p_S=0.5$:\n",
    "$$P(p_S = p) = \\begin{cases} mp & p \\leq 0.5 \\\\ m(1-p) & p > 0.5 \\end{cases}$$\n",
    "\n",
    "Determine what value the constant $m$ should have in order to make $P(p_S = p)$ is a valid probability mass function. Remember, $p_S \\in \\{.2, .3, \\ldots , .7, .8\\}$ and is discrete."
   ]
  },
  {
   "cell_type": "markdown",
   "metadata": {},
   "source": [
    "### D)\n",
    "Since the set of probabilities are discrete, we can break up the summations:\n",
    "$$\n",
    "\\begin{align*}\n",
    "P(p \\leq 0.5)\n",
    " &= {mp} \\\\\n",
    "P(p \\gt 0.5)\n",
    " &= {m(1-p)} \\\\\n",
    "P(p \\leq 0.5) + P(p \\gt 0.5) \n",
    " &= {mp} + {m(1-p)}\\\\\n",
    "P(p=0.8) + P(p=0.7) + P(p=0.6) + P(p=0.5) + P(p=0.4) + P(p=0.3) + P(p=0.2) \n",
    " &= m(0.2 + 0.3 + 0.4 + 0.5 + 0.4 + 0.3 + 0.2) \\\\\n",
    "\\frac{1}{7} + \\frac{1}{7} + \\frac{1}{7} + \\frac{1}{7} + \\frac{1}{7} + \\frac{1}{7} + \\frac{1}{7}\n",
    " &= m(0.2 + 0.3 + 0.4 + 0.5 + 0.4 + 0.3 + 0.2) \\\\\n",
    "1\n",
    " &= (2.3)(m) \\\\\n",
    "\\frac{1}{2.3}\n",
    " &= m \\\\\n",
    "m\n",
    " &= 0.4348\n",
    "\\end{align*}\n",
    "$$\n"
   ]
  },
  {
   "cell_type": "markdown",
   "metadata": {},
   "source": [
    "**Part E:** Compare, using words, the triangular prior distribution (this part) and the uniform prior distribution (from Part C).  What does each represent in terms of our _prior_ knowledge of the coin bias?"
   ]
  },
  {
   "cell_type": "markdown",
   "metadata": {},
   "source": [
    "### Part E)\n",
    "\n",
    "The probability of reaching a Sonic for the lesser, and sole equally, biased coins $P(p \\leq 0.5)$ undergo a change by multiplying m to their original probability. Furthermore, the coins that have the higher $P(p \\gt 0.5)$ reflect those of the lower values. This is due to the use where what would be equal to the probabilty of flipping a Sonic is now equal to the old probability of flipping Tails. To illustrate, I will write out the new values for the coins.\n",
    "\n",
    "$$\n",
    "\\begin{align*}\n",
    "\\text{Lower values} \\\\\n",
    "P(p=0.2) &= mp = (0.4348)(0.2) = 0.0870 \\\\\n",
    "P(p=0.3) &= mp = (0.4348)(0.3) = 0.1304 \\\\\n",
    "P(p=0.4) &= mp = (0.4348)(0.4) = 0.1739 \\\\\n",
    "P(p=0.5) &= mp = (0.4348)(0.5) = 0.2174 \\\\\n",
    "\\text{Upper values}\\\\\n",
    "P(p=0.6) &= m(1-p) = (0.4348)(1-0.6) = (0.4348)(0.4) = 0.1739 \\\\\n",
    "P(p=0.7) &= m(1-p) = (0.4348)(1-0.7) = (0.4348)(0.3) = 0.1304 \\\\\n",
    "P(p=0.8) &= m(1-p) = (0.4348)(1-0.8) = (0.4348)(0.2) = 0.0870 \\\\\n",
    "\\end{align*}\n",
    "$$\n",
    "\n",
    "We see the pattern where the \"upper values\" will reflect those with the lower values."
   ]
  },
  {
   "cell_type": "markdown",
   "metadata": {},
   "source": [
    "**Part F:** Modify your calculation of the posterior distribution from Part C to use the new triangular prior distribution from Part D. Make a plot of the results that includes both posterior distribution using the uniform prior (from Part C) and the posterior distribution using the triangular prior (from Part D) in the same figure panel. Be sure to label your axes and include a legend."
   ]
  },
  {
   "cell_type": "code",
   "execution_count": 571,
   "metadata": {},
   "outputs": [],
   "source": [
    "def triangle_flips(nflips):\n",
    "    old_sonic_bias = [0.2, 0.3, 0.4, 0.5, 0.6, 0.7, 0.8]\n",
    "    new_sonic_bias = [0.0870, 0.1304, 0.1739, 0.2174, 0.1739, 0.1304, 0.0870]\n",
    "    s02=[]\n",
    "    s03=[]\n",
    "    s04=[]\n",
    "    s05=[]\n",
    "    s06=[]\n",
    "    s07=[]\n",
    "    s08=[]\n",
    "    \n",
    "    # sim for flips\n",
    "    \n",
    "    # flips where p <= 0.5\n",
    "    s02 = flips_func(new_sonic_bias[0], nflips)\n",
    "    s03 = flips_func(new_sonic_bias[1], nflips)\n",
    "    s04 = flips_func(new_sonic_bias[2], nflips)\n",
    "    s05 = flips_func(new_sonic_bias[3], nflips)\n",
    "    s06 = flips_func(new_sonic_bias[4], nflips)\n",
    "    s07 = flips_func(new_sonic_bias[5], nflips)\n",
    "    s08 = flips_func(new_sonic_bias[6], nflips)\n",
    "    \n",
    "    # colors for the graph\n",
    "    colors = [\n",
    "        'red',\n",
    "        'orange', \n",
    "        'yellow', \n",
    "        'green', \n",
    "        'blue',\n",
    "        'indigo',\n",
    "        'violet'\n",
    "    ]\n",
    "    lw = 0.75\n",
    "    \n",
    "    # initalize the plot\n",
    "    fig, ax = plt.subplots(figsize=(12,6))\n",
    "    \n",
    "    # plot the different ones\n",
    "    ax.plot(s02, color=colors[0], label='Ps = 0.2', linewidth=lw)\n",
    "    ax.plot(s03, color=colors[1], label='Ps = 0.3', linewidth=lw)\n",
    "    ax.plot(s04, color=colors[2], label='Ps = 0.4', linewidth=lw)\n",
    "    ax.plot(s05, color=colors[3], label='Ps = 0.5', linewidth=lw)\n",
    "    ax.plot(s06, color=colors[4], label='Ps = 0.6', linewidth=lw)\n",
    "    ax.plot(s07, color=colors[5], label='Ps = 0.7', linewidth=lw)\n",
    "    ax.plot(s08, color=colors[6], label='Ps = 0.8', linewidth=lw)\n",
    "    \n",
    "    # set titles, legends, etc\n",
    "    ax.set_title(\"NEW Posterior Distribution, Event Sonic, All Coins\", fontsize=20)\n",
    "    ax.set_xlabel(\"Number of Flips\", fontsize=16)\n",
    "    ax.set_ylabel(\"Posterior Probability\", fontsize=16)\n",
    "    ax.legend()\n",
    "    ax.grid(alpha=0.25)\n",
    "    ax.set_axisbelow(True)\n",
    "    #print(sonic_bias)"
   ]
  },
  {
   "cell_type": "code",
   "execution_count": 572,
   "metadata": {},
   "outputs": [
    {
     "data": {
      "image/png": "[encoded data removed]",
      "text/plain": [
       "<Figure size 864x432 with 1 Axes>"
      ]
     },
     "metadata": {
      "needs_background": "light"
     },
     "output_type": "display_data"
    }
   ],
   "source": [
    "nn = 11\n",
    "triangle_flips(nn)"
   ]
  },
  {
   "cell_type": "markdown",
   "metadata": {},
   "source": [
    "**Part G:** Comment on the effect of your choice of different prior distribution on your posterior inference for the most probable coin bias."
   ]
  },
  {
   "cell_type": "markdown",
   "metadata": {
    "collapsed": true
   },
   "source": [
    "We only have four different visible lines in this graph because of the overlap, whereas with our previous one we saw the $7$ distinct lines on the graph. Due to the inclusion of $m$, we have a lowered gap between the probabilities by the value of $m$, $0.4348$."
   ]
  },
  {
   "cell_type": "markdown",
   "metadata": {},
   "source": [
    "<br>\n",
    "\n",
    "---\n",
    "[Back to top](#top)\n",
    "<a id='bot'></a>"
   ]
  }
 ],
 "metadata": {
  "kernelspec": {
   "display_name": "Python 3",
   "language": "python",
   "name": "python3"
  },
  "language_info": {
   "codemirror_mode": {
    "name": "ipython",
    "version": 3
   },
   "file_extension": ".py",
   "mimetype": "text/x-python",
   "name": "python",
   "nbconvert_exporter": "python",
   "pygments_lexer": "ipython3",
   "version": "3.6.5"
  }
 },
 "nbformat": 4,
 "nbformat_minor": 2
}
