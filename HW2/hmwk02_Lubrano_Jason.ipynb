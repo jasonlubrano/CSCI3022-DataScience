{
 "cells": [
  {
   "cell_type": "markdown",
   "metadata": {},
   "source": [
    "# <a id='top'></a>\n",
    "\n",
    "# Homework 2: Introduction to Probability and Simulation \n",
    "***\n",
    "\n",
    "**Name**: \n",
    "\n",
    "***\n",
    "\n",
    "This assignment is due on Canvas by **5 PM on Friday February 15**. Your solutions to theoretical questions should be done in Markdown directly below the associated question.  Your solutions to computational questions should include any specified Python code and results as well as written commentary on your conclusions.  Remember that you are encouraged to discuss the problems with your classmates, but **you must write all code and solutions on your own**.\n",
    "\n",
    "**NOTES**: \n",
    "\n",
    "- Any relevant data sets should be available under the **Data** module on Canvas, as well as in the zipped folder in which you obtained this assignment. To make life easier on the graders if they need to run your code, do not change the relative path names here. Instead, move the files around on your computer.\n",
    "- If you're not familiar with typesetting math directly into Markdown then by all means, do your work on paper first and then typeset it later.  Remember that there is a [reference guide](https://math.meta.stackexchange.com/questions/5020/mathjax-basic-tutorial-and-quick-reference) linked on Canvas on writing math in Markdown. **All** of your written commentary, justifications and mathematical work should be in Markdown.\n",
    "- Because you can technically evaluate notebook cells in a non-linear order, it's a good idea to do Kernel $\\rightarrow$ Restart & Run All as a check before submitting your solutions.  That way if we need to run your code you will know that it will work as expected. \n",
    "- It is **bad form** to make your reader interpret numerical output from your code.  If a question asks you to compute some value from the data you should show your code output **AND** write a summary of the results in Markdown directly below your code. \n",
    "- This probably goes without saying, but... For any question that asks you to calculate something, you **must show all work and justify your answers to receive credit**. Sparse or nonexistent work will receive sparse or nonexistent credit. \n",
    "\n",
    "---\n",
    "**Shortcuts:**  [Problem 1](#p1) | [Problem 2](#p2) | [Problem 3](#p3) | [Problem 4](#p4)\n",
    "\n",
    "---"
   ]
  },
  {
   "cell_type": "code",
   "execution_count": 9,
   "metadata": {
    "scrolled": true
   },
   "outputs": [],
   "source": [
    "import pandas as pd\n",
    "import numpy as np\n",
    "import matplotlib.pylab as plt\n",
    "%matplotlib inline"
   ]
  },
  {
   "cell_type": "markdown",
   "metadata": {},
   "source": [
    "***\n",
    "<a/ id='p1'></a>\n",
    "[Back to top](#top)\n",
    "\n",
    "### [30 points] Problem 1\n",
    "\n",
    "Courtney, Nick and Jarrod are playing special version of <a href=\"https://en.wikipedia.org/wiki/Monopoly_(game)\">Monopoly</a>. Because the three of them are all scoundrels, they are all currently in Jail. In Monopoly, players roll two 6-sided dice on their turn. In their version of Monopoly, however, to get out of Jail, a player must roll *doubles* (the two dice have the same outcome) and must keep re-rolling the dice until they get doubles during their first turn in Jail. As soon as a player rolls doubles, they are let out of Jail and their turn ends. Let $D$ represent the event that a player rolls doubles.\n",
    "\n",
    "Work the following problems by hand unless otherwise stated (but don't be afraid to simulate to check your result!). It is okay to use Python as a calculator, of course."
   ]
  },
  {
   "cell_type": "markdown",
   "metadata": {},
   "source": [
    "**Part A**: What is the probability that a player will roll doubles on their first, second, or third roll while in jail? Note that if a player rolls doubles on their third roll, for example, then they must *not* have rolled doubles on either of the first two rolls. Keep 4 decimal places in your answer."
   ]
  },
  {
   "cell_type": "markdown",
   "metadata": {},
   "source": [
    "### A)\n",
    "Let:\n",
    "$$\n",
    "\\begin{align*}\n",
    "\\omega_{1} &= \\text{first roll} & \\omega_{2} &= \\text{second roll}\\\\\n",
    "\\omega_{3} &= \\text{third roll} & p &= \\text{pairs} \\\\\n",
    "\\end{align*}\n",
    "$$\n",
    "\n",
    "#### First Roll\n",
    "We know that there has to be several rolls. For the probability for the first roll, we can write out all the possible outcomes:\n",
    "\n",
    "| 0 |    1   |    2   |    3   |    4   |    5   |    6   |\n",
    "|:-:|:------:|:------:|:------:|:------:|:------:|:------:|\n",
    "| 1 | (1, 1) | (2, 1) | (3, 1) | (4, 1) | (5, 1) | (6, 1) |\n",
    "| 2 | (1, 2) | (2, 2) | (3, 2) | (4, 2) | (5, 2) | (6, 2) |\n",
    "| 3 | (1, 3) | (2, 3) | (3, 3) | (4, 3) | (5, 3) | (6, 3) |\n",
    "| 4 | (1, 4) | (2, 4) | (3, 4) | (4, 4) | (5, 4) | (6, 4) |\n",
    "| 5 | (1, 5) | (2, 5) | (3, 5) | (4, 5) | (5, 5) | (6, 5) |\n",
    "| 6 | (1, 6) | (2, 6) | (3, 6) | (4, 6) | (5, 6) | (6, 6) |\n",
    "\n",
    "We can count all the pairs and possible outcomes:\n",
    "$$\n",
    "P \\left( p | \\omega_{1} \\right) = \\frac{p}{o} = \\frac{6}{36} = \\frac{1}{6} \\approx 0.1667 \\\\\n",
    "P \\left( p | \\omega_{1} \\right) \\approx 0.1667\n",
    "$$\n",
    "\n",
    "There is a bit of math to this method. It comes from using the probability function where:\n",
    "$$\n",
    "P \\left( p | \\omega_{1} \\right) = \\Sigma_{\\omega_{1}\\rightarrow p} = P \\left( 1, 1 \\right) + P \\left( 2, 2 \\right) + \\ldots +  P \\left( 6, 6 \\right) = \\frac{1}{36} + \\frac{1}{36} + \\ldots + \\frac{1}{36} = \\frac{6}{36} = \\frac{1}{6} \\approx 0.1667\n",
    "$$\n",
    "\n",
    "#### Second Roll\n",
    "For the second roll, the odds will be slightly different. Since there is no way the first roll could've given us a pair, we have a greater number of outcomes. The first roll would've produced an outcome of this table:\n",
    "\n",
    "| 0 |    1   |    2   |    3   |    4   |    5   |    6   |\n",
    "|:-:|:------:|:------:|:------:|:------:|:------:|:------:|\n",
    "| 1 |    x   | (2, 1) | (3, 1) | (4, 1) | (5, 1) | (6, 1) |\n",
    "| 2 | (1, 2) |    x   | (3, 2) | (4, 2) | (5, 2) | (6, 2) |\n",
    "| 3 | (1, 3) | (2, 3) |    x   | (4, 3) | (5, 3) | (6, 3) |\n",
    "| 4 | (1, 4) | (2, 4) | (3, 4) |    x   | (5, 4) | (6, 4) |\n",
    "| 5 | (1, 5) | (2, 5) | (3, 5) | (4, 5) |    x   | (6, 5) |\n",
    "| 6 | (1, 6) | (2, 6) | (3, 6) | (4, 6) | (5, 6) |    x   |\n",
    "\n",
    "There are a total of $30$ outcomes instead of $36$. We know this is true because we did NOT get a pair. This factors down to $\\frac{30}{36} = \\frac{5}{6}$. Our second roll table would be similar to the first roll table, filling in all possible combinations.\n",
    "\n",
    "| 0 |    1   |    2   |    3   |    4   |    5   |    6   |\n",
    "|:-:|:------:|:------:|:------:|:------:|:------:|:------:|\n",
    "| 1 | (1, 1) | (2, 1) | (3, 1) | (4, 1) | (5, 1) | (6, 1) |\n",
    "| 2 | (1, 2) | (2, 2) | (3, 2) | (4, 2) | (5, 2) | (6, 2) |\n",
    "| 3 | (1, 3) | (2, 3) | (3, 3) | (4, 3) | (5, 3) | (6, 3) |\n",
    "| 4 | (1, 4) | (2, 4) | (3, 4) | (4, 4) | (5, 4) | (6, 4) |\n",
    "| 5 | (1, 5) | (2, 5) | (3, 5) | (4, 5) | (5, 5) | (6, 5) |\n",
    "| 6 | (1, 6) | (2, 6) | (3, 6) | (4, 6) | (5, 6) | (6, 6) |\n",
    "\n",
    "Since we got to the second roll, there was $\\frac{5}{6}$ ways we could've gotten there. We multiply this by $\\frac{1}{6}$.\n",
    "\n",
    "$$\n",
    "P \\left( p | \\omega_{2} \\right) = \\frac{5}{6} \\times \\frac{1}{6} = \\frac{5}{36} \\approx 0.1389\\\\\n",
    "P \\left( p | \\omega_{2} \\right) = 0.1389\n",
    "$$\n",
    "\n",
    "#### Third Roll\n",
    "It seems as though our odds are shrinking, which makes sense being we have a total greater number of outcomes and we only want a pair. For the third roll, we have two tables of:\n",
    "\n",
    "| 0 |    1   |    2   |    3   |    4   |    5   |    6   |\n",
    "|:-:|:------:|:------:|:------:|:------:|:------:|:------:|\n",
    "| 1 |    x   | (2, 1) | (3, 1) | (4, 1) | (5, 1) | (6, 1) |\n",
    "| 2 | (1, 2) |    x   | (3, 2) | (4, 2) | (5, 2) | (6, 2) |\n",
    "| 3 | (1, 3) | (2, 3) |    x   | (4, 3) | (5, 3) | (6, 3) |\n",
    "| 4 | (1, 4) | (2, 4) | (3, 4) |    x   | (5, 4) | (6, 4) |\n",
    "| 5 | (1, 5) | (2, 5) | (3, 5) | (4, 5) |    x   | (6, 5) |\n",
    "| 6 | (1, 6) | (2, 6) | (3, 6) | (4, 6) | (5, 6) |    x   |\n",
    "\n",
    "and only one table that is filled:\n",
    "\n",
    "| 0 |    1   |    2   |    3   |    4   |    5   |    6   |\n",
    "|:-:|:------:|:------:|:------:|:------:|:------:|:------:|\n",
    "| 1 | (1, 1) | (2, 1) | (3, 1) | (4, 1) | (5, 1) | (6, 1) |\n",
    "| 2 | (1, 2) | (2, 2) | (3, 2) | (4, 2) | (5, 2) | (6, 2) |\n",
    "| 3 | (1, 3) | (2, 3) | (3, 3) | (4, 3) | (5, 3) | (6, 3) |\n",
    "| 4 | (1, 4) | (2, 4) | (3, 4) | (4, 4) | (5, 4) | (6, 4) |\n",
    "| 5 | (1, 5) | (2, 5) | (3, 5) | (4, 5) | (5, 5) | (6, 5) |\n",
    "| 6 | (1, 6) | (2, 6) | (3, 6) | (4, 6) | (5, 6) | (6, 6) |\n",
    "\n",
    "The reason we multiply $\\frac{5}{6} \\times \\frac{5}{6}$ is because we are on the third roll. We passed up the first and second roll.\n",
    "\n",
    "$$\n",
    "P \\left( p | \\omega_{3} \\right) = \\frac{5}{6} \\times \\frac{5}{6} \\times \\frac{1}{6} = \\frac{25}{216} \\approx 0.1157 \\\\\n",
    "P \\left( p | \\omega_{3} \\right) = 0.1157\n",
    "$$"
   ]
  },
  {
   "cell_type": "markdown",
   "metadata": {},
   "source": [
    "**Part B:** *The plot thickens!* Darth Ketelsen is well-known to meddle in Jedi affairs. Did I mention that Courtney, Nick and Jarrod are all in Computer Science Jedi training? That's not important for this problem, but it is interesting. \n",
    "\n",
    "Turns out, Darth Ketelsen will occasionally secretly swap out the dice in the Jedi's Monopoly game for a pair of dice that have been weighted. Each of Darth Ketelsen's two dice is weighted such that a 6 is rolled with probability $1/2$, and all the other numbers are equally likely to be rolled. If Darth Ketelsen switches the dice for her weighted ones, she does so before the game begins, and the entire game of Monopoly is played with the same pair of dice, whether they are fair or weighted.\n",
    "\n",
    "What is the probability of rolling doubles on the first, second or third roll while in jail, using Darth Ketelsen's weighted dice? Again, keep 4 decimal places in your answer."
   ]
  },
  {
   "cell_type": "markdown",
   "metadata": {},
   "source": [
    "### B)\n",
    "(This problem takes on similar approach to the first part, so I copied and pasted some stuff to make typing it easier)\n",
    "\n",
    "Let:\n",
    "$$\n",
    "\\begin{align*}\n",
    "\\omega_{1} &= \\text{first roll} & \\omega_{2} &= \\text{second roll}\\\\\n",
    "\\omega_{3} &= \\text{third roll} & p &= \\text{pairs} \\\\\n",
    "\\end{align*}\n",
    "$$\n",
    "\n",
    "#### First Roll\n",
    "We know that there has to be several rolls. For the probability for the first roll, we can write out all the possible outcomes:\n",
    "\n",
    "| 0 |    1   |    2   |    3   |    4   |    5   |    6   |\n",
    "|:-:|:------:|:------:|:------:|:------:|:------:|:------:|\n",
    "| 1 | (1, 1) | (2, 1) | (3, 1) | (4, 1) | (5, 1) | (6, 1) |\n",
    "| 2 | (1, 2) | (2, 2) | (3, 2) | (4, 2) | (5, 2) | (6, 2) |\n",
    "| 3 | (1, 3) | (2, 3) | (3, 3) | (4, 3) | (5, 3) | (6, 3) |\n",
    "| 4 | (1, 4) | (2, 4) | (3, 4) | (4, 4) | (5, 4) | (6, 4) |\n",
    "| 5 | (1, 5) | (2, 5) | (3, 5) | (4, 5) | (5, 5) | (6, 5) |\n",
    "| 6 | (1, 6) | (2, 6) | (3, 6) | (4, 6) | (5, 6) | (6, 6) |\n",
    "\n",
    "Rolling a $6$ on a single die has a probability of $\\frac{1}{2}$, and using fond memories from discrete, we find that the rest of the die has roll probability of $\\frac{1}{10}$.\n",
    "$$\n",
    "\\frac{1}{2} \\text{(odds of rolling a 6)}+ \\frac{5}{x}\\text{(odds of the other rolls)} = 1 \\\\\n",
    "x = 10\n",
    "$$\n",
    "\n",
    "So with that in mind, we know the probability of rolling.\n",
    "$$\n",
    "\\begin{align*}\n",
    "P \\left( p | \\omega_{1} \\right) &= \\Sigma_{\\omega_{1}\\rightarrow p} \\\\\n",
    "&= P \\left( 1, 1 \\right) + P \\left( 2, 2 \\right) + P \\left( 3, 3 \\right) + P \\left( 4, 4 \\right) + P \\left( 5, 5 \\right) + P \\left( 6, 6 \\right) \\\\\n",
    "&= 5 \\left( \\frac{1}{10} \\times \\frac{1}{10} \\right) + \\left( \\frac{1}{2} \\times \\frac{1}{2} \\right) \\\\\n",
    "&= 5 \\left( \\frac{1}{100} \\right) + \\left( \\frac{1}{4} \\right) \\\\\n",
    "&= \\frac{3}{10} = 0.3000 \\\\\n",
    "P \\left( p | \\omega_{1} \\right) &= 0.3000\n",
    "\\end{align*}\n",
    "$$\n",
    "\n",
    "#### Second Roll\n",
    "For the second roll, the odds will be slightly different. Since there is no way the first roll could've given us a pair, we have a greater number of outcomes. The first roll would've produced an outcome of this table:\n",
    "\n",
    "| 0 |    1   |    2   |    3   |    4   |    5   |    6   |\n",
    "|:-:|:------:|:------:|:------:|:------:|:------:|:------:|\n",
    "| 1 |    x   | (2, 1) | (3, 1) | (4, 1) | (5, 1) | (6, 1) |\n",
    "| 2 | (1, 2) |    x   | (3, 2) | (4, 2) | (5, 2) | (6, 2) |\n",
    "| 3 | (1, 3) | (2, 3) |    x   | (4, 3) | (5, 3) | (6, 3) |\n",
    "| 4 | (1, 4) | (2, 4) | (3, 4) |    x   | (5, 4) | (6, 4) |\n",
    "| 5 | (1, 5) | (2, 5) | (3, 5) | (4, 5) |    x   | (6, 5) |\n",
    "| 6 | (1, 6) | (2, 6) | (3, 6) | (4, 6) | (5, 6) |    x   |\n",
    "\n",
    "There are a total of $30$ outcomes instead of $36$, but remember, the die is weighted. In part A we were able to solve this with $\\frac{30}{36}$ BUT the probability of NOT rolling a pair of weighted die is $ = \\frac{7}{10}$.\n",
    "\n",
    "| 0 |    1   |    2   |    3   |    4   |    5   |    6   |\n",
    "|:-:|:------:|:------:|:------:|:------:|:------:|:------:|\n",
    "| 1 | (1, 1) | (2, 1) | (3, 1) | (4, 1) | (5, 1) | (6, 1) |\n",
    "| 2 | (1, 2) | (2, 2) | (3, 2) | (4, 2) | (5, 2) | (6, 2) |\n",
    "| 3 | (1, 3) | (2, 3) | (3, 3) | (4, 3) | (5, 3) | (6, 3) |\n",
    "| 4 | (1, 4) | (2, 4) | (3, 4) | (4, 4) | (5, 4) | (6, 4) |\n",
    "| 5 | (1, 5) | (2, 5) | (3, 5) | (4, 5) | (5, 5) | (6, 5) |\n",
    "| 6 | (1, 6) | (2, 6) | (3, 6) | (4, 6) | (5, 6) | (6, 6) |\n",
    "\n",
    "The odds of rolling the pair of die with the second table is the odds of NOT rolling a pair from the first table times the odds of rolling a pair of the second table.\n",
    "$$\n",
    "\\begin{align*}\n",
    "P \\left( p | \\omega_{2} \\right) &= \\Sigma_{\\omega_{1}\\rightarrow p^c} \\times \\Sigma_{\\omega_{2}\\rightarrow p} \\\\\n",
    "&= \\left(P \\left( 1, 2 \\right) + P \\left( 1, 3 \\right) + \\ldots + P \\left( 6, 5 \\right) \\right) \\times \\left( P \\left( 1, 1 \\right) + P \\left( 2, 2 \\right) + \\ldots + P \\left( 6, 6 \\right) \\right) \\\\\n",
    "&= \\left( \\frac{7}{10} \\right) \\times \\left( 5 \\left( \\frac{1}{10} \\times \\frac{1}{10} \\right) + \\left( \\frac{1}{2} \\times \\frac{1}{2} \\right) \\right) \\\\\n",
    "&= \\left( \\frac{7}{10} \\right) \\times \\left( 5 \\left( \\frac{1}{100} \\right) + \\left( \\frac{1}{4} \\right) \\right)\\\\\n",
    "&= \\frac{7}{10} \\times \\frac{3}{10} = \\frac{21}{100} = 0.2100 \\\\\n",
    "P \\left( p | \\omega_{2} \\right) &= 0.2100\n",
    "\\end{align*}\n",
    "$$\n",
    "\n",
    "#### Third Roll\n",
    "\n",
    "$$\n",
    "\\begin{align*}\n",
    "P \\left( p | \\omega_{3} \\right) &= \\Sigma_{\\omega_{1}\\rightarrow p^c} \\times \\Sigma_{\\omega_{2}\\rightarrow p^c} \\times \\Sigma_{\\omega_{3}\\rightarrow p}\\\\\n",
    "&= \\left(P \\left( 1, 2 \\right) + P \\left( 1, 3 \\right) + \\ldots + P \\left( 6, 5 \\right) \\right)^{2} \\times \\left( P \\left( 1, 1 \\right) + P \\left( 2, 2 \\right) + \\ldots + P \\left( 6, 6 \\right) \\right) \\\\\n",
    "&= \\left( \\frac{7}{10} \\right)^{2} \\times \\left( 5 \\left( \\frac{1}{10} \\times \\frac{1}{10} \\right) + \\left( \\frac{1}{2} \\times \\frac{1}{2} \\right) \\right) \\\\\n",
    "&= \\left( \\frac{7}{10} \\right)^{2} \\times \\left( 5 \\left( \\frac{1}{100} \\right) + \\left( \\frac{1}{4} \\right) \\right)\\\\\n",
    "&= \\frac{7^{2}}{10^{2}} \\times \\frac{3}{10} = \\frac{147}{1000} = 0.1470 \\\\\n",
    "P \\left( p | \\omega_{3} \\right) &= 0.1470\n",
    "\\end{align*}\n",
    "$$\n"
   ]
  },
  {
   "cell_type": "markdown",
   "metadata": {},
   "source": [
    "**Part C:** Suppose that before any given game of Monopoly, Darth Ketelsen replaces the normal six-sided dice with her loaded dice with probability $0.25$. Then the players proceed to play their entire game using either the loaded dice, or the fair dice.  It is unknown to the player who is rolling, however, whether they are using the unfair or fair dice. What is the probability that a player gets doubles within three rolls? Keep 4 decimal places in your answer."
   ]
  },
  {
   "cell_type": "markdown",
   "metadata": {},
   "source": [
    "### C)\n",
    "Let:\n",
    "$$\n",
    "\\begin{align*}\n",
    "\\omega_{1} &= \\text{first roll} & \\omega_{2} &= \\text{second roll} & U &= \\text{unfair die}\\\\\n",
    "\\omega_{3} &= \\text{third roll} & D &= \\text{doubles} & F &= \\text{Fair die} \\\\\n",
    "\\end{align*}\n",
    "$$\n",
    "\n",
    "Law of Total Probability:\n",
    "$$\n",
    "\\begin{align*}\n",
    "P \\left( U \\right) &= 0.25 \\\\\n",
    "P \\left( F \\right) &= 0.75 \\\\\n",
    "P \\left( D_3 | U \\right) &= 0.147000 \\\\\n",
    "P \\left( D_3 | F \\right) &= 0.115741 \\\\\n",
    "P \\left( D_3 \\right) &= P \\left( D_3 | U \\right) P \\left( U \\right) + P \\left( D_3 | F \\right) \\left( F \\right)\\\\\n",
    "&= 0.147000 * 0.25 + 0.115741 * 0.75 = 0.1236 \\\\\n",
    "P \\left( D_3 \\right) &= 0.1236 \\\\\n",
    "\\end{align*}\n",
    "$$"
   ]
  },
  {
   "cell_type": "markdown",
   "metadata": {},
   "source": [
    "**Part D:** While it is unknown whether they are playing with Darth Ketelsen's unfair dice, or with fair dice, Courtney, Jarrod and Nick are armed and dangerous... with *probability theory*, that is! Well, probability theory and lightsabers.\n",
    "\n",
    "Suppose that starting from jail, all three of Courtney, Jarrod and Nick have taken one turn, and all three of them have managed to roll doubles within 3 rolls. If you were not given this information, you would assume that there is a probability of $0.25$ that they are playing with Darth Ketelsen's unfair dice. But now, given this information, what is the probability that they are playing with the unfair dice?"
   ]
  },
  {
   "cell_type": "markdown",
   "metadata": {},
   "source": [
    "Let:\n",
    "$$\n",
    "\\begin{align*}\n",
    "\\omega_{1} &= \\text{first roll} & \\omega_{2} &= \\text{second roll} & U &= \\text{unfair die}\\\\\n",
    "\\omega_{3} &= \\text{third roll} & D &= \\text{doubles} & F &= \\text{Fair die} \\\\\n",
    "\\end{align*}\n",
    "$$\n",
    "\n",
    "We use Bayes' Theorem:\n",
    "$$\n",
    "P \\left( U | D_3 \\right) = \\frac{P \\left( D_3 | U \\right) P \\left( U \\right)}{P \\left( D_3 | U \\right) P \\left( U \\right) + P \\left( D_3 | F \\right) P \\left( F \\right)}\n",
    "$$\n",
    "\n",
    "And given what we know already, we can just plug in:\n",
    "\n",
    "$$\n",
    "\\begin{align*}\n",
    "P \\left( U \\right) &= 0.25 \\\\\n",
    "P \\left( F \\right) &= 0.75 \\\\\n",
    "P \\left( D_3 | U \\right) &= 0.147000 \\\\\n",
    "P \\left( D_3 | F \\right) &= 0.115741 \\\\\n",
    "P \\left( U | D_3 \\right) &= \\frac{P \\left( D_3 | U \\right) P \\left( U \\right)}{P \\left( D_3 | U \\right) P \\left( U \\right) + P \\left( D_3 | F \\right) P \\left( F \\right)}\\\\\n",
    "&= \\frac{0.147000 * 0.25}{0.147000 * 0.25 + 0.115741 * 0.75} \\approx 0.2974\\\\\n",
    "P \\left( U | D_3 \\right) &= 0.2974\n",
    "\\end{align*}\n",
    "$$"
   ]
  },
  {
   "cell_type": "markdown",
   "metadata": {},
   "source": [
    "**Part E**:  First, work out **by hand** a formula for the probability in general that Courtney, Jarrod and Nick are playing with Darth Ketelsen's unfair dice, given that $n$ players in a row have gotten out of jail by rolling doubles within 3 rounds. That is, you want to find a formula for $P(U \\mid D_n)$ in terms of $n$.\n",
    "\n",
    "Then, define a function `prob_unfair` to calculate $P(U \\mid D_n)$.  This function should only take one positive integer argument, $n$.\n",
    "\n",
    "Verify that your function is performing as expected by checking your answer to **Part D** by plugging in $n=3$."
   ]
  },
  {
   "cell_type": "markdown",
   "metadata": {},
   "source": [
    "### E)\n",
    "Formula to use uses Bayes' Theorem:\n",
    "\n",
    "$$\n",
    "P \\left( U | D_n \\right) = \\frac{P \\left( D_1 | U \\right) ^{n} P \\left( U \\right)}{P \\left( D_1 | U \\right) ^{n} P \\left( U \\right) + P \\left( D_1 | F \\right) ^{n} P \\left( F \\right)}\n",
    "$$"
   ]
  },
  {
   "cell_type": "code",
   "execution_count": 12,
   "metadata": {},
   "outputs": [
    {
     "data": {
      "text/plain": [
       "0.6601915101445823"
      ]
     },
     "execution_count": 12,
     "metadata": {},
     "output_type": "execute_result"
    }
   ],
   "source": [
    "def prob_unfair(n_trials):\n",
    "        #calc the probability of an unfair die roll given n rolls\n",
    "        PD1U = 0.3000 #probs of unfair die doubles roll on first roll\n",
    "        PU = 0.25 # probs of getting unfair die\n",
    "        PD1F = 0.1667 # probs of getting fair die doubles roll on first roll\n",
    "        PF = 0.75 # probs of getting fair die\n",
    "        PUDn = 0 # probs of an unfair die roll given n rolls\n",
    "        PUDn = ((PD1U**n_trials)*(PU))/(((PD1U**n_trials)*(PU)) + ((PD1F**n_trials)*(PF)))\n",
    "        return(PUDn)\n",
    "    \n",
    "prob_unfair(3)"
   ]
  },
  {
   "cell_type": "markdown",
   "metadata": {},
   "source": [
    "`prob_unfair(3)` returned a value of $0.6601915101445823$, kept to 4 decimal placesis $0.6602$"
   ]
  },
  {
   "cell_type": "markdown",
   "metadata": {},
   "source": [
    "**Part F:**  What is the smallest value of $n$ players in a row rolling doubles within 3 rounds that would lead to a higher-than-90% probability that the dice are unfair?  Plugging larger and larger values for $n$ into your `prob_unfair` function is a very reasonable way to check this."
   ]
  },
  {
   "cell_type": "markdown",
   "metadata": {},
   "source": [
    "### F\n",
    "There needs to be $6$ people to do this."
   ]
  },
  {
   "cell_type": "code",
   "execution_count": 13,
   "metadata": {},
   "outputs": [
    {
     "data": {
      "text/plain": [
       "0.9188562801038167"
      ]
     },
     "execution_count": 13,
     "metadata": {},
     "output_type": "execute_result"
    }
   ],
   "source": [
    "prob_unfair(6)"
   ]
  },
  {
   "cell_type": "markdown",
   "metadata": {},
   "source": [
    "**Part G:** Jarrod, Courtney and Nick are becoming suspicious that the dice they are playing with are unfair. They decide to keep track of how frequently each player rolls doubles. They will roll the dice `n_trials` number of times, and make a plot of their running estimate of the probability of rolling doubles, from the moment they start rolling until they finally finish all `n_trials` rolls. So, the x-axis of their plot will be the number of rolls, and the y-axis will be the running estimate of the probability of rolling doubles with the given dice, with the number of trials given by the x-axis.\n",
    "\n",
    "Write code to run 4 independent simulations of 1,000 trials each to estimate the probability of rolling doubles using the fair dice, and another 4 independent simulations to estimate the probability of rolling doubles using Darth Ketelsen's loaded dice, and plot their running estimate curves on the same set of axes. \n",
    "\n",
    "In order to more easily distinguish between the loaded dice estimates and the fair dice estimates, plot the loaded dice estimates as lines using the color `tomato` and plot the fair dice estimates using the color `seagreen`. Be sure to label your axes and include a legend.\n",
    "\n",
    "Finally, comment on how many flips appear to be necessary before Jarrod, Courtney and Nick might become convinced of what type of dice they are playing with (fair or unfair). Justify your answer fully using your figure."
   ]
  },
  {
   "cell_type": "code",
   "execution_count": 14,
   "metadata": {},
   "outputs": [],
   "source": [
    "fair_die = {\n",
    "    'sides': np.array(['1', '2', '3', '4', '5', '6']),\n",
    "    'probs': np.array([1/6, 1/6, 1/6, 1/6, 1/6, 1/6])\n",
    "}\n",
    "\n",
    "unfair_die = {\n",
    "    'sides': np.array(['1', '2', '3', '4', '5', '6']),\n",
    "    'probs': np.array([1/10, 1/10, 1/10, 1/10, 1/10, 1/2])\n",
    "}"
   ]
  },
  {
   "cell_type": "code",
   "execution_count": 15,
   "metadata": {
    "scrolled": true
   },
   "outputs": [],
   "source": [
    "#unfair_die['probs'] * unfair_die['probs']\n",
    "#die_choices = {'die' : np.array([fair_die, unfair_die]), 'probs' : np.array([3/4, 1/4])}\n",
    "np.random.seed(12345)\n",
    "\n",
    "trials = 1000\n",
    "\n",
    "def roll_die(die_choice, n_trials):\n",
    "    #cntr = np.zeros(n_trials)\n",
    "    avgr = np.zeros(n_trials)\n",
    "    count = 0\n",
    "    die1 = np.random.choice(die_choice['sides'], p = die_choice['probs'], size=n_trials)\n",
    "    die2 = np.random.choice(die_choice['sides'], p = die_choice['probs'], size=n_trials)\n",
    "    #print(die1)\n",
    "    #print(die2)\n",
    "    for ii in range(n_trials):\n",
    "        if(die1[ii] == die2[ii]):\n",
    "            count += 1\n",
    "        #cntr[ii] = count\n",
    "        avgr[ii] = count/(ii+1)\n",
    "        #die_roll[ii] = (die1[ii], die2[ii])\n",
    "            \n",
    "    #print(die_roll)\n",
    "    return(avgr)\n",
    "\n",
    "#roll_die(fair_die, trials)"
   ]
  },
  {
   "cell_type": "code",
   "execution_count": 16,
   "metadata": {},
   "outputs": [
    {
     "data": {
      "image/png": "[encoded data removed]",
      "text/plain": [
       "<Figure size 864x432 with 1 Axes>"
      ]
     },
     "metadata": {
      "needs_background": "light"
     },
     "output_type": "display_data"
    }
   ],
   "source": [
    "def graph_dice_roll(n_trials):\n",
    "    #fair die rolls\n",
    "    p1 = np.zeros(n_trials)\n",
    "    p2 = np.zeros(n_trials)\n",
    "    p3 = np.zeros(n_trials)\n",
    "    p4 = np.zeros(n_trials)\n",
    "    #unfair die rolls\n",
    "    q1 = np.zeros(n_trials)\n",
    "    q2 = np.zeros(n_trials)\n",
    "    q3 = np.zeros(n_trials)\n",
    "    q4 = np.zeros(n_trials)\n",
    "    #fair die rolls\n",
    "    p1 = roll_die(fair_die, n_trials)\n",
    "    p2 = roll_die(fair_die, n_trials)\n",
    "    p3 = roll_die(fair_die, n_trials)\n",
    "    p4 = roll_die(fair_die, n_trials)\n",
    "    #unfair die rolls\n",
    "    q1 = roll_die(unfair_die, n_trials)\n",
    "    q2 = roll_die(unfair_die, n_trials)\n",
    "    q3 = roll_die(unfair_die, n_trials)\n",
    "    q4 = roll_die(unfair_die, n_trials)\n",
    "    #plot fig\n",
    "    fig, ax = plt.subplots(figsize=(12,6))\n",
    "    #fair die rolls\n",
    "    ax.plot(p1, color=\"seagreen\", label=\"sim 1 of fair die\", linewidth=0.5)\n",
    "    ax.plot(p2, color=\"seagreen\", label=\"sim 2 of fair die\", linewidth=0.5)\n",
    "    ax.plot(p3, color=\"seagreen\", label=\"sim 3 of fair die\", linewidth=0.5)\n",
    "    ax.plot(p4, color=\"seagreen\", label=\"sim 4 of fair die\", linewidth=0.5)\n",
    "    #unfair die rolls\n",
    "    ax.plot(q1, color=\"tomato\", label=\"sim 1 of unfair die\", linewidth=0.5)\n",
    "    ax.plot(q2, color=\"tomato\", label=\"sim 2 of unfair die\", linewidth=0.5)\n",
    "    ax.plot(q3, color=\"tomato\", label=\"sim 3 of unfair die\", linewidth=0.5)\n",
    "    ax.plot(q4, color=\"tomato\", label=\"sim 4 of unfair die\", linewidth=0.5)\n",
    "    \n",
    "    ax.set_title(\"Number of Trials vs Probs of Rolling Dubs\", fontsize=20)\n",
    "    ax.set_xlabel(\"Number of Trials, n_trials\", fontsize=16)\n",
    "    ax.set_ylabel(\"Probs of Rolling dubs\", fontsize=16)\n",
    "    ax.grid(True, alpha=0.25)\n",
    "    ax.legend()\n",
    "    \n",
    "graph_dice_roll(1000)"
   ]
  },
  {
   "cell_type": "code",
   "execution_count": 17,
   "metadata": {},
   "outputs": [
    {
     "data": {
      "image/png": "[encoded data removed]",
      "text/plain": [
       "<Figure size 864x432 with 1 Axes>"
      ]
     },
     "metadata": {
      "needs_background": "light"
     },
     "output_type": "display_data"
    }
   ],
   "source": [
    "def graph_prob_dice(n_trials):\n",
    "    p = np.zeros(n_trials) # make array p = 0 with length of trials\n",
    "    for ii in range(len(p)):\n",
    "        p[ii] = prob_unfair(ii)\n",
    "    fig, ax = plt.subplots(figsize=(12,6))\n",
    "    q = np.zeros(n_trials) # make array p = 0 with length of trials\n",
    "    for ii in range(len(q)):\n",
    "        q[ii] = 1-p[ii]\n",
    "    ax.plot(p, color=\"tomato\", label=\"Probs of picking unfair die\")\n",
    "    ax.plot(q, color=\"seagreen\", label=\"Probs of picking fair Die\")\n",
    "    ax.set_title(\"Number of Doubles in a Row vs Probs of Getting Fair or Unfair Die\", fontsize=20)\n",
    "    ax.set_xlabel(\"Number of Doubles in a Row, n_trials\", fontsize=16)\n",
    "    ax.set_ylabel(\"Probs of Getting Fair or Unfair Die\", fontsize=16)\n",
    "    ax.grid(True, alpha=0.25)\n",
    "    ax.legend()\n",
    "\n",
    "graph_prob_dice(10)"
   ]
  },
  {
   "cell_type": "markdown",
   "metadata": {},
   "source": [
    "***\n",
    "<a/ id='p2'></a>\n",
    "[Back to top](#top)\n",
    "\n",
    "### [25 points] Problem 2\n",
    "\n",
    "Sonic and Amy are two average hedgehogs who have to run around campus every day for classes and hobbies. When they leave the Engineering Center (E) from their Data Science class, they like to go to 5 other places on campus: the Gym ($G~$) to exercise, the Library ($L~$) to learn, the Hill ($H~$) to grab a sandwich, Weathertech Cafe ($W~$) for a pizza, and the mountains ($M~$) to frolic with their marmot friends.\n",
    "\n",
    "Here are some rules governing their movements throughout the fair city of Boulder:\n",
    "* When Sonic and/or Amy is leaving one location, they randomly select one of the available adjacent locations, with equal probability.\n",
    "* This includes back-tracking, but note that to return to their original location would require 2 moves.\n",
    "* Assume that all moves require the same amount of time.\n",
    "* They are also not allowed to stay put; they always must move to some *other* adjacent location.\n",
    "* Sonic and Amy also act **independently** of one another. That is, the probability that Sonic goes from one place to another is independent of Amy's movements.\n",
    "\n",
    "<img src=\"http://www.cs.colorado.edu/~tonyewong/home/resources/sonic_and_amy_statespace.png\" style=\"width: 300px;\"/>"
   ]
  },
  {
   "cell_type": "markdown",
   "metadata": {},
   "source": [
    "**Part A**: Amy is currently at the Gym and she has worked up quite an appetite! She wants to go to either the Hill or the Weathertech Cafe, and is soooooooo hungry that she must land on exactly the $H$ or $W$ node in exactly one or two moves. Compute (by hand) the probability that Amy ends up at the the Hill ($H$) or the Weathertech Cafe ($W$) in exactly one or two moves, given that she is starting from the Gym ($G$). "
   ]
  },
  {
   "cell_type": "markdown",
   "metadata": {},
   "source": [
    "### A)\n",
    "\n",
    "If Amy is starting at the gym, then she has three options the Hill, the Library, and the EC. From here, the first option is to go to the Hill, which will satisfy the one or two move parameter. The other two options, the Library and the EC, will not directly take her to food. If she goes to the Library first, then she has the option to the Hill, the EC, back to the Gym, or to Weathertech. And if she goes to the EC, then she will have the option to go back to the Gym, the Library, or to Weathertech.\n",
    "\n",
    "We can make a tree structure which is how I thought of it to count the number of possible outcomes, and which ones will satisfy, but I am not sure how to do it in markdown so I will try it a different way.\n",
    "\n",
    "$$\n",
    "\\begin{align*}\n",
    "G &= \\left[ H, L, E \\right] \\\\\n",
    "L &= \\left[ H, G, E, W \\right] \\\\\n",
    "E &= \\left[ G, L, W \\right] \\\\\n",
    "\\end{align*}\n",
    "$$\n",
    "\n",
    "The number of outcomes that satisfy her hunger: $4$, compared to the total outcomes: $8$ means that the probability that Amy ends up at the hill in one or less moves is $\\frac{1}{2} = 50\\%$"
   ]
  },
  {
   "cell_type": "markdown",
   "metadata": {},
   "source": [
    "**Part B**: Suppose that Amy is at the Gym and Sonic is working late at the Engineering Center. Later, they both leave and wander around, randomly and independently of one another, as described above.\n",
    "1. What is the probability that they run into each other in the same location on the first location visited?  \n",
    "2. Given their two initial locations, what is the probability that they meet at the Hill after 2 moves?"
   ]
  },
  {
   "cell_type": "markdown",
   "metadata": {},
   "source": [
    "### B.1)\n",
    "There are several different outcomes that can happen, we can make a table for each of the different outcomes:\n",
    "\n",
    "We know that Sanoic starting in the EC can go to the gym, the library, and weathertech in one move. We also know that Amy, starting in the Gym can go to the hill, the library, and the engineering center in one move. This means that out of all possible outcomes that they can only go to the library in one move.\n",
    "\n",
    "| o |   G   |   L   |   W   |\n",
    "|:-:|:-----:|:-----:|:-----:|\n",
    "| H | (G,H) | (L,H) | (W,H) |\n",
    "| L | (G,L) | (L,L) | (W,L) |\n",
    "| E | (G,E) | (L,E) | (W,E) |\n",
    "\n",
    "There are a total of $9$ different outcomes and only $3$ of them are a match, so we say that using the law of total probability:\n",
    "$$\n",
    "P \\left( p | \\omega_{1} \\right) = \\Sigma_{\\omega_{1}\\rightarrow p} = P \\left( L, L \\right) = \\frac{1}{9} \\approx = 0.1111\n",
    "$$\n",
    "\n",
    "### B.2)\n",
    "\n",
    "For this second part, we are going to see what are the odds the two hedgehogs meet at the Hill on their second move, starting from the EC. This is interesting becuase they can take the same route or they can take different routes and still get there. There are $9$ destinations each of the two hedgehogs can end up at, but only $2$ of them lead to the Hill. Since the travels are independent, this means that there are $4$ ways the two hedgehogs can get to the hill.\n",
    "$$\n",
    "P \\left( p | \\omega_{2} \\right) = \\Sigma_{\\omega_{2}\\rightarrow p} = P \\left( H, H \\right) + P \\left( H, H \\right) + P \\left( H, H \\right) + P \\left( H, H \\right) = \\frac{1}{81} + \\frac{1}{81} + \\frac{1}{81} + \\frac{1}{81} = \\frac{4}{81} \\approx 0.04938\n",
    "$$"
   ]
  },
  {
   "cell_type": "markdown",
   "metadata": {},
   "source": [
    "**Part C**: Write a simulation to confirm that your by-hand calculations in **Parts A** and **B** are correct. Make sure you run your simulations for enough trials that your estimates are reasonably close to your analytic results. In addition to showing your code, you should explain in Markdown (not just in code comments) what your code is doing and why it is a reasonable approximation of the probabilities in **Parts A** and **B**."
   ]
  },
  {
   "cell_type": "markdown",
   "metadata": {},
   "source": []
  },
  {
   "cell_type": "code",
   "execution_count": 18,
   "metadata": {},
   "outputs": [],
   "source": [
    "# dictionaries\n",
    "\n",
    "mtns = {\n",
    "    'places': np.array(['mtns', 'hill', 'libr', 'gyms', 'engc', 'wtec']),\n",
    "    'probs': np.array([0, 1, 0, 0, 0, 0])\n",
    "}\n",
    "\n",
    "hill = {\n",
    "    'places': np.array(['mtns', 'hill', 'libr', 'gyms', 'engc', 'wtec']),\n",
    "    'probs': np.array([1/3, 0, 1/3, 1/3, 0, 0])\n",
    "}\n",
    "\n",
    "libr = {\n",
    "    'places': np.array(['mtns', 'hill', 'libr', 'gyms', 'engc', 'wtec']),\n",
    "    'probs': np.array([0, 1/4, 0, 1/4, 1/4, 1/4])\n",
    "}\n",
    "\n",
    "gyms = {\n",
    "    'places': np.array(['mtns', 'hill', 'libr', 'gyms', 'engc', 'wtec']),\n",
    "    'probs': np.array([0, 1/3, 1/3, 0, 1/3, 0])\n",
    "}\n",
    "\n",
    "engc = {\n",
    "    'places': np.array(['mtns', 'hill', 'libr', 'gyms', 'engc', 'wtec']),\n",
    "    'probs': np.array([0, 0, 1/3, 1/3, 0, 1/3])\n",
    "}\n",
    "\n",
    "wtec = {\n",
    "    'places': np.array(['mtns', 'hill', 'libr', 'gyms', 'engc', 'wtec']),\n",
    "    'probs': np.array([0, 0, 1/2, 0, 1/2, 0])\n",
    "}"
   ]
  },
  {
   "cell_type": "code",
   "execution_count": 19,
   "metadata": {
    "scrolled": false
   },
   "outputs": [
    {
     "data": {
      "text/plain": [
       "0.1146"
      ]
     },
     "execution_count": 19,
     "metadata": {},
     "output_type": "execute_result"
    }
   ],
   "source": [
    "# Proving B.1\n",
    "\n",
    "trials = 5000\n",
    "\n",
    "def travel_one_probs(amy_start, sanc_start, n_trials):\n",
    "    avgr = np.zeros(n_trials)\n",
    "    count = 0\n",
    "    amy = np.random.choice(amy_start['places'], p = amy_start['probs'], size=n_trials) #amy goes one spot\n",
    "    sanc = np.random.choice(sanc_start['places'], p = sanc_start['probs'], size=n_trials) #sanic gpoes one spot\n",
    "    #print(die1)\n",
    "    #print(die2)\n",
    "    for ii in range(n_trials):\n",
    "        if(amy[ii] == sanc[ii]):\n",
    "            #print(\"they met at the \", amy[ii])\n",
    "            count += 1\n",
    "        avgr[ii] = count/(ii+1)\n",
    "            \n",
    "    #print(die_roll)\n",
    "    return(avgr[-1]) # returns last avg element so theres not a lot of wasted space in this notebook\n",
    "\n",
    "travel_one_probs(gyms, engc, trials)"
   ]
  },
  {
   "cell_type": "code",
   "execution_count": 20,
   "metadata": {},
   "outputs": [
    {
     "data": {
      "text/plain": [
       "0.04"
      ]
     },
     "execution_count": 20,
     "metadata": {},
     "output_type": "execute_result"
    }
   ],
   "source": [
    "# Proving B.2\n",
    "\n",
    "def travel_one_spot(start):\n",
    "    hhg = np.random.choice(start['places'], p = start['probs']) #amy goes one spot\n",
    "    #sanc = np.random.choice(sanc_start['places'], p = sanc_start['probs']) #sanic gpoes one spot\n",
    "    return(hhg) #return 1 because they met up\n",
    "\n",
    "def travel_two_spots(amy_start, sanc_start, n_trials):\n",
    "    cntr = 0\n",
    "    avgr = np.zeros(n_trials)\n",
    "    amy = np.random.choice(amy_start['places'], p = amy_start['probs'], size=n_trials) #amy goes one spot\n",
    "    sanc = np.random.choice(sanc_start['places'], p = sanc_start['probs'],size=n_trials) #sanic gpoes one spot\n",
    "    amy2 = ['']*n_trials\n",
    "    sanc2 = ['']*n_trials\n",
    "    for ii in range(n_trials):\n",
    "        if(amy[ii]=='gyms'):\n",
    "            #print(\"amy at\", amy[ii])\n",
    "            amy2[ii] = travel_one_spot(gyms)\n",
    "            #print(\"amy2 at\", amy2[ii])\n",
    "        elif(amy[ii]=='libr'):\n",
    "            travel_one_spot(libr)\n",
    "            amy2[ii] = travel_one_spot(libr)\n",
    "        else:\n",
    "            travel_one_spot(wtec)\n",
    "            amy2[ii] = travel_one_spot(wtec)\n",
    "        if(sanc[ii]=='gyms'):\n",
    "            #print(\"amy at\", amy[ii])\n",
    "            sanc2[ii] = travel_one_spot(gyms)\n",
    "            #print(\"amy2 at\", amy2[ii])\n",
    "        elif(sanc[ii]=='libr'):\n",
    "            travel_one_spot(libr)\n",
    "            sanc2[ii] = travel_one_spot(libr)\n",
    "        else:\n",
    "            travel_one_spot(wtec)\n",
    "            sanc2[ii] = travel_one_spot(wtec)\n",
    "    for ii in range(n_trials):\n",
    "        if(amy2[ii]==sanc2[ii] and amy2[ii]=='hill'):\n",
    "            #print('they met at the hill')\n",
    "            cntr = cntr + 1\n",
    "            #print('cntr', cntr)\n",
    "        avgr[ii] = cntr/(ii+1)\n",
    "    return(avgr[-1])\n",
    "\n",
    "trials = 5000\n",
    "travel_two_spots(engc, engc, trials)"
   ]
  },
  {
   "cell_type": "markdown",
   "metadata": {},
   "source": [
    "##### Dictionaries\n",
    "I started off unsure if I should make nodes and create a path following algorithm or if I should try another method. Due to my experience in python, or lack thereof, I decided to use dictionaries. It is self explainatory, but I will go through two examples. Starting with `mtns`, there are `places` and `probs`. Respectively, the places and probs are based on the graph. `mtns` can only hit the `hill`. Therefore, the probs of going to `hill` is $1$. From the `hill` the two hedgehogs can go to `mtns`, `gyms`, and `libr`. Therefore, there is a $\\frac{1}{3}$ probability to going to each of them. The same pattern continues throughout the rest of the dictionary.\n",
    "\n",
    "##### Proving B.1\n",
    "B.1 asks what is the probability of the two hedgehogs meeting up given one is at the gym and one is at the engineering center. This is an interesting question because they can only meet up at the library. The function says that the two hedgehogs makes an array of there next location with size `n_trials`, having a probability of `probs`, which is taken from the array. When they meet, a counter adds 1 and then the running average is calculated into an array. I did this so I can test a chart or graph and ensure that my math was correct. Finally the returning value is the last element of the average array.\n",
    "\n",
    "##### Proving B.2\n",
    "What I did here was to go from one location to another, but in a way that is \"hard-coded\". In other words, I am not entirely experienced in python and I dont know how to make one dictionary return another one. So I had to find out where they went after their first move, then move them once more. This is where `travel_two_spots` calls `travel_one_spot`, a helper function that returns the next location. I have a second array for each hedgehog called `amy2` and `sanc2` for this reason. I want to compare their second location, not the first. So I do such, taking a counter, then finding the average. "
   ]
  },
  {
   "cell_type": "markdown",
   "metadata": {},
   "source": [
    "**Part D:** Use your simulation from Part C, possibly with some modification, to estimate the **long-run proportion of time that the hedgehogs spend in the mountains**. You can estimate this using the following technique:\n",
    "* walk a hedgehog around the graph for a very large number of steps (at least 100,000 steps), \n",
    "* keep track of which location the hedgehog is at, at each step, then\n",
    "* the proportion of their time spent at any given location may be estimated as the number of times they are at the Mountains node ($M$), divided by the total number of steps.\n",
    "\n",
    "You may be left wondering: Where should I start my hedgehog? That is very weird question, but totally valid here! It turns out that **it should not matter** where you start the hedgehog. Verify this by making your estimate from three different starting locations. Be sure to include some commentary in Markdown to state your answer for the long-run proportion of time that the hedgehogs spend in the mountains, and comment on whether it appears to depend on the initial location."
   ]
  },
  {
   "cell_type": "code",
   "execution_count": 21,
   "metadata": {},
   "outputs": [
    {
     "name": "stdout",
     "output_type": "stream",
     "text": [
      "start libr\n",
      "mtnsctr 6371\n",
      "avgr[-1] 0.06371\n",
      "start engc\n",
      "mtnsctr 6368\n",
      "avgr[-1] 0.06368\n",
      "start hill\n",
      "mtnsctr 6265\n",
      "avgr[-1] 0.06265\n",
      "start gyms\n",
      "mtnsctr 6495\n",
      "avgr[-1] 0.06495\n"
     ]
    },
    {
     "data": {
      "text/plain": [
       "array([0.        , 0.        , 0.        , ..., 0.0649513 , 0.06495065,\n",
       "       0.06495   ])"
      ]
     },
     "execution_count": 21,
     "metadata": {},
     "output_type": "execute_result"
    }
   ],
   "source": [
    "campus = {\n",
    "    \"mtns\" : [\"hill\"],\n",
    "    \"hill\" : [\"mtns\", \"gyms\", \"libr\"],\n",
    "    \"libr\" : [\"hill\", \"gyms\", \"engc\", \"wtec\"],\n",
    "    \"gyms\" : [\"hill\", \"libr\", \"engc\"],\n",
    "    \"engc\" : [\"gyms\", \"libr\", \"wtec\"],\n",
    "    \"wtec\" : [\"libr\", \"engc\"]\n",
    "}\n",
    "\n",
    "\n",
    "def travel_mtns(graph, n_trials, start):\n",
    "    print(\"start\", start)\n",
    "    #start just by walking around, right\n",
    "    hhg = [] #array of locations where the hedgehog went\n",
    "    avgr = np.zeros(n_trials) # keep the running avg\n",
    "    mtnsctr = 0 # mountain counter\n",
    "    for ii in range(n_trials):\n",
    "        hhg.append(np.random.choice(graph[start])) # get the random location\n",
    "        start=hhg[ii] #next node equals where you start from\n",
    "        if(hhg[ii]==\"mtns\"): # add 1 to mountain counter when at mtns\n",
    "            mtnsctr = mtnsctr + 1\n",
    "        avgr[ii] = mtnsctr / (ii+1)\n",
    "    print(\"mtnsctr\", mtnsctr) # prints mountain counter\n",
    "    #print(\"hhg\", hhg) # list of where the hedgehog went, noted out cus gets long wit 1x10^6\n",
    "    print(\"avgr[-1]\", avgr[-1])\n",
    "    return(avgr)\n",
    "    \n",
    "    \n",
    "trials = 100000\n",
    "\n",
    "travel_mtns(campus, trials, \"libr\")\n",
    "travel_mtns(campus, trials, \"engc\")\n",
    "travel_mtns(campus, trials, \"hill\")\n",
    "travel_mtns(campus, trials, \"gyms\")"
   ]
  },
  {
   "cell_type": "markdown",
   "metadata": {},
   "source": [
    "### D) Explained\n",
    "\n",
    "I had to rewrite some of the ways I was traversing the graphs. Thats where I started off, findinga a much easier way for it all to be traversed. I decided that since it was equally random, I didn't need to include the probability, and let jupyter take care of the randomness.\n",
    "\n",
    "It seems as though if a hedgehog takes a hundred thousand steps, then they will go to the mountains at least $6,200$ times. I ran four simulations to acomplish this: First I started one off at the library, second the engineering center, third the hill, and last at the gym.\n",
    "\n",
    "* `avgr` is the running average of the simulation, so `avgr[-1]` outputs the last value\n",
    "* `mtnsctr` is the mountain counter, counts the number of times at the mountains\n",
    "\n",
    "```\n",
    "start libr\n",
    "mtnsctr 6278\n",
    "avgr[-1] 0.06278\n",
    "\n",
    "start engc\n",
    "mtnsctr 6275\n",
    "avgr[-1] 0.06275\n",
    "\n",
    "start hill\n",
    "mtnsctr 6310\n",
    "avgr[-1] 0.0631\n",
    "\n",
    "start gyms\n",
    "mtnsctr 6233\n",
    "avgr[-1] 0.06233\n",
    "```"
   ]
  },
  {
   "cell_type": "markdown",
   "metadata": {},
   "source": [
    "***\n",
    "<a/ id='p3'></a>\n",
    "[Back to top](#top)\n",
    "\n",
    "### [20 points] Problem 3  \n",
    "\n",
    "After years of Computer Science Jedi training, Tony has attained the rank of Master is training two aspiring young apprentices: Nick and Courtney. For their training and Tony’s amusement, Nick and Courtney are having a lightsaber duel with the following rules:\n",
    "* The duel is composed of a number of rounds.\n",
    "* Each round consists of Nick trying to strike Courtney with his lightsaber, then Courtney trying to strike Nick with her lightsaber.\n",
    "* If Nick strikes Courtney, then he is awarded a point. Similarly, if Courtney strikes Nick, then she is also awarded a point.\n",
    "* If a round ends in a tie (i.e., either both strike each other or both miss), then Nick and Courtney proceed to another round. If a round ends with one apprentice scoring a point but the other does not, then the apprentice who scored a point wins the duel.\n",
    "\n",
    "Let:\n",
    "* $C$ be the event that \"Courtney wins the duel\"\n",
    "* $E$ be the event that \"the duel ends after the first round of lightsaber strikes\"\n",
    "* $R$ be the event that \"the duel continues after the first round of lightsaber strikes\".\n",
    "\n",
    "\n",
    "Suppose that the result of any given lightsaber strike is independent of the other strikes, Courtney successfully lands her lightsaber strikes with probability $p$, and Nick lands his strikes with probability $q$.\n",
    "\n",
    "**Part A**: The duel will continue until Courtney or Nick wins.  What is the sample space $\\Omega$ for this \"experiment\"?  Represent the outcomes of individual lightsaber strikes by $H$ for a hit and $M$ for a miss, and assume that Courtney has the first strike in each round. At the very least, your answer should include all of the events in $\\Omega$ that include one or two rounds, followed by \"...\" to show that you have established a pattern."
   ]
  },
  {
   "cell_type": "markdown",
   "metadata": {},
   "source": [
    "### A)\n",
    "A round for Courtney and Nick can end in one of three ways:\n",
    "1. Courtney can win\n",
    "2. Nick can win\n",
    "3. The round ends in a draw and they continue on\n",
    "\n",
    "I started making several possible outcomes.\n",
    "\n",
    "$$\n",
    "\\begin{align}\n",
    "\\text{Outcomes}\n",
    " &= \\left[ HM \\right] & \\text{Courtney Wins}\\\\\n",
    " &= \\left[ MH \\right] & \\text{Nick Wins}\\\\\n",
    " &= \\left[ HHHM \\right] & \\text{Courtney Wins}\\\\\n",
    " &= \\left[ HHMH \\right] & \\text{Nick Wins}\\\\\n",
    " &= \\left[ MMHM \\right] & \\text{Courtney Wins}\\\\ \n",
    " &= \\left[ MMMH \\right] & \\text{Nick Wins}\n",
    "\\end{align}\n",
    "$$\n",
    "\n",
    "We can say \"Hello there\" to the sample space, which only extends typed up to the second round.\n",
    "\n",
    "$$\n",
    "\\Omega = \\left[ HM, MH, HHHM, HHMH, MMHM, MMMH, \\ldots \\right]\n",
    "$$"
   ]
  },
  {
   "cell_type": "markdown",
   "metadata": {},
   "source": [
    "**Part B**: Determine $P(C \\mid E)$ in terms of $p$ and $q$."
   ]
  },
  {
   "cell_type": "markdown",
   "metadata": {},
   "source": [
    "### B)\n",
    "Determine the probilitiy of Courtney winning the duel given the duel ends after the first round of lightsaber strikes.\n",
    "\n",
    "$$\n",
    "P \\left( C \\mid E \\right) = \\frac{ P \\left( \\left[ H M \\right] \\right) }{ P \\left( \\left[ H M, M H \\right] \\right) } \\\\\n",
    "$$\n",
    "\n",
    "As we turn it into different notation, let:\n",
    "* $p$ represent the probability of Courtney hitting\n",
    "* $1-p$ represent the probability of Courtney missing\n",
    "* $q$ represent the probability of Nick hitting\n",
    "* $1-q$ represent the probability of Nick missing\n",
    "\n",
    "$$\n",
    "\\begin{align*}\n",
    "P \\left( C \\mid E \\right)\n",
    " &= \\frac{ p \\left( 1 - q \\right) }{ \\left( p \\left( 1 - q \\right) \\right) +  \\left( q \\left( 1 - p \\right) \\right)} \\\\\n",
    "P \\left( C \\mid E \\right)\n",
    " &= \\frac{ p - pq }{ p + q - 2pq }\n",
    "\\end{align*}\n",
    "$$"
   ]
  },
  {
   "cell_type": "markdown",
   "metadata": {},
   "source": [
    "**Part C**: Explain in words why events $C$ and $R$ should be independent. "
   ]
  },
  {
   "cell_type": "markdown",
   "metadata": {},
   "source": [
    "### C)\n",
    "By definition, we can say the events are independent. Each lightsaber round starts as if it were the first. Realistically, this may not be true due to them being tired, but we will ignore such cases for this example.  When Courtney starts the round, it does not matter where the previous round left off. For example, if they were to never make a point and miss, they would always remain at ${0-0}$ but if they were to hit every round, they would be at $t$ for point, $t_{r-1}-t_{r-1}$, where ${r-1}$ is the accumulated points for all previous rounds. In the notation used above, this is trivially put as:\n",
    "$$\n",
    "\\left[ H H \\right] \\text{ or } \\left[ M M \\right]\n",
    "$$\n",
    "\n",
    "We can show in the mathematical definition they are independent. When we can combine the product rule and the definition of conditional probability to give us several test. When these test hold true, these are independent events.\n",
    "$$\n",
    "\\begin{align}\n",
    "P \\left( C | R \\right) &= P \\left( C \\right) \\\\\n",
    "P \\left( R | C \\right) &= P \\left( R \\right) \\\\\n",
    "P \\left( C \\cap R \\right) &= P \\left( C \\right) P \\left( R \\right)\\\\\n",
    "\\end{align}\n",
    "$$\n",
    "\n",
    "We should not underestimate the power of having these events independent. Infact, the first equation $ P \\left( C | R \\right) = P \\left( C \\right) $ is going to be useful for us later on. We will watch its career with great interest."
   ]
  },
  {
   "cell_type": "markdown",
   "metadata": {},
   "source": [
    "**Part D**: Use the Law of Total Probability to show that $P(C) = p(1-q) + (2pq - p - q +1) P(C \\mid R)$. "
   ]
  },
  {
   "cell_type": "markdown",
   "metadata": {},
   "source": [
    "### D)\n",
    "We will start by using the Law of Total Probability. This will be the rule to say that Courtney will either win on the first round, or the match will continue until Courtney wins.\n",
    "\n",
    "$$\n",
    "\\begin{align*}\n",
    "P \\left( C \\right)\n",
    " &= P \\left( C \\mid E \\right) P \\left( E \\right) + P \\left( C \\mid R \\right) P \\left( R \\right) \\\\\n",
    " &= \\frac{ P \\left( \\left[ H M \\right] \\right) }{ P \\left( \\left[ H M , M H \\right] \\right)} P \\left( \\left[ H M, M H \\right] \\right) + P \\left( C \\mid R \\right) P \\left( \\left[ H H , M M \\right] \\right) \\\\\n",
    " &= P \\left( \\left[ H M \\right] \\right) + P \\left( C \\mid R \\right) \\left( P \\left( \\left[ H H \\right] \\right) + P \\left( \\left[ M M \\right] \\right) \\right)\\\\\n",
    " &= p \\left( 1 - q \\right) + P \\left( C \\mid R \\right) \\left( \\left( 1 - p \\right) \\left( 1 - q \\right) + p q \\right)\\\\\n",
    " &= p \\left( 1 - q \\right) + P \\left( C \\mid R \\right) \\left( 2pq - p - q + 1 + pq \\right)\\\\\n",
    "P \\left( C \\right) &= p \\left( 1 - q \\right) + P \\left( C \\mid R \\right) \\left( 2pq - p - q + 1 \\right) \\blacksquare\\\\\n",
    "\\end{align*}\n",
    "$$"
   ]
  },
  {
   "cell_type": "markdown",
   "metadata": {},
   "source": [
    "**Part E**: Use **Part D** and the fact from **Part C** that events $C$ and $R$ are independent to determine $P(C)$ in terms of $p$ and $q$. "
   ]
  },
  {
   "cell_type": "markdown",
   "metadata": {},
   "source": [
    "### E)\n",
    "From **Part C** we found the formulas for indepent events:\n",
    "$$\n",
    "\\begin{align}\n",
    "P \\left( C | R \\right) &= P \\left( C \\right) \\\\\n",
    "P \\left( R | C \\right) &= P \\left( R \\right) \\\\\n",
    "P \\left( C \\cap R \\right) &= P \\left( C \\right) P \\left( R \\right)\\\\\n",
    "\\end{align}\n",
    "$$\n",
    "And from **Part D** we solved using the law of total probability that:\n",
    "$$\n",
    "P \\left( C \\right) = p \\left( 1 - q \\right) + P \\left( C \\mid R \\right) \\left( 2pq - p - q + 1 \\right)\n",
    "$$\n",
    "\n",
    "Therefore, using the first equation from **Part C** and subbing in $P \\left( C | R \\right)$ for $P \\left( C \\right)$, we come up with:\n",
    "$$\n",
    "P \\left( C \\right) = p \\left( 1 - q \\right) + P \\left( C \\right) \\left( 2pq - p - q + 1 \\right)\n",
    "$$\n",
    "\n",
    "This almost seems recursive since there exist two $P \\left( C \\right)$ in the equation and one may say \"This is getting out of hand! Now there are two of them!\". By mathematical definition, the probability of Courtney winning says she has to hit and Nick misses added to the probability of her winning the duel times her going on further in the match to win. Furthermore, we can expound on this algebraically by moving the total probability to each side and then dividing by that, giving the independent notation for Courtney winning the duel.\n",
    "\n",
    "$$\n",
    "\\begin{align}\n",
    "P \\left( C \\right) &= p \\left( 1 - q \\right) + P \\left( C \\right) \\left( 2pq - p - q + 1 \\right) \\\\\n",
    "P \\left( C \\right) - P \\left( C \\right) \\left( 2pq - p - q + 1 \\right) &= p \\left( 1 - q \\right) \\\\\n",
    "P \\left( C \\right) \\left(1 - \\left( 2pq - p - q + 1 \\right) \\right) &= p \\left( 1 - q \\right) \\\\\n",
    "P \\left( C \\right) \\left(1 - 2pq + p + q - 1 \\right) &= p \\left( 1 - q \\right) \\\\\n",
    "P \\left( C \\right) \\left( 2pq + p + q \\right) &= p \\left( 1 - q \\right) \\\\\n",
    "P \\left( C \\right) &= \\frac{p \\left( 1 - q \\right) }{\\left( 2pq + p + q \\right) } \\\\\n",
    "\\end{align}\n",
    "$$"
   ]
  },
  {
   "cell_type": "markdown",
   "metadata": {},
   "source": [
    "**Part F**: Explain why the answers to **Part B** and **Part E** are the same. "
   ]
  },
  {
   "cell_type": "markdown",
   "metadata": {},
   "source": [
    "### F)\n",
    "After a due of fates, there is a new round. Subsequently, it does not matter what the previous round resulted in. The probability of Courtney winning the round will always remain the same, regardless of which round they are in. Nick is not a youngling, however, so he may be putting up a fight. Nevertheless, the odds for Courtney winning the duel in this round or next will always remain the same.\n",
    "\n",
    "One of the definitions of independence:\n",
    "$ P \\left( C | E \\right) = P \\left( C \\right) $\n",
    "\n",
    "The probability of Courtney winning the duel given the event ends after the first round of strikes is equal to the probability of Courtney winning the duel."
   ]
  },
  {
   "cell_type": "markdown",
   "metadata": {},
   "source": [
    "**Part G**: Explain the significance of the solution technique for $P(C)$ outlined in **Part D** and **Part E**.  Why did we go this route instead of computing $P(C)$ directly?  Can we always use such techniques?  What assumption did we need to make in order to use this solution approach?"
   ]
  },
  {
   "cell_type": "markdown",
   "metadata": {},
   "source": [
    "### G)\n",
    "Suppose $ C $ and $ R $ are dependent by some variable, such as one getting the high ground or losing a limb after a hit. As a result, our approach to solve $ P \\left( C \\right) $ would not work in this case because each round is not independent; simply due to the probability of winning a match drastically decreases if the advesary loses their hands to hold the light-saber.\n",
    "\n",
    "This is why our attempt to solve $ P \\left( C \\right) $ works the way it does, and since it passes the test, we can say, \"its independent then.\""
   ]
  },
  {
   "cell_type": "markdown",
   "metadata": {},
   "source": [
    "***\n",
    "<a/ id='p4'></a>\n",
    "[Back to top](#top)\n",
    "\n",
    "### [25 points] Problem 4\n",
    "\n",
    "In this problem you will write some code to simulate the game of **Miniopoly** (a very rough approximation of <a href=\"https://en.wikipedia.org/wiki/Monopoly_(game)\">Monopoly</a>).  The game consists of a round board with 40 \"squares\" numbered from $0$ to $39$, where squares $0$ and would-be $40$ are [coincident](https://en.wikipedia.org/wiki/Coincident) and called **GO**.  A player starts on **GO** with \\$200 in their pocket.  On each turn the player rolls a pair of dice and then moves a number of spaces equal to the sum of the dice.  Landing on different squares have different results: \n",
    "\n",
    "- Squares 2, 7, 17, 22, 33, and 36 cause you to draw a card.  The cards tell you to collect \\$50 or \\$100, or pay the bank \\$25 or \\$100.  There is always an equal probability associated with each of these possible cards.\n",
    "\n",
    "<p> </p>\n",
    "\n",
    "- Square 20 is **Free Parking**. If a player lands on Square 20, then they are awarded a Free Parking Bonus of \\$500. This should be a generic input variable to your `miniopoly_turn` function called `bonus`, so you can modify it later. But, the default value for `bonus` should be \\$500.\n",
    "\n",
    "<p> </p>\n",
    "\n",
    "- Square 30 is **Go To Jail**. (So if a player has landed on Square 30, then you know they have been to jail.)\n",
    "\n",
    "<p> </p>\n",
    "\n",
    "- If a player starts a turn from **Jail** she rolls two dice: \n",
    "\n",
    "    - If the player rolls doubles (i.e. the dice have equal values), then the player moves from Square 10 a number of squares equal to the sum of the dice\n",
    "    \n",
    "    - If the player rolls anything other than doubles, then she pays the bank \\$20 and remains in **Jail** \n",
    "    \n",
    "<p> </p>\n",
    "\n",
    "- If the player passes or lands on **GO** (square 0) she collects \\$200. \n",
    "\n",
    "<p> </p>\n",
    "\n",
    "- If the player lands on any other square not mentioned above, she pays the bank an amount equal to the square's number (e.g. if she lands on Square 29 she pays the bank \\$29). \n",
    "\n",
    "<p> </p>\n",
    "\n",
    "If at any point the player has \\$0 or less they go bankrupt and the game ends.\n",
    "\n",
    "See [here](http://www.cs.colorado.edu/~tonyewong/home/resources/miniopoly_example.png) for an example of the Miniopoly board layout.\n",
    "\n",
    "<br>\n",
    "\n",
    "**Part A**: Complete the function `miniopoly_turn` below. The function should simulate one turn of Miniopoly.  It should take as arguments the player's current location on the board as well as the player's current cash reserves and the amount of the Free Parking (Square 20) bonus, and return the player's new location and cash reserves after the turn has completed. Note that if a player goes bankrupt during the game you should return their cash as 0 instead of a negative value.\n",
    "\n",
    "**Warning:** This function will be auto-graded, so do **not** change the form of the function inputs/outputs (API)."
   ]
  },
  {
   "cell_type": "code",
   "execution_count": 28,
   "metadata": {},
   "outputs": [],
   "source": [
    "# using fair die bc probably going to use unfair die\n",
    "mini_die = {\n",
    "    'sides': np.array(['1', '2', '3', '4', '5', '6']),\n",
    "    'probs': np.array([1/6, 1/6, 1/6, 1/6, 1/6, 1/6])\n",
    "}"
   ]
  },
  {
   "cell_type": "code",
   "execution_count": 153,
   "metadata": {},
   "outputs": [],
   "source": [
    "# GIVEN code - do not change the inputs/outputs!\n",
    "def miniopoly_turn(state, cash, bonus=500):\n",
    "    # your code goes here!\n",
    "    #   should update `state` and `cash`\n",
    "    #   according to rules of the game\n",
    "    drawcard = [2, 7, 17, 22, 33, 36] # squares to draw card\n",
    "    cashdiff = [-100, -25, 50, 100] # pay/collect bank from drawing a card\n",
    "    freeparking = 20\n",
    "    gotojail = 30\n",
    "    injail = 10\n",
    "    gocash = 200 # cash given to them from being on GO\n",
    "    # start with rolling the fair die\n",
    "    mini_die = {\n",
    "    'sides': np.array([1, 2, 3, 4, 5, 6]),\n",
    "    'probs': np.array([1/6, 1/6, 1/6, 1/6, 1/6, 1/6])\n",
    "    }\n",
    "    roll1 = np.random.choice(mini_die['sides'], p = mini_die['probs'])\n",
    "    roll2 = np.random.choice(mini_die['sides'], p = mini_die['probs'])\n",
    "    totalmoves = roll1 + roll2\n",
    "    \n",
    "    if(state==injail):\n",
    "        if(roll1!=roll2):\n",
    "            cash = cash - 20\n",
    "            return state, cash\n",
    "    \n",
    "    state = state + totalmoves\n",
    "    \n",
    "    # draw cards\n",
    "    if(state in drawcard):\n",
    "        cash = cash + np.random.choice(cashdiff)\n",
    "        return state, cash \n",
    "    # go to jail\n",
    "    elif(state==gotojail):\n",
    "        state = injail # put the player in jail\n",
    "        return state, cash\n",
    "    # player gets free parking\n",
    "    elif(state==freeparking):\n",
    "        cash = cash + bonus # give the player their bonus\n",
    "        return state, cash\n",
    "    # player passed go\n",
    "    elif(state >= 40):\n",
    "        cash = cash + gocash # give them the cash from go\n",
    "        state = state - 40 # 45 - 40 = 5, on pt 5\n",
    "        return state, cash\n",
    "    else:\n",
    "        cash = cash - state # pay whatever they landed on if not one of the pre made spots\n",
    "        return state, cash"
   ]
  },
  {
   "cell_type": "code",
   "execution_count": 165,
   "metadata": {},
   "outputs": [
    {
     "data": {
      "text/plain": [
       "(10, 230)"
      ]
     },
     "execution_count": 165,
     "metadata": {},
     "output_type": "execute_result"
    }
   ],
   "source": [
    "miniopoly_turn(10, 250)"
   ]
  },
  {
   "cell_type": "markdown",
   "metadata": {},
   "source": [
    "**Part B**: Use your function from **Part A** to simulate at least 5000 games of Miniopoly for 20 turns, 40 turns and 60 turns, and make a **density** histogram of the player's cash at the end of the game under all 3 scenarios for number of turns. The histogram box faces should be slightly transparent, so as to be able to tell the 3 game-length scenarios apart. For all three histograms, use bins of width \\$250, starting at 0 on the left and extending as far to the right as needed. As always, be sure to label your axes and include an informative legend.\n",
    "\n",
    "Comment on how the histogram shape changes as the game progresses. Namely, how does the length of the game affect the distribution of players' cash? How many modes are there, and why?"
   ]
  },
  {
   "cell_type": "code",
   "execution_count": 166,
   "metadata": {},
   "outputs": [],
   "source": [
    "def sim_mini(n_turns):\n",
    "    player_start = 0\n",
    "    player_cash = 250\n",
    "    for turn in range(n_turns):\n",
    "        player_start, player_cash = miniopoly_turn(player_start, player_cash)\n",
    "        if player_cash <= 0:\n",
    "            #player lost the game\n",
    "            return 0\n",
    "    return player_cash"
   ]
  },
  {
   "cell_type": "code",
   "execution_count": 207,
   "metadata": {},
   "outputs": [],
   "source": [
    "def graph_mini(n_games):\n",
    "    cash20 = np.zeros(n_games)\n",
    "    cash40 = np.zeros(n_games)\n",
    "    cash60 = np.zeros(n_games)\n",
    "\n",
    "    for game in range(n_games):\n",
    "        cash20[game] = sim_mini(20)\n",
    "        cash40[game] = sim_mini(40)\n",
    "        cash60[game] = sim_mini(60)\n",
    "        \n",
    "    cash20.sort()\n",
    "    cash40.sort()\n",
    "    cash60.sort()\n",
    "    \n",
    "    c20min = int(cash20[0])\n",
    "    c20max = int(cash20[-1])\n",
    "    c40min = int(cash40[0])\n",
    "    c40max = int(cash40[-1])\n",
    "    c60min = int(cash60[0])\n",
    "    c60max = int(cash60[-1])\n",
    "    \n",
    "    binwidth = 250\n",
    "\n",
    "    colors = [\"seagreen\", \"gold\", \"coral\"]\n",
    "        \n",
    "    fig, ax = plt.subplots(figsize=(10,6))\n",
    "    \n",
    "    ax.hist(cash20, density=True, color=colors[0], edgecolor=\"white\", bins=range(c20min, c20max+binwidth, binwidth), label=\"20 Turns\", alpha=0.50)\n",
    "    ax.hist(cash40, density=True, color=colors[1], edgecolor=\"white\", bins=range(c40min, c40max+binwidth, binwidth), label=\"40 Turns\", alpha=0.50)\n",
    "    ax.hist(cash60, density=True, color=colors[2], edgecolor=\"white\", bins=range(c60min, c60max+binwidth, binwidth), label=\"60 Turns\", alpha=0.50)\n",
    "        \n",
    "    ax.set_title(\"Prob Density of Final Player Cash\", fontsize=20)\n",
    "    ax.set_xlabel(\"Final Player Cash\", fontsize=16)\n",
    "    ax.set_ylabel(\"Probability Density\", fontsize=16)\n",
    "    ax.grid(True, alpha=0.25)\n",
    "    ax.legend()\n",
    "    \n"
   ]
  },
  {
   "cell_type": "code",
   "execution_count": 211,
   "metadata": {},
   "outputs": [
    {
     "data": {
      "image/png": "[encoded data removed]",
      "text/plain": [
       "<Figure size 720x432 with 1 Axes>"
      ]
     },
     "metadata": {
      "needs_background": "light"
     },
     "output_type": "display_data"
    }
   ],
   "source": [
    "n_games = 5000\n",
    "graph_mini(n_games)"
   ]
  },
  {
   "cell_type": "markdown",
   "metadata": {},
   "source": []
  },
  {
   "cell_type": "markdown",
   "metadata": {},
   "source": [
    "**Part C**: Use your code from **Parts A and B** to estimate the probability that a player goes bankrupt in the first 40 turns of the game. Use at least 10,000 simulations.\n",
    "\n",
    "Then, run a set of at least 10,000 simulations to estimate the probability that a player goes bankrupt in the first 40 turns of the game if you remove the Free Parking Bonus of \\$500, so if a player lands on Square 20, nothing happens. Here, you should be able to easily adapt your calls to the `miniopoly_turn` function to remove the Free Parking Bonus.\n",
    "\n",
    "A common criticism of the Free Parking Bonus is that it makes Monopoly games take much longer to play. Do your results support this claim? How does the Free Parking rule seem to affect the Miniopoly games? Fully explain and justify your answers.\n",
    "\n",
    "Do you like the Free Parking bonus rule?"
   ]
  },
  {
   "cell_type": "code",
   "execution_count": 169,
   "metadata": {},
   "outputs": [],
   "source": [
    "def sim_40_mini_nofp():\n",
    "    player_start = 0\n",
    "    player_cash = 250\n",
    "    for turn in range(40):\n",
    "        player_start, player_cash = miniopoly_turn(player_start, player_cash, 0)\n",
    "        if player_cash <= 0:\n",
    "            #player lost the game\n",
    "            return 0\n",
    "    return player_cash"
   ]
  },
  {
   "cell_type": "code",
   "execution_count": 177,
   "metadata": {},
   "outputs": [],
   "source": [
    "def bnkrpt_sim0(n_games):\n",
    "    bnkrpt_ctr = 0\n",
    "    game_scores = np.zeros(n_games)\n",
    "    for game in range(n_games):\n",
    "        game_scores[game] = sim_40_mini_nofp()\n",
    "    game_scores.sort()\n",
    "    for game in range(n_games):\n",
    "        if(game_scores[game] == 0):\n",
    "            bnkrpt_ctr = bnkrpt_ctr + 1\n",
    "    bnkrpt_avg = bnkrpt_ctr/n_games\n",
    "    return bnkrpt_avg"
   ]
  },
  {
   "cell_type": "code",
   "execution_count": 178,
   "metadata": {},
   "outputs": [
    {
     "data": {
      "text/plain": [
       "0.1687"
      ]
     },
     "execution_count": 178,
     "metadata": {},
     "output_type": "execute_result"
    }
   ],
   "source": [
    "bnkrpt_sim0(10000)"
   ]
  },
  {
   "cell_type": "markdown",
   "metadata": {},
   "source": [
    "For the most part I don't mind the free parking rule. It does extend the game a bit longer, but there is still a good chance of bankruptcy. I ran the simulation a couple of times and got ranges around $15$ to $20\\%$ of bankruptcy."
   ]
  },
  {
   "cell_type": "markdown",
   "metadata": {},
   "source": [
    "**Part D**: (Note: For the rest of this problem, use a Free Parking Bonus of \\$500.)\n",
    "\n",
    "Use your code from the previous parts to estimate the probability that a player ***does not*** go bankrupt in the first 40 turns _given_ that they have landed on Free Parking at least once.  Is a player more or less likely to go bankrupt if they've landed on Free Parking? Use at least 10,000 simulations of 40-turn games, and keep at least 4 decimal places in your answer."
   ]
  },
  {
   "cell_type": "code",
   "execution_count": 223,
   "metadata": {},
   "outputs": [],
   "source": [
    "def fp_visited_40turns():\n",
    "    freeparking = 20\n",
    "    visited_fp = False\n",
    "    player_state, player_cash = 0, 250\n",
    "    for turn in range(40):\n",
    "        player_state, player_cash = miniopoly_turn(player_state, player_cash)\n",
    "        if(player_state == freeparking):\n",
    "            return 1\n",
    "        if(player_cash <= 0):\n",
    "            return 0\n",
    "    return 0"
   ]
  },
  {
   "cell_type": "code",
   "execution_count": 228,
   "metadata": {},
   "outputs": [],
   "source": [
    "def fp_sim_ct(num_games):\n",
    "    fp_ctr = 0\n",
    "    for games in range(num_games):\n",
    "        if(fp_visited_40turns()==1):\n",
    "            fp_ctr += 1\n",
    "    fp_avg = fp_ctr/num_games\n",
    "    return fp_avg"
   ]
  },
  {
   "cell_type": "code",
   "execution_count": 232,
   "metadata": {},
   "outputs": [
    {
     "data": {
      "text/plain": [
       "0.6077"
      ]
     },
     "execution_count": 232,
     "metadata": {},
     "output_type": "execute_result"
    }
   ],
   "source": [
    "fp_sim_ct(10000)"
   ]
  },
  {
   "cell_type": "code",
   "execution_count": 242,
   "metadata": {},
   "outputs": [],
   "source": [
    "def fp_visited_40turns_bnkrpt():\n",
    "    freeparking = 20\n",
    "    visited_fp = False\n",
    "    player_state, player_cash = 0, 250\n",
    "    for turn in range(40):\n",
    "        player_state, player_cash = miniopoly_turn(player_state, player_cash)\n",
    "        if(player_state == freeparking):\n",
    "            visited_fp = True\n",
    "    if visited_fp:\n",
    "        return player_cash\n",
    "    else:\n",
    "        return 0"
   ]
  },
  {
   "cell_type": "code",
   "execution_count": 243,
   "metadata": {},
   "outputs": [],
   "source": [
    "def fp_sim_ct_bnkrpt(num_games):\n",
    "    bnkrpt_ctr = 0\n",
    "    for games in range(num_games):\n",
    "        if(fp_visited_40turns()<=0):\n",
    "            bnkrpt_ctr += 1\n",
    "    bnkrpt_ctr = bnkrpt_ctr/num_games\n",
    "    return bnkrpt_ctr"
   ]
  },
  {
   "cell_type": "code",
   "execution_count": 244,
   "metadata": {},
   "outputs": [
    {
     "data": {
      "text/plain": [
       "0.388"
      ]
     },
     "execution_count": 244,
     "metadata": {},
     "output_type": "execute_result"
    }
   ],
   "source": [
    "fp_sim_ct_bnkrpt(10000)"
   ]
  },
  {
   "cell_type": "code",
   "execution_count": 216,
   "metadata": {},
   "outputs": [],
   "source": [
    "def sim_40_mini_fp():\n",
    "    player_start = 0\n",
    "    player_cash = 250\n",
    "    for turn in range(40):\n",
    "        player_start, player_cash = miniopoly_turn(player_start, player_cash)\n",
    "        if player_cash <= 0:\n",
    "            #player lost the game\n",
    "            return 0\n",
    "    return player_cash"
   ]
  },
  {
   "cell_type": "code",
   "execution_count": 180,
   "metadata": {},
   "outputs": [],
   "source": [
    "def bnkrpt_sim1(n_games):\n",
    "    bnkrpt_ctr = 0\n",
    "    game_scores = np.zeros(n_games)\n",
    "    for game in range(n_games):\n",
    "        game_scores[game] = sim_40_mini_fp()\n",
    "    game_scores.sort()\n",
    "    for game in range(n_games):\n",
    "        if(game_scores[game] == 0):\n",
    "            bnkrpt_ctr = bnkrpt_ctr + 1\n",
    "    bnkrpt_avg = bnkrpt_ctr/n_games\n",
    "    return bnkrpt_avg"
   ]
  },
  {
   "cell_type": "code",
   "execution_count": 212,
   "metadata": {
    "scrolled": true
   },
   "outputs": [
    {
     "data": {
      "text/plain": [
       "0.877"
      ]
     },
     "execution_count": 212,
     "metadata": {},
     "output_type": "execute_result"
    }
   ],
   "source": [
    "1 - bnkrpt_sim1(10000)"
   ]
  },
  {
   "cell_type": "markdown",
   "metadata": {},
   "source": [
    "I ran the bankrupt sim again, slightly revised, to call $10000$ games of free parking. I got answers that varied from $10$ to $12\\%$ by going bankrupt, but this one states that not going bankrupt has a probability of $0.877$. A player is less likely to go bankrupt if they land on free parking"
   ]
  },
  {
   "cell_type": "markdown",
   "metadata": {},
   "source": [
    "**Part E**: Use your code from the previous parts to estimate the probability (either directly or using Bayes' Rule) that a player has landed on Free Parking at least once, given that the player did not go bankrupt in the first 40 turns."
   ]
  },
  {
   "cell_type": "markdown",
   "metadata": {},
   "source": []
  },
  {
   "cell_type": "markdown",
   "metadata": {},
   "source": [
    "Bayes Theorem States:\n",
    "$$\n",
    "P \\left( F \\mid B^c \\right) = \\frac{ P \\left( B^c \\mid F \\right) P \\left( F \\right)}{P \\left( B^c \\right)}\n",
    "$$\n",
    "\n",
    "We know that the probability of several of these from previous code blocks, so all we have to do now is just calculate.\n",
    "\n",
    "$$\n",
    "\\begin{align}\n",
    "P \\left( B^c \\mid F \\right) &= 0.388 &\\text{ ...Probability the player doesnt go bankrupt given they landed on free parking}\\\\\n",
    "P \\left( F \\right) &= 0.6077 &\\text{ ...Probability of landing on free parking} \\\\\n",
    "P \\left( B^c \\right) &= 1- 0.1687 = 0.8313 &\\text{ ...Probability of not going bankrupt} \\\\\n",
    "\\end{align}\n",
    "$$\n",
    "\n",
    "And when we plug in the results:\n",
    "\n",
    "$$\n",
    "\\begin{align}\n",
    "P \\left( F \\mid B^c \\right) &= \\frac{ 0.388 \\times  0.6077 }{0.8313} \\\\\n",
    "&= 0.2836\n",
    "\\end{align}\n",
    "$$\n",
    "\n",
    "So the player could very well have landed on free parking given they didnt go bankrupt."
   ]
  },
  {
   "cell_type": "code",
   "execution_count": null,
   "metadata": {},
   "outputs": [],
   "source": []
  }
 ],
 "metadata": {
  "kernelspec": {
   "display_name": "Python 3",
   "language": "python",
   "name": "python3"
  },
  "language_info": {
   "codemirror_mode": {
    "name": "ipython",
    "version": 3
   },
   "file_extension": ".py",
   "mimetype": "text/x-python",
   "name": "python",
   "nbconvert_exporter": "python",
   "pygments_lexer": "ipython3",
   "version": "3.7.1"
  }
 },
 "nbformat": 4,
 "nbformat_minor": 2
}
